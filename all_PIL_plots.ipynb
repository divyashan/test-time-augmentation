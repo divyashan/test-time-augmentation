{
 "cells": [
  {
   "cell_type": "code",
   "execution_count": 33,
   "metadata": {},
   "outputs": [],
   "source": [
    "# plots of results using 137 augmentations from PIL library\n",
    "import h5py\n",
    "import pandas as pd\n",
    "import numpy as np\n",
    "import ttach as tta\n",
    "\n",
    "import seaborn as sns\n",
    "from tqdm.notebook import tqdm\n",
    "import matplotlib.pyplot as plt\n",
    "sns.set_style('white')\n",
    "policy = 'pil'\n",
    "#policy = 'hflip_modified_five_crop_scale'\n",
    "results = pd.read_csv('./results/stl10/' + policy + '/stl10_cnn_agg_fs')\n",
    "#results = pd.read_csv('./results/cifar100/' + policy + '/cifar100_cnn_agg_fs')"
   ]
  },
  {
   "cell_type": "code",
   "execution_count": 35,
   "metadata": {},
   "outputs": [
    {
     "data": {
      "text/plain": [
       "(73.0, 80.0)"
      ]
     },
     "execution_count": 35,
     "metadata": {},
     "output_type": "execute_result"
    },
    {
     "data": {
      "image/png": "[encoded data removed]",
      "text/plain": [
       "<Figure size 432x288 with 1 Axes>"
      ]
     },
     "metadata": {},
     "output_type": "display_data"
    }
   ],
   "source": [
    "sns.barplot(x='aug', y='top1', hue='agg', data=results)\n",
    "# Takeaway here -- simple mean does do pretty well with just the hflip\n",
    "# Combo does better, and simple mean is hurt while partial_lr improves performance.\n",
    "#plt.ylim(68, 76)\n",
    "plt.ylim(73, 80)\n",
    "#plt.ylim(87.5, 94)"
   ]
  },
  {
   "cell_type": "code",
   "execution_count": 14,
   "metadata": {},
   "outputs": [
    {
     "data": {
      "text/plain": [
       "0     cifar100_cnn\n",
       "1     cifar100_cnn\n",
       "2     cifar100_cnn\n",
       "3     cifar100_cnn\n",
       "4     cifar100_cnn\n",
       "          ...     \n",
       "80    cifar100_cnn\n",
       "81    cifar100_cnn\n",
       "82    cifar100_cnn\n",
       "83    cifar100_cnn\n",
       "84    cifar100_cnn\n",
       "Name: model, Length: 85, dtype: object"
      ]
     },
     "execution_count": 14,
     "metadata": {},
     "output_type": "execute_result"
    }
   ],
   "source": [
    "results['model']"
   ]
  },
  {
   "cell_type": "code",
   "execution_count": null,
   "metadata": {},
   "outputs": [],
   "source": []
  }
 ],
 "metadata": {
  "kernelspec": {
   "display_name": "Python 3",
   "language": "python",
   "name": "python3"
  },
  "language_info": {
   "codemirror_mode": {
    "name": "ipython",
    "version": 3
   },
   "file_extension": ".py",
   "mimetype": "text/x-python",
   "name": "python",
   "nbconvert_exporter": "python",
   "pygments_lexer": "ipython3",
   "version": "3.7.9"
  }
 },
 "nbformat": 4,
 "nbformat_minor": 2
}
