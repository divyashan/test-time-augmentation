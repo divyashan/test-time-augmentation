{
 "cells": [
  {
   "cell_type": "code",
   "execution_count": 11,
   "metadata": {},
   "outputs": [
    {
     "name": "stdout",
     "output_type": "stream",
     "text": [
      "The autoreload extension is already loaded. To reload it, use:\n",
      "  %reload_ext autoreload\n",
      "Model:  resnet101\n"
     ]
    },
    {
     "name": "stderr",
     "output_type": "stream",
     "text": [
      "/mnt/hdd/home/divyas/icml_testaug/utils/plot_utils.py:21: H5pyDeprecationWarning: dataset.value has been deprecated. Use dataset[()] instead.\n",
      "  aug_output = agg_hf[key].value\n",
      "/mnt/hdd/home/divyas/icml_testaug/utils/plot_utils.py:22: H5pyDeprecationWarning: dataset.value has been deprecated. Use dataset[()] instead.\n",
      "  orig_output = orig_hf[key].value\n",
      "/mnt/hdd/home/divyas/icml_testaug/utils/plot_utils.py:23: H5pyDeprecationWarning: dataset.value has been deprecated. Use dataset[()] instead.\n",
      "  lr_output = lr_hf[key].value\n",
      "/mnt/hdd/home/divyas/icml_testaug/utils/plot_utils.py:24: H5pyDeprecationWarning: dataset.value has been deprecated. Use dataset[()] instead.\n",
      "  target = agg_hf[key[:-7] + 'labels'].value\n"
     ]
    },
    {
     "name": "stdout",
     "output_type": "stream",
     "text": [
      "993 993 993\n",
      "10 10\n",
      "10 10\n",
      "Model:  resnet101\n"
     ]
    },
    {
     "name": "stderr",
     "output_type": "stream",
     "text": [
      "/mnt/hdd/home/divyas/icml_testaug/utils/plot_utils.py:21: H5pyDeprecationWarning: dataset.value has been deprecated. Use dataset[()] instead.\n",
      "  aug_output = agg_hf[key].value\n",
      "/mnt/hdd/home/divyas/icml_testaug/utils/plot_utils.py:22: H5pyDeprecationWarning: dataset.value has been deprecated. Use dataset[()] instead.\n",
      "  orig_output = orig_hf[key].value\n",
      "/mnt/hdd/home/divyas/icml_testaug/utils/plot_utils.py:23: H5pyDeprecationWarning: dataset.value has been deprecated. Use dataset[()] instead.\n",
      "  lr_output = lr_hf[key].value\n",
      "/mnt/hdd/home/divyas/icml_testaug/utils/plot_utils.py:24: H5pyDeprecationWarning: dataset.value has been deprecated. Use dataset[()] instead.\n",
      "  target = agg_hf[key[:-7] + 'labels'].value\n"
     ]
    },
    {
     "name": "stdout",
     "output_type": "stream",
     "text": [
      "993 993 993\n",
      "10 10\n",
      "10 10\n",
      "Model:  resnet101\n"
     ]
    },
    {
     "name": "stderr",
     "output_type": "stream",
     "text": [
      "/mnt/hdd/home/divyas/icml_testaug/utils/plot_utils.py:21: H5pyDeprecationWarning: dataset.value has been deprecated. Use dataset[()] instead.\n",
      "  aug_output = agg_hf[key].value\n",
      "/mnt/hdd/home/divyas/icml_testaug/utils/plot_utils.py:22: H5pyDeprecationWarning: dataset.value has been deprecated. Use dataset[()] instead.\n",
      "  orig_output = orig_hf[key].value\n",
      "/mnt/hdd/home/divyas/icml_testaug/utils/plot_utils.py:23: H5pyDeprecationWarning: dataset.value has been deprecated. Use dataset[()] instead.\n",
      "  lr_output = lr_hf[key].value\n",
      "/mnt/hdd/home/divyas/icml_testaug/utils/plot_utils.py:24: H5pyDeprecationWarning: dataset.value has been deprecated. Use dataset[()] instead.\n",
      "  target = agg_hf[key[:-7] + 'labels'].value\n"
     ]
    },
    {
     "name": "stdout",
     "output_type": "stream",
     "text": [
      "993 993 993\n",
      "10 10\n",
      "10 10\n",
      "Model:  resnet101\n"
     ]
    },
    {
     "name": "stderr",
     "output_type": "stream",
     "text": [
      "/mnt/hdd/home/divyas/icml_testaug/utils/plot_utils.py:21: H5pyDeprecationWarning: dataset.value has been deprecated. Use dataset[()] instead.\n",
      "  aug_output = agg_hf[key].value\n",
      "/mnt/hdd/home/divyas/icml_testaug/utils/plot_utils.py:22: H5pyDeprecationWarning: dataset.value has been deprecated. Use dataset[()] instead.\n",
      "  orig_output = orig_hf[key].value\n",
      "/mnt/hdd/home/divyas/icml_testaug/utils/plot_utils.py:23: H5pyDeprecationWarning: dataset.value has been deprecated. Use dataset[()] instead.\n",
      "  lr_output = lr_hf[key].value\n",
      "/mnt/hdd/home/divyas/icml_testaug/utils/plot_utils.py:24: H5pyDeprecationWarning: dataset.value has been deprecated. Use dataset[()] instead.\n",
      "  target = agg_hf[key[:-7] + 'labels'].value\n"
     ]
    },
    {
     "name": "stdout",
     "output_type": "stream",
     "text": [
      "993 993 993\n",
      "10 10\n",
      "10 10\n",
      "Model:  resnet101\n"
     ]
    },
    {
     "name": "stderr",
     "output_type": "stream",
     "text": [
      "/mnt/hdd/home/divyas/icml_testaug/utils/plot_utils.py:21: H5pyDeprecationWarning: dataset.value has been deprecated. Use dataset[()] instead.\n",
      "  aug_output = agg_hf[key].value\n",
      "/mnt/hdd/home/divyas/icml_testaug/utils/plot_utils.py:22: H5pyDeprecationWarning: dataset.value has been deprecated. Use dataset[()] instead.\n",
      "  orig_output = orig_hf[key].value\n",
      "/mnt/hdd/home/divyas/icml_testaug/utils/plot_utils.py:23: H5pyDeprecationWarning: dataset.value has been deprecated. Use dataset[()] instead.\n",
      "  lr_output = lr_hf[key].value\n",
      "/mnt/hdd/home/divyas/icml_testaug/utils/plot_utils.py:24: H5pyDeprecationWarning: dataset.value has been deprecated. Use dataset[()] instead.\n",
      "  target = agg_hf[key[:-7] + 'labels'].value\n"
     ]
    },
    {
     "name": "stdout",
     "output_type": "stream",
     "text": [
      "993 993 993\n",
      "10 10\n",
      "10 10\n",
      "Model:  resnet101\n"
     ]
    },
    {
     "name": "stderr",
     "output_type": "stream",
     "text": [
      "/mnt/hdd/home/divyas/icml_testaug/utils/plot_utils.py:21: H5pyDeprecationWarning: dataset.value has been deprecated. Use dataset[()] instead.\n",
      "  aug_output = agg_hf[key].value\n",
      "/mnt/hdd/home/divyas/icml_testaug/utils/plot_utils.py:22: H5pyDeprecationWarning: dataset.value has been deprecated. Use dataset[()] instead.\n",
      "  orig_output = orig_hf[key].value\n",
      "/mnt/hdd/home/divyas/icml_testaug/utils/plot_utils.py:23: H5pyDeprecationWarning: dataset.value has been deprecated. Use dataset[()] instead.\n",
      "  lr_output = lr_hf[key].value\n",
      "/mnt/hdd/home/divyas/icml_testaug/utils/plot_utils.py:24: H5pyDeprecationWarning: dataset.value has been deprecated. Use dataset[()] instead.\n",
      "  target = agg_hf[key[:-7] + 'labels'].value\n"
     ]
    },
    {
     "name": "stdout",
     "output_type": "stream",
     "text": [
      "993 993 993\n",
      "10 10\n",
      "10 10\n",
      "Model:  resnet18\n"
     ]
    },
    {
     "name": "stderr",
     "output_type": "stream",
     "text": [
      "/mnt/hdd/home/divyas/icml_testaug/utils/plot_utils.py:21: H5pyDeprecationWarning: dataset.value has been deprecated. Use dataset[()] instead.\n",
      "  aug_output = agg_hf[key].value\n",
      "/mnt/hdd/home/divyas/icml_testaug/utils/plot_utils.py:22: H5pyDeprecationWarning: dataset.value has been deprecated. Use dataset[()] instead.\n",
      "  orig_output = orig_hf[key].value\n",
      "/mnt/hdd/home/divyas/icml_testaug/utils/plot_utils.py:23: H5pyDeprecationWarning: dataset.value has been deprecated. Use dataset[()] instead.\n",
      "  lr_output = lr_hf[key].value\n",
      "/mnt/hdd/home/divyas/icml_testaug/utils/plot_utils.py:24: H5pyDeprecationWarning: dataset.value has been deprecated. Use dataset[()] instead.\n",
      "  target = agg_hf[key[:-7] + 'labels'].value\n"
     ]
    },
    {
     "name": "stdout",
     "output_type": "stream",
     "text": [
      "993 993 993\n",
      "10 10\n",
      "10 10\n",
      "Model:  resnet18\n"
     ]
    },
    {
     "name": "stderr",
     "output_type": "stream",
     "text": [
      "/mnt/hdd/home/divyas/icml_testaug/utils/plot_utils.py:21: H5pyDeprecationWarning: dataset.value has been deprecated. Use dataset[()] instead.\n",
      "  aug_output = agg_hf[key].value\n",
      "/mnt/hdd/home/divyas/icml_testaug/utils/plot_utils.py:22: H5pyDeprecationWarning: dataset.value has been deprecated. Use dataset[()] instead.\n",
      "  orig_output = orig_hf[key].value\n",
      "/mnt/hdd/home/divyas/icml_testaug/utils/plot_utils.py:23: H5pyDeprecationWarning: dataset.value has been deprecated. Use dataset[()] instead.\n",
      "  lr_output = lr_hf[key].value\n",
      "/mnt/hdd/home/divyas/icml_testaug/utils/plot_utils.py:24: H5pyDeprecationWarning: dataset.value has been deprecated. Use dataset[()] instead.\n",
      "  target = agg_hf[key[:-7] + 'labels'].value\n"
     ]
    },
    {
     "name": "stdout",
     "output_type": "stream",
     "text": [
      "993 993 993\n",
      "10 10\n",
      "10 10\n",
      "Model:  resnet18\n"
     ]
    },
    {
     "name": "stderr",
     "output_type": "stream",
     "text": [
      "/mnt/hdd/home/divyas/icml_testaug/utils/plot_utils.py:21: H5pyDeprecationWarning: dataset.value has been deprecated. Use dataset[()] instead.\n",
      "  aug_output = agg_hf[key].value\n",
      "/mnt/hdd/home/divyas/icml_testaug/utils/plot_utils.py:22: H5pyDeprecationWarning: dataset.value has been deprecated. Use dataset[()] instead.\n",
      "  orig_output = orig_hf[key].value\n",
      "/mnt/hdd/home/divyas/icml_testaug/utils/plot_utils.py:23: H5pyDeprecationWarning: dataset.value has been deprecated. Use dataset[()] instead.\n",
      "  lr_output = lr_hf[key].value\n",
      "/mnt/hdd/home/divyas/icml_testaug/utils/plot_utils.py:24: H5pyDeprecationWarning: dataset.value has been deprecated. Use dataset[()] instead.\n",
      "  target = agg_hf[key[:-7] + 'labels'].value\n"
     ]
    },
    {
     "name": "stdout",
     "output_type": "stream",
     "text": [
      "993 993 993\n",
      "10 10\n",
      "10 10\n",
      "Model:  resnet18\n"
     ]
    },
    {
     "name": "stderr",
     "output_type": "stream",
     "text": [
      "/mnt/hdd/home/divyas/icml_testaug/utils/plot_utils.py:21: H5pyDeprecationWarning: dataset.value has been deprecated. Use dataset[()] instead.\n",
      "  aug_output = agg_hf[key].value\n",
      "/mnt/hdd/home/divyas/icml_testaug/utils/plot_utils.py:22: H5pyDeprecationWarning: dataset.value has been deprecated. Use dataset[()] instead.\n",
      "  orig_output = orig_hf[key].value\n",
      "/mnt/hdd/home/divyas/icml_testaug/utils/plot_utils.py:23: H5pyDeprecationWarning: dataset.value has been deprecated. Use dataset[()] instead.\n",
      "  lr_output = lr_hf[key].value\n",
      "/mnt/hdd/home/divyas/icml_testaug/utils/plot_utils.py:24: H5pyDeprecationWarning: dataset.value has been deprecated. Use dataset[()] instead.\n",
      "  target = agg_hf[key[:-7] + 'labels'].value\n"
     ]
    },
    {
     "name": "stdout",
     "output_type": "stream",
     "text": [
      "993 993 993\n",
      "10 10\n",
      "10 10\n",
      "Model:  resnet18\n"
     ]
    },
    {
     "name": "stderr",
     "output_type": "stream",
     "text": [
      "/mnt/hdd/home/divyas/icml_testaug/utils/plot_utils.py:21: H5pyDeprecationWarning: dataset.value has been deprecated. Use dataset[()] instead.\n",
      "  aug_output = agg_hf[key].value\n",
      "/mnt/hdd/home/divyas/icml_testaug/utils/plot_utils.py:22: H5pyDeprecationWarning: dataset.value has been deprecated. Use dataset[()] instead.\n",
      "  orig_output = orig_hf[key].value\n",
      "/mnt/hdd/home/divyas/icml_testaug/utils/plot_utils.py:23: H5pyDeprecationWarning: dataset.value has been deprecated. Use dataset[()] instead.\n",
      "  lr_output = lr_hf[key].value\n",
      "/mnt/hdd/home/divyas/icml_testaug/utils/plot_utils.py:24: H5pyDeprecationWarning: dataset.value has been deprecated. Use dataset[()] instead.\n",
      "  target = agg_hf[key[:-7] + 'labels'].value\n"
     ]
    },
    {
     "name": "stdout",
     "output_type": "stream",
     "text": [
      "993 993 993\n",
      "10 10\n",
      "10 10\n",
      "Model:  resnet18\n"
     ]
    },
    {
     "name": "stderr",
     "output_type": "stream",
     "text": [
      "/mnt/hdd/home/divyas/icml_testaug/utils/plot_utils.py:21: H5pyDeprecationWarning: dataset.value has been deprecated. Use dataset[()] instead.\n",
      "  aug_output = agg_hf[key].value\n",
      "/mnt/hdd/home/divyas/icml_testaug/utils/plot_utils.py:22: H5pyDeprecationWarning: dataset.value has been deprecated. Use dataset[()] instead.\n",
      "  orig_output = orig_hf[key].value\n",
      "/mnt/hdd/home/divyas/icml_testaug/utils/plot_utils.py:23: H5pyDeprecationWarning: dataset.value has been deprecated. Use dataset[()] instead.\n",
      "  lr_output = lr_hf[key].value\n",
      "/mnt/hdd/home/divyas/icml_testaug/utils/plot_utils.py:24: H5pyDeprecationWarning: dataset.value has been deprecated. Use dataset[()] instead.\n",
      "  target = agg_hf[key[:-7] + 'labels'].value\n"
     ]
    },
    {
     "name": "stdout",
     "output_type": "stream",
     "text": [
      "993 993 993\n",
      "10 10\n",
      "10 10\n",
      "Model:  MobileNetV2\n"
     ]
    },
    {
     "name": "stderr",
     "output_type": "stream",
     "text": [
      "/mnt/hdd/home/divyas/icml_testaug/utils/plot_utils.py:21: H5pyDeprecationWarning: dataset.value has been deprecated. Use dataset[()] instead.\n",
      "  aug_output = agg_hf[key].value\n",
      "/mnt/hdd/home/divyas/icml_testaug/utils/plot_utils.py:22: H5pyDeprecationWarning: dataset.value has been deprecated. Use dataset[()] instead.\n",
      "  orig_output = orig_hf[key].value\n",
      "/mnt/hdd/home/divyas/icml_testaug/utils/plot_utils.py:23: H5pyDeprecationWarning: dataset.value has been deprecated. Use dataset[()] instead.\n",
      "  lr_output = lr_hf[key].value\n",
      "/mnt/hdd/home/divyas/icml_testaug/utils/plot_utils.py:24: H5pyDeprecationWarning: dataset.value has been deprecated. Use dataset[()] instead.\n",
      "  target = agg_hf[key[:-7] + 'labels'].value\n"
     ]
    },
    {
     "name": "stdout",
     "output_type": "stream",
     "text": [
      "993 993 993\n",
      "10 10\n",
      "10 10\n",
      "Model:  MobileNetV2\n"
     ]
    },
    {
     "name": "stderr",
     "output_type": "stream",
     "text": [
      "/mnt/hdd/home/divyas/icml_testaug/utils/plot_utils.py:21: H5pyDeprecationWarning: dataset.value has been deprecated. Use dataset[()] instead.\n",
      "  aug_output = agg_hf[key].value\n",
      "/mnt/hdd/home/divyas/icml_testaug/utils/plot_utils.py:22: H5pyDeprecationWarning: dataset.value has been deprecated. Use dataset[()] instead.\n",
      "  orig_output = orig_hf[key].value\n",
      "/mnt/hdd/home/divyas/icml_testaug/utils/plot_utils.py:23: H5pyDeprecationWarning: dataset.value has been deprecated. Use dataset[()] instead.\n",
      "  lr_output = lr_hf[key].value\n",
      "/mnt/hdd/home/divyas/icml_testaug/utils/plot_utils.py:24: H5pyDeprecationWarning: dataset.value has been deprecated. Use dataset[()] instead.\n",
      "  target = agg_hf[key[:-7] + 'labels'].value\n"
     ]
    },
    {
     "name": "stdout",
     "output_type": "stream",
     "text": [
      "993 993 993\n",
      "10 10\n",
      "10 10\n",
      "Model:  MobileNetV2\n"
     ]
    },
    {
     "name": "stderr",
     "output_type": "stream",
     "text": [
      "/mnt/hdd/home/divyas/icml_testaug/utils/plot_utils.py:21: H5pyDeprecationWarning: dataset.value has been deprecated. Use dataset[()] instead.\n",
      "  aug_output = agg_hf[key].value\n",
      "/mnt/hdd/home/divyas/icml_testaug/utils/plot_utils.py:22: H5pyDeprecationWarning: dataset.value has been deprecated. Use dataset[()] instead.\n",
      "  orig_output = orig_hf[key].value\n",
      "/mnt/hdd/home/divyas/icml_testaug/utils/plot_utils.py:23: H5pyDeprecationWarning: dataset.value has been deprecated. Use dataset[()] instead.\n",
      "  lr_output = lr_hf[key].value\n",
      "/mnt/hdd/home/divyas/icml_testaug/utils/plot_utils.py:24: H5pyDeprecationWarning: dataset.value has been deprecated. Use dataset[()] instead.\n",
      "  target = agg_hf[key[:-7] + 'labels'].value\n"
     ]
    },
    {
     "name": "stdout",
     "output_type": "stream",
     "text": [
      "993 993 993\n",
      "10 10\n",
      "10 10\n",
      "Model:  MobileNetV2\n"
     ]
    },
    {
     "name": "stderr",
     "output_type": "stream",
     "text": [
      "/mnt/hdd/home/divyas/icml_testaug/utils/plot_utils.py:21: H5pyDeprecationWarning: dataset.value has been deprecated. Use dataset[()] instead.\n",
      "  aug_output = agg_hf[key].value\n",
      "/mnt/hdd/home/divyas/icml_testaug/utils/plot_utils.py:22: H5pyDeprecationWarning: dataset.value has been deprecated. Use dataset[()] instead.\n",
      "  orig_output = orig_hf[key].value\n",
      "/mnt/hdd/home/divyas/icml_testaug/utils/plot_utils.py:23: H5pyDeprecationWarning: dataset.value has been deprecated. Use dataset[()] instead.\n",
      "  lr_output = lr_hf[key].value\n",
      "/mnt/hdd/home/divyas/icml_testaug/utils/plot_utils.py:24: H5pyDeprecationWarning: dataset.value has been deprecated. Use dataset[()] instead.\n",
      "  target = agg_hf[key[:-7] + 'labels'].value\n"
     ]
    },
    {
     "name": "stdout",
     "output_type": "stream",
     "text": [
      "993 993 993\n",
      "10 10\n",
      "10 10\n",
      "Model:  MobileNetV2\n"
     ]
    },
    {
     "name": "stderr",
     "output_type": "stream",
     "text": [
      "/mnt/hdd/home/divyas/icml_testaug/utils/plot_utils.py:21: H5pyDeprecationWarning: dataset.value has been deprecated. Use dataset[()] instead.\n",
      "  aug_output = agg_hf[key].value\n",
      "/mnt/hdd/home/divyas/icml_testaug/utils/plot_utils.py:22: H5pyDeprecationWarning: dataset.value has been deprecated. Use dataset[()] instead.\n",
      "  orig_output = orig_hf[key].value\n",
      "/mnt/hdd/home/divyas/icml_testaug/utils/plot_utils.py:23: H5pyDeprecationWarning: dataset.value has been deprecated. Use dataset[()] instead.\n",
      "  lr_output = lr_hf[key].value\n",
      "/mnt/hdd/home/divyas/icml_testaug/utils/plot_utils.py:24: H5pyDeprecationWarning: dataset.value has been deprecated. Use dataset[()] instead.\n",
      "  target = agg_hf[key[:-7] + 'labels'].value\n"
     ]
    },
    {
     "name": "stdout",
     "output_type": "stream",
     "text": [
      "993 993 993\n",
      "10 10\n",
      "10 10\n",
      "Model:  MobileNetV2\n"
     ]
    },
    {
     "name": "stderr",
     "output_type": "stream",
     "text": [
      "/mnt/hdd/home/divyas/icml_testaug/utils/plot_utils.py:21: H5pyDeprecationWarning: dataset.value has been deprecated. Use dataset[()] instead.\n",
      "  aug_output = agg_hf[key].value\n",
      "/mnt/hdd/home/divyas/icml_testaug/utils/plot_utils.py:22: H5pyDeprecationWarning: dataset.value has been deprecated. Use dataset[()] instead.\n",
      "  orig_output = orig_hf[key].value\n",
      "/mnt/hdd/home/divyas/icml_testaug/utils/plot_utils.py:23: H5pyDeprecationWarning: dataset.value has been deprecated. Use dataset[()] instead.\n",
      "  lr_output = lr_hf[key].value\n",
      "/mnt/hdd/home/divyas/icml_testaug/utils/plot_utils.py:24: H5pyDeprecationWarning: dataset.value has been deprecated. Use dataset[()] instead.\n",
      "  target = agg_hf[key[:-7] + 'labels'].value\n"
     ]
    },
    {
     "name": "stdout",
     "output_type": "stream",
     "text": [
      "993 993 993\n",
      "10 10\n",
      "10 10\n",
      "Model:  resnet50\n"
     ]
    },
    {
     "name": "stderr",
     "output_type": "stream",
     "text": [
      "/mnt/hdd/home/divyas/icml_testaug/utils/plot_utils.py:21: H5pyDeprecationWarning: dataset.value has been deprecated. Use dataset[()] instead.\n",
      "  aug_output = agg_hf[key].value\n",
      "/mnt/hdd/home/divyas/icml_testaug/utils/plot_utils.py:22: H5pyDeprecationWarning: dataset.value has been deprecated. Use dataset[()] instead.\n",
      "  orig_output = orig_hf[key].value\n",
      "/mnt/hdd/home/divyas/icml_testaug/utils/plot_utils.py:23: H5pyDeprecationWarning: dataset.value has been deprecated. Use dataset[()] instead.\n",
      "  lr_output = lr_hf[key].value\n",
      "/mnt/hdd/home/divyas/icml_testaug/utils/plot_utils.py:24: H5pyDeprecationWarning: dataset.value has been deprecated. Use dataset[()] instead.\n",
      "  target = agg_hf[key[:-7] + 'labels'].value\n"
     ]
    },
    {
     "name": "stdout",
     "output_type": "stream",
     "text": [
      "993 993 993\n",
      "10 10\n",
      "10 10\n",
      "Model:  resnet50\n"
     ]
    },
    {
     "name": "stderr",
     "output_type": "stream",
     "text": [
      "/mnt/hdd/home/divyas/icml_testaug/utils/plot_utils.py:21: H5pyDeprecationWarning: dataset.value has been deprecated. Use dataset[()] instead.\n",
      "  aug_output = agg_hf[key].value\n",
      "/mnt/hdd/home/divyas/icml_testaug/utils/plot_utils.py:22: H5pyDeprecationWarning: dataset.value has been deprecated. Use dataset[()] instead.\n",
      "  orig_output = orig_hf[key].value\n",
      "/mnt/hdd/home/divyas/icml_testaug/utils/plot_utils.py:23: H5pyDeprecationWarning: dataset.value has been deprecated. Use dataset[()] instead.\n",
      "  lr_output = lr_hf[key].value\n",
      "/mnt/hdd/home/divyas/icml_testaug/utils/plot_utils.py:24: H5pyDeprecationWarning: dataset.value has been deprecated. Use dataset[()] instead.\n",
      "  target = agg_hf[key[:-7] + 'labels'].value\n"
     ]
    },
    {
     "name": "stdout",
     "output_type": "stream",
     "text": [
      "993 993 993\n",
      "10 10\n",
      "10 10\n",
      "Model:  resnet50\n"
     ]
    },
    {
     "name": "stderr",
     "output_type": "stream",
     "text": [
      "/mnt/hdd/home/divyas/icml_testaug/utils/plot_utils.py:21: H5pyDeprecationWarning: dataset.value has been deprecated. Use dataset[()] instead.\n",
      "  aug_output = agg_hf[key].value\n",
      "/mnt/hdd/home/divyas/icml_testaug/utils/plot_utils.py:22: H5pyDeprecationWarning: dataset.value has been deprecated. Use dataset[()] instead.\n",
      "  orig_output = orig_hf[key].value\n",
      "/mnt/hdd/home/divyas/icml_testaug/utils/plot_utils.py:23: H5pyDeprecationWarning: dataset.value has been deprecated. Use dataset[()] instead.\n",
      "  lr_output = lr_hf[key].value\n",
      "/mnt/hdd/home/divyas/icml_testaug/utils/plot_utils.py:24: H5pyDeprecationWarning: dataset.value has been deprecated. Use dataset[()] instead.\n",
      "  target = agg_hf[key[:-7] + 'labels'].value\n"
     ]
    },
    {
     "name": "stdout",
     "output_type": "stream",
     "text": [
      "993 993 993\n",
      "10 10\n",
      "10 10\n",
      "Model:  resnet50\n"
     ]
    },
    {
     "name": "stderr",
     "output_type": "stream",
     "text": [
      "/mnt/hdd/home/divyas/icml_testaug/utils/plot_utils.py:21: H5pyDeprecationWarning: dataset.value has been deprecated. Use dataset[()] instead.\n",
      "  aug_output = agg_hf[key].value\n",
      "/mnt/hdd/home/divyas/icml_testaug/utils/plot_utils.py:22: H5pyDeprecationWarning: dataset.value has been deprecated. Use dataset[()] instead.\n",
      "  orig_output = orig_hf[key].value\n",
      "/mnt/hdd/home/divyas/icml_testaug/utils/plot_utils.py:23: H5pyDeprecationWarning: dataset.value has been deprecated. Use dataset[()] instead.\n",
      "  lr_output = lr_hf[key].value\n",
      "/mnt/hdd/home/divyas/icml_testaug/utils/plot_utils.py:24: H5pyDeprecationWarning: dataset.value has been deprecated. Use dataset[()] instead.\n",
      "  target = agg_hf[key[:-7] + 'labels'].value\n"
     ]
    },
    {
     "name": "stdout",
     "output_type": "stream",
     "text": [
      "993 993 993\n",
      "10 10\n",
      "10 10\n",
      "Model:  resnet50\n"
     ]
    },
    {
     "name": "stderr",
     "output_type": "stream",
     "text": [
      "/mnt/hdd/home/divyas/icml_testaug/utils/plot_utils.py:21: H5pyDeprecationWarning: dataset.value has been deprecated. Use dataset[()] instead.\n",
      "  aug_output = agg_hf[key].value\n",
      "/mnt/hdd/home/divyas/icml_testaug/utils/plot_utils.py:22: H5pyDeprecationWarning: dataset.value has been deprecated. Use dataset[()] instead.\n",
      "  orig_output = orig_hf[key].value\n",
      "/mnt/hdd/home/divyas/icml_testaug/utils/plot_utils.py:23: H5pyDeprecationWarning: dataset.value has been deprecated. Use dataset[()] instead.\n",
      "  lr_output = lr_hf[key].value\n",
      "/mnt/hdd/home/divyas/icml_testaug/utils/plot_utils.py:24: H5pyDeprecationWarning: dataset.value has been deprecated. Use dataset[()] instead.\n",
      "  target = agg_hf[key[:-7] + 'labels'].value\n"
     ]
    },
    {
     "name": "stdout",
     "output_type": "stream",
     "text": [
      "993 993 993\n",
      "10 10\n",
      "10 10\n",
      "Model:  resnet50\n"
     ]
    },
    {
     "name": "stderr",
     "output_type": "stream",
     "text": [
      "/mnt/hdd/home/divyas/icml_testaug/utils/plot_utils.py:21: H5pyDeprecationWarning: dataset.value has been deprecated. Use dataset[()] instead.\n",
      "  aug_output = agg_hf[key].value\n",
      "/mnt/hdd/home/divyas/icml_testaug/utils/plot_utils.py:22: H5pyDeprecationWarning: dataset.value has been deprecated. Use dataset[()] instead.\n",
      "  orig_output = orig_hf[key].value\n",
      "/mnt/hdd/home/divyas/icml_testaug/utils/plot_utils.py:23: H5pyDeprecationWarning: dataset.value has been deprecated. Use dataset[()] instead.\n",
      "  lr_output = lr_hf[key].value\n",
      "/mnt/hdd/home/divyas/icml_testaug/utils/plot_utils.py:24: H5pyDeprecationWarning: dataset.value has been deprecated. Use dataset[()] instead.\n",
      "  target = agg_hf[key[:-7] + 'labels'].value\n"
     ]
    },
    {
     "name": "stdout",
     "output_type": "stream",
     "text": [
      "993 993 993\n",
      "10 10\n",
      "10 10\n"
     ]
    },
    {
     "data": {
      "text/plain": [
       "<Figure size 432x288 with 0 Axes>"
      ]
     },
     "metadata": {},
     "output_type": "display_data"
    }
   ],
   "source": [
    "%load_ext autoreload\n",
    "%autoreload 2\n",
    "import os\n",
    "import sys\n",
    "import h5py\n",
    "import numpy as np\n",
    "import seaborn as sns\n",
    "import matplotlib.pyplot as plt\n",
    "from augmentations import get_aug_idxs\n",
    "from scipy.special import softmax\n",
    "from sklearn.metrics import confusion_matrix\n",
    "from utils.plot_utils import get_binned_changes, get_labels, get_class_accs, plot_class_acc_response\n",
    "sns.set_style('white')\n",
    "agg_name = 'full_lr'\n",
    "aug_name = 'hflip'\n",
    "model_name_dict = {'resnet101':'ResNet-101', 'resnet18':'ResNet-18', 'MobileNetV2':'MobileNetV2',\n",
    "                   'resnet50':'ResNet-50'}\n",
    "agg_names = ['full_lr', 'partial_lr']\n",
    "aug_names = ['hflip', 'five_crop', 'rotation']\n",
    "\n",
    "for model_name in model_name_dict.keys():\n",
    "    for agg_name in agg_names:\n",
    "        for aug_name in aug_names:\n",
    "            labels = get_labels(model_name, agg_name, aug_name)\n",
    "            all_true_labels, all_orig_labels, all_mean_labels, all_lr_labels = labels\n",
    "            orig_class_acc = get_class_accs(all_true_labels, all_orig_labels)[:993]\n",
    "            mean_class_acc = get_class_accs(all_true_labels, all_mean_labels)[:993]\n",
    "            lr_class_acc = get_class_accs(all_true_labels, all_lr_labels)[:993]\n",
    "            plot_class_acc_response(orig_class_acc, mean_class_acc, lr_class_acc, agg_name + '_' + aug_name + '_' + model_name_dict[model_name], agg_name)\n",
    "            plot_class_acc_response(orig_class_acc, mean_class_acc, lr_class_acc, agg_name + '_' + aug_name + '_' + model_name_dict[model_name], 'mean')"
   ]
  },
  {
   "cell_type": "code",
   "execution_count": 7,
   "metadata": {},
   "outputs": [
    {
     "data": {
      "text/plain": [
       "[<matplotlib.lines.Line2D at 0x7f7ff6dcb250>]"
      ]
     },
     "execution_count": 7,
     "metadata": {},
     "output_type": "execute_result"
    },
    {
     "data": {
      "image/png": "[encoded data removed]",
      "text/plain": [
       "<Figure size 432x288 with 1 Axes>"
      ]
     },
     "metadata": {},
     "output_type": "display_data"
    }
   ],
   "source": [
    "# Relationship of mean with original class accuracy\n",
    "plt.plot(orig_class_acc[np.argsort(orig_class_acc)], mean_class_acc[np.argsort(orig_class_acc)], marker='o')\n",
    "plt.plot(np.arange(0, 1.0, .0001), np.arange(0, 1.0, .0001))\n",
    "# are most of the accuracies that are improved at the lower end of the class accuracies? sort of"
   ]
  },
  {
   "cell_type": "code",
   "execution_count": 134,
   "metadata": {},
   "outputs": [
    {
     "data": {
      "text/plain": [
       "[<matplotlib.lines.Line2D at 0x7f452a0cbf90>]"
      ]
     },
     "execution_count": 134,
     "metadata": {},
     "output_type": "execute_result"
    },
    {
     "data": {
      "image/png": "[encoded data removed]",
      "text/plain": [
       "<Figure size 432x288 with 1 Axes>"
      ]
     },
     "metadata": {},
     "output_type": "display_data"
    }
   ],
   "source": [
    "# Relationship between mean TTA class accuracy and LR class accuracy\n",
    "# Relationship of mean with original class accuracy\n",
    "plt.plot(mean_class_acc[np.argsort(mean_class_acc)], lr_class_acc[np.argsort(mean_class_acc)], marker='o')\n",
    "plt.plot(np.arange(0, 1.0, .0001), np.arange(0, 1.0, .0001))\n",
    "# are most of the accuracies that are improved at the lower end of the class accuracies? sort of"
   ]
  },
  {
   "cell_type": "code",
   "execution_count": 135,
   "metadata": {},
   "outputs": [
    {
     "data": {
      "text/plain": [
       "(array([ 0.,  1.,  1.,  4.,  9., 31., 43., 38., 67.]),\n",
       " array([0. , 0.1, 0.2, 0.3, 0.4, 0.5, 0.6, 0.7, 0.8, 0.9]),\n",
       " <a list of 9 Patch objects>)"
      ]
     },
     "execution_count": 135,
     "metadata": {},
     "output_type": "execute_result"
    },
    {
     "data": {
      "image/png": "[encoded data removed]",
      "text/plain": [
       "<Figure size 432x288 with 1 Axes>"
      ]
     },
     "metadata": {},
     "output_type": "display_data"
    }
   ],
   "source": [
    "plt.hist(orig_class_acc[np.where(mean_class_acc > orig_class_acc)[0]], bins=np.arange(0, 1.0, .1))\n",
    "plt.hist(orig_class_acc[np.where(mean_class_acc < orig_class_acc)[0]], bins=np.arange(0, 1.0, .1))"
   ]
  },
  {
   "cell_type": "code",
   "execution_count": 136,
   "metadata": {},
   "outputs": [
    {
     "name": "stdout",
     "output_type": "stream",
     "text": [
      "244\n",
      "346\n",
      "303\n",
      "383\n"
     ]
    },
    {
     "data": {
      "image/png": "[encoded data removed]",
      "text/plain": [
       "<Figure size 432x288 with 1 Axes>"
      ]
     },
     "metadata": {},
     "output_type": "display_data"
    }
   ],
   "source": [
    "plt.scatter(orig_class_acc[np.argsort(orig_class_acc)], \n",
    "         (lr_class_acc - orig_class_acc)[np.argsort(orig_class_acc)], alpha=.5, c='b', label='LR')\n",
    "plt.scatter(orig_class_acc[np.argsort(orig_class_acc)], \n",
    "         (mean_class_acc - orig_class_acc)[np.argsort(orig_class_acc)], alpha=.5, c='g', label='Mean')\n",
    "plt.plot(np.arange(0, 1.1, .1), [0 for i in range(11)], c='r', label='Original')\n",
    "print(len(np.where(mean_class_acc < orig_class_acc)[0]))\n",
    "print(len(np.where(mean_class_acc > orig_class_acc)[0]))\n",
    "plt.plot(np.arange(0, 1.1, .1), [0 for i in range(11)], c='r')\n",
    "print(len(np.where(lr_class_acc < orig_class_acc)[0]))\n",
    "print(len(np.where(lr_class_acc > orig_class_acc)[0]))\n",
    "plt.xlabel('Origianl Class Accuracy')\n",
    "plt.ylabel('Smart TTA Improvement on Class Accuracy')\n",
    "plt.legend()\n",
    "plt.title(\"Class Accuracy Improvement: Smart vs. Simple Aggregation\")\n",
    "plt.tight_layout()"
   ]
  },
  {
   "cell_type": "code",
   "execution_count": 137,
   "metadata": {},
   "outputs": [
    {
     "data": {
      "image/png": "[encoded data removed]",
      "text/plain": [
       "<Figure size 432x288 with 1 Axes>"
      ]
     },
     "metadata": {},
     "output_type": "display_data"
    }
   ],
   "source": [
    "# is it possible that as the class accuracy is higher, TTA works more poorly?\n",
    "# plot as a function of class accuracy the # of improved classes \n",
    "def plot_class_acc_response(orig_class_acc, mean_class_acc, lr_class_acc):\n",
    "    x, mean_n_increase, mean_n_decrease = get_binned_changes(mean_class_acc, orig_class_acc)\n",
    "    x, lr_n_increase, lr_n_decrease = get_binned_changes(lr_class_acc, orig_class_acc)\n",
    "\n",
    "    #plt.plot(orig_class_acc[np.argsort(orig_class_acc)], diffs[np.argsort(orig_class_acc)])\n",
    "    #plt.plot(np.arange(0, 1.0, .1), [0 for x in range(10)], c='r')\n",
    "    if comp == 'lr':  \n",
    "        plt.plot(x,lr_n_increase, marker=\"o\", label=\"Accuracy-Improved Classes (Ours)\")\n",
    "        plt.plot(x,lr_n_decrease, marker=\"o\", label=\"Accuracy-Declined Classes (Ours)\")\n",
    "    elif comp=='mean':\n",
    "        plt.plot(x,mean_n_increase, marker=\"o\", label=\"Accuracy-Improved Classes\")\n",
    "        plt.plot(x,mean_n_decrease, marker=\"o\", label=\"Accuracy-Declined Classes\")\n",
    "    plt.ylabel(\"Number of Classes\")\n",
    "    plt.title(model_name_dict[model_name])\n",
    "    plt.xlabel('Original Class Accuracy')\n",
    "    plt.legend()\n",
    "    plt.savefig('./figs/partI/'+ comp+'_tta_class_acc_response_' + model_name + '.pdf', filetype='pdf', bbox_inches='tight')"
   ]
  },
  {
   "cell_type": "code",
   "execution_count": 138,
   "metadata": {},
   "outputs": [
    {
     "data": {
      "text/plain": [
       "(0.14, 0.38)"
      ]
     },
     "execution_count": 138,
     "metadata": {},
     "output_type": "execute_result"
    }
   ],
   "source": [
    "np.max(mean_diffs), np.max(lr_diffs)"
   ]
  },
  {
   "cell_type": "code",
   "execution_count": null,
   "metadata": {},
   "outputs": [],
   "source": []
  }
 ],
 "metadata": {
  "kernelspec": {
   "display_name": "Python 3",
   "language": "python",
   "name": "python3"
  },
  "language_info": {
   "codemirror_mode": {
    "name": "ipython",
    "version": 3
   },
   "file_extension": ".py",
   "mimetype": "text/x-python",
   "name": "python",
   "nbconvert_exporter": "python",
   "pygments_lexer": "ipython3",
   "version": "3.7.6"
  }
 },
 "nbformat": 4,
 "nbformat_minor": 2
}
