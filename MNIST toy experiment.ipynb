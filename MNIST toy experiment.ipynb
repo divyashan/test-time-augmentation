{
 "cells": [
  {
   "cell_type": "code",
   "execution_count": 2,
   "metadata": {},
   "outputs": [
    {
     "name": "stdout",
     "output_type": "stream",
     "text": [
      "Using GPU:1\n"
     ]
    }
   ],
   "source": [
    "import matplotlib.pyplot as plt\n",
    "import pandas as pd\n",
    "import seaborn as sns\n",
    "import numpy as np\n",
    "import torch\n",
    "import os\n",
    "import h5py\n",
    "\n",
    "from tta_agg_models import TTARegression, TTAPartialRegression, ImprovedLR, TTARegressionFrozen\n",
    "from utils.gpu_utils import restrict_GPU_pytorch\n",
    "restrict_GPU_pytorch('1')\n",
    "\n",
    "aug = 'flips'\n",
    "full_lr_pth = './mnist/' + aug + '/agg_models/mnist_cnn/combo/full_lr.pth'\n",
    "partial_lr_pth = './mnist/' + aug + '/agg_models/mnist_cnn/combo/partial_lr.pth'\n",
    "\n",
    "n_augs = 3\n",
    "n_classes = 10\n",
    "scale =1\n",
    "plr = TTAPartialRegression(n_augs,n_classes,scale,'even')\n",
    "if os.path.exists(partial_lr_pth):\n",
    "    plr.load_state_dict(torch.load(partial_lr_pth))\n",
    "plr_coeffs = plr.coeffs.detach().numpy()\n",
    "\n",
    "flr = TTARegression(n_augs,n_classes,scale,'even')\n",
    "if os.path.exists(full_lr_pth):\n",
    "    flr.load_state_dict(torch.load(full_lr_pth))\n",
    "flr_coeffs = flr.coeffs.detach().numpy()\n",
    "normalized_coeffs = flr_coeffs / np.sum(flr_coeffs, axis=0)"
   ]
  },
  {
   "cell_type": "code",
   "execution_count": 3,
   "metadata": {},
   "outputs": [
    {
     "data": {
      "text/plain": [
       "Text(0.5, 1.0, 'Augmentation Utility Varies by Class')"
      ]
     },
     "execution_count": 3,
     "metadata": {},
     "output_type": "execute_result"
    },
    {
     "data": {
      "image/png": "[encoded data removed]",
      "text/plain": [
       "<Figure size 432x288 with 1 Axes>"
      ]
     },
     "metadata": {
      "needs_background": "light"
     },
     "output_type": "display_data"
    }
   ],
   "source": [
    "# make this a stacked bar chart\n",
    "from matplotlib import rc\n",
    "from colour import Color\n",
    "barWidth = 1\n",
    "n_classes = 10\n",
    "r = np.arange(n_classes)\n",
    "labels = ['Original', 'HFlip', 'VFlip']\n",
    "red = Color(\"#1f77b4\")\n",
    "colors = list(red.range_to(Color(\"gray\"),len(labels)))\n",
    "plt.figure(figsize=(6, 4))\n",
    "for i in range(n_augs):\n",
    "    #plt.scatter(np.arange(n_classes), normalized_coeffs[i,:], label=labels[i])\n",
    "    bottom = np.sum(normalized_coeffs[:i,:], axis=0)\n",
    "    color = colors[i].get_hex()\n",
    "    plt.bar(r, normalized_coeffs[i,:], bottom=bottom, color=color, edgecolor='white', width=barWidth, label=labels[i])\n",
    "\n",
    "#plt.ylabel('Fractional Contribution to final prediction')\n",
    "#plt.xlabel('MNIST Class')\n",
    "plt.legend()\n",
    "plt.xticks(np.arange(11))\n",
    "plt.ylim(0, 1)\n",
    "plt.ylabel('% Contribution to Final Prediction')\n",
    "plt.xlabel('MNIST Class')\n",
    "plt.title(\"Augmentation Utility Varies by Class\")"
   ]
  },
  {
   "cell_type": "code",
   "execution_count": 4,
   "metadata": {},
   "outputs": [
    {
     "data": {
      "text/plain": [
       "(3, 10)"
      ]
     },
     "execution_count": 4,
     "metadata": {},
     "output_type": "execute_result"
    }
   ],
   "source": [
    "normalized_coeffs.shape"
   ]
  },
  {
   "cell_type": "code",
   "execution_count": 6,
   "metadata": {},
   "outputs": [
    {
     "data": {
      "text/plain": [
       "[]"
      ]
     },
     "execution_count": 6,
     "metadata": {},
     "output_type": "execute_result"
    },
    {
     "data": {
      "image/png": "[encoded data removed]",
      "text/plain": [
       "<Figure size 432x288 with 1 Axes>"
      ]
     },
     "metadata": {
      "needs_background": "light"
     },
     "output_type": "display_data"
    }
   ],
   "source": [
    "# draw line for original model prediction accuracy\n",
    "# change names to \n",
    "results = pd.read_csv('./results/mnist/' + aug + '/val/mnist_cnn_agg_fs')\n",
    "orig_acc = np.mean(results[results['aug'] == 'orig']['top1'])\n",
    "other = results[results['aug'] == 'combo']\n",
    "other = other[other['agg'].isin(['mean', 'partial_lr', 'full_lr'])]\n",
    "\n",
    "plt.figure(figsize=(6, 4))\n",
    "ax = sns.barplot(x='agg', y='top1', data=other)\n",
    "plt.xticks(np.arange(3), [\"Mean\", \"AugTTA\", \"ClassTTA\"])\n",
    "plt.ylim(65, 95)\n",
    "plt.title(\"TTA using Full-LR Outperforms Competing Methods\")\n",
    "plt.ylabel(\"Classification Accuracy\")\n",
    "ax.axhline(orig_acc, ls='--', color='black', linewidth=2,)\n",
    "plt.xlabel(\"Method\")\n",
    "plt.plot()"
   ]
  },
  {
   "cell_type": "code",
   "execution_count": 6,
   "metadata": {},
   "outputs": [
    {
     "ename": "IndexError",
     "evalue": "invalid index to scalar variable.",
     "output_type": "error",
     "traceback": [
      "\u001b[0;31m---------------------------------------------------------------------------\u001b[0m",
      "\u001b[0;31mIndexError\u001b[0m                                Traceback (most recent call last)",
      "\u001b[0;32m<ipython-input-6-687e54a63c80>\u001b[0m in \u001b[0;36m<module>\u001b[0;34m\u001b[0m\n\u001b[0;32m----> 1\u001b[0;31m \u001b[0mnp\u001b[0m\u001b[0;34m.\u001b[0m\u001b[0mmax\u001b[0m\u001b[0;34m(\u001b[0m\u001b[0morig_acc\u001b[0m\u001b[0;34m[\u001b[0m\u001b[0;34m'top1'\u001b[0m\u001b[0;34m]\u001b[0m\u001b[0;34m)\u001b[0m\u001b[0;34m,\u001b[0m \u001b[0mnp\u001b[0m\u001b[0;34m.\u001b[0m\u001b[0mmin\u001b[0m\u001b[0;34m(\u001b[0m\u001b[0mnp\u001b[0m\u001b[0;34m.\u001b[0m\u001b[0mmax\u001b[0m\u001b[0;34m(\u001b[0m\u001b[0morig_acc\u001b[0m\u001b[0;34m[\u001b[0m\u001b[0;34m'top1'\u001b[0m\u001b[0;34m]\u001b[0m\u001b[0;34m)\u001b[0m\u001b[0;34m)\u001b[0m\u001b[0;34m\u001b[0m\u001b[0;34m\u001b[0m\u001b[0m\n\u001b[0m",
      "\u001b[0;31mIndexError\u001b[0m: invalid index to scalar variable."
     ]
    }
   ],
   "source": [
    "np.max(orig_acc['top1']), np.min(np.max(orig_acc['top1']))\n"
   ]
  },
  {
   "cell_type": "markdown",
   "metadata": {},
   "source": [
    "# Accuracy improvement on MNIST vs. % of training set"
   ]
  },
  {
   "cell_type": "code",
   "execution_count": 8,
   "metadata": {},
   "outputs": [
    {
     "name": "stderr",
     "output_type": "stream",
     "text": [
      "/local/divyas/.conda/envs/testaug/lib/python3.7/site-packages/ipykernel_launcher.py:23: SettingWithCopyWarning: \n",
      "A value is trying to be set on a copy of a slice from a DataFrame.\n",
      "Try using .loc[row_indexer,col_indexer] = value instead\n",
      "\n",
      "See the caveats in the documentation: https://pandas.pydata.org/pandas-docs/stable/user_guide/indexing.html#returning-a-view-versus-a-copy\n"
     ]
    }
   ],
   "source": [
    "# Iterate over results for different cnns in the results folder\n",
    "aug = 'flips'\n",
    "model_pref = 'mnist_cnn'\n",
    "pcts = [.005, .01, .02, .03, .04, .05, .10, .20, .50, .75, 1.00]\n",
    "model_name_opts = [model_pref + '_' + str(opt) for opt in pcts]\n",
    "results_dicts = []\n",
    "n_runs = 5\n",
    "for i, model_name in enumerate(model_name_opts):\n",
    "    model_results = pd.read_csv('./results/mnist/' + aug + '/val/' + model_name + '_agg_fs')\n",
    "    for j in range(n_runs):\n",
    "        orig_acc = model_results[model_results['aug'] == 'orig']['top1'].iloc[j]\n",
    "        mean_acc = model_results[model_results['agg'] == 'mean']['top1'].iloc[j]\n",
    "        flr_acc = model_results[model_results['agg'] == 'full_lr']['top1'].iloc[j]\n",
    "        plr_acc = model_results[model_results['agg'] == 'partial_lr']['top1'].iloc[j]\n",
    "        pct = pcts[i]\n",
    "        formatted_results = [{'top1': orig_acc, 'method': 'orig', 'pct': pct,'model_name': model_name, 'run': j},\n",
    "                             {'top1': mean_acc,'method': 'mean', 'pct': pct,'model_name': model_name, 'run': j},\n",
    "                             {'top1': flr_acc, 'method': 'full_lr','pct': pct,'model_name': model_name, 'run': j},\n",
    "                             {'top1':plr_acc,'method': 'partial_lr','pct': pct,'model_name': model_name, 'run': j}]\n",
    "        results_dicts.extend(formatted_results)\n",
    "results = pd.DataFrame(results_dicts)\n",
    "only_full_lr = results[results['method'].isin(['orig', 'full_lr'])]\n",
    "only_full_lr['log_pct'] = np.log(only_full_lr['pct'])\n"
   ]
  },
  {
   "cell_type": "code",
   "execution_count": 11,
   "metadata": {},
   "outputs": [
    {
     "data": {
      "text/plain": [
       "([<matplotlib.axis.XTick at 0x7f2015998190>,\n",
       "  <matplotlib.axis.XTick at 0x7f2015998150>,\n",
       "  <matplotlib.axis.XTick at 0x7f20159983d0>,\n",
       "  <matplotlib.axis.XTick at 0x7f2015957390>,\n",
       "  <matplotlib.axis.XTick at 0x7f2015957a10>,\n",
       "  <matplotlib.axis.XTick at 0x7f20159578d0>,\n",
       "  <matplotlib.axis.XTick at 0x7f2015952510>,\n",
       "  <matplotlib.axis.XTick at 0x7f2015957610>,\n",
       "  <matplotlib.axis.XTick at 0x7f2015995cd0>],\n",
       " [Text(0, 0, '.5'),\n",
       "  Text(0, 0, '1'),\n",
       "  Text(0, 0, '2'),\n",
       "  Text(0, 0, '3'),\n",
       "  Text(0, 0, '5'),\n",
       "  Text(0, 0, '10'),\n",
       "  Text(0, 0, '20'),\n",
       "  Text(0, 0, '50'),\n",
       "  Text(0, 0, '100')])"
      ]
     },
     "execution_count": 11,
     "metadata": {},
     "output_type": "execute_result"
    },
    {
     "data": {
      "image/png": "[encoded data removed]",
      "text/plain": [
       "<Figure size 432x288 with 1 Axes>"
      ]
     },
     "metadata": {
      "needs_background": "light"
     },
     "output_type": "display_data"
    }
   ],
   "source": [
    "plt.figure(figsize=(6, 4))\n",
    "sns.lineplot(x='log_pct', y='top1', hue='method', err_style='band', ci=95, data=only_full_lr, marker='o')\n",
    "plt.title(\"Benefit of TTA on MNIST Depends on Training Set Size\")\n",
    "plt.xlabel(\"% of Training Set Used\")\n",
    "plt.ylabel(\"Classification Accuracy\")\n",
    "L=plt.legend()\n",
    "L.get_texts()[0].set_text('Method')\n",
    "L.get_texts()[1].set_text('Original Model')\n",
    "L.get_texts()[2].set_text('Full-LR')\n",
    "xtick_pos = sorted(list(set(only_full_lr['log_pct'])))\n",
    "xtick_lab = sorted([x*100 for x in list(set(only_full_lr['pct']))])\n",
    "xtick_lab = [\".5\", \"1\", \"2\", \"3\", \"4\", \"5\", \"10\", \"20\", \"50\", \"75\", \"100\"]\n",
    "del xtick_pos[9]\n",
    "del xtick_lab[9]\n",
    "del xtick_pos[4]\n",
    "del xtick_lab[4]\n",
    "plt.xticks(xtick_pos, xtick_lab)"
   ]
  },
  {
   "cell_type": "code",
   "execution_count": 27,
   "metadata": {},
   "outputs": [
    {
     "data": {
      "text/plain": [
       "([-5.298317366548036,\n",
       "  -4.605170185988091,\n",
       "  -3.912023005428146,\n",
       "  -3.506557897319982,\n",
       "  -3.2188758248682006,\n",
       "  -2.995732273553991,\n",
       "  -2.3025850929940455,\n",
       "  -1.6094379124341003,\n",
       "  -0.6931471805599453,\n",
       "  -0.2876820724517809],\n",
       " [0.005, 0.01, 0.02, 0.03, 0.04, 0.05, 0.1, 0.2, 0.5, 0.75])"
      ]
     },
     "execution_count": 27,
     "metadata": {},
     "output_type": "execute_result"
    }
   ],
   "source": [
    "sorted(list(set(only_full_lr['log_pct']))), sorted(list(set(only_full_lr['pct'])))"
   ]
  },
  {
   "cell_type": "code",
   "execution_count": 14,
   "metadata": {},
   "outputs": [],
   "source": [
    "hf = h5py.File('./mnist/flips/model_outputs/val/mnist_cnn_test.h5', 'r')"
   ]
  },
  {
   "cell_type": "code",
   "execution_count": 17,
   "metadata": {},
   "outputs": [],
   "source": [
    "original = hf['batch1_inputs'][0]\n",
    "hflip = hf['batch1_inputs'][1]\n",
    "vflip = hf['batch1_inputs'][2]\n",
    "labels = hf['batch1_labels'][:]"
   ]
  },
  {
   "cell_type": "code",
   "execution_count": 67,
   "metadata": {},
   "outputs": [],
   "source": [
    "from scipy.special import softmax\n",
    "\n",
    "digit = 5\n",
    "idxs_4 = np.where(labels == digit)[0]\n",
    "original_4 = softmax(original[idxs_4], axis=1)\n",
    "hflip_4 = softmax(hflip[idxs_4], axis=1)\n",
    "vflip_4 = softmax(vflip[idxs_4], axis=1)\n",
    "\n",
    "original_4_preds = np.argmax(original_4, axis=1)\n",
    "hflip_4_preds = np.argmax(hflip_4, axis=1)\n",
    "vflip_4_preds = np.argmax(vflip_4, axis=1)\n",
    "\n",
    "orig_acc = len((np.where(original_4_preds == 2)[0]))/len(idxs_4)\n",
    "hflip_acc = len((np.where(hflip_4_preds == 2)[0]))/len(idxs_4)\n",
    "vflip_acc = len((np.where(vflip_4_preds == 2)[0]))/len(idxs_4)"
   ]
  },
  {
   "cell_type": "code",
   "execution_count": 68,
   "metadata": {},
   "outputs": [
    {
     "name": "stdout",
     "output_type": "stream",
     "text": [
      "0.0044943820224719105 0.3955056179775281 0.7842696629213484\n"
     ]
    }
   ],
   "source": [
    "print(orig_acc, hflip_acc, vflip_acc)"
   ]
  },
  {
   "cell_type": "code",
   "execution_count": 66,
   "metadata": {},
   "outputs": [
    {
     "data": {
      "text/plain": [
       "(array([  6.,   6., 349.,   0.,   0.,  30.,   0.,  12.,   6.,  36.]),\n",
       " array([0. , 0.8, 1.6, 2.4, 3.2, 4. , 4.8, 5.6, 6.4, 7.2, 8. ]),\n",
       " <a list of 10 Patch objects>)"
      ]
     },
     "execution_count": 66,
     "metadata": {},
     "output_type": "execute_result"
    },
    {
     "data": {
      "image/png": "[encoded data removed]",
      "text/plain": [
       "<Figure size 432x288 with 1 Axes>"
      ]
     },
     "metadata": {
      "needs_background": "light"
     },
     "output_type": "display_data"
    }
   ],
   "source": [
    "plt.hist(vflip_4_preds)"
   ]
  },
  {
   "cell_type": "code",
   "execution_count": null,
   "metadata": {},
   "outputs": [],
   "source": []
  }
 ],
 "metadata": {
  "kernelspec": {
   "display_name": "Python 3",
   "language": "python",
   "name": "python3"
  },
  "language_info": {
   "codemirror_mode": {
    "name": "ipython",
    "version": 3
   },
   "file_extension": ".py",
   "mimetype": "text/x-python",
   "name": "python",
   "nbconvert_exporter": "python",
   "pygments_lexer": "ipython3",
   "version": "3.7.7"
  }
 },
 "nbformat": 4,
 "nbformat_minor": 4
}
