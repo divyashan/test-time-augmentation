{
 "cells": [
  {
   "cell_type": "code",
   "execution_count": 39,
   "metadata": {},
   "outputs": [
    {
     "name": "stdout",
     "output_type": "stream",
     "text": [
      "The autoreload extension is already loaded. To reload it, use:\n",
      "  %reload_ext autoreload\n",
      "Using GPU:1\n"
     ]
    }
   ],
   "source": [
    "%load_ext autoreload\n",
    "%autoreload 2\n",
    "import sys\n",
    "import numpy as np\n",
    "import matplotlib.pyplot as plt\n",
    "from tqdm.notebook import tqdm\n",
    "\n",
    "sys.path.insert(0, '../')\n",
    "\n",
    "import torch\n",
    "from torchvision import datasets, transforms\n",
    "from torch.utils.data.sampler import SubsetRandomSampler\n",
    "from pytorch_playground.cifar.model import cifar10\n",
    "\n",
    "from mnist_train import Net\n",
    "from utils.gpu_utils import restrict_GPU_pytorch\n",
    "from utils.imagenet_utils import accuracy\n",
    "from utils.dataloading_utils import MyIter, MyLoader\n",
    "from new_tta_models import ImageW, ImageS, ImageWS, Original, StandardTTA\n",
    "\n",
    "restrict_GPU_pytorch('1')"
   ]
  },
  {
   "cell_type": "code",
   "execution_count": 40,
   "metadata": {},
   "outputs": [],
   "source": [
    "def eval_agg_model(agg_model, dataloader):\n",
    "    agg_model.eval()\n",
    "    agg_model.cuda('cuda:0')\n",
    "    model.cuda('cuda:0')\n",
    "    test_acc1s = []\n",
    "    test_acc5s = []\n",
    "    for examples, target in dataloader:\n",
    "        examples = examples.cuda('cuda:0', non_blocking=True)\n",
    "        target = target.cuda('cuda:0', non_blocking=True)    \n",
    "        output = agg_model(examples)\n",
    "        acc1, acc5 = accuracy(output, target, topk=(1, 5))\n",
    "        test_acc1s.append(acc1.item())\n",
    "        test_acc5s.append(acc5.item())\n",
    "    return np.mean(test_acc1s), np.mean(test_acc5s)\n",
    "\n",
    "\n",
    "def train_agg_model(model, n_augs, agg_model_name, n_features):\n",
    "    if agg_model_name == 'image_s':\n",
    "        agg_model = ImageS(model, 0, 1, n_features)\n",
    "    elif agg_model_name == 'image_w':\n",
    "        agg_model = ImageW(model,n_augs, 0, 1, n_features)\n",
    "    elif agg_model_name == 'image_ws':\n",
    "        agg_model = ImageWS(model,n_augs, 0, 1, n_features)\n",
    "\n",
    "    agg_model.cuda('cuda:0')\n",
    "    criterion = torch.nn.CrossEntropyLoss()\n",
    "    criterion.cuda('cuda:0')\n",
    "    optimizer = torch.optim.SGD(agg_model.parameters(), lr=.01, momentum=.9, weight_decay=1e-4)\n",
    "\n",
    "    losses = []\n",
    "    acc1s = []\n",
    "    acc5s = []\n",
    "    epochs = 10\n",
    "    for epoch in tqdm(range(epochs)):\n",
    "        epoch_loss = []\n",
    "        for examples, target in data_loader:\n",
    "            examples = examples.cuda('cuda:0', non_blocking=True)\n",
    "            target = target.cuda('cuda:0', non_blocking=True)\n",
    "            output = agg_model(examples)\n",
    "            loss = criterion(output, target)\n",
    "            acc1, acc5 = accuracy(output, target, topk=(1, 5))\n",
    "\n",
    "            optimizer.zero_grad()\n",
    "            loss.backward()\n",
    "            optimizer.step()\n",
    "            epoch_loss.append(loss.item())\n",
    "            acc1s.append(acc1.item())\n",
    "            acc5s.append(acc5.item())\n",
    "        losses.append(np.mean(epoch_loss))\n",
    "    return agg_model, losses, acc1s, acc5s"
   ]
  },
  {
   "cell_type": "code",
   "execution_count": 41,
   "metadata": {},
   "outputs": [
    {
     "name": "stdout",
     "output_type": "stream",
     "text": [
      "Files already downloaded and verified\n",
      "Files already downloaded and verified\n",
      "Files already downloaded and verified\n"
     ]
    }
   ],
   "source": [
    "dataset = datasets.CIFAR10('../datasets', train=False, download=True, transform=transforms.Compose([\n",
    "                           transforms.ToTensor(),\n",
    "                               transforms.Normalize((0.5, 0.5, 0.5), (0.5, 0.5, 0.5))\n",
    "                       ]))\n",
    "hflip_dataset = datasets.CIFAR10('../datasets', download=True, train=False, transform=transforms.Compose([\n",
    "                           transforms.RandomHorizontalFlip(p=1),\n",
    "                           transforms.ToTensor(),\n",
    "                               transforms.Normalize((0.5, 0.5, 0.5), (0.5, 0.5, 0.5))\n",
    "                       ]))\n",
    "vflip_dataset = datasets.CIFAR10('../datasets', download=True, train=False, transform=transforms.Compose([\n",
    "                           transforms.RandomVerticalFlip(p=1),\n",
    "                           transforms.ToTensor(),\n",
    "                               transforms.Normalize((0.5, 0.5, 0.5), (0.5, 0.5, 0.5))\n",
    "                       ]))\n",
    "\n",
    "n_examples = len(dataset)\n",
    "subset_indices = np.arange(n_examples)\n",
    "np.random.shuffle(subset_indices)\n",
    "val_idxs = subset_indices[:int(len(subset_indices)/2)]\n",
    "test_idxs = subset_indices[int(len(subset_indices)/2):]\n",
    "batch_size = 512\n",
    "n_augs = 2\n",
    "orig_val_loader = torch.utils.data.DataLoader(torch.utils.data.Subset(dataset, val_idxs), \n",
    "        batch_size=batch_size, shuffle=False)\n",
    "hflip_val_loader = torch.utils.data.DataLoader(torch.utils.data.Subset(hflip_dataset, val_idxs),\n",
    "                                                batch_size=batch_size, shuffle=False)\n",
    "vflip_val_loader = torch.utils.data.DataLoader(torch.utils.data.Subset(vflip_dataset, val_idxs),\n",
    "                                                batch_size=batch_size, shuffle=False)\n",
    "data_loader = MyLoader([orig_val_loader, hflip_val_loader])\n",
    "\n",
    "\n",
    "orig_test_loader = torch.utils.data.DataLoader(torch.utils.data.Subset(dataset, test_idxs), \n",
    "        batch_size=batch_size, shuffle=False)\n",
    "hflip_test_loader = torch.utils.data.DataLoader(torch.utils.data.Subset(hflip_dataset, test_idxs),\n",
    "                                                batch_size=batch_size, shuffle=False)\n",
    "vflip_test_loader = torch.utils.data.DataLoader(torch.utils.data.Subset(vflip_dataset, test_idxs),\n",
    "                                                batch_size=batch_size, shuffle=False)\n",
    "test_data_loader = MyLoader([orig_test_loader, hflip_test_loader])"
   ]
  },
  {
   "cell_type": "code",
   "execution_count": 45,
   "metadata": {},
   "outputs": [
    {
     "data": {
      "application/vnd.jupyter.widget-view+json": {
       "model_id": "9f339e097a984fcaaf1386b2cbd78eec",
       "version_major": 2,
       "version_minor": 0
      },
      "text/plain": [
       "HBox(children=(FloatProgress(value=0.0, max=14.0), HTML(value='')))"
      ]
     },
     "metadata": {},
     "output_type": "display_data"
    },
    {
     "name": "stderr",
     "output_type": "stream",
     "text": [
      "Sequential(\n",
      "  (0): Conv2d(3, 128, kernel_size=(3, 3), stride=(1, 1), padding=(1, 1))\n",
      "  (1): BatchNorm2d(128, eps=1e-05, momentum=0.1, affine=False, track_running_stats=True)\n",
      "  (2): ReLU()\n",
      "  (3): Conv2d(128, 128, kernel_size=(3, 3), stride=(1, 1), padding=(1, 1))\n",
      "  (4): BatchNorm2d(128, eps=1e-05, momentum=0.1, affine=False, track_running_stats=True)\n",
      "  (5): ReLU()\n",
      "  (6): MaxPool2d(kernel_size=2, stride=2, padding=0, dilation=1, ceil_mode=False)\n",
      "  (7): Conv2d(128, 256, kernel_size=(3, 3), stride=(1, 1), padding=(1, 1))\n",
      "  (8): BatchNorm2d(256, eps=1e-05, momentum=0.1, affine=False, track_running_stats=True)\n",
      "  (9): ReLU()\n",
      "  (10): Conv2d(256, 256, kernel_size=(3, 3), stride=(1, 1), padding=(1, 1))\n",
      "  (11): BatchNorm2d(256, eps=1e-05, momentum=0.1, affine=False, track_running_stats=True)\n",
      "  (12): ReLU()\n",
      "  (13): MaxPool2d(kernel_size=2, stride=2, padding=0, dilation=1, ceil_mode=False)\n",
      "  (14): Conv2d(256, 512, kernel_size=(3, 3), stride=(1, 1), padding=(1, 1))\n",
      "  (15): BatchNorm2d(512, eps=1e-05, momentum=0.1, affine=False, track_running_stats=True)\n",
      "  (16): ReLU()\n",
      "  (17): Conv2d(512, 512, kernel_size=(3, 3), stride=(1, 1), padding=(1, 1))\n",
      "  (18): BatchNorm2d(512, eps=1e-05, momentum=0.1, affine=False, track_running_stats=True)\n",
      "  (19): ReLU()\n",
      "  (20): MaxPool2d(kernel_size=2, stride=2, padding=0, dilation=1, ceil_mode=False)\n",
      "  (21): Conv2d(512, 1024, kernel_size=(3, 3), stride=(1, 1))\n",
      "  (22): BatchNorm2d(1024, eps=1e-05, momentum=0.1, affine=False, track_running_stats=True)\n",
      "  (23): ReLU()\n",
      "  (24): MaxPool2d(kernel_size=2, stride=2, padding=0, dilation=1, ceil_mode=False)\n",
      ")\n",
      "Sequential(\n",
      "  (0): Linear(in_features=1024, out_features=10, bias=True)\n",
      ")\n"
     ]
    },
    {
     "data": {
      "application/vnd.jupyter.widget-view+json": {
       "model_id": "3687a55358734228aa4f7206eac21092",
       "version_major": 2,
       "version_minor": 0
      },
      "text/plain": [
       "HBox(children=(FloatProgress(value=0.0, max=10.0), HTML(value='')))"
      ]
     },
     "metadata": {},
     "output_type": "display_data"
    },
    {
     "name": "stdout",
     "output_type": "stream",
     "text": [
      "\n"
     ]
    },
    {
     "data": {
      "application/vnd.jupyter.widget-view+json": {
       "model_id": "326485d30e3b45d9b7cc3411ac61f7bb",
       "version_major": 2,
       "version_minor": 0
      },
      "text/plain": [
       "HBox(children=(FloatProgress(value=0.0, max=10.0), HTML(value='')))"
      ]
     },
     "metadata": {},
     "output_type": "display_data"
    },
    {
     "name": "stdout",
     "output_type": "stream",
     "text": [
      "\n"
     ]
    },
    {
     "data": {
      "application/vnd.jupyter.widget-view+json": {
       "model_id": "eddfbf92639542738d55738ad48567df",
       "version_major": 2,
       "version_minor": 0
      },
      "text/plain": [
       "HBox(children=(FloatProgress(value=0.0, max=10.0), HTML(value='')))"
      ]
     },
     "metadata": {},
     "output_type": "display_data"
    },
    {
     "name": "stdout",
     "output_type": "stream",
     "text": [
      "\n"
     ]
    },
    {
     "name": "stderr",
     "output_type": "stream",
     "text": [
      "Sequential(\n",
      "  (0): Conv2d(3, 128, kernel_size=(3, 3), stride=(1, 1), padding=(1, 1))\n",
      "  (1): BatchNorm2d(128, eps=1e-05, momentum=0.1, affine=False, track_running_stats=True)\n",
      "  (2): ReLU()\n",
      "  (3): Conv2d(128, 128, kernel_size=(3, 3), stride=(1, 1), padding=(1, 1))\n",
      "  (4): BatchNorm2d(128, eps=1e-05, momentum=0.1, affine=False, track_running_stats=True)\n",
      "  (5): ReLU()\n",
      "  (6): MaxPool2d(kernel_size=2, stride=2, padding=0, dilation=1, ceil_mode=False)\n",
      "  (7): Conv2d(128, 256, kernel_size=(3, 3), stride=(1, 1), padding=(1, 1))\n",
      "  (8): BatchNorm2d(256, eps=1e-05, momentum=0.1, affine=False, track_running_stats=True)\n",
      "  (9): ReLU()\n",
      "  (10): Conv2d(256, 256, kernel_size=(3, 3), stride=(1, 1), padding=(1, 1))\n",
      "  (11): BatchNorm2d(256, eps=1e-05, momentum=0.1, affine=False, track_running_stats=True)\n",
      "  (12): ReLU()\n",
      "  (13): MaxPool2d(kernel_size=2, stride=2, padding=0, dilation=1, ceil_mode=False)\n",
      "  (14): Conv2d(256, 512, kernel_size=(3, 3), stride=(1, 1), padding=(1, 1))\n",
      "  (15): BatchNorm2d(512, eps=1e-05, momentum=0.1, affine=False, track_running_stats=True)\n",
      "  (16): ReLU()\n",
      "  (17): Conv2d(512, 512, kernel_size=(3, 3), stride=(1, 1), padding=(1, 1))\n",
      "  (18): BatchNorm2d(512, eps=1e-05, momentum=0.1, affine=False, track_running_stats=True)\n",
      "  (19): ReLU()\n",
      "  (20): MaxPool2d(kernel_size=2, stride=2, padding=0, dilation=1, ceil_mode=False)\n",
      "  (21): Conv2d(512, 1024, kernel_size=(3, 3), stride=(1, 1))\n",
      "  (22): BatchNorm2d(1024, eps=1e-05, momentum=0.1, affine=False, track_running_stats=True)\n",
      "  (23): ReLU()\n",
      "  (24): MaxPool2d(kernel_size=2, stride=2, padding=0, dilation=1, ceil_mode=False)\n",
      ")\n",
      "Sequential(\n",
      "  (0): Linear(in_features=1024, out_features=10, bias=True)\n",
      ")\n"
     ]
    },
    {
     "data": {
      "application/vnd.jupyter.widget-view+json": {
       "model_id": "c6feb521596f4e20972397f0628419de",
       "version_major": 2,
       "version_minor": 0
      },
      "text/plain": [
       "HBox(children=(FloatProgress(value=0.0, max=10.0), HTML(value='')))"
      ]
     },
     "metadata": {},
     "output_type": "display_data"
    },
    {
     "name": "stdout",
     "output_type": "stream",
     "text": [
      "\n"
     ]
    },
    {
     "data": {
      "application/vnd.jupyter.widget-view+json": {
       "model_id": "59aa50e6ac354af896191cd597bae0ee",
       "version_major": 2,
       "version_minor": 0
      },
      "text/plain": [
       "HBox(children=(FloatProgress(value=0.0, max=10.0), HTML(value='')))"
      ]
     },
     "metadata": {},
     "output_type": "display_data"
    },
    {
     "name": "stdout",
     "output_type": "stream",
     "text": [
      "\n"
     ]
    },
    {
     "data": {
      "application/vnd.jupyter.widget-view+json": {
       "model_id": "7d1f32c1fb754925960b82425d9d61aa",
       "version_major": 2,
       "version_minor": 0
      },
      "text/plain": [
       "HBox(children=(FloatProgress(value=0.0, max=10.0), HTML(value='')))"
      ]
     },
     "metadata": {},
     "output_type": "display_data"
    },
    {
     "name": "stdout",
     "output_type": "stream",
     "text": [
      "\n"
     ]
    },
    {
     "name": "stderr",
     "output_type": "stream",
     "text": [
      "Sequential(\n",
      "  (0): Conv2d(3, 128, kernel_size=(3, 3), stride=(1, 1), padding=(1, 1))\n",
      "  (1): BatchNorm2d(128, eps=1e-05, momentum=0.1, affine=False, track_running_stats=True)\n",
      "  (2): ReLU()\n",
      "  (3): Conv2d(128, 128, kernel_size=(3, 3), stride=(1, 1), padding=(1, 1))\n",
      "  (4): BatchNorm2d(128, eps=1e-05, momentum=0.1, affine=False, track_running_stats=True)\n",
      "  (5): ReLU()\n",
      "  (6): MaxPool2d(kernel_size=2, stride=2, padding=0, dilation=1, ceil_mode=False)\n",
      "  (7): Conv2d(128, 256, kernel_size=(3, 3), stride=(1, 1), padding=(1, 1))\n",
      "  (8): BatchNorm2d(256, eps=1e-05, momentum=0.1, affine=False, track_running_stats=True)\n",
      "  (9): ReLU()\n",
      "  (10): Conv2d(256, 256, kernel_size=(3, 3), stride=(1, 1), padding=(1, 1))\n",
      "  (11): BatchNorm2d(256, eps=1e-05, momentum=0.1, affine=False, track_running_stats=True)\n",
      "  (12): ReLU()\n",
      "  (13): MaxPool2d(kernel_size=2, stride=2, padding=0, dilation=1, ceil_mode=False)\n",
      "  (14): Conv2d(256, 512, kernel_size=(3, 3), stride=(1, 1), padding=(1, 1))\n",
      "  (15): BatchNorm2d(512, eps=1e-05, momentum=0.1, affine=False, track_running_stats=True)\n",
      "  (16): ReLU()\n",
      "  (17): Conv2d(512, 512, kernel_size=(3, 3), stride=(1, 1), padding=(1, 1))\n",
      "  (18): BatchNorm2d(512, eps=1e-05, momentum=0.1, affine=False, track_running_stats=True)\n",
      "  (19): ReLU()\n",
      "  (20): MaxPool2d(kernel_size=2, stride=2, padding=0, dilation=1, ceil_mode=False)\n",
      "  (21): Conv2d(512, 1024, kernel_size=(3, 3), stride=(1, 1))\n",
      "  (22): BatchNorm2d(1024, eps=1e-05, momentum=0.1, affine=False, track_running_stats=True)\n",
      "  (23): ReLU()\n",
      "  (24): MaxPool2d(kernel_size=2, stride=2, padding=0, dilation=1, ceil_mode=False)\n",
      ")\n",
      "Sequential(\n",
      "  (0): Linear(in_features=1024, out_features=10, bias=True)\n",
      ")\n"
     ]
    },
    {
     "data": {
      "application/vnd.jupyter.widget-view+json": {
       "model_id": "3d5f4151b318475db838603f52bc3ce5",
       "version_major": 2,
       "version_minor": 0
      },
      "text/plain": [
       "HBox(children=(FloatProgress(value=0.0, max=10.0), HTML(value='')))"
      ]
     },
     "metadata": {},
     "output_type": "display_data"
    },
    {
     "name": "stdout",
     "output_type": "stream",
     "text": [
      "\n"
     ]
    },
    {
     "data": {
      "application/vnd.jupyter.widget-view+json": {
       "model_id": "8e3a0aaa79494efe8aa2031bdecd174d",
       "version_major": 2,
       "version_minor": 0
      },
      "text/plain": [
       "HBox(children=(FloatProgress(value=0.0, max=10.0), HTML(value='')))"
      ]
     },
     "metadata": {},
     "output_type": "display_data"
    },
    {
     "name": "stdout",
     "output_type": "stream",
     "text": [
      "\n"
     ]
    },
    {
     "data": {
      "application/vnd.jupyter.widget-view+json": {
       "model_id": "bba0432f6c6c4c11aae99f731d566aa3",
       "version_major": 2,
       "version_minor": 0
      },
      "text/plain": [
       "HBox(children=(FloatProgress(value=0.0, max=10.0), HTML(value='')))"
      ]
     },
     "metadata": {},
     "output_type": "display_data"
    },
    {
     "name": "stdout",
     "output_type": "stream",
     "text": [
      "\n"
     ]
    },
    {
     "name": "stderr",
     "output_type": "stream",
     "text": [
      "Sequential(\n",
      "  (0): Conv2d(3, 128, kernel_size=(3, 3), stride=(1, 1), padding=(1, 1))\n",
      "  (1): BatchNorm2d(128, eps=1e-05, momentum=0.1, affine=False, track_running_stats=True)\n",
      "  (2): ReLU()\n",
      "  (3): Conv2d(128, 128, kernel_size=(3, 3), stride=(1, 1), padding=(1, 1))\n",
      "  (4): BatchNorm2d(128, eps=1e-05, momentum=0.1, affine=False, track_running_stats=True)\n",
      "  (5): ReLU()\n",
      "  (6): MaxPool2d(kernel_size=2, stride=2, padding=0, dilation=1, ceil_mode=False)\n",
      "  (7): Conv2d(128, 256, kernel_size=(3, 3), stride=(1, 1), padding=(1, 1))\n",
      "  (8): BatchNorm2d(256, eps=1e-05, momentum=0.1, affine=False, track_running_stats=True)\n",
      "  (9): ReLU()\n",
      "  (10): Conv2d(256, 256, kernel_size=(3, 3), stride=(1, 1), padding=(1, 1))\n",
      "  (11): BatchNorm2d(256, eps=1e-05, momentum=0.1, affine=False, track_running_stats=True)\n",
      "  (12): ReLU()\n",
      "  (13): MaxPool2d(kernel_size=2, stride=2, padding=0, dilation=1, ceil_mode=False)\n",
      "  (14): Conv2d(256, 512, kernel_size=(3, 3), stride=(1, 1), padding=(1, 1))\n",
      "  (15): BatchNorm2d(512, eps=1e-05, momentum=0.1, affine=False, track_running_stats=True)\n",
      "  (16): ReLU()\n",
      "  (17): Conv2d(512, 512, kernel_size=(3, 3), stride=(1, 1), padding=(1, 1))\n",
      "  (18): BatchNorm2d(512, eps=1e-05, momentum=0.1, affine=False, track_running_stats=True)\n",
      "  (19): ReLU()\n",
      "  (20): MaxPool2d(kernel_size=2, stride=2, padding=0, dilation=1, ceil_mode=False)\n",
      "  (21): Conv2d(512, 1024, kernel_size=(3, 3), stride=(1, 1))\n",
      "  (22): BatchNorm2d(1024, eps=1e-05, momentum=0.1, affine=False, track_running_stats=True)\n",
      "  (23): ReLU()\n",
      "  (24): MaxPool2d(kernel_size=2, stride=2, padding=0, dilation=1, ceil_mode=False)\n",
      ")\n",
      "Sequential(\n",
      "  (0): Linear(in_features=1024, out_features=10, bias=True)\n",
      ")\n"
     ]
    },
    {
     "data": {
      "application/vnd.jupyter.widget-view+json": {
       "model_id": "838a3fe74e984685875463e97faa15e2",
       "version_major": 2,
       "version_minor": 0
      },
      "text/plain": [
       "HBox(children=(FloatProgress(value=0.0, max=10.0), HTML(value='')))"
      ]
     },
     "metadata": {},
     "output_type": "display_data"
    },
    {
     "name": "stdout",
     "output_type": "stream",
     "text": [
      "\n"
     ]
    },
    {
     "data": {
      "application/vnd.jupyter.widget-view+json": {
       "model_id": "0f61a2cdbe584214baad3891b5ca28e7",
       "version_major": 2,
       "version_minor": 0
      },
      "text/plain": [
       "HBox(children=(FloatProgress(value=0.0, max=10.0), HTML(value='')))"
      ]
     },
     "metadata": {},
     "output_type": "display_data"
    },
    {
     "name": "stdout",
     "output_type": "stream",
     "text": [
      "\n"
     ]
    },
    {
     "data": {
      "application/vnd.jupyter.widget-view+json": {
       "model_id": "a36257c8ef8c449194e2e3714f267ff1",
       "version_major": 2,
       "version_minor": 0
      },
      "text/plain": [
       "HBox(children=(FloatProgress(value=0.0, max=10.0), HTML(value='')))"
      ]
     },
     "metadata": {},
     "output_type": "display_data"
    },
    {
     "name": "stdout",
     "output_type": "stream",
     "text": [
      "\n"
     ]
    },
    {
     "name": "stderr",
     "output_type": "stream",
     "text": [
      "Sequential(\n",
      "  (0): Conv2d(3, 128, kernel_size=(3, 3), stride=(1, 1), padding=(1, 1))\n",
      "  (1): BatchNorm2d(128, eps=1e-05, momentum=0.1, affine=False, track_running_stats=True)\n",
      "  (2): ReLU()\n",
      "  (3): Conv2d(128, 128, kernel_size=(3, 3), stride=(1, 1), padding=(1, 1))\n",
      "  (4): BatchNorm2d(128, eps=1e-05, momentum=0.1, affine=False, track_running_stats=True)\n",
      "  (5): ReLU()\n",
      "  (6): MaxPool2d(kernel_size=2, stride=2, padding=0, dilation=1, ceil_mode=False)\n",
      "  (7): Conv2d(128, 256, kernel_size=(3, 3), stride=(1, 1), padding=(1, 1))\n",
      "  (8): BatchNorm2d(256, eps=1e-05, momentum=0.1, affine=False, track_running_stats=True)\n",
      "  (9): ReLU()\n",
      "  (10): Conv2d(256, 256, kernel_size=(3, 3), stride=(1, 1), padding=(1, 1))\n",
      "  (11): BatchNorm2d(256, eps=1e-05, momentum=0.1, affine=False, track_running_stats=True)\n",
      "  (12): ReLU()\n",
      "  (13): MaxPool2d(kernel_size=2, stride=2, padding=0, dilation=1, ceil_mode=False)\n",
      "  (14): Conv2d(256, 512, kernel_size=(3, 3), stride=(1, 1), padding=(1, 1))\n",
      "  (15): BatchNorm2d(512, eps=1e-05, momentum=0.1, affine=False, track_running_stats=True)\n",
      "  (16): ReLU()\n",
      "  (17): Conv2d(512, 512, kernel_size=(3, 3), stride=(1, 1), padding=(1, 1))\n",
      "  (18): BatchNorm2d(512, eps=1e-05, momentum=0.1, affine=False, track_running_stats=True)\n",
      "  (19): ReLU()\n",
      "  (20): MaxPool2d(kernel_size=2, stride=2, padding=0, dilation=1, ceil_mode=False)\n",
      "  (21): Conv2d(512, 1024, kernel_size=(3, 3), stride=(1, 1))\n",
      "  (22): BatchNorm2d(1024, eps=1e-05, momentum=0.1, affine=False, track_running_stats=True)\n",
      "  (23): ReLU()\n",
      "  (24): MaxPool2d(kernel_size=2, stride=2, padding=0, dilation=1, ceil_mode=False)\n",
      ")\n",
      "Sequential(\n",
      "  (0): Linear(in_features=1024, out_features=10, bias=True)\n",
      ")\n"
     ]
    },
    {
     "data": {
      "application/vnd.jupyter.widget-view+json": {
       "model_id": "868ecc72214f45dc8fe8c32a518d6460",
       "version_major": 2,
       "version_minor": 0
      },
      "text/plain": [
       "HBox(children=(FloatProgress(value=0.0, max=10.0), HTML(value='')))"
      ]
     },
     "metadata": {},
     "output_type": "display_data"
    },
    {
     "name": "stdout",
     "output_type": "stream",
     "text": [
      "\n"
     ]
    },
    {
     "data": {
      "application/vnd.jupyter.widget-view+json": {
       "model_id": "bf4046d286b94302aeba28dd9a45722d",
       "version_major": 2,
       "version_minor": 0
      },
      "text/plain": [
       "HBox(children=(FloatProgress(value=0.0, max=10.0), HTML(value='')))"
      ]
     },
     "metadata": {},
     "output_type": "display_data"
    },
    {
     "name": "stdout",
     "output_type": "stream",
     "text": [
      "\n"
     ]
    },
    {
     "data": {
      "application/vnd.jupyter.widget-view+json": {
       "model_id": "c8a4a66a1f6d4a559417e29640d6ac9a",
       "version_major": 2,
       "version_minor": 0
      },
      "text/plain": [
       "HBox(children=(FloatProgress(value=0.0, max=10.0), HTML(value='')))"
      ]
     },
     "metadata": {},
     "output_type": "display_data"
    },
    {
     "name": "stdout",
     "output_type": "stream",
     "text": [
      "\n"
     ]
    },
    {
     "name": "stderr",
     "output_type": "stream",
     "text": [
      "Sequential(\n",
      "  (0): Conv2d(3, 128, kernel_size=(3, 3), stride=(1, 1), padding=(1, 1))\n",
      "  (1): BatchNorm2d(128, eps=1e-05, momentum=0.1, affine=False, track_running_stats=True)\n",
      "  (2): ReLU()\n",
      "  (3): Conv2d(128, 128, kernel_size=(3, 3), stride=(1, 1), padding=(1, 1))\n",
      "  (4): BatchNorm2d(128, eps=1e-05, momentum=0.1, affine=False, track_running_stats=True)\n",
      "  (5): ReLU()\n",
      "  (6): MaxPool2d(kernel_size=2, stride=2, padding=0, dilation=1, ceil_mode=False)\n",
      "  (7): Conv2d(128, 256, kernel_size=(3, 3), stride=(1, 1), padding=(1, 1))\n",
      "  (8): BatchNorm2d(256, eps=1e-05, momentum=0.1, affine=False, track_running_stats=True)\n",
      "  (9): ReLU()\n",
      "  (10): Conv2d(256, 256, kernel_size=(3, 3), stride=(1, 1), padding=(1, 1))\n",
      "  (11): BatchNorm2d(256, eps=1e-05, momentum=0.1, affine=False, track_running_stats=True)\n",
      "  (12): ReLU()\n",
      "  (13): MaxPool2d(kernel_size=2, stride=2, padding=0, dilation=1, ceil_mode=False)\n",
      "  (14): Conv2d(256, 512, kernel_size=(3, 3), stride=(1, 1), padding=(1, 1))\n",
      "  (15): BatchNorm2d(512, eps=1e-05, momentum=0.1, affine=False, track_running_stats=True)\n",
      "  (16): ReLU()\n",
      "  (17): Conv2d(512, 512, kernel_size=(3, 3), stride=(1, 1), padding=(1, 1))\n",
      "  (18): BatchNorm2d(512, eps=1e-05, momentum=0.1, affine=False, track_running_stats=True)\n",
      "  (19): ReLU()\n",
      "  (20): MaxPool2d(kernel_size=2, stride=2, padding=0, dilation=1, ceil_mode=False)\n",
      "  (21): Conv2d(512, 1024, kernel_size=(3, 3), stride=(1, 1))\n",
      "  (22): BatchNorm2d(1024, eps=1e-05, momentum=0.1, affine=False, track_running_stats=True)\n",
      "  (23): ReLU()\n",
      "  (24): MaxPool2d(kernel_size=2, stride=2, padding=0, dilation=1, ceil_mode=False)\n",
      ")\n",
      "Sequential(\n",
      "  (0): Linear(in_features=1024, out_features=10, bias=True)\n",
      ")\n"
     ]
    },
    {
     "data": {
      "application/vnd.jupyter.widget-view+json": {
       "model_id": "155e55fc10bc44c1903cd5e40a4a08c0",
       "version_major": 2,
       "version_minor": 0
      },
      "text/plain": [
       "HBox(children=(FloatProgress(value=0.0, max=10.0), HTML(value='')))"
      ]
     },
     "metadata": {},
     "output_type": "display_data"
    },
    {
     "name": "stdout",
     "output_type": "stream",
     "text": [
      "\n"
     ]
    },
    {
     "data": {
      "application/vnd.jupyter.widget-view+json": {
       "model_id": "89207cc218cd47ddb813b5026ac76836",
       "version_major": 2,
       "version_minor": 0
      },
      "text/plain": [
       "HBox(children=(FloatProgress(value=0.0, max=10.0), HTML(value='')))"
      ]
     },
     "metadata": {},
     "output_type": "display_data"
    },
    {
     "name": "stdout",
     "output_type": "stream",
     "text": [
      "\n"
     ]
    },
    {
     "data": {
      "application/vnd.jupyter.widget-view+json": {
       "model_id": "1f3e873056314c6bbfd420540190625e",
       "version_major": 2,
       "version_minor": 0
      },
      "text/plain": [
       "HBox(children=(FloatProgress(value=0.0, max=10.0), HTML(value='')))"
      ]
     },
     "metadata": {},
     "output_type": "display_data"
    },
    {
     "name": "stdout",
     "output_type": "stream",
     "text": [
      "\n"
     ]
    },
    {
     "name": "stderr",
     "output_type": "stream",
     "text": [
      "Sequential(\n",
      "  (0): Conv2d(3, 128, kernel_size=(3, 3), stride=(1, 1), padding=(1, 1))\n",
      "  (1): BatchNorm2d(128, eps=1e-05, momentum=0.1, affine=False, track_running_stats=True)\n",
      "  (2): ReLU()\n",
      "  (3): Conv2d(128, 128, kernel_size=(3, 3), stride=(1, 1), padding=(1, 1))\n",
      "  (4): BatchNorm2d(128, eps=1e-05, momentum=0.1, affine=False, track_running_stats=True)\n",
      "  (5): ReLU()\n",
      "  (6): MaxPool2d(kernel_size=2, stride=2, padding=0, dilation=1, ceil_mode=False)\n",
      "  (7): Conv2d(128, 256, kernel_size=(3, 3), stride=(1, 1), padding=(1, 1))\n",
      "  (8): BatchNorm2d(256, eps=1e-05, momentum=0.1, affine=False, track_running_stats=True)\n",
      "  (9): ReLU()\n",
      "  (10): Conv2d(256, 256, kernel_size=(3, 3), stride=(1, 1), padding=(1, 1))\n",
      "  (11): BatchNorm2d(256, eps=1e-05, momentum=0.1, affine=False, track_running_stats=True)\n",
      "  (12): ReLU()\n",
      "  (13): MaxPool2d(kernel_size=2, stride=2, padding=0, dilation=1, ceil_mode=False)\n",
      "  (14): Conv2d(256, 512, kernel_size=(3, 3), stride=(1, 1), padding=(1, 1))\n",
      "  (15): BatchNorm2d(512, eps=1e-05, momentum=0.1, affine=False, track_running_stats=True)\n",
      "  (16): ReLU()\n",
      "  (17): Conv2d(512, 512, kernel_size=(3, 3), stride=(1, 1), padding=(1, 1))\n",
      "  (18): BatchNorm2d(512, eps=1e-05, momentum=0.1, affine=False, track_running_stats=True)\n",
      "  (19): ReLU()\n",
      "  (20): MaxPool2d(kernel_size=2, stride=2, padding=0, dilation=1, ceil_mode=False)\n",
      "  (21): Conv2d(512, 1024, kernel_size=(3, 3), stride=(1, 1))\n",
      "  (22): BatchNorm2d(1024, eps=1e-05, momentum=0.1, affine=False, track_running_stats=True)\n",
      "  (23): ReLU()\n",
      "  (24): MaxPool2d(kernel_size=2, stride=2, padding=0, dilation=1, ceil_mode=False)\n",
      ")\n",
      "Sequential(\n",
      "  (0): Linear(in_features=1024, out_features=10, bias=True)\n",
      ")\n"
     ]
    },
    {
     "data": {
      "application/vnd.jupyter.widget-view+json": {
       "model_id": "2018b58c33304759af3c30e103d808ac",
       "version_major": 2,
       "version_minor": 0
      },
      "text/plain": [
       "HBox(children=(FloatProgress(value=0.0, max=10.0), HTML(value='')))"
      ]
     },
     "metadata": {},
     "output_type": "display_data"
    },
    {
     "name": "stdout",
     "output_type": "stream",
     "text": [
      "\n"
     ]
    },
    {
     "data": {
      "application/vnd.jupyter.widget-view+json": {
       "model_id": "ed9f6e84a60c46c8bd76443115526fa7",
       "version_major": 2,
       "version_minor": 0
      },
      "text/plain": [
       "HBox(children=(FloatProgress(value=0.0, max=10.0), HTML(value='')))"
      ]
     },
     "metadata": {},
     "output_type": "display_data"
    },
    {
     "name": "stdout",
     "output_type": "stream",
     "text": [
      "\n"
     ]
    },
    {
     "data": {
      "application/vnd.jupyter.widget-view+json": {
       "model_id": "ea8344538c3d439f92f477e82c0cf1b5",
       "version_major": 2,
       "version_minor": 0
      },
      "text/plain": [
       "HBox(children=(FloatProgress(value=0.0, max=10.0), HTML(value='')))"
      ]
     },
     "metadata": {},
     "output_type": "display_data"
    },
    {
     "name": "stdout",
     "output_type": "stream",
     "text": [
      "\n"
     ]
    },
    {
     "name": "stderr",
     "output_type": "stream",
     "text": [
      "Sequential(\n",
      "  (0): Conv2d(3, 128, kernel_size=(3, 3), stride=(1, 1), padding=(1, 1))\n",
      "  (1): BatchNorm2d(128, eps=1e-05, momentum=0.1, affine=False, track_running_stats=True)\n",
      "  (2): ReLU()\n",
      "  (3): Conv2d(128, 128, kernel_size=(3, 3), stride=(1, 1), padding=(1, 1))\n",
      "  (4): BatchNorm2d(128, eps=1e-05, momentum=0.1, affine=False, track_running_stats=True)\n",
      "  (5): ReLU()\n",
      "  (6): MaxPool2d(kernel_size=2, stride=2, padding=0, dilation=1, ceil_mode=False)\n",
      "  (7): Conv2d(128, 256, kernel_size=(3, 3), stride=(1, 1), padding=(1, 1))\n",
      "  (8): BatchNorm2d(256, eps=1e-05, momentum=0.1, affine=False, track_running_stats=True)\n",
      "  (9): ReLU()\n",
      "  (10): Conv2d(256, 256, kernel_size=(3, 3), stride=(1, 1), padding=(1, 1))\n",
      "  (11): BatchNorm2d(256, eps=1e-05, momentum=0.1, affine=False, track_running_stats=True)\n",
      "  (12): ReLU()\n",
      "  (13): MaxPool2d(kernel_size=2, stride=2, padding=0, dilation=1, ceil_mode=False)\n",
      "  (14): Conv2d(256, 512, kernel_size=(3, 3), stride=(1, 1), padding=(1, 1))\n",
      "  (15): BatchNorm2d(512, eps=1e-05, momentum=0.1, affine=False, track_running_stats=True)\n",
      "  (16): ReLU()\n",
      "  (17): Conv2d(512, 512, kernel_size=(3, 3), stride=(1, 1), padding=(1, 1))\n",
      "  (18): BatchNorm2d(512, eps=1e-05, momentum=0.1, affine=False, track_running_stats=True)\n",
      "  (19): ReLU()\n",
      "  (20): MaxPool2d(kernel_size=2, stride=2, padding=0, dilation=1, ceil_mode=False)\n",
      "  (21): Conv2d(512, 1024, kernel_size=(3, 3), stride=(1, 1))\n",
      "  (22): BatchNorm2d(1024, eps=1e-05, momentum=0.1, affine=False, track_running_stats=True)\n",
      "  (23): ReLU()\n",
      "  (24): MaxPool2d(kernel_size=2, stride=2, padding=0, dilation=1, ceil_mode=False)\n",
      ")\n",
      "Sequential(\n",
      "  (0): Linear(in_features=1024, out_features=10, bias=True)\n",
      ")\n"
     ]
    },
    {
     "data": {
      "application/vnd.jupyter.widget-view+json": {
       "model_id": "0dac59aaa147486692d77a65f5b01117",
       "version_major": 2,
       "version_minor": 0
      },
      "text/plain": [
       "HBox(children=(FloatProgress(value=0.0, max=10.0), HTML(value='')))"
      ]
     },
     "metadata": {},
     "output_type": "display_data"
    },
    {
     "name": "stdout",
     "output_type": "stream",
     "text": [
      "\n"
     ]
    },
    {
     "data": {
      "application/vnd.jupyter.widget-view+json": {
       "model_id": "2d0a0160e2994f7a893f38ea01e6faa0",
       "version_major": 2,
       "version_minor": 0
      },
      "text/plain": [
       "HBox(children=(FloatProgress(value=0.0, max=10.0), HTML(value='')))"
      ]
     },
     "metadata": {},
     "output_type": "display_data"
    },
    {
     "name": "stdout",
     "output_type": "stream",
     "text": [
      "\n"
     ]
    },
    {
     "data": {
      "application/vnd.jupyter.widget-view+json": {
       "model_id": "2a0af81a006347c99f03fcf36b5f43c4",
       "version_major": 2,
       "version_minor": 0
      },
      "text/plain": [
       "HBox(children=(FloatProgress(value=0.0, max=10.0), HTML(value='')))"
      ]
     },
     "metadata": {},
     "output_type": "display_data"
    },
    {
     "name": "stdout",
     "output_type": "stream",
     "text": [
      "\n"
     ]
    },
    {
     "name": "stderr",
     "output_type": "stream",
     "text": [
      "Sequential(\n",
      "  (0): Conv2d(3, 128, kernel_size=(3, 3), stride=(1, 1), padding=(1, 1))\n",
      "  (1): BatchNorm2d(128, eps=1e-05, momentum=0.1, affine=False, track_running_stats=True)\n",
      "  (2): ReLU()\n",
      "  (3): Conv2d(128, 128, kernel_size=(3, 3), stride=(1, 1), padding=(1, 1))\n",
      "  (4): BatchNorm2d(128, eps=1e-05, momentum=0.1, affine=False, track_running_stats=True)\n",
      "  (5): ReLU()\n",
      "  (6): MaxPool2d(kernel_size=2, stride=2, padding=0, dilation=1, ceil_mode=False)\n",
      "  (7): Conv2d(128, 256, kernel_size=(3, 3), stride=(1, 1), padding=(1, 1))\n",
      "  (8): BatchNorm2d(256, eps=1e-05, momentum=0.1, affine=False, track_running_stats=True)\n",
      "  (9): ReLU()\n",
      "  (10): Conv2d(256, 256, kernel_size=(3, 3), stride=(1, 1), padding=(1, 1))\n",
      "  (11): BatchNorm2d(256, eps=1e-05, momentum=0.1, affine=False, track_running_stats=True)\n",
      "  (12): ReLU()\n",
      "  (13): MaxPool2d(kernel_size=2, stride=2, padding=0, dilation=1, ceil_mode=False)\n",
      "  (14): Conv2d(256, 512, kernel_size=(3, 3), stride=(1, 1), padding=(1, 1))\n",
      "  (15): BatchNorm2d(512, eps=1e-05, momentum=0.1, affine=False, track_running_stats=True)\n",
      "  (16): ReLU()\n",
      "  (17): Conv2d(512, 512, kernel_size=(3, 3), stride=(1, 1), padding=(1, 1))\n",
      "  (18): BatchNorm2d(512, eps=1e-05, momentum=0.1, affine=False, track_running_stats=True)\n",
      "  (19): ReLU()\n",
      "  (20): MaxPool2d(kernel_size=2, stride=2, padding=0, dilation=1, ceil_mode=False)\n",
      "  (21): Conv2d(512, 1024, kernel_size=(3, 3), stride=(1, 1))\n",
      "  (22): BatchNorm2d(1024, eps=1e-05, momentum=0.1, affine=False, track_running_stats=True)\n",
      "  (23): ReLU()\n",
      "  (24): MaxPool2d(kernel_size=2, stride=2, padding=0, dilation=1, ceil_mode=False)\n",
      ")\n",
      "Sequential(\n",
      "  (0): Linear(in_features=1024, out_features=10, bias=True)\n",
      ")\n"
     ]
    },
    {
     "data": {
      "application/vnd.jupyter.widget-view+json": {
       "model_id": "e15b8771b2174d4ab1fba9e30f443863",
       "version_major": 2,
       "version_minor": 0
      },
      "text/plain": [
       "HBox(children=(FloatProgress(value=0.0, max=10.0), HTML(value='')))"
      ]
     },
     "metadata": {},
     "output_type": "display_data"
    },
    {
     "name": "stdout",
     "output_type": "stream",
     "text": [
      "\n"
     ]
    },
    {
     "data": {
      "application/vnd.jupyter.widget-view+json": {
       "model_id": "172a6c57a91e4971aee6e88352d37df6",
       "version_major": 2,
       "version_minor": 0
      },
      "text/plain": [
       "HBox(children=(FloatProgress(value=0.0, max=10.0), HTML(value='')))"
      ]
     },
     "metadata": {},
     "output_type": "display_data"
    },
    {
     "name": "stdout",
     "output_type": "stream",
     "text": [
      "\n"
     ]
    },
    {
     "data": {
      "application/vnd.jupyter.widget-view+json": {
       "model_id": "a6e740d1c74f4ea2a0de8a2938b3dbe3",
       "version_major": 2,
       "version_minor": 0
      },
      "text/plain": [
       "HBox(children=(FloatProgress(value=0.0, max=10.0), HTML(value='')))"
      ]
     },
     "metadata": {},
     "output_type": "display_data"
    },
    {
     "name": "stdout",
     "output_type": "stream",
     "text": [
      "\n"
     ]
    },
    {
     "name": "stderr",
     "output_type": "stream",
     "text": [
      "Sequential(\n",
      "  (0): Conv2d(3, 128, kernel_size=(3, 3), stride=(1, 1), padding=(1, 1))\n",
      "  (1): BatchNorm2d(128, eps=1e-05, momentum=0.1, affine=False, track_running_stats=True)\n",
      "  (2): ReLU()\n",
      "  (3): Conv2d(128, 128, kernel_size=(3, 3), stride=(1, 1), padding=(1, 1))\n",
      "  (4): BatchNorm2d(128, eps=1e-05, momentum=0.1, affine=False, track_running_stats=True)\n",
      "  (5): ReLU()\n",
      "  (6): MaxPool2d(kernel_size=2, stride=2, padding=0, dilation=1, ceil_mode=False)\n",
      "  (7): Conv2d(128, 256, kernel_size=(3, 3), stride=(1, 1), padding=(1, 1))\n",
      "  (8): BatchNorm2d(256, eps=1e-05, momentum=0.1, affine=False, track_running_stats=True)\n",
      "  (9): ReLU()\n",
      "  (10): Conv2d(256, 256, kernel_size=(3, 3), stride=(1, 1), padding=(1, 1))\n",
      "  (11): BatchNorm2d(256, eps=1e-05, momentum=0.1, affine=False, track_running_stats=True)\n",
      "  (12): ReLU()\n",
      "  (13): MaxPool2d(kernel_size=2, stride=2, padding=0, dilation=1, ceil_mode=False)\n",
      "  (14): Conv2d(256, 512, kernel_size=(3, 3), stride=(1, 1), padding=(1, 1))\n",
      "  (15): BatchNorm2d(512, eps=1e-05, momentum=0.1, affine=False, track_running_stats=True)\n",
      "  (16): ReLU()\n",
      "  (17): Conv2d(512, 512, kernel_size=(3, 3), stride=(1, 1), padding=(1, 1))\n",
      "  (18): BatchNorm2d(512, eps=1e-05, momentum=0.1, affine=False, track_running_stats=True)\n",
      "  (19): ReLU()\n",
      "  (20): MaxPool2d(kernel_size=2, stride=2, padding=0, dilation=1, ceil_mode=False)\n",
      "  (21): Conv2d(512, 1024, kernel_size=(3, 3), stride=(1, 1))\n",
      "  (22): BatchNorm2d(1024, eps=1e-05, momentum=0.1, affine=False, track_running_stats=True)\n",
      "  (23): ReLU()\n",
      "  (24): MaxPool2d(kernel_size=2, stride=2, padding=0, dilation=1, ceil_mode=False)\n",
      ")\n",
      "Sequential(\n",
      "  (0): Linear(in_features=1024, out_features=10, bias=True)\n",
      ")\n"
     ]
    },
    {
     "data": {
      "application/vnd.jupyter.widget-view+json": {
       "model_id": "09fe899a643c4d328faf6d4579f65d1a",
       "version_major": 2,
       "version_minor": 0
      },
      "text/plain": [
       "HBox(children=(FloatProgress(value=0.0, max=10.0), HTML(value='')))"
      ]
     },
     "metadata": {},
     "output_type": "display_data"
    },
    {
     "name": "stdout",
     "output_type": "stream",
     "text": [
      "\n"
     ]
    },
    {
     "data": {
      "application/vnd.jupyter.widget-view+json": {
       "model_id": "4bfc30350ce541afad47e413e6ee28f5",
       "version_major": 2,
       "version_minor": 0
      },
      "text/plain": [
       "HBox(children=(FloatProgress(value=0.0, max=10.0), HTML(value='')))"
      ]
     },
     "metadata": {},
     "output_type": "display_data"
    },
    {
     "name": "stdout",
     "output_type": "stream",
     "text": [
      "\n"
     ]
    },
    {
     "data": {
      "application/vnd.jupyter.widget-view+json": {
       "model_id": "0fb7300396c44cf99f5637023d5431b3",
       "version_major": 2,
       "version_minor": 0
      },
      "text/plain": [
       "HBox(children=(FloatProgress(value=0.0, max=10.0), HTML(value='')))"
      ]
     },
     "metadata": {},
     "output_type": "display_data"
    },
    {
     "name": "stdout",
     "output_type": "stream",
     "text": [
      "\n"
     ]
    },
    {
     "name": "stderr",
     "output_type": "stream",
     "text": [
      "Sequential(\n",
      "  (0): Conv2d(3, 128, kernel_size=(3, 3), stride=(1, 1), padding=(1, 1))\n",
      "  (1): BatchNorm2d(128, eps=1e-05, momentum=0.1, affine=False, track_running_stats=True)\n",
      "  (2): ReLU()\n",
      "  (3): Conv2d(128, 128, kernel_size=(3, 3), stride=(1, 1), padding=(1, 1))\n",
      "  (4): BatchNorm2d(128, eps=1e-05, momentum=0.1, affine=False, track_running_stats=True)\n",
      "  (5): ReLU()\n",
      "  (6): MaxPool2d(kernel_size=2, stride=2, padding=0, dilation=1, ceil_mode=False)\n",
      "  (7): Conv2d(128, 256, kernel_size=(3, 3), stride=(1, 1), padding=(1, 1))\n",
      "  (8): BatchNorm2d(256, eps=1e-05, momentum=0.1, affine=False, track_running_stats=True)\n",
      "  (9): ReLU()\n",
      "  (10): Conv2d(256, 256, kernel_size=(3, 3), stride=(1, 1), padding=(1, 1))\n",
      "  (11): BatchNorm2d(256, eps=1e-05, momentum=0.1, affine=False, track_running_stats=True)\n",
      "  (12): ReLU()\n",
      "  (13): MaxPool2d(kernel_size=2, stride=2, padding=0, dilation=1, ceil_mode=False)\n",
      "  (14): Conv2d(256, 512, kernel_size=(3, 3), stride=(1, 1), padding=(1, 1))\n",
      "  (15): BatchNorm2d(512, eps=1e-05, momentum=0.1, affine=False, track_running_stats=True)\n",
      "  (16): ReLU()\n",
      "  (17): Conv2d(512, 512, kernel_size=(3, 3), stride=(1, 1), padding=(1, 1))\n",
      "  (18): BatchNorm2d(512, eps=1e-05, momentum=0.1, affine=False, track_running_stats=True)\n",
      "  (19): ReLU()\n",
      "  (20): MaxPool2d(kernel_size=2, stride=2, padding=0, dilation=1, ceil_mode=False)\n",
      "  (21): Conv2d(512, 1024, kernel_size=(3, 3), stride=(1, 1))\n",
      "  (22): BatchNorm2d(1024, eps=1e-05, momentum=0.1, affine=False, track_running_stats=True)\n",
      "  (23): ReLU()\n",
      "  (24): MaxPool2d(kernel_size=2, stride=2, padding=0, dilation=1, ceil_mode=False)\n",
      ")\n",
      "Sequential(\n",
      "  (0): Linear(in_features=1024, out_features=10, bias=True)\n",
      ")\n"
     ]
    },
    {
     "data": {
      "application/vnd.jupyter.widget-view+json": {
       "model_id": "b27c5e9a937447b0a2cc264f2f066535",
       "version_major": 2,
       "version_minor": 0
      },
      "text/plain": [
       "HBox(children=(FloatProgress(value=0.0, max=10.0), HTML(value='')))"
      ]
     },
     "metadata": {},
     "output_type": "display_data"
    },
    {
     "name": "stdout",
     "output_type": "stream",
     "text": [
      "\n"
     ]
    },
    {
     "data": {
      "application/vnd.jupyter.widget-view+json": {
       "model_id": "fcbd5b7e769947a39b6dbac8c304cd3a",
       "version_major": 2,
       "version_minor": 0
      },
      "text/plain": [
       "HBox(children=(FloatProgress(value=0.0, max=10.0), HTML(value='')))"
      ]
     },
     "metadata": {},
     "output_type": "display_data"
    },
    {
     "name": "stdout",
     "output_type": "stream",
     "text": [
      "\n"
     ]
    },
    {
     "data": {
      "application/vnd.jupyter.widget-view+json": {
       "model_id": "eb9e2a6497e7492f9c956987e31cc6a2",
       "version_major": 2,
       "version_minor": 0
      },
      "text/plain": [
       "HBox(children=(FloatProgress(value=0.0, max=10.0), HTML(value='')))"
      ]
     },
     "metadata": {},
     "output_type": "display_data"
    },
    {
     "name": "stdout",
     "output_type": "stream",
     "text": [
      "\n"
     ]
    },
    {
     "name": "stderr",
     "output_type": "stream",
     "text": [
      "Sequential(\n",
      "  (0): Conv2d(3, 128, kernel_size=(3, 3), stride=(1, 1), padding=(1, 1))\n",
      "  (1): BatchNorm2d(128, eps=1e-05, momentum=0.1, affine=False, track_running_stats=True)\n",
      "  (2): ReLU()\n",
      "  (3): Conv2d(128, 128, kernel_size=(3, 3), stride=(1, 1), padding=(1, 1))\n",
      "  (4): BatchNorm2d(128, eps=1e-05, momentum=0.1, affine=False, track_running_stats=True)\n",
      "  (5): ReLU()\n",
      "  (6): MaxPool2d(kernel_size=2, stride=2, padding=0, dilation=1, ceil_mode=False)\n",
      "  (7): Conv2d(128, 256, kernel_size=(3, 3), stride=(1, 1), padding=(1, 1))\n",
      "  (8): BatchNorm2d(256, eps=1e-05, momentum=0.1, affine=False, track_running_stats=True)\n",
      "  (9): ReLU()\n",
      "  (10): Conv2d(256, 256, kernel_size=(3, 3), stride=(1, 1), padding=(1, 1))\n",
      "  (11): BatchNorm2d(256, eps=1e-05, momentum=0.1, affine=False, track_running_stats=True)\n",
      "  (12): ReLU()\n",
      "  (13): MaxPool2d(kernel_size=2, stride=2, padding=0, dilation=1, ceil_mode=False)\n",
      "  (14): Conv2d(256, 512, kernel_size=(3, 3), stride=(1, 1), padding=(1, 1))\n",
      "  (15): BatchNorm2d(512, eps=1e-05, momentum=0.1, affine=False, track_running_stats=True)\n",
      "  (16): ReLU()\n",
      "  (17): Conv2d(512, 512, kernel_size=(3, 3), stride=(1, 1), padding=(1, 1))\n",
      "  (18): BatchNorm2d(512, eps=1e-05, momentum=0.1, affine=False, track_running_stats=True)\n",
      "  (19): ReLU()\n",
      "  (20): MaxPool2d(kernel_size=2, stride=2, padding=0, dilation=1, ceil_mode=False)\n",
      "  (21): Conv2d(512, 1024, kernel_size=(3, 3), stride=(1, 1))\n",
      "  (22): BatchNorm2d(1024, eps=1e-05, momentum=0.1, affine=False, track_running_stats=True)\n",
      "  (23): ReLU()\n",
      "  (24): MaxPool2d(kernel_size=2, stride=2, padding=0, dilation=1, ceil_mode=False)\n",
      ")\n",
      "Sequential(\n",
      "  (0): Linear(in_features=1024, out_features=10, bias=True)\n",
      ")\n"
     ]
    },
    {
     "data": {
      "application/vnd.jupyter.widget-view+json": {
       "model_id": "4a513e0ef004448d8c5df03e8c3bf96c",
       "version_major": 2,
       "version_minor": 0
      },
      "text/plain": [
       "HBox(children=(FloatProgress(value=0.0, max=10.0), HTML(value='')))"
      ]
     },
     "metadata": {},
     "output_type": "display_data"
    },
    {
     "name": "stdout",
     "output_type": "stream",
     "text": [
      "\n"
     ]
    },
    {
     "data": {
      "application/vnd.jupyter.widget-view+json": {
       "model_id": "2de02b9a6b2244a79c31680a0399410c",
       "version_major": 2,
       "version_minor": 0
      },
      "text/plain": [
       "HBox(children=(FloatProgress(value=0.0, max=10.0), HTML(value='')))"
      ]
     },
     "metadata": {},
     "output_type": "display_data"
    },
    {
     "name": "stdout",
     "output_type": "stream",
     "text": [
      "\n"
     ]
    },
    {
     "data": {
      "application/vnd.jupyter.widget-view+json": {
       "model_id": "5f682fff2d8a4f43ac1d1089823a42a9",
       "version_major": 2,
       "version_minor": 0
      },
      "text/plain": [
       "HBox(children=(FloatProgress(value=0.0, max=10.0), HTML(value='')))"
      ]
     },
     "metadata": {},
     "output_type": "display_data"
    },
    {
     "name": "stdout",
     "output_type": "stream",
     "text": [
      "\n"
     ]
    },
    {
     "name": "stderr",
     "output_type": "stream",
     "text": [
      "Sequential(\n",
      "  (0): Conv2d(3, 128, kernel_size=(3, 3), stride=(1, 1), padding=(1, 1))\n",
      "  (1): BatchNorm2d(128, eps=1e-05, momentum=0.1, affine=False, track_running_stats=True)\n",
      "  (2): ReLU()\n",
      "  (3): Conv2d(128, 128, kernel_size=(3, 3), stride=(1, 1), padding=(1, 1))\n",
      "  (4): BatchNorm2d(128, eps=1e-05, momentum=0.1, affine=False, track_running_stats=True)\n",
      "  (5): ReLU()\n",
      "  (6): MaxPool2d(kernel_size=2, stride=2, padding=0, dilation=1, ceil_mode=False)\n",
      "  (7): Conv2d(128, 256, kernel_size=(3, 3), stride=(1, 1), padding=(1, 1))\n",
      "  (8): BatchNorm2d(256, eps=1e-05, momentum=0.1, affine=False, track_running_stats=True)\n",
      "  (9): ReLU()\n",
      "  (10): Conv2d(256, 256, kernel_size=(3, 3), stride=(1, 1), padding=(1, 1))\n",
      "  (11): BatchNorm2d(256, eps=1e-05, momentum=0.1, affine=False, track_running_stats=True)\n",
      "  (12): ReLU()\n",
      "  (13): MaxPool2d(kernel_size=2, stride=2, padding=0, dilation=1, ceil_mode=False)\n",
      "  (14): Conv2d(256, 512, kernel_size=(3, 3), stride=(1, 1), padding=(1, 1))\n",
      "  (15): BatchNorm2d(512, eps=1e-05, momentum=0.1, affine=False, track_running_stats=True)\n",
      "  (16): ReLU()\n",
      "  (17): Conv2d(512, 512, kernel_size=(3, 3), stride=(1, 1), padding=(1, 1))\n",
      "  (18): BatchNorm2d(512, eps=1e-05, momentum=0.1, affine=False, track_running_stats=True)\n",
      "  (19): ReLU()\n",
      "  (20): MaxPool2d(kernel_size=2, stride=2, padding=0, dilation=1, ceil_mode=False)\n",
      "  (21): Conv2d(512, 1024, kernel_size=(3, 3), stride=(1, 1))\n",
      "  (22): BatchNorm2d(1024, eps=1e-05, momentum=0.1, affine=False, track_running_stats=True)\n",
      "  (23): ReLU()\n",
      "  (24): MaxPool2d(kernel_size=2, stride=2, padding=0, dilation=1, ceil_mode=False)\n",
      ")\n",
      "Sequential(\n",
      "  (0): Linear(in_features=1024, out_features=10, bias=True)\n",
      ")\n"
     ]
    },
    {
     "data": {
      "application/vnd.jupyter.widget-view+json": {
       "model_id": "ec05ac1a61fd484b9ff956636a31a8d9",
       "version_major": 2,
       "version_minor": 0
      },
      "text/plain": [
       "HBox(children=(FloatProgress(value=0.0, max=10.0), HTML(value='')))"
      ]
     },
     "metadata": {},
     "output_type": "display_data"
    },
    {
     "name": "stdout",
     "output_type": "stream",
     "text": [
      "\n"
     ]
    },
    {
     "data": {
      "application/vnd.jupyter.widget-view+json": {
       "model_id": "970e77638a9d4aa78b83a277f0b1e4b5",
       "version_major": 2,
       "version_minor": 0
      },
      "text/plain": [
       "HBox(children=(FloatProgress(value=0.0, max=10.0), HTML(value='')))"
      ]
     },
     "metadata": {},
     "output_type": "display_data"
    },
    {
     "name": "stdout",
     "output_type": "stream",
     "text": [
      "\n"
     ]
    },
    {
     "data": {
      "application/vnd.jupyter.widget-view+json": {
       "model_id": "c1f86a19f7b64e9682727cf13433daf2",
       "version_major": 2,
       "version_minor": 0
      },
      "text/plain": [
       "HBox(children=(FloatProgress(value=0.0, max=10.0), HTML(value='')))"
      ]
     },
     "metadata": {},
     "output_type": "display_data"
    },
    {
     "name": "stdout",
     "output_type": "stream",
     "text": [
      "\n"
     ]
    },
    {
     "name": "stderr",
     "output_type": "stream",
     "text": [
      "Sequential(\n",
      "  (0): Conv2d(3, 128, kernel_size=(3, 3), stride=(1, 1), padding=(1, 1))\n",
      "  (1): BatchNorm2d(128, eps=1e-05, momentum=0.1, affine=False, track_running_stats=True)\n",
      "  (2): ReLU()\n",
      "  (3): Conv2d(128, 128, kernel_size=(3, 3), stride=(1, 1), padding=(1, 1))\n",
      "  (4): BatchNorm2d(128, eps=1e-05, momentum=0.1, affine=False, track_running_stats=True)\n",
      "  (5): ReLU()\n",
      "  (6): MaxPool2d(kernel_size=2, stride=2, padding=0, dilation=1, ceil_mode=False)\n",
      "  (7): Conv2d(128, 256, kernel_size=(3, 3), stride=(1, 1), padding=(1, 1))\n",
      "  (8): BatchNorm2d(256, eps=1e-05, momentum=0.1, affine=False, track_running_stats=True)\n",
      "  (9): ReLU()\n",
      "  (10): Conv2d(256, 256, kernel_size=(3, 3), stride=(1, 1), padding=(1, 1))\n",
      "  (11): BatchNorm2d(256, eps=1e-05, momentum=0.1, affine=False, track_running_stats=True)\n",
      "  (12): ReLU()\n",
      "  (13): MaxPool2d(kernel_size=2, stride=2, padding=0, dilation=1, ceil_mode=False)\n",
      "  (14): Conv2d(256, 512, kernel_size=(3, 3), stride=(1, 1), padding=(1, 1))\n",
      "  (15): BatchNorm2d(512, eps=1e-05, momentum=0.1, affine=False, track_running_stats=True)\n",
      "  (16): ReLU()\n",
      "  (17): Conv2d(512, 512, kernel_size=(3, 3), stride=(1, 1), padding=(1, 1))\n",
      "  (18): BatchNorm2d(512, eps=1e-05, momentum=0.1, affine=False, track_running_stats=True)\n",
      "  (19): ReLU()\n",
      "  (20): MaxPool2d(kernel_size=2, stride=2, padding=0, dilation=1, ceil_mode=False)\n",
      "  (21): Conv2d(512, 1024, kernel_size=(3, 3), stride=(1, 1))\n",
      "  (22): BatchNorm2d(1024, eps=1e-05, momentum=0.1, affine=False, track_running_stats=True)\n",
      "  (23): ReLU()\n",
      "  (24): MaxPool2d(kernel_size=2, stride=2, padding=0, dilation=1, ceil_mode=False)\n",
      ")\n",
      "Sequential(\n",
      "  (0): Linear(in_features=1024, out_features=10, bias=True)\n",
      ")\n"
     ]
    },
    {
     "data": {
      "application/vnd.jupyter.widget-view+json": {
       "model_id": "24be41c317f54f599c378a3a587c219f",
       "version_major": 2,
       "version_minor": 0
      },
      "text/plain": [
       "HBox(children=(FloatProgress(value=0.0, max=10.0), HTML(value='')))"
      ]
     },
     "metadata": {},
     "output_type": "display_data"
    },
    {
     "name": "stdout",
     "output_type": "stream",
     "text": [
      "\n"
     ]
    },
    {
     "data": {
      "application/vnd.jupyter.widget-view+json": {
       "model_id": "89c8cee05c6f461ba6c460443995caf2",
       "version_major": 2,
       "version_minor": 0
      },
      "text/plain": [
       "HBox(children=(FloatProgress(value=0.0, max=10.0), HTML(value='')))"
      ]
     },
     "metadata": {},
     "output_type": "display_data"
    },
    {
     "name": "stdout",
     "output_type": "stream",
     "text": [
      "\n"
     ]
    },
    {
     "data": {
      "application/vnd.jupyter.widget-view+json": {
       "model_id": "76a770c32f1747dc8d9744660a20851e",
       "version_major": 2,
       "version_minor": 0
      },
      "text/plain": [
       "HBox(children=(FloatProgress(value=0.0, max=10.0), HTML(value='')))"
      ]
     },
     "metadata": {},
     "output_type": "display_data"
    },
    {
     "name": "stdout",
     "output_type": "stream",
     "text": [
      "\n",
      "\n"
     ]
    },
    {
     "ename": "NameError",
     "evalue": "name 'pd' is not defined",
     "output_type": "error",
     "traceback": [
      "\u001b[0;31m---------------------------------------------------------------------------\u001b[0m",
      "\u001b[0;31mNameError\u001b[0m                                 Traceback (most recent call last)",
      "\u001b[0;32m<ipython-input-45-91106cc93122>\u001b[0m in \u001b[0;36m<module>\u001b[0;34m\u001b[0m\n\u001b[1;32m     33\u001b[0m \u001b[0;34m\u001b[0m\u001b[0m\n\u001b[1;32m     34\u001b[0m \u001b[0;34m\u001b[0m\u001b[0m\n\u001b[0;32m---> 35\u001b[0;31m \u001b[0mresults_df\u001b[0m \u001b[0;34m=\u001b[0m \u001b[0mpd\u001b[0m\u001b[0;34m.\u001b[0m\u001b[0mDataFrame\u001b[0m\u001b[0;34m(\u001b[0m\u001b[0mresults\u001b[0m\u001b[0;34m)\u001b[0m\u001b[0;34m\u001b[0m\u001b[0;34m\u001b[0m\u001b[0m\n\u001b[0m\u001b[1;32m     36\u001b[0m \u001b[0;34m\u001b[0m\u001b[0m\n\u001b[1;32m     37\u001b[0m \u001b[0;34m\u001b[0m\u001b[0m\n",
      "\u001b[0;31mNameError\u001b[0m: name 'pd' is not defined"
     ]
    }
   ],
   "source": [
    "pcts = [.005, .01, .05, .075,  .1, .2, .3, .4, .5, .6, .7, .8, .9, 1]\n",
    "results = []\n",
    "n_features = 1024\n",
    "for pct in tqdm(pcts):\n",
    "    model = cifar10(128)\n",
    "    model.load_state_dict(torch.load('../saved_models/cifar10/cifar10_cnn_' + str(pct)))\n",
    "    model.eval()\n",
    "    \n",
    "    # Original model\n",
    "    orig_model = Original(model, 0)\n",
    "    orig_acc1, orig_acc5 = eval_agg_model(orig_model, test_data_loader)\n",
    "    results.append({'agg_model': 'orig', 'pct': pct, 'acc1': orig_acc1, 'acc5': orig_acc5})\n",
    "    # stta model\n",
    "    stta_model = StandardTTA(model)\n",
    "    stta_acc1, stta_acc5 = eval_agg_model(stta_model, test_data_loader)\n",
    "    results.append({'agg_model': 'stta', 'pct': pct, 'acc1': stta_acc1, 'acc5': stta_acc5})\n",
    "    \n",
    "    # image to s \n",
    "    s_model, losses, acc1s, acc5s = train_agg_model(model, n_augs, 'image_s', n_features)\n",
    "    acc1, acc5 = eval_agg_model(s_model, test_data_loader)\n",
    "    results.append({'agg_model': 'image_s', 'pct': pct, 'acc1': acc1, 'acc5': acc5})\n",
    "\n",
    "    # image to w \n",
    "    w_model, losses, acc1s, acc5s = train_agg_model(model, n_augs, 'image_w', n_features)\n",
    "    acc1, acc5 = eval_agg_model(w_model, test_data_loader)\n",
    "    results.append({'agg_model': 'image_w', 'pct': pct, 'acc1': acc1, 'acc5': acc5})\n",
    "\n",
    "    # image to s and w \n",
    "    ws_model, losses, acc1s, acc5s = train_agg_model(model, n_augs, 'image_ws', n_features)\n",
    "    acc1, acc5 = eval_agg_model(ws_model, test_data_loader)\n",
    "    results.append({'agg_model': 'image_ws', 'pct': pct, 'acc1': acc1, 'acc5': acc5})\n",
    "\n",
    "    \n",
    "    \n",
    "results_df = pd.DataFrame(results)\n",
    "\n",
    "    "
   ]
  },
  {
   "cell_type": "code",
   "execution_count": 47,
   "metadata": {},
   "outputs": [],
   "source": [
    "import pandas as pd\n",
    "results_df = pd.DataFrame(results)\n",
    "results_df.to_csv('../results/cifar10/image_inference_results')"
   ]
  },
  {
   "cell_type": "code",
   "execution_count": 51,
   "metadata": {},
   "outputs": [
    {
     "data": {
      "text/plain": [
       "<AxesSubplot:xlabel='pct', ylabel='acc1'>"
      ]
     },
     "execution_count": 51,
     "metadata": {},
     "output_type": "execute_result"
    },
    {
     "data": {
      "image/png": "[encoded data removed]",
      "text/plain": [
       "<Figure size 432x288 with 1 Axes>"
      ]
     },
     "metadata": {},
     "output_type": "display_data"
    }
   ],
   "source": [
    "import seaborn as sns\n",
    "sns.set_style('white')\n",
    "non_stta = results_df[results_df['pct'] > .2]\n",
    "sns.lineplot(x='pct', y='acc1', hue='agg_model', data=results_df, alpha=.5, marker='.')"
   ]
  },
  {
   "cell_type": "markdown",
   "metadata": {},
   "source": [
    "# Analyzing learned w and s "
   ]
  },
  {
   "cell_type": "code",
   "execution_count": 38,
   "metadata": {},
   "outputs": [
    {
     "name": "stderr",
     "output_type": "stream",
     "text": [
      "Sequential(\n",
      "  (0): Conv2d(3, 128, kernel_size=(3, 3), stride=(1, 1), padding=(1, 1))\n",
      "  (1): BatchNorm2d(128, eps=1e-05, momentum=0.1, affine=False, track_running_stats=True)\n",
      "  (2): ReLU()\n",
      "  (3): Conv2d(128, 128, kernel_size=(3, 3), stride=(1, 1), padding=(1, 1))\n",
      "  (4): BatchNorm2d(128, eps=1e-05, momentum=0.1, affine=False, track_running_stats=True)\n",
      "  (5): ReLU()\n",
      "  (6): MaxPool2d(kernel_size=2, stride=2, padding=0, dilation=1, ceil_mode=False)\n",
      "  (7): Conv2d(128, 256, kernel_size=(3, 3), stride=(1, 1), padding=(1, 1))\n",
      "  (8): BatchNorm2d(256, eps=1e-05, momentum=0.1, affine=False, track_running_stats=True)\n",
      "  (9): ReLU()\n",
      "  (10): Conv2d(256, 256, kernel_size=(3, 3), stride=(1, 1), padding=(1, 1))\n",
      "  (11): BatchNorm2d(256, eps=1e-05, momentum=0.1, affine=False, track_running_stats=True)\n",
      "  (12): ReLU()\n",
      "  (13): MaxPool2d(kernel_size=2, stride=2, padding=0, dilation=1, ceil_mode=False)\n",
      "  (14): Conv2d(256, 512, kernel_size=(3, 3), stride=(1, 1), padding=(1, 1))\n",
      "  (15): BatchNorm2d(512, eps=1e-05, momentum=0.1, affine=False, track_running_stats=True)\n",
      "  (16): ReLU()\n",
      "  (17): Conv2d(512, 512, kernel_size=(3, 3), stride=(1, 1), padding=(1, 1))\n",
      "  (18): BatchNorm2d(512, eps=1e-05, momentum=0.1, affine=False, track_running_stats=True)\n",
      "  (19): ReLU()\n",
      "  (20): MaxPool2d(kernel_size=2, stride=2, padding=0, dilation=1, ceil_mode=False)\n",
      "  (21): Conv2d(512, 1024, kernel_size=(3, 3), stride=(1, 1))\n",
      "  (22): BatchNorm2d(1024, eps=1e-05, momentum=0.1, affine=False, track_running_stats=True)\n",
      "  (23): ReLU()\n",
      "  (24): MaxPool2d(kernel_size=2, stride=2, padding=0, dilation=1, ceil_mode=False)\n",
      ")\n",
      "Sequential(\n",
      "  (0): Linear(in_features=1024, out_features=10, bias=True)\n",
      ")\n"
     ]
    },
    {
     "data": {
      "application/vnd.jupyter.widget-view+json": {
       "model_id": "296173ff74984aa98b975e48ee14d1f7",
       "version_major": 2,
       "version_minor": 0
      },
      "text/plain": [
       "HBox(children=(FloatProgress(value=0.0, max=10.0), HTML(value='')))"
      ]
     },
     "metadata": {},
     "output_type": "display_data"
    },
    {
     "name": "stdout",
     "output_type": "stream",
     "text": [
      "\n"
     ]
    }
   ],
   "source": [
    "pct = 0.4\n",
    "model = cifar10(128)\n",
    "model.load_state_dict(torch.load('../saved_models/cifar10/cifar10_cnn_' + str(pct)))\n",
    "model.eval()\n",
    "\n",
    "s_model, losses, acc1s, acc5s = train_agg_model(model, n_augs, 'image_s', 1024)\n",
    "#acc1, acc5 = eval_agg_model(s_model, test_data_loader)\n",
    "#results.append({'agg_model': 'image_s', 'pct': pct, 'acc1': acc1, 'acc5': acc5})\n"
   ]
  },
  {
   "cell_type": "code",
   "execution_count": 15,
   "metadata": {},
   "outputs": [
    {
     "data": {
      "text/plain": [
       "Sequential(\n",
       "  (0): Conv2d(3, 128, kernel_size=(3, 3), stride=(1, 1), padding=(1, 1))\n",
       "  (1): BatchNorm2d(128, eps=1e-05, momentum=0.1, affine=False, track_running_stats=True)\n",
       "  (2): ReLU()\n",
       "  (3): Conv2d(128, 128, kernel_size=(3, 3), stride=(1, 1), padding=(1, 1))\n",
       "  (4): BatchNorm2d(128, eps=1e-05, momentum=0.1, affine=False, track_running_stats=True)\n",
       "  (5): ReLU()\n",
       "  (6): MaxPool2d(kernel_size=2, stride=2, padding=0, dilation=1, ceil_mode=False)\n",
       "  (7): Conv2d(128, 256, kernel_size=(3, 3), stride=(1, 1), padding=(1, 1))\n",
       "  (8): BatchNorm2d(256, eps=1e-05, momentum=0.1, affine=False, track_running_stats=True)\n",
       "  (9): ReLU()\n",
       "  (10): Conv2d(256, 256, kernel_size=(3, 3), stride=(1, 1), padding=(1, 1))\n",
       "  (11): BatchNorm2d(256, eps=1e-05, momentum=0.1, affine=False, track_running_stats=True)\n",
       "  (12): ReLU()\n",
       "  (13): MaxPool2d(kernel_size=2, stride=2, padding=0, dilation=1, ceil_mode=False)\n",
       "  (14): Conv2d(256, 512, kernel_size=(3, 3), stride=(1, 1), padding=(1, 1))\n",
       "  (15): BatchNorm2d(512, eps=1e-05, momentum=0.1, affine=False, track_running_stats=True)\n",
       "  (16): ReLU()\n",
       "  (17): Conv2d(512, 512, kernel_size=(3, 3), stride=(1, 1), padding=(1, 1))\n",
       "  (18): BatchNorm2d(512, eps=1e-05, momentum=0.1, affine=False, track_running_stats=True)\n",
       "  (19): ReLU()\n",
       "  (20): MaxPool2d(kernel_size=2, stride=2, padding=0, dilation=1, ceil_mode=False)\n",
       "  (21): Conv2d(512, 1024, kernel_size=(3, 3), stride=(1, 1))\n",
       "  (22): BatchNorm2d(1024, eps=1e-05, momentum=0.1, affine=False, track_running_stats=True)\n",
       "  (23): ReLU()\n",
       "  (24): MaxPool2d(kernel_size=2, stride=2, padding=0, dilation=1, ceil_mode=False)\n",
       ")"
      ]
     },
     "execution_count": 15,
     "metadata": {},
     "output_type": "execute_result"
    }
   ],
   "source": [
    "model.features"
   ]
  },
  {
   "cell_type": "code",
   "execution_count": 72,
   "metadata": {},
   "outputs": [
    {
     "data": {
      "text/plain": [
       "<matplotlib.legend.Legend at 0x7f14e422e110>"
      ]
     },
     "execution_count": 72,
     "metadata": {},
     "output_type": "execute_result"
    },
    {
     "data": {
      "image/png": "[encoded data removed]",
      "text/plain": [
       "<Figure size 432x288 with 1 Axes>"
      ]
     },
     "metadata": {
      "needs_background": "light"
     },
     "output_type": "display_data"
    }
   ],
   "source": [
    "w_vals = w_model.get_w(examples).detach().cpu().numpy()\n",
    "first_num = 3\n",
    "second_num = 6\n",
    "first_idxs = np.where(target.detach().cpu().numpy()== first_num)[0]\n",
    "second_idxs = np.where(target.detach().cpu().numpy()== second_num)[0]\n",
    "plt.hist(w_vals[:,1][first_idxs], alpha=.5, label=str(first_num))\n",
    "plt.hist(w_vals[:,1][second_idxs], alpha=.5, label=str(second_num))\n",
    "plt.legend()"
   ]
  },
  {
   "cell_type": "code",
   "execution_count": null,
   "metadata": {},
   "outputs": [],
   "source": []
  },
  {
   "cell_type": "code",
   "execution_count": null,
   "metadata": {},
   "outputs": [],
   "source": []
  },
  {
   "cell_type": "code",
   "execution_count": 73,
   "metadata": {},
   "outputs": [
    {
     "data": {
      "text/plain": [
       "[<matplotlib.lines.Line2D at 0x7f14e41b4410>]"
      ]
     },
     "execution_count": 73,
     "metadata": {},
     "output_type": "execute_result"
    },
    {
     "data": {
      "image/png": "[encoded data removed]",
      "text/plain": [
       "<Figure size 432x288 with 1 Axes>"
      ]
     },
     "metadata": {
      "needs_background": "light"
     },
     "output_type": "display_data"
    }
   ],
   "source": [
    "plt.plot(losses)"
   ]
  },
  {
   "cell_type": "markdown",
   "metadata": {},
   "source": [
    "# Training Image --> W, S"
   ]
  },
  {
   "cell_type": "code",
   "execution_count": 74,
   "metadata": {},
   "outputs": [
    {
     "data": {
      "application/vnd.jupyter.widget-view+json": {
       "model_id": "ccf53f098e6f4af5898c08b77d1c26ca",
       "version_major": 2,
       "version_minor": 0
      },
      "text/plain": [
       "HBox(children=(FloatProgress(value=0.0, max=25.0), HTML(value='')))"
      ]
     },
     "metadata": {},
     "output_type": "display_data"
    },
    {
     "name": "stdout",
     "output_type": "stream",
     "text": [
      "\n"
     ]
    }
   ],
   "source": [
    "def train_image_to_ws(model, n_augs):\n",
    "    ws_model = ImageWS(model,n_augs, 0, 1)\n",
    "    ws_model.cuda('cuda:0')\n",
    "    criterion = torch.nn.CrossEntropyLoss()\n",
    "    criterion.cuda('cuda:0')\n",
    "    optimizer = torch.optim.SGD(ws_model.parameters(), lr=.01, momentum=.9, weight_decay=1e-4)\n",
    "\n",
    "\n",
    "    losses = []\n",
    "    acc1s = []\n",
    "    acc5s = []\n",
    "    epochs = 25\n",
    "    for epoch in tqdm(range(epochs)):\n",
    "        for examples, target in data_loader:\n",
    "            examples = examples.cuda('cuda:0', non_blocking=True)\n",
    "            target = target.cuda('cuda:0', non_blocking=True)\n",
    "            output = ws_model(examples)\n",
    "            loss = criterion(output, target)\n",
    "            acc1, acc5 = accuracy(output, target, topk=(1, 5))\n",
    "\n",
    "            optimizer.zero_grad()\n",
    "            loss.backward()\n",
    "            optimizer.step()\n",
    "            losses.append(loss.item())\n",
    "            acc1s.append(acc1.item())\n",
    "            acc5s.append(acc5.item())\n",
    "    return ws_model, losses, acc1s, acc5s"
   ]
  },
  {
   "cell_type": "code",
   "execution_count": 75,
   "metadata": {},
   "outputs": [
    {
     "name": "stdout",
     "output_type": "stream",
     "text": [
      "91.28595123291015 99.44275512695313\n"
     ]
    }
   ],
   "source": [
    "ws_model.eval()\n",
    "ws_model.cuda('cuda:0')\n",
    "test_acc1s = []\n",
    "test_acc5s = []\n",
    "for examples, target in test_data_loader:\n",
    "    examples = examples.cuda('cuda:0', non_blocking=True)\n",
    "    target = target.cuda('cuda:0', non_blocking=True)    \n",
    "    output = ws_model(examples)\n",
    "    acc1, acc5 = accuracy(output, target, topk=(1, 5))\n",
    "    test_acc1s.append(acc1.item())\n",
    "    test_acc5s.append(acc5.item())\n",
    "print(np.mean(test_acc1s), np.mean(test_acc5s))"
   ]
  },
  {
   "cell_type": "code",
   "execution_count": 76,
   "metadata": {},
   "outputs": [
    {
     "data": {
      "text/plain": [
       "(tensor([[0.0020],\n",
       "         [0.0075],\n",
       "         [0.0047],\n",
       "         [0.0202],\n",
       "         [0.0029],\n",
       "         [0.0165],\n",
       "         [0.0037],\n",
       "         [0.0022],\n",
       "         [0.0056],\n",
       "         [0.0032],\n",
       "         [0.0198],\n",
       "         [0.0051],\n",
       "         [0.0158],\n",
       "         [0.0055],\n",
       "         [0.0078],\n",
       "         [0.0247],\n",
       "         [0.0125],\n",
       "         [0.0028],\n",
       "         [0.0362],\n",
       "         [0.0044],\n",
       "         [0.0088],\n",
       "         [0.0128],\n",
       "         [0.0139],\n",
       "         [0.0105],\n",
       "         [0.0154],\n",
       "         [0.0147],\n",
       "         [0.0059],\n",
       "         [0.0027],\n",
       "         [0.0019],\n",
       "         [0.0078],\n",
       "         [0.0077],\n",
       "         [0.0053],\n",
       "         [0.0125],\n",
       "         [0.0040],\n",
       "         [0.0066],\n",
       "         [0.0281],\n",
       "         [0.0064],\n",
       "         [0.0037],\n",
       "         [0.0096],\n",
       "         [0.0157],\n",
       "         [0.0037],\n",
       "         [0.0032],\n",
       "         [0.0013],\n",
       "         [0.0151],\n",
       "         [0.0120],\n",
       "         [0.0061],\n",
       "         [0.0067],\n",
       "         [0.0087],\n",
       "         [0.0102],\n",
       "         [0.0014],\n",
       "         [0.0117],\n",
       "         [0.0019],\n",
       "         [0.0434],\n",
       "         [0.0264],\n",
       "         [0.0082],\n",
       "         [0.0045],\n",
       "         [0.0061],\n",
       "         [0.0064],\n",
       "         [0.0055],\n",
       "         [0.0028],\n",
       "         [0.0128],\n",
       "         [0.0023],\n",
       "         [0.0281],\n",
       "         [0.0059],\n",
       "         [0.0034],\n",
       "         [0.0487],\n",
       "         [0.0023],\n",
       "         [0.0011],\n",
       "         [0.0133],\n",
       "         [0.0129],\n",
       "         [0.0025],\n",
       "         [0.0117],\n",
       "         [0.0230],\n",
       "         [0.0021],\n",
       "         [0.0178],\n",
       "         [0.0037],\n",
       "         [0.0107],\n",
       "         [0.0157],\n",
       "         [0.0109],\n",
       "         [0.0085],\n",
       "         [0.0102],\n",
       "         [0.0047],\n",
       "         [0.0039],\n",
       "         [0.0068],\n",
       "         [0.0046],\n",
       "         [0.0094],\n",
       "         [0.0037],\n",
       "         [0.0059],\n",
       "         [0.0043],\n",
       "         [0.0111],\n",
       "         [0.0015],\n",
       "         [0.0767],\n",
       "         [0.0438],\n",
       "         [0.0119],\n",
       "         [0.0103],\n",
       "         [0.0042],\n",
       "         [0.0095],\n",
       "         [0.0447],\n",
       "         [0.0026],\n",
       "         [0.0159],\n",
       "         [0.0078],\n",
       "         [0.0231],\n",
       "         [0.0120],\n",
       "         [0.0175],\n",
       "         [0.0026],\n",
       "         [0.0305],\n",
       "         [0.0413],\n",
       "         [0.0078],\n",
       "         [0.0060],\n",
       "         [0.0069],\n",
       "         [0.0127],\n",
       "         [0.0124],\n",
       "         [0.0099],\n",
       "         [0.0087],\n",
       "         [0.0085],\n",
       "         [0.0061],\n",
       "         [0.0044],\n",
       "         [0.0202],\n",
       "         [0.0079],\n",
       "         [0.0259],\n",
       "         [0.0120],\n",
       "         [0.0032],\n",
       "         [0.0206],\n",
       "         [0.0090],\n",
       "         [0.0336],\n",
       "         [0.0059],\n",
       "         [0.0012],\n",
       "         [0.0061],\n",
       "         [0.0037],\n",
       "         [0.0108],\n",
       "         [0.0134],\n",
       "         [0.0171],\n",
       "         [0.0039],\n",
       "         [0.0452],\n",
       "         [0.0192],\n",
       "         [0.0086],\n",
       "         [0.0131],\n",
       "         [0.0052],\n",
       "         [0.0063],\n",
       "         [0.0102],\n",
       "         [0.0075],\n",
       "         [0.0436],\n",
       "         [0.0065],\n",
       "         [0.0046],\n",
       "         [0.0034],\n",
       "         [0.0039],\n",
       "         [0.0284],\n",
       "         [0.0110],\n",
       "         [0.0091],\n",
       "         [0.0027],\n",
       "         [0.0140],\n",
       "         [0.0013],\n",
       "         [0.0160],\n",
       "         [0.0072],\n",
       "         [0.0239],\n",
       "         [0.0193],\n",
       "         [0.0457],\n",
       "         [0.0164],\n",
       "         [0.0173],\n",
       "         [0.0063],\n",
       "         [0.0052],\n",
       "         [0.0480],\n",
       "         [0.0006],\n",
       "         [0.0070],\n",
       "         [0.0028],\n",
       "         [0.0019],\n",
       "         [0.0057],\n",
       "         [0.0055],\n",
       "         [0.0096],\n",
       "         [0.0115],\n",
       "         [0.0040],\n",
       "         [0.0298],\n",
       "         [0.0114],\n",
       "         [0.0040],\n",
       "         [0.0608],\n",
       "         [0.0070],\n",
       "         [0.0107],\n",
       "         [0.0044],\n",
       "         [0.0050],\n",
       "         [0.0324],\n",
       "         [0.0134],\n",
       "         [0.0316],\n",
       "         [0.0228],\n",
       "         [0.0062],\n",
       "         [0.0023],\n",
       "         [0.0100],\n",
       "         [0.0221],\n",
       "         [0.0039],\n",
       "         [0.0089],\n",
       "         [0.0029],\n",
       "         [0.0048],\n",
       "         [0.0227],\n",
       "         [0.0428],\n",
       "         [0.0096],\n",
       "         [0.0047],\n",
       "         [0.0231],\n",
       "         [0.0397],\n",
       "         [0.0125],\n",
       "         [0.0140],\n",
       "         [0.0424],\n",
       "         [0.0129],\n",
       "         [0.0058],\n",
       "         [0.0129],\n",
       "         [0.0216],\n",
       "         [0.0022],\n",
       "         [0.0079],\n",
       "         [0.0151],\n",
       "         [0.0166],\n",
       "         [0.0037],\n",
       "         [0.0062],\n",
       "         [0.0160],\n",
       "         [0.0141],\n",
       "         [0.0100],\n",
       "         [0.0151],\n",
       "         [0.0156],\n",
       "         [0.0110],\n",
       "         [0.0107],\n",
       "         [0.0586],\n",
       "         [0.0353],\n",
       "         [0.0141],\n",
       "         [0.0140],\n",
       "         [0.0011],\n",
       "         [0.0185],\n",
       "         [0.0035],\n",
       "         [0.0071],\n",
       "         [0.0093],\n",
       "         [0.0042],\n",
       "         [0.0144],\n",
       "         [0.0047],\n",
       "         [0.0050],\n",
       "         [0.0102],\n",
       "         [0.0062],\n",
       "         [0.0027],\n",
       "         [0.0062],\n",
       "         [0.0103],\n",
       "         [0.0082],\n",
       "         [0.0175],\n",
       "         [0.0148],\n",
       "         [0.0077],\n",
       "         [0.0011],\n",
       "         [0.0047],\n",
       "         [0.0062],\n",
       "         [0.0059],\n",
       "         [0.0082],\n",
       "         [0.0355],\n",
       "         [0.0167],\n",
       "         [0.0039],\n",
       "         [0.0028],\n",
       "         [0.0024],\n",
       "         [0.0139],\n",
       "         [0.0055],\n",
       "         [0.0064],\n",
       "         [0.0015],\n",
       "         [0.0120],\n",
       "         [0.0594],\n",
       "         [0.0127],\n",
       "         [0.0124],\n",
       "         [0.0043],\n",
       "         [0.0150],\n",
       "         [0.0029],\n",
       "         [0.0414],\n",
       "         [0.0374],\n",
       "         [0.0043],\n",
       "         [0.0055],\n",
       "         [0.0068],\n",
       "         [0.0132],\n",
       "         [0.0373],\n",
       "         [0.0215],\n",
       "         [0.0111],\n",
       "         [0.0030],\n",
       "         [0.0034],\n",
       "         [0.0048],\n",
       "         [0.0183],\n",
       "         [0.0143],\n",
       "         [0.0026],\n",
       "         [0.0048],\n",
       "         [0.0107],\n",
       "         [0.0024],\n",
       "         [0.0081],\n",
       "         [0.0033],\n",
       "         [0.0232],\n",
       "         [0.0090],\n",
       "         [0.0082],\n",
       "         [0.0319],\n",
       "         [0.0057],\n",
       "         [0.0071],\n",
       "         [0.0056],\n",
       "         [0.0484],\n",
       "         [0.0215],\n",
       "         [0.0452],\n",
       "         [0.0071],\n",
       "         [0.0280],\n",
       "         [0.0267],\n",
       "         [0.0298],\n",
       "         [0.0189],\n",
       "         [0.0315],\n",
       "         [0.0109],\n",
       "         [0.0088],\n",
       "         [0.0064],\n",
       "         [0.0273],\n",
       "         [0.0065],\n",
       "         [0.0011],\n",
       "         [0.0028],\n",
       "         [0.0049],\n",
       "         [0.0056],\n",
       "         [0.0089],\n",
       "         [0.0032],\n",
       "         [0.0034],\n",
       "         [0.0193],\n",
       "         [0.0176],\n",
       "         [0.0066],\n",
       "         [0.0070],\n",
       "         [0.0116],\n",
       "         [0.0208],\n",
       "         [0.0048],\n",
       "         [0.0184],\n",
       "         [0.0088],\n",
       "         [0.0255],\n",
       "         [0.0028],\n",
       "         [0.0173],\n",
       "         [0.0043],\n",
       "         [0.0126],\n",
       "         [0.0027],\n",
       "         [0.0083],\n",
       "         [0.0014],\n",
       "         [0.0104],\n",
       "         [0.0216],\n",
       "         [0.0479],\n",
       "         [0.0083],\n",
       "         [0.0504],\n",
       "         [0.0171],\n",
       "         [0.0359],\n",
       "         [0.0254],\n",
       "         [0.0095],\n",
       "         [0.0085],\n",
       "         [0.0047],\n",
       "         [0.0072],\n",
       "         [0.0093],\n",
       "         [0.0072],\n",
       "         [0.0070],\n",
       "         [0.0031],\n",
       "         [0.0045],\n",
       "         [0.0078],\n",
       "         [0.0265],\n",
       "         [0.0073],\n",
       "         [0.0163],\n",
       "         [0.0135],\n",
       "         [0.0114],\n",
       "         [0.0054],\n",
       "         [0.0053],\n",
       "         [0.0155],\n",
       "         [0.0139],\n",
       "         [0.0024],\n",
       "         [0.0087],\n",
       "         [0.0431],\n",
       "         [0.0273],\n",
       "         [0.0119],\n",
       "         [0.0057],\n",
       "         [0.0118],\n",
       "         [0.0058],\n",
       "         [0.0108],\n",
       "         [0.0017],\n",
       "         [0.0213],\n",
       "         [0.0019],\n",
       "         [0.0154],\n",
       "         [0.0019],\n",
       "         [0.0155],\n",
       "         [0.0073],\n",
       "         [0.0019],\n",
       "         [0.0226],\n",
       "         [0.0037],\n",
       "         [0.0062],\n",
       "         [0.0022],\n",
       "         [0.0076],\n",
       "         [0.0021],\n",
       "         [0.0100],\n",
       "         [0.0098],\n",
       "         [0.0021],\n",
       "         [0.0042],\n",
       "         [0.0242],\n",
       "         [0.0043],\n",
       "         [0.0134],\n",
       "         [0.0089],\n",
       "         [0.0408],\n",
       "         [0.0027],\n",
       "         [0.0058],\n",
       "         [0.0053],\n",
       "         [0.0118],\n",
       "         [0.0089],\n",
       "         [0.0230],\n",
       "         [0.0243],\n",
       "         [0.0011],\n",
       "         [0.0028],\n",
       "         [0.0106],\n",
       "         [0.0195],\n",
       "         [0.0031],\n",
       "         [0.0051],\n",
       "         [0.0081],\n",
       "         [0.0014],\n",
       "         [0.0122],\n",
       "         [0.0022],\n",
       "         [0.0100],\n",
       "         [0.0311],\n",
       "         [0.0187],\n",
       "         [0.0046],\n",
       "         [0.0081],\n",
       "         [0.0148],\n",
       "         [0.0121],\n",
       "         [0.0071],\n",
       "         [0.0045],\n",
       "         [0.0041],\n",
       "         [0.0052],\n",
       "         [0.0021],\n",
       "         [0.0026],\n",
       "         [0.0270],\n",
       "         [0.0058],\n",
       "         [0.0150],\n",
       "         [0.0058],\n",
       "         [0.0040],\n",
       "         [0.0040],\n",
       "         [0.0154],\n",
       "         [0.0061],\n",
       "         [0.0046],\n",
       "         [0.0043],\n",
       "         [0.0287],\n",
       "         [0.0023],\n",
       "         [0.0021],\n",
       "         [0.0107],\n",
       "         [0.0041],\n",
       "         [0.0117],\n",
       "         [0.0019],\n",
       "         [0.0202],\n",
       "         [0.0050],\n",
       "         [0.0117],\n",
       "         [0.0198],\n",
       "         [0.0041],\n",
       "         [0.0098],\n",
       "         [0.0193],\n",
       "         [0.0066],\n",
       "         [0.0083],\n",
       "         [0.0193],\n",
       "         [0.0038],\n",
       "         [0.0047],\n",
       "         [0.0070],\n",
       "         [0.0091],\n",
       "         [0.0153],\n",
       "         [0.0077],\n",
       "         [0.0074],\n",
       "         [0.0113],\n",
       "         [0.0133],\n",
       "         [0.0311],\n",
       "         [0.0013],\n",
       "         [0.0707],\n",
       "         [0.0182],\n",
       "         [0.0060],\n",
       "         [0.0073],\n",
       "         [0.0266],\n",
       "         [0.0105],\n",
       "         [0.0172],\n",
       "         [0.0143],\n",
       "         [0.0048],\n",
       "         [0.0452],\n",
       "         [0.0163],\n",
       "         [0.0225],\n",
       "         [0.0060],\n",
       "         [0.0055],\n",
       "         [0.0047],\n",
       "         [0.0060],\n",
       "         [0.0059],\n",
       "         [0.0033],\n",
       "         [0.0452],\n",
       "         [0.0219],\n",
       "         [0.0074],\n",
       "         [0.0074],\n",
       "         [0.0182],\n",
       "         [0.0140],\n",
       "         [0.0166],\n",
       "         [0.0111],\n",
       "         [0.0178],\n",
       "         [0.0029],\n",
       "         [0.0548],\n",
       "         [0.0175],\n",
       "         [0.0102],\n",
       "         [0.0181],\n",
       "         [0.0156],\n",
       "         [0.0082],\n",
       "         [0.0170],\n",
       "         [0.0077],\n",
       "         [0.0117],\n",
       "         [0.0091],\n",
       "         [0.0032],\n",
       "         [0.0399],\n",
       "         [0.0049],\n",
       "         [0.0034],\n",
       "         [0.0097],\n",
       "         [0.0064],\n",
       "         [0.0228],\n",
       "         [0.0075],\n",
       "         [0.0108],\n",
       "         [0.0081],\n",
       "         [0.0058],\n",
       "         [0.0054],\n",
       "         [0.0548],\n",
       "         [0.0050],\n",
       "         [0.0125],\n",
       "         [0.0184],\n",
       "         [0.0087],\n",
       "         [0.0082],\n",
       "         [0.0139],\n",
       "         [0.0118],\n",
       "         [0.0086],\n",
       "         [0.0034],\n",
       "         [0.0014],\n",
       "         [0.0047],\n",
       "         [0.0072],\n",
       "         [0.0035],\n",
       "         [0.0231],\n",
       "         [0.0167],\n",
       "         [0.0315],\n",
       "         [0.0015],\n",
       "         [0.0153],\n",
       "         [0.0184],\n",
       "         [0.0150],\n",
       "         [0.0026],\n",
       "         [0.0059],\n",
       "         [0.0376],\n",
       "         [0.0079],\n",
       "         [0.0093],\n",
       "         [0.0067],\n",
       "         [0.0186],\n",
       "         [0.0029],\n",
       "         [0.0096],\n",
       "         [0.0117],\n",
       "         [0.0427],\n",
       "         [0.0093],\n",
       "         [0.0028],\n",
       "         [0.0127],\n",
       "         [0.0070],\n",
       "         [0.0095],\n",
       "         [0.0063],\n",
       "         [0.0128],\n",
       "         [0.0037],\n",
       "         [0.0108],\n",
       "         [0.0190],\n",
       "         [0.0099],\n",
       "         [0.0102],\n",
       "         [0.0136],\n",
       "         [0.0340],\n",
       "         [0.0032],\n",
       "         [0.0060],\n",
       "         [0.0115],\n",
       "         [0.0037],\n",
       "         [0.0084],\n",
       "         [0.0071],\n",
       "         [0.0151],\n",
       "         [0.0078],\n",
       "         [0.0158],\n",
       "         [0.0081],\n",
       "         [0.0041],\n",
       "         [0.0124],\n",
       "         [0.0085],\n",
       "         [0.0033],\n",
       "         [0.0115],\n",
       "         [0.0057],\n",
       "         [0.0038],\n",
       "         [0.0045],\n",
       "         [0.0416],\n",
       "         [0.0363],\n",
       "         [0.0484],\n",
       "         [0.0022],\n",
       "         [0.0140],\n",
       "         [0.0100],\n",
       "         [0.0176],\n",
       "         [0.0076],\n",
       "         [0.0021],\n",
       "         [0.0035],\n",
       "         [0.0103],\n",
       "         [0.0079],\n",
       "         [0.0085],\n",
       "         [0.0796],\n",
       "         [0.0242],\n",
       "         [0.0084],\n",
       "         [0.0103],\n",
       "         [0.0184],\n",
       "         [0.0026],\n",
       "         [0.0129],\n",
       "         [0.0186],\n",
       "         [0.0155],\n",
       "         [0.0077],\n",
       "         [0.0073],\n",
       "         [0.0037],\n",
       "         [0.0343],\n",
       "         [0.0026],\n",
       "         [0.0018],\n",
       "         [0.0120],\n",
       "         [0.0165],\n",
       "         [0.0065],\n",
       "         [0.0046],\n",
       "         [0.0121],\n",
       "         [0.0244],\n",
       "         [0.0113],\n",
       "         [0.0404],\n",
       "         [0.0144],\n",
       "         [0.0120],\n",
       "         [0.0069],\n",
       "         [0.0216],\n",
       "         [0.0019],\n",
       "         [0.0054],\n",
       "         [0.0307],\n",
       "         [0.0050],\n",
       "         [0.0358],\n",
       "         [0.0102],\n",
       "         [0.0109],\n",
       "         [0.0209],\n",
       "         [0.0061],\n",
       "         [0.0348],\n",
       "         [0.0031],\n",
       "         [0.0031],\n",
       "         [0.0108],\n",
       "         [0.0063],\n",
       "         [0.0011],\n",
       "         [0.0050],\n",
       "         [0.0111],\n",
       "         [0.0023],\n",
       "         [0.0007],\n",
       "         [0.0045],\n",
       "         [0.0021],\n",
       "         [0.0026],\n",
       "         [0.0030],\n",
       "         [0.0052],\n",
       "         [0.0095],\n",
       "         [0.0270],\n",
       "         [0.0073],\n",
       "         [0.0139],\n",
       "         [0.0029],\n",
       "         [0.0044],\n",
       "         [0.0065],\n",
       "         [0.0043],\n",
       "         [0.0016],\n",
       "         [0.0078],\n",
       "         [0.0247],\n",
       "         [0.0022],\n",
       "         [0.0131],\n",
       "         [0.0022],\n",
       "         [0.0064],\n",
       "         [0.0056],\n",
       "         [0.0238],\n",
       "         [0.0145],\n",
       "         [0.0083],\n",
       "         [0.0085],\n",
       "         [0.0092],\n",
       "         [0.0520],\n",
       "         [0.0250],\n",
       "         [0.0073],\n",
       "         [0.0199],\n",
       "         [0.0063],\n",
       "         [0.0695],\n",
       "         [0.0032],\n",
       "         [0.0051],\n",
       "         [0.0079],\n",
       "         [0.0069],\n",
       "         [0.0122],\n",
       "         [0.0062],\n",
       "         [0.0049],\n",
       "         [0.0097],\n",
       "         [0.0172],\n",
       "         [0.0108],\n",
       "         [0.0051],\n",
       "         [0.0091],\n",
       "         [0.0039],\n",
       "         [0.0127],\n",
       "         [0.0148],\n",
       "         [0.0313],\n",
       "         [0.0493],\n",
       "         [0.0111],\n",
       "         [0.0031],\n",
       "         [0.0246],\n",
       "         [0.0073],\n",
       "         [0.0156],\n",
       "         [0.0034],\n",
       "         [0.0084],\n",
       "         [0.0060],\n",
       "         [0.0105],\n",
       "         [0.0150],\n",
       "         [0.0079],\n",
       "         [0.0087],\n",
       "         [0.0098],\n",
       "         [0.0319],\n",
       "         [0.0127],\n",
       "         [0.0017],\n",
       "         [0.0056],\n",
       "         [0.0138],\n",
       "         [0.0481],\n",
       "         [0.0245],\n",
       "         [0.0201],\n",
       "         [0.0051],\n",
       "         [0.0047],\n",
       "         [0.0020],\n",
       "         [0.0134],\n",
       "         [0.0034],\n",
       "         [0.0114],\n",
       "         [0.0015],\n",
       "         [0.0077],\n",
       "         [0.0037],\n",
       "         [0.0082],\n",
       "         [0.0157],\n",
       "         [0.0066],\n",
       "         [0.0149],\n",
       "         [0.0008],\n",
       "         [0.0036],\n",
       "         [0.0080],\n",
       "         [0.0049],\n",
       "         [0.0089],\n",
       "         [0.0159],\n",
       "         [0.0102],\n",
       "         [0.0115],\n",
       "         [0.0100],\n",
       "         [0.0109],\n",
       "         [0.0150],\n",
       "         [0.0109],\n",
       "         [0.0045],\n",
       "         [0.0222],\n",
       "         [0.0188],\n",
       "         [0.0051],\n",
       "         [0.0236],\n",
       "         [0.0109],\n",
       "         [0.0153],\n",
       "         [0.0044],\n",
       "         [0.0067],\n",
       "         [0.0032],\n",
       "         [0.0141],\n",
       "         [0.0252],\n",
       "         [0.0025],\n",
       "         [0.0028],\n",
       "         [0.0269],\n",
       "         [0.0016],\n",
       "         [0.0115],\n",
       "         [0.0042],\n",
       "         [0.0031],\n",
       "         [0.0099],\n",
       "         [0.0108],\n",
       "         [0.0030],\n",
       "         [0.0400],\n",
       "         [0.0556],\n",
       "         [0.0166],\n",
       "         [0.0045],\n",
       "         [0.0188],\n",
       "         [0.0074],\n",
       "         [0.0087],\n",
       "         [0.0057],\n",
       "         [0.0029],\n",
       "         [0.0088],\n",
       "         [0.0074],\n",
       "         [0.0014],\n",
       "         [0.0079],\n",
       "         [0.0154],\n",
       "         [0.0394],\n",
       "         [0.0078],\n",
       "         [0.0082],\n",
       "         [0.0083],\n",
       "         [0.0179],\n",
       "         [0.0028],\n",
       "         [0.0099],\n",
       "         [0.0128],\n",
       "         [0.0039],\n",
       "         [0.0069],\n",
       "         [0.0007],\n",
       "         [0.0035],\n",
       "         [0.0025],\n",
       "         [0.0163],\n",
       "         [0.0014],\n",
       "         [0.0041],\n",
       "         [0.0174],\n",
       "         [0.0031],\n",
       "         [0.0018],\n",
       "         [0.0135],\n",
       "         [0.0045],\n",
       "         [0.0042],\n",
       "         [0.0013],\n",
       "         [0.0058],\n",
       "         [0.0144],\n",
       "         [0.0221],\n",
       "         [0.0144],\n",
       "         [0.0104],\n",
       "         [0.0011],\n",
       "         [0.0008],\n",
       "         [0.0106],\n",
       "         [0.0105],\n",
       "         [0.0106],\n",
       "         [0.0068],\n",
       "         [0.0239],\n",
       "         [0.0015],\n",
       "         [0.0153],\n",
       "         [0.0023],\n",
       "         [0.0058],\n",
       "         [0.0123],\n",
       "         [0.0078],\n",
       "         [0.0106],\n",
       "         [0.0296],\n",
       "         [0.0075],\n",
       "         [0.0131],\n",
       "         [0.0090],\n",
       "         [0.0461],\n",
       "         [0.0045],\n",
       "         [0.0121],\n",
       "         [0.0240],\n",
       "         [0.0034],\n",
       "         [0.0071],\n",
       "         [0.0064],\n",
       "         [0.0043],\n",
       "         [0.0010],\n",
       "         [0.0128],\n",
       "         [0.0051],\n",
       "         [0.0069],\n",
       "         [0.0012],\n",
       "         [0.0174],\n",
       "         [0.0172],\n",
       "         [0.0061],\n",
       "         [0.0173],\n",
       "         [0.0077],\n",
       "         [0.0097],\n",
       "         [0.0075],\n",
       "         [0.0033],\n",
       "         [0.0028],\n",
       "         [0.0047],\n",
       "         [0.0035],\n",
       "         [0.0027],\n",
       "         [0.0094],\n",
       "         [0.0089],\n",
       "         [0.0129],\n",
       "         [0.0133],\n",
       "         [0.0068],\n",
       "         [0.0078],\n",
       "         [0.0106],\n",
       "         [0.0086],\n",
       "         [0.0186],\n",
       "         [0.0194],\n",
       "         [0.0123],\n",
       "         [0.0091],\n",
       "         [0.0034],\n",
       "         [0.0489],\n",
       "         [0.0620],\n",
       "         [0.0258],\n",
       "         [0.0241],\n",
       "         [0.0044],\n",
       "         [0.0146],\n",
       "         [0.0154],\n",
       "         [0.0032],\n",
       "         [0.0071],\n",
       "         [0.0183],\n",
       "         [0.0063],\n",
       "         [0.0047],\n",
       "         [0.0034],\n",
       "         [0.0042],\n",
       "         [0.0015],\n",
       "         [0.0057],\n",
       "         [0.0034],\n",
       "         [0.0049],\n",
       "         [0.0090],\n",
       "         [0.0284],\n",
       "         [0.0022],\n",
       "         [0.0144],\n",
       "         [0.0106],\n",
       "         [0.0060],\n",
       "         [0.0104],\n",
       "         [0.0035],\n",
       "         [0.0362],\n",
       "         [0.0049],\n",
       "         [0.0054],\n",
       "         [0.0173],\n",
       "         [0.0195],\n",
       "         [0.0032],\n",
       "         [0.0068],\n",
       "         [0.0085],\n",
       "         [0.0079],\n",
       "         [0.0087],\n",
       "         [0.0110],\n",
       "         [0.0230],\n",
       "         [0.0028],\n",
       "         [0.0075],\n",
       "         [0.0142],\n",
       "         [0.0021],\n",
       "         [0.0066],\n",
       "         [0.0148],\n",
       "         [0.0085],\n",
       "         [0.0015],\n",
       "         [0.0137],\n",
       "         [0.0044],\n",
       "         [0.0028],\n",
       "         [0.0095],\n",
       "         [0.0054],\n",
       "         [0.0043],\n",
       "         [0.0070],\n",
       "         [0.0115],\n",
       "         [0.0136],\n",
       "         [0.0039],\n",
       "         [0.0033],\n",
       "         [0.0145],\n",
       "         [0.0135],\n",
       "         [0.0020],\n",
       "         [0.0357],\n",
       "         [0.0108],\n",
       "         [0.0078],\n",
       "         [0.0103]], device='cuda:0', grad_fn=<SigmoidBackward>),\n",
       " tensor([[0.9734, 0.0266],\n",
       "         [0.9385, 0.0615],\n",
       "         [0.9531, 0.0469],\n",
       "         ...,\n",
       "         [0.9294, 0.0706],\n",
       "         [0.9396, 0.0604],\n",
       "         [0.9365, 0.0635]], device='cuda:0', grad_fn=<SoftmaxBackward>))"
      ]
     },
     "execution_count": 76,
     "metadata": {},
     "output_type": "execute_result"
    }
   ],
   "source": [
    "ws_model.get_sw(examples)"
   ]
  },
  {
   "cell_type": "code",
   "execution_count": 77,
   "metadata": {},
   "outputs": [
    {
     "data": {
      "text/plain": [
       "[<matplotlib.lines.Line2D at 0x7f14e41458d0>]"
      ]
     },
     "execution_count": 77,
     "metadata": {},
     "output_type": "execute_result"
    },
    {
     "data": {
      "image/png": "[encoded data removed]",
      "text/plain": [
       "<Figure size 432x288 with 1 Axes>"
      ]
     },
     "metadata": {
      "needs_background": "light"
     },
     "output_type": "display_data"
    }
   ],
   "source": [
    "plt.plot(losses)"
   ]
  },
  {
   "cell_type": "code",
   "execution_count": null,
   "metadata": {},
   "outputs": [],
   "source": []
  }
 ],
 "metadata": {
  "kernelspec": {
   "display_name": "Python 3",
   "language": "python",
   "name": "python3"
  },
  "language_info": {
   "codemirror_mode": {
    "name": "ipython",
    "version": 3
   },
   "file_extension": ".py",
   "mimetype": "text/x-python",
   "name": "python",
   "nbconvert_exporter": "python",
   "pygments_lexer": "ipython3",
   "version": "3.7.9"
  }
 },
 "nbformat": 4,
 "nbformat_minor": 4
}
