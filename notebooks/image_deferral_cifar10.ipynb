{
 "cells": [
  {
   "cell_type": "code",
   "execution_count": 5,
   "metadata": {},
   "outputs": [
    {
     "name": "stderr",
     "output_type": "stream",
     "text": [
      "Building and initializing cifar10 parameters\n"
     ]
    },
    {
     "name": "stdout",
     "output_type": "stream",
     "text": [
      "The autoreload extension is already loaded. To reload it, use:\n",
      "  %reload_ext autoreload\n",
      "Using GPU:1\n"
     ]
    },
    {
     "name": "stderr",
     "output_type": "stream",
     "text": [
      "Sequential(\n",
      "  (0): Conv2d(3, 128, kernel_size=(3, 3), stride=(1, 1), padding=(1, 1))\n",
      "  (1): BatchNorm2d(128, eps=1e-05, momentum=0.1, affine=False, track_running_stats=True)\n",
      "  (2): ReLU()\n",
      "  (3): Conv2d(128, 128, kernel_size=(3, 3), stride=(1, 1), padding=(1, 1))\n",
      "  (4): BatchNorm2d(128, eps=1e-05, momentum=0.1, affine=False, track_running_stats=True)\n",
      "  (5): ReLU()\n",
      "  (6): MaxPool2d(kernel_size=2, stride=2, padding=0, dilation=1, ceil_mode=False)\n",
      "  (7): Conv2d(128, 256, kernel_size=(3, 3), stride=(1, 1), padding=(1, 1))\n",
      "  (8): BatchNorm2d(256, eps=1e-05, momentum=0.1, affine=False, track_running_stats=True)\n",
      "  (9): ReLU()\n",
      "  (10): Conv2d(256, 256, kernel_size=(3, 3), stride=(1, 1), padding=(1, 1))\n",
      "  (11): BatchNorm2d(256, eps=1e-05, momentum=0.1, affine=False, track_running_stats=True)\n",
      "  (12): ReLU()\n",
      "  (13): MaxPool2d(kernel_size=2, stride=2, padding=0, dilation=1, ceil_mode=False)\n",
      "  (14): Conv2d(256, 512, kernel_size=(3, 3), stride=(1, 1), padding=(1, 1))\n",
      "  (15): BatchNorm2d(512, eps=1e-05, momentum=0.1, affine=False, track_running_stats=True)\n",
      "  (16): ReLU()\n",
      "  (17): Conv2d(512, 512, kernel_size=(3, 3), stride=(1, 1), padding=(1, 1))\n",
      "  (18): BatchNorm2d(512, eps=1e-05, momentum=0.1, affine=False, track_running_stats=True)\n",
      "  (19): ReLU()\n",
      "  (20): MaxPool2d(kernel_size=2, stride=2, padding=0, dilation=1, ceil_mode=False)\n",
      "  (21): Conv2d(512, 1024, kernel_size=(3, 3), stride=(1, 1))\n",
      "  (22): BatchNorm2d(1024, eps=1e-05, momentum=0.1, affine=False, track_running_stats=True)\n",
      "  (23): ReLU()\n",
      "  (24): MaxPool2d(kernel_size=2, stride=2, padding=0, dilation=1, ceil_mode=False)\n",
      ")\n",
      "Sequential(\n",
      "  (0): Linear(in_features=1024, out_features=10, bias=True)\n",
      ")\n",
      "Downloading: \"http://ml.cs.tsinghua.edu.cn/~chenxi/pytorch-models/cifar10-d875770b.pth\" to /local/divyas/.cache/torch/hub/checkpoints/cifar10-d875770b.pth\n"
     ]
    },
    {
     "data": {
      "application/vnd.jupyter.widget-view+json": {
       "model_id": "b369fb222ba74bf29db3b24835ff877e",
       "version_major": 2,
       "version_minor": 0
      },
      "text/plain": [
       "HBox(children=(FloatProgress(value=0.0, max=37251269.0), HTML(value='')))"
      ]
     },
     "metadata": {},
     "output_type": "display_data"
    },
    {
     "name": "stdout",
     "output_type": "stream",
     "text": [
      "\n"
     ]
    }
   ],
   "source": [
    "%load_ext autoreload\n",
    "%autoreload 2\n",
    "import sys\n",
    "import numpy as np\n",
    "import matplotlib.pyplot as plt\n",
    "sys.path.insert(0, '../')\n",
    "\n",
    "import torch\n",
    "from torchvision import datasets, transforms\n",
    "from torch.utils.data.sampler import SubsetRandomSampler\n",
    "\n",
    "from mnist_train import Net\n",
    "from utils.gpu_utils import restrict_GPU_pytorch\n",
    "from utils.imagenet_utils import accuracy\n",
    "from utils.dataloading_utils import MyIter, MyLoader\n",
    "from new_tta_models import ImageDeferral, AugWeights, StandardTTA, Original, ClassWeights\n",
    "from utee import selector\n",
    "restrict_GPU_pytorch('1')\n",
    "\n",
    "def get_cifar10_model():\n",
    "    model_raw, _, _= selector.select('cifar10')\n",
    "    return model_raw\n",
    "model = get_cifar10_model()"
   ]
  },
  {
   "cell_type": "code",
   "execution_count": 90,
   "metadata": {},
   "outputs": [
    {
     "name": "stdout",
     "output_type": "stream",
     "text": [
      "Files already downloaded and verified\n",
      "Files already downloaded and verified\n",
      "Files already downloaded and verified\n"
     ]
    }
   ],
   "source": [
    "dataset = datasets.CIFAR10('../datasets', train=False, download=True, transform=transforms.Compose([\n",
    "                           transforms.ToTensor(),\n",
    "                           transforms.Normalize((0.1307,), (0.3081,))\n",
    "                       ]))\n",
    "hflip_dataset = datasets.CIFAR10('../datasets', download=True, train=False, transform=transforms.Compose([\n",
    "                           transforms.RandomHorizontalFlip(p=1),\n",
    "                           transforms.ToTensor(),\n",
    "                           transforms.Normalize((0.1307,), (0.3081,)),\n",
    "                       ]))\n",
    "vflip_dataset = datasets.CIFAR10('../datasets', download=True, train=False, transform=transforms.Compose([\n",
    "                           transforms.RandomVerticalFlip(p=1),\n",
    "                           transforms.ToTensor(),\n",
    "                           transforms.Normalize((0.1307,), (0.3081,)),\n",
    "                       ]))\n",
    "\n",
    "n_examples = len(dataset)\n",
    "subset_indices = np.arange(n_examples)\n",
    "np.random.shuffle(subset_indices)\n",
    "val_idxs = subset_indices[:int(len(subset_indices)/2)]\n",
    "test_idxs = subset_indices[int(len(subset_indices)/2):]\n",
    "batch_size = 512\n",
    "n_augs = 3\n",
    "orig_val_loader = torch.utils.data.DataLoader(torch.utils.data.Subset(dataset, val_idxs), \n",
    "        batch_size=batch_size, shuffle=False)\n",
    "hflip_val_loader = torch.utils.data.DataLoader(torch.utils.data.Subset(hflip_dataset, val_idxs),\n",
    "                                                batch_size=batch_size, shuffle=False)\n",
    "vflip_val_loader = torch.utils.data.DataLoader(torch.utils.data.Subset(vflip_dataset, val_idxs),\n",
    "                                                batch_size=batch_size, shuffle=False)\n",
    "data_loader = MyLoader([orig_val_loader, hflip_val_loader, vflip_val_loader])\n",
    "\n",
    "\n",
    "orig_test_loader = torch.utils.data.DataLoader(torch.utils.data.Subset(dataset, test_idxs), \n",
    "        batch_size=batch_size, shuffle=False)\n",
    "hflip_test_loader = torch.utils.data.DataLoader(torch.utils.data.Subset(hflip_dataset, test_idxs),\n",
    "                                                batch_size=batch_size, shuffle=False)\n",
    "vflip_test_loader = torch.utils.data.DataLoader(torch.utils.data.Subset(vflip_dataset, test_idxs),\n",
    "                                                batch_size=batch_size, shuffle=False)\n",
    "test_data_loader = MyLoader([orig_test_loader, hflip_test_loader, vflip_test_loader])"
   ]
  },
  {
   "cell_type": "markdown",
   "metadata": {},
   "source": [
    "## Original model accuracy on CIFAR-10"
   ]
  },
  {
   "cell_type": "code",
   "execution_count": 91,
   "metadata": {},
   "outputs": [
    {
     "name": "stdout",
     "output_type": "stream",
     "text": [
      "87.24449920654297 99.51331329345703\n"
     ]
    }
   ],
   "source": [
    "orig_model = Original(model, 0)\n",
    "orig_model.cuda('cuda:0')\n",
    "orig_model.eval()\n",
    "test_acc1s = []\n",
    "test_acc5s = []\n",
    "for examples, target in test_data_loader:\n",
    "    examples = examples.cuda('cuda:0', non_blocking=True)\n",
    "    target = target.cuda('cuda:0', non_blocking=True)    \n",
    "    output = orig_model(examples)\n",
    "    acc1, acc5 = accuracy(output, target, topk=(1, 5))\n",
    "    test_acc1s.append(acc1.item())\n",
    "    test_acc5s.append(acc5.item())\n",
    "print(np.mean(test_acc1s), np.mean(test_acc5s))"
   ]
  },
  {
   "cell_type": "markdown",
   "metadata": {},
   "source": [
    "## Standard TTA accuracy on CIFAR-10"
   ]
  },
  {
   "cell_type": "code",
   "execution_count": 92,
   "metadata": {},
   "outputs": [
    {
     "name": "stdout",
     "output_type": "stream",
     "text": [
      "82.8125 99.4140625\n"
     ]
    }
   ],
   "source": [
    "stta_model = StandardTTA(model)\n",
    "stta_model.cuda('cuda:0')\n",
    "test_acc1s = []\n",
    "test_acc5s = []\n",
    "for examples, target in test_data_loader:\n",
    "    examples = examples.cuda('cuda:0', non_blocking=True)\n",
    "    target = target.cuda('cuda:0', non_blocking=True)    \n",
    "    output = stta_model(examples)\n",
    "    acc1, acc5 = accuracy(output, target, topk=(1, 5))\n",
    "    test_acc1s.append(acc1.item())\n",
    "    test_acc5s.append(acc5.item())\n",
    "    break\n",
    "print(np.mean(test_acc1s), np.mean(test_acc5s))"
   ]
  },
  {
   "cell_type": "markdown",
   "metadata": {},
   "source": [
    "## Class-Weighted TTA accuracy on CIFAR-10"
   ]
  },
  {
   "cell_type": "code",
   "execution_count": 93,
   "metadata": {},
   "outputs": [],
   "source": [
    "class_model = ClassWeights(model, n_augs, 10)\n",
    "class_model.cuda('cuda:0')\n",
    "criterion = torch.nn.CrossEntropyLoss()\n",
    "criterion.cuda('cuda:0')\n",
    "optimizer = torch.optim.SGD(aug_model.parameters(), lr=.01, momentum=.9, weight_decay=1e-4)\n",
    "\n",
    "losses = []\n",
    "acc1s = []\n",
    "acc5s = []\n",
    "epochs = 20\n",
    "for epoch in range(epochs):\n",
    "    for examples, target in data_loader:\n",
    "        examples = examples.cuda('cuda:0', non_blocking=True)\n",
    "        target = target.cuda('cuda:0', non_blocking=True)\n",
    "        output = class_model(examples)\n",
    "        loss = criterion(output, target)\n",
    "        acc1, acc5 = accuracy(output, target, topk=(1, 5))\n",
    "        \n",
    "        optimizer.zero_grad()\n",
    "        loss.backward()\n",
    "        optimizer.step()\n",
    "        losses.append(loss.item())\n",
    "        acc1s.append(acc1.item())\n",
    "        acc5s.append(acc5.item())"
   ]
  },
  {
   "cell_type": "code",
   "execution_count": 94,
   "metadata": {},
   "outputs": [
    {
     "name": "stdout",
     "output_type": "stream",
     "text": [
      "torch.Size([512, 3, 10])\n",
      "torch.Size([512, 3, 10])\n",
      "torch.Size([512, 3, 10])\n",
      "torch.Size([512, 3, 10])\n",
      "torch.Size([512, 3, 10])\n",
      "torch.Size([512, 3, 10])\n",
      "torch.Size([512, 3, 10])\n",
      "torch.Size([512, 3, 10])\n",
      "torch.Size([512, 3, 10])\n",
      "torch.Size([392, 3, 10])\n",
      "85.3276466369629 99.41565704345703\n"
     ]
    }
   ],
   "source": [
    "class_model.eval()\n",
    "test_acc1s = []\n",
    "test_acc5s = []\n",
    "for examples, target in test_data_loader:\n",
    "    examples = examples.cuda('cuda:0', non_blocking=True)\n",
    "    target = target.cuda('cuda:0', non_blocking=True)    \n",
    "    output = class_model(examples)\n",
    "    acc1, acc5 = accuracy(output, target, topk=(1, 5))\n",
    "    test_acc1s.append(acc1.item())\n",
    "    test_acc5s.append(acc5.item())\n",
    "print(np.mean(test_acc1s), np.mean(test_acc5s))"
   ]
  },
  {
   "cell_type": "code",
   "execution_count": 95,
   "metadata": {},
   "outputs": [
    {
     "data": {
      "text/plain": [
       "[<matplotlib.lines.Line2D at 0x7fd992654b10>]"
      ]
     },
     "execution_count": 95,
     "metadata": {},
     "output_type": "execute_result"
    },
    {
     "data": {
      "image/png": "[encoded data removed]",
      "text/plain": [
       "<Figure size 432x288 with 1 Axes>"
      ]
     },
     "metadata": {
      "needs_background": "light"
     },
     "output_type": "display_data"
    }
   ],
   "source": [
    "plt.plot(losses)"
   ]
  },
  {
   "cell_type": "code",
   "execution_count": 96,
   "metadata": {},
   "outputs": [
    {
     "data": {
      "text/plain": [
       "tensor([[0.3600, 0.3676, 0.4013, 0.3600, 0.3786, 0.3549, 0.3648, 0.3834, 0.3748,\n",
       "         0.3525],\n",
       "        [0.3487, 0.3673, 0.3858, 0.3640, 0.3756, 0.3521, 0.3702, 0.3740, 0.3816,\n",
       "         0.3525],\n",
       "        [0.2913, 0.2651, 0.2129, 0.2760, 0.2458, 0.2931, 0.2650, 0.2426, 0.2436,\n",
       "         0.2950]], device='cuda:0', grad_fn=<SoftmaxBackward>)"
      ]
     },
     "execution_count": 96,
     "metadata": {},
     "output_type": "execute_result"
    }
   ],
   "source": [
    "aug_model.sm(aug_model.w)"
   ]
  },
  {
   "cell_type": "markdown",
   "metadata": {},
   "source": [
    "## Learning augmentation-specific weights"
   ]
  },
  {
   "cell_type": "code",
   "execution_count": 97,
   "metadata": {},
   "outputs": [
    {
     "name": "stdout",
     "output_type": "stream",
     "text": [
      "torch.Size([512, 3, 10])\n",
      "torch.Size([512, 3, 10])\n",
      "torch.Size([512, 3, 10])\n",
      "torch.Size([512, 3, 10])\n",
      "torch.Size([512, 3, 10])\n",
      "torch.Size([512, 3, 10])\n",
      "torch.Size([512, 3, 10])\n",
      "torch.Size([512, 3, 10])\n",
      "torch.Size([512, 3, 10])\n",
      "torch.Size([392, 3, 10])\n",
      "torch.Size([512, 3, 10])\n",
      "torch.Size([512, 3, 10])\n",
      "torch.Size([512, 3, 10])\n",
      "torch.Size([512, 3, 10])\n",
      "torch.Size([512, 3, 10])\n",
      "torch.Size([512, 3, 10])\n",
      "torch.Size([512, 3, 10])\n",
      "torch.Size([512, 3, 10])\n",
      "torch.Size([512, 3, 10])\n",
      "torch.Size([392, 3, 10])\n",
      "torch.Size([512, 3, 10])\n",
      "torch.Size([512, 3, 10])\n",
      "torch.Size([512, 3, 10])\n",
      "torch.Size([512, 3, 10])\n",
      "torch.Size([512, 3, 10])\n",
      "torch.Size([512, 3, 10])\n",
      "torch.Size([512, 3, 10])\n",
      "torch.Size([512, 3, 10])\n",
      "torch.Size([512, 3, 10])\n",
      "torch.Size([392, 3, 10])\n",
      "torch.Size([512, 3, 10])\n",
      "torch.Size([512, 3, 10])\n",
      "torch.Size([512, 3, 10])\n",
      "torch.Size([512, 3, 10])\n",
      "torch.Size([512, 3, 10])\n",
      "torch.Size([512, 3, 10])\n",
      "torch.Size([512, 3, 10])\n",
      "torch.Size([512, 3, 10])\n",
      "torch.Size([512, 3, 10])\n",
      "torch.Size([392, 3, 10])\n",
      "torch.Size([512, 3, 10])\n",
      "torch.Size([512, 3, 10])\n",
      "torch.Size([512, 3, 10])\n",
      "torch.Size([512, 3, 10])\n",
      "torch.Size([512, 3, 10])\n",
      "torch.Size([512, 3, 10])\n",
      "torch.Size([512, 3, 10])\n",
      "torch.Size([512, 3, 10])\n",
      "torch.Size([512, 3, 10])\n",
      "torch.Size([392, 3, 10])\n",
      "torch.Size([512, 3, 10])\n",
      "torch.Size([512, 3, 10])\n",
      "torch.Size([512, 3, 10])\n",
      "torch.Size([512, 3, 10])\n",
      "torch.Size([512, 3, 10])\n",
      "torch.Size([512, 3, 10])\n",
      "torch.Size([512, 3, 10])\n",
      "torch.Size([512, 3, 10])\n",
      "torch.Size([512, 3, 10])\n",
      "torch.Size([392, 3, 10])\n",
      "torch.Size([512, 3, 10])\n",
      "torch.Size([512, 3, 10])\n",
      "torch.Size([512, 3, 10])\n",
      "torch.Size([512, 3, 10])\n",
      "torch.Size([512, 3, 10])\n",
      "torch.Size([512, 3, 10])\n",
      "torch.Size([512, 3, 10])\n",
      "torch.Size([512, 3, 10])\n",
      "torch.Size([512, 3, 10])\n",
      "torch.Size([392, 3, 10])\n",
      "torch.Size([512, 3, 10])\n",
      "torch.Size([512, 3, 10])\n",
      "torch.Size([512, 3, 10])\n",
      "torch.Size([512, 3, 10])\n",
      "torch.Size([512, 3, 10])\n",
      "torch.Size([512, 3, 10])\n",
      "torch.Size([512, 3, 10])\n",
      "torch.Size([512, 3, 10])\n",
      "torch.Size([512, 3, 10])\n",
      "torch.Size([392, 3, 10])\n",
      "torch.Size([512, 3, 10])\n",
      "torch.Size([512, 3, 10])\n",
      "torch.Size([512, 3, 10])\n",
      "torch.Size([512, 3, 10])\n",
      "torch.Size([512, 3, 10])\n",
      "torch.Size([512, 3, 10])\n",
      "torch.Size([512, 3, 10])\n",
      "torch.Size([512, 3, 10])\n",
      "torch.Size([512, 3, 10])\n",
      "torch.Size([392, 3, 10])\n",
      "torch.Size([512, 3, 10])\n",
      "torch.Size([512, 3, 10])\n",
      "torch.Size([512, 3, 10])\n",
      "torch.Size([512, 3, 10])\n",
      "torch.Size([512, 3, 10])\n",
      "torch.Size([512, 3, 10])\n",
      "torch.Size([512, 3, 10])\n",
      "torch.Size([512, 3, 10])\n",
      "torch.Size([512, 3, 10])\n",
      "torch.Size([392, 3, 10])\n",
      "torch.Size([512, 3, 10])\n",
      "torch.Size([512, 3, 10])\n",
      "torch.Size([512, 3, 10])\n",
      "torch.Size([512, 3, 10])\n",
      "torch.Size([512, 3, 10])\n",
      "torch.Size([512, 3, 10])\n",
      "torch.Size([512, 3, 10])\n",
      "torch.Size([512, 3, 10])\n",
      "torch.Size([512, 3, 10])\n",
      "torch.Size([392, 3, 10])\n",
      "torch.Size([512, 3, 10])\n",
      "torch.Size([512, 3, 10])\n",
      "torch.Size([512, 3, 10])\n",
      "torch.Size([512, 3, 10])\n",
      "torch.Size([512, 3, 10])\n",
      "torch.Size([512, 3, 10])\n",
      "torch.Size([512, 3, 10])\n",
      "torch.Size([512, 3, 10])\n",
      "torch.Size([512, 3, 10])\n",
      "torch.Size([392, 3, 10])\n",
      "torch.Size([512, 3, 10])\n",
      "torch.Size([512, 3, 10])\n",
      "torch.Size([512, 3, 10])\n",
      "torch.Size([512, 3, 10])\n",
      "torch.Size([512, 3, 10])\n",
      "torch.Size([512, 3, 10])\n",
      "torch.Size([512, 3, 10])\n",
      "torch.Size([512, 3, 10])\n",
      "torch.Size([512, 3, 10])\n",
      "torch.Size([392, 3, 10])\n",
      "torch.Size([512, 3, 10])\n",
      "torch.Size([512, 3, 10])\n",
      "torch.Size([512, 3, 10])\n",
      "torch.Size([512, 3, 10])\n",
      "torch.Size([512, 3, 10])\n",
      "torch.Size([512, 3, 10])\n",
      "torch.Size([512, 3, 10])\n",
      "torch.Size([512, 3, 10])\n",
      "torch.Size([512, 3, 10])\n",
      "torch.Size([392, 3, 10])\n",
      "torch.Size([512, 3, 10])\n",
      "torch.Size([512, 3, 10])\n",
      "torch.Size([512, 3, 10])\n",
      "torch.Size([512, 3, 10])\n",
      "torch.Size([512, 3, 10])\n",
      "torch.Size([512, 3, 10])\n",
      "torch.Size([512, 3, 10])\n",
      "torch.Size([512, 3, 10])\n",
      "torch.Size([512, 3, 10])\n",
      "torch.Size([392, 3, 10])\n",
      "torch.Size([512, 3, 10])\n",
      "torch.Size([512, 3, 10])\n",
      "torch.Size([512, 3, 10])\n",
      "torch.Size([512, 3, 10])\n",
      "torch.Size([512, 3, 10])\n",
      "torch.Size([512, 3, 10])\n",
      "torch.Size([512, 3, 10])\n",
      "torch.Size([512, 3, 10])\n",
      "torch.Size([512, 3, 10])\n",
      "torch.Size([392, 3, 10])\n",
      "torch.Size([512, 3, 10])\n",
      "torch.Size([512, 3, 10])\n",
      "torch.Size([512, 3, 10])\n",
      "torch.Size([512, 3, 10])\n",
      "torch.Size([512, 3, 10])\n",
      "torch.Size([512, 3, 10])\n",
      "torch.Size([512, 3, 10])\n",
      "torch.Size([512, 3, 10])\n",
      "torch.Size([512, 3, 10])\n",
      "torch.Size([392, 3, 10])\n",
      "torch.Size([512, 3, 10])\n",
      "torch.Size([512, 3, 10])\n",
      "torch.Size([512, 3, 10])\n",
      "torch.Size([512, 3, 10])\n",
      "torch.Size([512, 3, 10])\n",
      "torch.Size([512, 3, 10])\n",
      "torch.Size([512, 3, 10])\n",
      "torch.Size([512, 3, 10])\n",
      "torch.Size([512, 3, 10])\n",
      "torch.Size([392, 3, 10])\n",
      "torch.Size([512, 3, 10])\n",
      "torch.Size([512, 3, 10])\n",
      "torch.Size([512, 3, 10])\n",
      "torch.Size([512, 3, 10])\n",
      "torch.Size([512, 3, 10])\n",
      "torch.Size([512, 3, 10])\n",
      "torch.Size([512, 3, 10])\n",
      "torch.Size([512, 3, 10])\n",
      "torch.Size([512, 3, 10])\n",
      "torch.Size([392, 3, 10])\n",
      "torch.Size([512, 3, 10])\n",
      "torch.Size([512, 3, 10])\n",
      "torch.Size([512, 3, 10])\n",
      "torch.Size([512, 3, 10])\n",
      "torch.Size([512, 3, 10])\n",
      "torch.Size([512, 3, 10])\n",
      "torch.Size([512, 3, 10])\n",
      "torch.Size([512, 3, 10])\n",
      "torch.Size([512, 3, 10])\n",
      "torch.Size([392, 3, 10])\n"
     ]
    }
   ],
   "source": [
    "aug_model = AugWeights(model, n_augs)\n",
    "aug_model.cuda('cuda:0')\n",
    "criterion = torch.nn.CrossEntropyLoss()\n",
    "criterion.cuda('cuda:0')\n",
    "optimizer = torch.optim.SGD(aug_model.parameters(), lr=.01, momentum=.9, weight_decay=1e-4)\n",
    "\n",
    "losses = []\n",
    "acc1s = []\n",
    "acc5s = []\n",
    "epochs = 20\n",
    "for epoch in range(epochs):\n",
    "    for examples, target in data_loader:\n",
    "        examples = examples.cuda('cuda:0', non_blocking=True)\n",
    "        target = target.cuda('cuda:0', non_blocking=True)\n",
    "        output = aug_model(examples)\n",
    "        loss = criterion(output, target)\n",
    "        acc1, acc5 = accuracy(output, target, topk=(1, 5))\n",
    "        \n",
    "        optimizer.zero_grad()\n",
    "        loss.backward()\n",
    "        optimizer.step()\n",
    "        losses.append(loss.item())\n",
    "        acc1s.append(acc1.item())\n",
    "        acc5s.append(acc5.item())"
   ]
  },
  {
   "cell_type": "code",
   "execution_count": 98,
   "metadata": {},
   "outputs": [
    {
     "name": "stdout",
     "output_type": "stream",
     "text": [
      "87.24290466308594 99.51929168701172\n"
     ]
    }
   ],
   "source": [
    "aug_model.eval()\n",
    "test_acc1s = []\n",
    "test_acc5s = []\n",
    "for examples, target in test_data_loader:\n",
    "    examples = examples.cuda('cuda:0', non_blocking=True)\n",
    "    target = target.cuda('cuda:0', non_blocking=True)    \n",
    "    output = aug_model(examples)\n",
    "    acc1, acc5 = accuracy(output, target, topk=(1, 5))\n",
    "    test_acc1s.append(acc1.item())\n",
    "    test_acc5s.append(acc5.item())\n",
    "print(np.mean(test_acc1s), np.mean(test_acc5s))"
   ]
  },
  {
   "cell_type": "code",
   "execution_count": 99,
   "metadata": {},
   "outputs": [
    {
     "data": {
      "text/plain": [
       "tensor([[0.4629],\n",
       "        [0.4322],\n",
       "        [0.1049]], device='cuda:0', grad_fn=<SoftmaxBackward>)"
      ]
     },
     "execution_count": 99,
     "metadata": {},
     "output_type": "execute_result"
    }
   ],
   "source": [
    "aug_model.sm(aug_model.w)"
   ]
  },
  {
   "cell_type": "code",
   "execution_count": 100,
   "metadata": {},
   "outputs": [
    {
     "data": {
      "text/plain": [
       "[<matplotlib.lines.Line2D at 0x7fd9925d9850>]"
      ]
     },
     "execution_count": 100,
     "metadata": {},
     "output_type": "execute_result"
    },
    {
     "data": {
      "image/png": "[encoded data removed]",
      "text/plain": [
       "<Figure size 432x288 with 1 Axes>"
      ]
     },
     "metadata": {
      "needs_background": "light"
     },
     "output_type": "display_data"
    }
   ],
   "source": [
    "plt.plot(losses)"
   ]
  },
  {
   "cell_type": "markdown",
   "metadata": {},
   "source": [
    "# Learning a mixture"
   ]
  },
  {
   "cell_type": "code",
   "execution_count": 101,
   "metadata": {},
   "outputs": [
    {
     "ename": "RuntimeError",
     "evalue": "Given groups=1, weight of size [32, 1, 3, 3], expected input[512, 3, 32, 32] to have 1 channels, but got 3 channels instead",
     "output_type": "error",
     "traceback": [
      "\u001b[0;31m----------------\u001b[0m",
      "\u001b[0;31mRuntimeError\u001b[0mTraceback (most recent call last)",
      "\u001b[0;32m<ipython-input-101-e5957cfc6a24>\u001b[0m in \u001b[0;36m<module>\u001b[0;34m\u001b[0m\n\u001b[1;32m     18\u001b[0m         \u001b[0mexamples\u001b[0m \u001b[0;34m=\u001b[0m \u001b[0mexamples\u001b[0m\u001b[0;34m.\u001b[0m\u001b[0mcuda\u001b[0m\u001b[0;34m(\u001b[0m\u001b[0;34m'cuda:0'\u001b[0m\u001b[0;34m,\u001b[0m \u001b[0mnon_blocking\u001b[0m\u001b[0;34m=\u001b[0m\u001b[0;32mTrue\u001b[0m\u001b[0;34m)\u001b[0m\u001b[0;34m\u001b[0m\u001b[0;34m\u001b[0m\u001b[0m\n\u001b[1;32m     19\u001b[0m         \u001b[0mtarget\u001b[0m \u001b[0;34m=\u001b[0m \u001b[0mtarget\u001b[0m\u001b[0;34m.\u001b[0m\u001b[0mcuda\u001b[0m\u001b[0;34m(\u001b[0m\u001b[0;34m'cuda:0'\u001b[0m\u001b[0;34m,\u001b[0m \u001b[0mnon_blocking\u001b[0m\u001b[0;34m=\u001b[0m\u001b[0;32mTrue\u001b[0m\u001b[0;34m)\u001b[0m\u001b[0;34m\u001b[0m\u001b[0;34m\u001b[0m\u001b[0m\n\u001b[0;32m---> 20\u001b[0;31m         \u001b[0moutput\u001b[0m \u001b[0;34m=\u001b[0m \u001b[0mdef_model\u001b[0m\u001b[0;34m(\u001b[0m\u001b[0mexamples\u001b[0m\u001b[0;34m)\u001b[0m\u001b[0;34m\u001b[0m\u001b[0;34m\u001b[0m\u001b[0m\n\u001b[0m\u001b[1;32m     21\u001b[0m         \u001b[0mloss\u001b[0m \u001b[0;34m=\u001b[0m \u001b[0mcriterion\u001b[0m\u001b[0;34m(\u001b[0m\u001b[0moutput\u001b[0m\u001b[0;34m,\u001b[0m \u001b[0mtarget\u001b[0m\u001b[0;34m)\u001b[0m\u001b[0;34m\u001b[0m\u001b[0;34m\u001b[0m\u001b[0m\n\u001b[1;32m     22\u001b[0m         \u001b[0macc1\u001b[0m\u001b[0;34m,\u001b[0m \u001b[0macc5\u001b[0m \u001b[0;34m=\u001b[0m \u001b[0maccuracy\u001b[0m\u001b[0;34m(\u001b[0m\u001b[0moutput\u001b[0m\u001b[0;34m,\u001b[0m \u001b[0mtarget\u001b[0m\u001b[0;34m,\u001b[0m \u001b[0mtopk\u001b[0m\u001b[0;34m=\u001b[0m\u001b[0;34m(\u001b[0m\u001b[0;36m1\u001b[0m\u001b[0;34m,\u001b[0m \u001b[0;36m5\u001b[0m\u001b[0;34m)\u001b[0m\u001b[0;34m)\u001b[0m\u001b[0;34m\u001b[0m\u001b[0;34m\u001b[0m\u001b[0m\n",
      "\u001b[0;32m~/.conda/envs/testaug/lib/python3.7/site-packages/torch/nn/modules/module.py\u001b[0m in \u001b[0;36m_call_impl\u001b[0;34m(self, *input, **kwargs)\u001b[0m\n\u001b[1;32m    720\u001b[0m             \u001b[0mresult\u001b[0m \u001b[0;34m=\u001b[0m \u001b[0mself\u001b[0m\u001b[0;34m.\u001b[0m\u001b[0m_slow_forward\u001b[0m\u001b[0;34m(\u001b[0m\u001b[0;34m*\u001b[0m\u001b[0minput\u001b[0m\u001b[0;34m,\u001b[0m \u001b[0;34m**\u001b[0m\u001b[0mkwargs\u001b[0m\u001b[0;34m)\u001b[0m\u001b[0;34m\u001b[0m\u001b[0;34m\u001b[0m\u001b[0m\n\u001b[1;32m    721\u001b[0m         \u001b[0;32melse\u001b[0m\u001b[0;34m:\u001b[0m\u001b[0;34m\u001b[0m\u001b[0;34m\u001b[0m\u001b[0m\n\u001b[0;32m--> 722\u001b[0;31m             \u001b[0mresult\u001b[0m \u001b[0;34m=\u001b[0m \u001b[0mself\u001b[0m\u001b[0;34m.\u001b[0m\u001b[0mforward\u001b[0m\u001b[0;34m(\u001b[0m\u001b[0;34m*\u001b[0m\u001b[0minput\u001b[0m\u001b[0;34m,\u001b[0m \u001b[0;34m**\u001b[0m\u001b[0mkwargs\u001b[0m\u001b[0;34m)\u001b[0m\u001b[0;34m\u001b[0m\u001b[0;34m\u001b[0m\u001b[0m\n\u001b[0m\u001b[1;32m    723\u001b[0m         for hook in itertools.chain(\n\u001b[1;32m    724\u001b[0m                 \u001b[0m_global_forward_hooks\u001b[0m\u001b[0;34m.\u001b[0m\u001b[0mvalues\u001b[0m\u001b[0;34m(\u001b[0m\u001b[0;34m)\u001b[0m\u001b[0;34m,\u001b[0m\u001b[0;34m\u001b[0m\u001b[0;34m\u001b[0m\u001b[0m\n",
      "\u001b[0;32m/mnt/hdd/home/divyas/tta_learn_icml/notebooks/new_tta_models.py\u001b[0m in \u001b[0;36mforward\u001b[0;34m(self, x)\u001b[0m\n\u001b[1;32m     29\u001b[0m         \u001b[0maug_preds\u001b[0m \u001b[0;34m=\u001b[0m \u001b[0;34m[\u001b[0m\u001b[0;34m]\u001b[0m\u001b[0;34m\u001b[0m\u001b[0;34m\u001b[0m\u001b[0m\n\u001b[1;32m     30\u001b[0m         \u001b[0;32mfor\u001b[0m \u001b[0mi\u001b[0m \u001b[0;32min\u001b[0m \u001b[0mrange\u001b[0m\u001b[0;34m(\u001b[0m\u001b[0mlen\u001b[0m\u001b[0;34m(\u001b[0m\u001b[0mx\u001b[0m\u001b[0;34m)\u001b[0m\u001b[0;34m)\u001b[0m\u001b[0;34m:\u001b[0m\u001b[0;34m\u001b[0m\u001b[0;34m\u001b[0m\u001b[0m\n\u001b[0;32m---> 31\u001b[0;31m             \u001b[0maug_preds\u001b[0m\u001b[0;34m.\u001b[0m\u001b[0mappend\u001b[0m\u001b[0;34m(\u001b[0m\u001b[0mself\u001b[0m\u001b[0;34m.\u001b[0m\u001b[0mmodel\u001b[0m\u001b[0;34m(\u001b[0m\u001b[0mx\u001b[0m\u001b[0;34m[\u001b[0m\u001b[0mi\u001b[0m\u001b[0;34m]\u001b[0m\u001b[0;34m)\u001b[0m\u001b[0;34m)\u001b[0m\u001b[0;34m\u001b[0m\u001b[0;34m\u001b[0m\u001b[0m\n\u001b[0m\u001b[1;32m     32\u001b[0m \u001b[0;34m\u001b[0m\u001b[0m\n\u001b[1;32m     33\u001b[0m         \u001b[0maug_preds\u001b[0m \u001b[0;34m=\u001b[0m \u001b[0mtorch\u001b[0m\u001b[0;34m.\u001b[0m\u001b[0mstack\u001b[0m\u001b[0;34m(\u001b[0m\u001b[0maug_preds\u001b[0m\u001b[0;34m)\u001b[0m\u001b[0;34m\u001b[0m\u001b[0;34m\u001b[0m\u001b[0m\n",
      "\u001b[0;32m~/.conda/envs/testaug/lib/python3.7/site-packages/torch/nn/modules/module.py\u001b[0m in \u001b[0;36m_call_impl\u001b[0;34m(self, *input, **kwargs)\u001b[0m\n\u001b[1;32m    720\u001b[0m             \u001b[0mresult\u001b[0m \u001b[0;34m=\u001b[0m \u001b[0mself\u001b[0m\u001b[0;34m.\u001b[0m\u001b[0m_slow_forward\u001b[0m\u001b[0;34m(\u001b[0m\u001b[0;34m*\u001b[0m\u001b[0minput\u001b[0m\u001b[0;34m,\u001b[0m \u001b[0;34m**\u001b[0m\u001b[0mkwargs\u001b[0m\u001b[0;34m)\u001b[0m\u001b[0;34m\u001b[0m\u001b[0;34m\u001b[0m\u001b[0m\n\u001b[1;32m    721\u001b[0m         \u001b[0;32melse\u001b[0m\u001b[0;34m:\u001b[0m\u001b[0;34m\u001b[0m\u001b[0;34m\u001b[0m\u001b[0m\n\u001b[0;32m--> 722\u001b[0;31m             \u001b[0mresult\u001b[0m \u001b[0;34m=\u001b[0m \u001b[0mself\u001b[0m\u001b[0;34m.\u001b[0m\u001b[0mforward\u001b[0m\u001b[0;34m(\u001b[0m\u001b[0;34m*\u001b[0m\u001b[0minput\u001b[0m\u001b[0;34m,\u001b[0m \u001b[0;34m**\u001b[0m\u001b[0mkwargs\u001b[0m\u001b[0;34m)\u001b[0m\u001b[0;34m\u001b[0m\u001b[0;34m\u001b[0m\u001b[0m\n\u001b[0m\u001b[1;32m    723\u001b[0m         for hook in itertools.chain(\n\u001b[1;32m    724\u001b[0m                 \u001b[0m_global_forward_hooks\u001b[0m\u001b[0;34m.\u001b[0m\u001b[0mvalues\u001b[0m\u001b[0;34m(\u001b[0m\u001b[0;34m)\u001b[0m\u001b[0;34m,\u001b[0m\u001b[0;34m\u001b[0m\u001b[0;34m\u001b[0m\u001b[0m\n",
      "\u001b[0;32m/mnt/hdd/home/divyas/tta_learn_icml/mnist_train.py\u001b[0m in \u001b[0;36mforward\u001b[0;34m(self, x)\u001b[0m\n\u001b[1;32m     25\u001b[0m \u001b[0;34m\u001b[0m\u001b[0m\n\u001b[1;32m     26\u001b[0m     \u001b[0;32mdef\u001b[0m \u001b[0mforward\u001b[0m\u001b[0;34m(\u001b[0m\u001b[0mself\u001b[0m\u001b[0;34m,\u001b[0m \u001b[0mx\u001b[0m\u001b[0;34m)\u001b[0m\u001b[0;34m:\u001b[0m\u001b[0;34m\u001b[0m\u001b[0;34m\u001b[0m\u001b[0m\n\u001b[0;32m---> 27\u001b[0;31m         \u001b[0mx\u001b[0m \u001b[0;34m=\u001b[0m \u001b[0mself\u001b[0m\u001b[0;34m.\u001b[0m\u001b[0mconv1\u001b[0m\u001b[0;34m(\u001b[0m\u001b[0mx\u001b[0m\u001b[0;34m)\u001b[0m\u001b[0;34m\u001b[0m\u001b[0;34m\u001b[0m\u001b[0m\n\u001b[0m\u001b[1;32m     28\u001b[0m         \u001b[0mx\u001b[0m \u001b[0;34m=\u001b[0m \u001b[0mF\u001b[0m\u001b[0;34m.\u001b[0m\u001b[0mrelu\u001b[0m\u001b[0;34m(\u001b[0m\u001b[0mx\u001b[0m\u001b[0;34m)\u001b[0m\u001b[0;34m\u001b[0m\u001b[0;34m\u001b[0m\u001b[0m\n\u001b[1;32m     29\u001b[0m         \u001b[0mx\u001b[0m \u001b[0;34m=\u001b[0m \u001b[0mself\u001b[0m\u001b[0;34m.\u001b[0m\u001b[0mconv2\u001b[0m\u001b[0;34m(\u001b[0m\u001b[0mx\u001b[0m\u001b[0;34m)\u001b[0m\u001b[0;34m\u001b[0m\u001b[0;34m\u001b[0m\u001b[0m\n",
      "\u001b[0;32m~/.conda/envs/testaug/lib/python3.7/site-packages/torch/nn/modules/module.py\u001b[0m in \u001b[0;36m_call_impl\u001b[0;34m(self, *input, **kwargs)\u001b[0m\n\u001b[1;32m    720\u001b[0m             \u001b[0mresult\u001b[0m \u001b[0;34m=\u001b[0m \u001b[0mself\u001b[0m\u001b[0;34m.\u001b[0m\u001b[0m_slow_forward\u001b[0m\u001b[0;34m(\u001b[0m\u001b[0;34m*\u001b[0m\u001b[0minput\u001b[0m\u001b[0;34m,\u001b[0m \u001b[0;34m**\u001b[0m\u001b[0mkwargs\u001b[0m\u001b[0;34m)\u001b[0m\u001b[0;34m\u001b[0m\u001b[0;34m\u001b[0m\u001b[0m\n\u001b[1;32m    721\u001b[0m         \u001b[0;32melse\u001b[0m\u001b[0;34m:\u001b[0m\u001b[0;34m\u001b[0m\u001b[0;34m\u001b[0m\u001b[0m\n\u001b[0;32m--> 722\u001b[0;31m             \u001b[0mresult\u001b[0m \u001b[0;34m=\u001b[0m \u001b[0mself\u001b[0m\u001b[0;34m.\u001b[0m\u001b[0mforward\u001b[0m\u001b[0;34m(\u001b[0m\u001b[0;34m*\u001b[0m\u001b[0minput\u001b[0m\u001b[0;34m,\u001b[0m \u001b[0;34m**\u001b[0m\u001b[0mkwargs\u001b[0m\u001b[0;34m)\u001b[0m\u001b[0;34m\u001b[0m\u001b[0;34m\u001b[0m\u001b[0m\n\u001b[0m\u001b[1;32m    723\u001b[0m         for hook in itertools.chain(\n\u001b[1;32m    724\u001b[0m                 \u001b[0m_global_forward_hooks\u001b[0m\u001b[0;34m.\u001b[0m\u001b[0mvalues\u001b[0m\u001b[0;34m(\u001b[0m\u001b[0;34m)\u001b[0m\u001b[0;34m,\u001b[0m\u001b[0;34m\u001b[0m\u001b[0;34m\u001b[0m\u001b[0m\n",
      "\u001b[0;32m~/.conda/envs/testaug/lib/python3.7/site-packages/torch/nn/modules/conv.py\u001b[0m in \u001b[0;36mforward\u001b[0;34m(self, input)\u001b[0m\n\u001b[1;32m    417\u001b[0m \u001b[0;34m\u001b[0m\u001b[0m\n\u001b[1;32m    418\u001b[0m     \u001b[0;32mdef\u001b[0m \u001b[0mforward\u001b[0m\u001b[0;34m(\u001b[0m\u001b[0mself\u001b[0m\u001b[0;34m,\u001b[0m \u001b[0minput\u001b[0m\u001b[0;34m:\u001b[0m \u001b[0mTensor\u001b[0m\u001b[0;34m)\u001b[0m \u001b[0;34m->\u001b[0m \u001b[0mTensor\u001b[0m\u001b[0;34m:\u001b[0m\u001b[0;34m\u001b[0m\u001b[0;34m\u001b[0m\u001b[0m\n\u001b[0;32m--> 419\u001b[0;31m         \u001b[0;32mreturn\u001b[0m \u001b[0mself\u001b[0m\u001b[0;34m.\u001b[0m\u001b[0m_conv_forward\u001b[0m\u001b[0;34m(\u001b[0m\u001b[0minput\u001b[0m\u001b[0;34m,\u001b[0m \u001b[0mself\u001b[0m\u001b[0;34m.\u001b[0m\u001b[0mweight\u001b[0m\u001b[0;34m)\u001b[0m\u001b[0;34m\u001b[0m\u001b[0;34m\u001b[0m\u001b[0m\n\u001b[0m\u001b[1;32m    420\u001b[0m \u001b[0;34m\u001b[0m\u001b[0m\n\u001b[1;32m    421\u001b[0m \u001b[0;32mclass\u001b[0m \u001b[0mConv3d\u001b[0m\u001b[0;34m(\u001b[0m\u001b[0m_ConvNd\u001b[0m\u001b[0;34m)\u001b[0m\u001b[0;34m:\u001b[0m\u001b[0;34m\u001b[0m\u001b[0;34m\u001b[0m\u001b[0m\n",
      "\u001b[0;32m~/.conda/envs/testaug/lib/python3.7/site-packages/torch/nn/modules/conv.py\u001b[0m in \u001b[0;36m_conv_forward\u001b[0;34m(self, input, weight)\u001b[0m\n\u001b[1;32m    414\u001b[0m                             _pair(0), self.dilation, self.groups)\n\u001b[1;32m    415\u001b[0m         return F.conv2d(input, weight, self.bias, self.stride,\n\u001b[0;32m--> 416\u001b[0;31m                         self.padding, self.dilation, self.groups)\n\u001b[0m\u001b[1;32m    417\u001b[0m \u001b[0;34m\u001b[0m\u001b[0m\n\u001b[1;32m    418\u001b[0m     \u001b[0;32mdef\u001b[0m \u001b[0mforward\u001b[0m\u001b[0;34m(\u001b[0m\u001b[0mself\u001b[0m\u001b[0;34m,\u001b[0m \u001b[0minput\u001b[0m\u001b[0;34m:\u001b[0m \u001b[0mTensor\u001b[0m\u001b[0;34m)\u001b[0m \u001b[0;34m->\u001b[0m \u001b[0mTensor\u001b[0m\u001b[0;34m:\u001b[0m\u001b[0;34m\u001b[0m\u001b[0;34m\u001b[0m\u001b[0m\n",
      "\u001b[0;31mRuntimeError\u001b[0m: Given groups=1, weight of size [32, 1, 3, 3], expected input[512, 3, 32, 32] to have 1 channels, but got 3 channels instead"
     ]
    }
   ],
   "source": [
    "model = Net()\n",
    "model.load_state_dict(torch.load('../saved_models/mnist/mnist_cnn.pth'))\n",
    "model.eval()\n",
    "model.cuda('cuda:0')\n",
    "def_model = ImageDeferral(model,n_augs, 10, 0, 1)\n",
    "def_model.cuda('cuda:0')\n",
    "criterion = torch.nn.CrossEntropyLoss()\n",
    "criterion.cuda('cuda:0')\n",
    "optimizer = torch.optim.SGD(def_model.parameters(), lr=.01, momentum=.9, weight_decay=1e-4)\n",
    "\n",
    "\n",
    "losses = []\n",
    "acc1s = []\n",
    "acc5s = []\n",
    "epochs = 10\n",
    "for epoch in range(epochs):\n",
    "    for examples, target in data_loader:\n",
    "        examples = examples.cuda('cuda:0', non_blocking=True)\n",
    "        target = target.cuda('cuda:0', non_blocking=True)\n",
    "        output = def_model(examples)\n",
    "        loss = criterion(output, target)\n",
    "        acc1, acc5 = accuracy(output, target, topk=(1, 5))\n",
    "        \n",
    "        optimizer.zero_grad()\n",
    "        loss.backward()\n",
    "        optimizer.step()\n",
    "        losses.append(loss.item())\n",
    "        acc1s.append(acc1.item())\n",
    "        acc5s.append(acc5.item())"
   ]
  },
  {
   "cell_type": "code",
   "execution_count": null,
   "metadata": {},
   "outputs": [],
   "source": [
    "def_model.eval()\n",
    "def_model.cuda('cuda:0')\n",
    "model.cuda('cuda:0')\n",
    "test_acc1s = []\n",
    "test_acc5s = []\n",
    "for examples, target in test_data_loader:\n",
    "    examples = examples.cuda('cuda:0', non_blocking=True)\n",
    "    target = target.cuda('cuda:0', non_blocking=True)    \n",
    "    output = def_model(examples)\n",
    "    acc1, acc5 = accuracy(output, target, topk=(1, 5))\n",
    "    test_acc1s.append(acc1.item())\n",
    "    test_acc5s.append(acc5.item())\n",
    "print(np.mean(test_acc1s), np.mean(test_acc5s))"
   ]
  },
  {
   "cell_type": "code",
   "execution_count": null,
   "metadata": {},
   "outputs": [],
   "source": []
  }
 ],
 "metadata": {
  "kernelspec": {
   "display_name": "Python 3",
   "language": "python",
   "name": "python3"
  },
  "language_info": {
   "codemirror_mode": {
    "name": "ipython",
    "version": 3
   },
   "file_extension": ".py",
   "mimetype": "text/x-python",
   "name": "python",
   "nbconvert_exporter": "python",
   "pygments_lexer": "ipython3",
   "version": "3.7.9"
  }
 },
 "nbformat": 4,
 "nbformat_minor": 4
}
