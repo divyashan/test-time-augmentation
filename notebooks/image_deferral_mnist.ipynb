{
 "cells": [
  {
   "cell_type": "code",
   "execution_count": 1,
   "metadata": {},
   "outputs": [
    {
     "name": "stdout",
     "output_type": "stream",
     "text": [
      "Using GPU:0\n",
      "Using GPU:1\n"
     ]
    }
   ],
   "source": [
    "%load_ext autoreload\n",
    "%autoreload 2\n",
    "import sys\n",
    "import numpy as np\n",
    "sys.path.insert(0, '../')\n",
    "\n",
    "import torch\n",
    "from torchvision import datasets, transforms\n",
    "from torch.utils.data.sampler import SubsetRandomSampler\n",
    "\n",
    "from mnist_train import Net\n",
    "from utils.gpu_utils import restrict_GPU_pytorch\n",
    "from utils.imagenet_utils import accuracy\n",
    "from utils.dataloading_utils import MyIter, MyLoader\n",
    "from new_tta_models import ImageDeferral, ClassWeights, AugWeights, StandardTTA, Original\n",
    "\n",
    "restrict_GPU_pytorch('1')"
   ]
  },
  {
   "cell_type": "markdown",
   "metadata": {},
   "source": [
    "# Loading pre-trained model"
   ]
  },
  {
   "cell_type": "code",
   "execution_count": 63,
   "metadata": {},
   "outputs": [
    {
     "data": {
      "text/plain": [
       "Net(\n",
       "  (conv1): Conv2d(1, 32, kernel_size=(3, 3), stride=(1, 1))\n",
       "  (conv2): Conv2d(32, 64, kernel_size=(3, 3), stride=(1, 1))\n",
       "  (dropout1): Dropout2d(p=0.25, inplace=False)\n",
       "  (dropout2): Dropout2d(p=0.5, inplace=False)\n",
       "  (fc1): Linear(in_features=9216, out_features=128, bias=True)\n",
       "  (fc2): Linear(in_features=128, out_features=10, bias=True)\n",
       ")"
      ]
     },
     "execution_count": 63,
     "metadata": {},
     "output_type": "execute_result"
    }
   ],
   "source": [
    "from mnist_train import Net\n",
    "\n",
    "pcts = [.005, .01, .05, .075,  .1, .2, .3, .4, .5, .6, .7, .8, .9, 1]\n",
    "pct = .005\n",
    "model = Net()\n",
    "model.load_state_dict(torch.load('../saved_models/mnist/mnist_cnn_' + str(pct) + '.pth'))\n",
    "model.eval()"
   ]
  },
  {
   "cell_type": "markdown",
   "metadata": {},
   "source": [
    "# Defining dataloaders "
   ]
  },
  {
   "cell_type": "code",
   "execution_count": 76,
   "metadata": {},
   "outputs": [],
   "source": [
    "dataset = datasets.MNIST('../datasets', train=False, download=True, transform=transforms.Compose([\n",
    "                           transforms.ToTensor(),\n",
    "                           transforms.Normalize((0.1307,), (0.3081,))\n",
    "                       ]))\n",
    "hflip_dataset = datasets.MNIST('../datasets', download=True, train=False, transform=transforms.Compose([\n",
    "                           transforms.RandomHorizontalFlip(p=1),\n",
    "                           transforms.ToTensor(),\n",
    "                           transforms.Normalize((0.1307,), (0.3081,)),\n",
    "                       ]))\n",
    "vflip_dataset = datasets.MNIST('../datasets', download=True, train=False, transform=transforms.Compose([\n",
    "                           transforms.RandomVerticalFlip(p=1),\n",
    "                           transforms.ToTensor(),\n",
    "                           transforms.Normalize((0.1307,), (0.3081,)),\n",
    "                       ]))\n",
    "\n",
    "n_examples = len(dataset)\n",
    "subset_indices = np.arange(n_examples)\n",
    "np.random.shuffle(subset_indices)\n",
    "val_idxs = subset_indices[:int(len(subset_indices)/2)]\n",
    "test_idxs = subset_indices[int(len(subset_indices)/2):]\n",
    "batch_size = 512\n",
    "n_augs = 3\n",
    "orig_val_loader = torch.utils.data.DataLoader(torch.utils.data.Subset(dataset, val_idxs), \n",
    "        batch_size=batch_size, shuffle=False)\n",
    "hflip_val_loader = torch.utils.data.DataLoader(torch.utils.data.Subset(hflip_dataset, val_idxs),\n",
    "                                                batch_size=batch_size, shuffle=False)\n",
    "vflip_val_loader = torch.utils.data.DataLoader(torch.utils.data.Subset(vflip_dataset, val_idxs),\n",
    "                                                batch_size=batch_size, shuffle=False)\n",
    "data_loader = MyLoader([orig_val_loader, hflip_val_loader, vflip_val_loader])\n",
    "\n",
    "\n",
    "orig_test_loader = torch.utils.data.DataLoader(torch.utils.data.Subset(dataset, test_idxs), \n",
    "        batch_size=batch_size, shuffle=False)\n",
    "hflip_test_loader = torch.utils.data.DataLoader(torch.utils.data.Subset(hflip_dataset, test_idxs),\n",
    "                                                batch_size=batch_size, shuffle=False)\n",
    "vflip_test_loader = torch.utils.data.DataLoader(torch.utils.data.Subset(vflip_dataset, test_idxs),\n",
    "                                                batch_size=batch_size, shuffle=False)\n",
    "test_data_loader = MyLoader([orig_test_loader, hflip_test_loader, vflip_val_loader])"
   ]
  },
  {
   "cell_type": "code",
   "execution_count": 6,
   "metadata": {},
   "outputs": [],
   "source": [
    "def_model = ImageDeferral(model,n_augs, 10, 0, 1)\n",
    "def_model.cuda('cuda:0')\n",
    "criterion = torch.nn.CrossEntropyLoss()\n",
    "criterion.cuda('cuda:0')\n",
    "optimizer = torch.optim.SGD(def_model.parameters(), lr=.01, momentum=.9, weight_decay=1e-4)\n",
    "\n",
    "\n",
    "losses = []\n",
    "acc1s = []\n",
    "acc5s = []\n",
    "epochs = 10\n",
    "for epoch in range(epochs):\n",
    "    for examples, target in data_loader:\n",
    "        examples = examples.cuda('cuda:0', non_blocking=True)\n",
    "        target = target.cuda('cuda:0', non_blocking=True)\n",
    "        output = def_model(examples)\n",
    "        loss = criterion(output, target)\n",
    "        acc1, acc5 = accuracy(output, target, topk=(1, 5))\n",
    "        \n",
    "        optimizer.zero_grad()\n",
    "        loss.backward()\n",
    "        optimizer.step()\n",
    "        losses.append(loss.item())\n",
    "        acc1s.append(acc1.item())\n",
    "        acc5s.append(acc5.item())"
   ]
  },
  {
   "cell_type": "code",
   "execution_count": 7,
   "metadata": {},
   "outputs": [
    {
     "name": "stdout",
     "output_type": "stream",
     "text": [
      "91.35164184570313 99.34510498046875\n"
     ]
    }
   ],
   "source": [
    "def_model.eval()\n",
    "def_model.cuda('cuda:0')\n",
    "model.cuda('cuda:0')\n",
    "test_acc1s = []\n",
    "test_acc5s = []\n",
    "for examples, target in test_data_loader:\n",
    "    examples = examples.cuda('cuda:0', non_blocking=True)\n",
    "    target = target.cuda('cuda:0', non_blocking=True)    \n",
    "    output = def_model(examples)\n",
    "    acc1, acc5 = accuracy(output, target, topk=(1, 5))\n",
    "    test_acc1s.append(acc1.item())\n",
    "    test_acc5s.append(acc5.item())\n",
    "print(np.mean(test_acc1s), np.mean(test_acc5s))"
   ]
  },
  {
   "cell_type": "markdown",
   "metadata": {},
   "source": [
    "# Evaluation learning augmentation weights"
   ]
  },
  {
   "cell_type": "code",
   "execution_count": 87,
   "metadata": {},
   "outputs": [],
   "source": [
    "model = Net()\n",
    "model.load_state_dict(torch.load('../saved_models/mnist/mnist_cnn.pth'))\n",
    "model.eval()\n",
    "aug_model = ClassWeights(model, n_augs, 10)\n",
    "aug_model.cuda('cuda:0')\n",
    "criterion = torch.nn.CrossEntropyLoss()\n",
    "criterion.cuda('cuda:0')\n",
    "optimizer = torch.optim.SGD(aug_model.parameters(), lr=.01, momentum=.9, weight_decay=1e-4)\n",
    "\n",
    "losses = []\n",
    "acc1s = []\n",
    "acc5s = []\n",
    "epochs = 50\n",
    "for epoch in range(epochs):\n",
    "    for examples, target in data_loader:\n",
    "        examples = examples.cuda('cuda:0', non_blocking=True)\n",
    "        target = target.cuda('cuda:0', non_blocking=True)\n",
    "        output = aug_model(examples)\n",
    "        loss = criterion(output, target)\n",
    "        acc1, acc5 = accuracy(output, target, topk=(1, 5))\n",
    "        \n",
    "        optimizer.zero_grad()\n",
    "        loss.backward()\n",
    "        optimizer.step()\n",
    "        losses.append(loss.item())\n",
    "        acc1s.append(acc1.item())\n",
    "        acc5s.append(acc5.item())"
   ]
  },
  {
   "cell_type": "code",
   "execution_count": 88,
   "metadata": {
    "scrolled": true
   },
   "outputs": [
    {
     "name": "stdout",
     "output_type": "stream",
     "text": [
      "31.147161865234374 93.78706970214844\n"
     ]
    }
   ],
   "source": [
    "aug_model.eval()\n",
    "test_acc1s = []\n",
    "test_acc5s = []\n",
    "for examples, target in test_data_loader:\n",
    "    examples = examples.cuda('cuda:0', non_blocking=True)\n",
    "    target = target.cuda('cuda:0', non_blocking=True)    \n",
    "    output = aug_model(examples)\n",
    "    acc1, acc5 = accuracy(output, target, topk=(1, 5))\n",
    "    test_acc1s.append(acc1.item())\n",
    "    test_acc5s.append(acc5.item())\n",
    "print(np.mean(test_acc1s), np.mean(test_acc5s))"
   ]
  },
  {
   "cell_type": "code",
   "execution_count": 89,
   "metadata": {},
   "outputs": [
    {
     "data": {
      "text/plain": [
       "tensor([[0.3564, 0.6898, 0.3547, 0.4859, 0.4206, 0.3544, 0.3791, 0.2914, 0.3588,\n",
       "         0.3574],\n",
       "        [0.3218, 0.1594, 0.3227, 0.2647, 0.2897, 0.3207, 0.3105, 0.4173, 0.3206,\n",
       "         0.3213],\n",
       "        [0.3218, 0.1508, 0.3227, 0.2494, 0.2897, 0.3248, 0.3105, 0.2914, 0.3206,\n",
       "         0.3213]], device='cuda:0', grad_fn=<SoftmaxBackward>)"
      ]
     },
     "execution_count": 89,
     "metadata": {},
     "output_type": "execute_result"
    }
   ],
   "source": [
    "aug_model.sm(aug_model.w)"
   ]
  },
  {
   "cell_type": "code",
   "execution_count": 90,
   "metadata": {},
   "outputs": [
    {
     "data": {
      "text/plain": [
       "[<matplotlib.lines.Line2D at 0x7f97cc186110>]"
      ]
     },
     "execution_count": 90,
     "metadata": {},
     "output_type": "execute_result"
    },
    {
     "data": {
      "image/png": "[encoded data removed]",
      "text/plain": [
       "<Figure size 432x288 with 1 Axes>"
      ]
     },
     "metadata": {
      "needs_background": "light"
     },
     "output_type": "display_data"
    }
   ],
   "source": [
    "import matplotlib.pyplot as plt\n",
    "plt.plot(losses)"
   ]
  },
  {
   "cell_type": "markdown",
   "metadata": {},
   "source": [
    "# Evaluating original model"
   ]
  },
  {
   "cell_type": "code",
   "execution_count": 81,
   "metadata": {},
   "outputs": [
    {
     "name": "stdout",
     "output_type": "stream",
     "text": [
      "96.6876594543457 99.91589584350587\n"
     ]
    }
   ],
   "source": [
    "# See how regular TTA works with this\n",
    "# See how learning just the weights does\n",
    "model = Net()\n",
    "model.load_state_dict(torch.load('../saved_models/mnist/mnist_cnn.pth'))\n",
    "model.eval()\n",
    "orig_model = Original(model, 0)\n",
    "orig_model.cuda('cuda:0')\n",
    "orig_model.eval()\n",
    "test_acc1s = []\n",
    "test_acc5s = []\n",
    "all_orig_preds = []\n",
    "for examples, target in test_data_loader:\n",
    "    examples = examples.cuda('cuda:0', non_blocking=True)\n",
    "    target = target.cuda('cuda:0', non_blocking=True)    \n",
    "    output = orig_model(examples)\n",
    "    acc1, acc5 = accuracy(output, target, topk=(1, 5))\n",
    "    all_orig_preds.extend(np.argmax(output.cpu().numpy(), 1))\n",
    "    test_acc1s.append(acc1.item())\n",
    "    test_acc5s.append(acc5.item())\n",
    "print(np.mean(test_acc1s), np.mean(test_acc5s))"
   ]
  },
  {
   "cell_type": "markdown",
   "metadata": {},
   "source": [
    "# Evaluting standard test-time augmentation\n"
   ]
  },
  {
   "cell_type": "code",
   "execution_count": 82,
   "metadata": {},
   "outputs": [
    {
     "name": "stdout",
     "output_type": "stream",
     "text": [
      "78.13376922607422 98.77431411743164\n"
     ]
    }
   ],
   "source": [
    "stta_model = StandardTTA(model)\n",
    "stta_model.cuda('cuda:0')\n",
    "test_acc1s = []\n",
    "test_acc5s = []\n",
    "all_targets = []\n",
    "all_stta_preds = []\n",
    "for examples, target in test_data_loader:\n",
    "    examples = examples.cuda('cuda:0', non_blocking=True)\n",
    "    target = target.cuda('cuda:0', non_blocking=True)    \n",
    "    output = stta_model(examples)\n",
    "    acc1, acc5 = accuracy(output, target, topk=(1, 5))\n",
    "    all_stta_preds.extend(np.argmax(output.cpu().numpy(), 1))\n",
    "    all_targets.extend(target.cpu().numpy())\n",
    "    test_acc1s.append(acc1.item())\n",
    "    test_acc5s.append(acc5.item())\n",
    "print(np.mean(test_acc1s), np.mean(test_acc5s))"
   ]
  },
  {
   "cell_type": "code",
   "execution_count": 54,
   "metadata": {},
   "outputs": [
    {
     "data": {
      "text/plain": [
       "(36, 569)"
      ]
     },
     "execution_count": 54,
     "metadata": {},
     "output_type": "execute_result"
    }
   ],
   "source": [
    "all_stta_preds = np.array(all_stta_preds)\n",
    "all_targets = np.array(all_targets)\n",
    "all_orig_preds = np.array(all_orig_preds)\n",
    "stta_correct = np.where(all_stta_preds == all_targets)[0]\n",
    "stta_incorrect = np.where(all_stta_preds != all_targets)[0]\n",
    "orig_correct = np.where(all_orig_preds == all_targets)[0]\n",
    "orig_incorrect = np.where(all_orig_preds != all_targets)[0]\n",
    "len(set(stta_correct).intersection(orig_incorrect)), len(set(orig_correct).intersection(stta_incorrect))"
   ]
  },
  {
   "cell_type": "code",
   "execution_count": 55,
   "metadata": {},
   "outputs": [
    {
     "data": {
      "text/plain": [
       "4839"
      ]
     },
     "execution_count": 55,
     "metadata": {},
     "output_type": "execute_result"
    }
   ],
   "source": [
    "len(orig_correct)"
   ]
  },
  {
   "cell_type": "markdown",
   "metadata": {},
   "source": [
    "# Learning augmentation specific weights"
   ]
  },
  {
   "cell_type": "code",
   "execution_count": 70,
   "metadata": {},
   "outputs": [
    {
     "name": "stdout",
     "output_type": "stream",
     "text": [
      "94.35157775878906 99.90234375\n",
      "96.34698104858398 100.0\n"
     ]
    }
   ],
   "source": [
    "# Filter to just ones\n",
    "one_idxs = np.where(dataset.targets == 8)[0]\n",
    "one_orig_loader = torch.utils.data.DataLoader(torch.utils.data.Subset(dataset, one_idxs), \n",
    "        batch_size=batch_size, shuffle=False)\n",
    "one_hflip_loader = torch.utils.data.DataLoader(torch.utils.data.Subset(hflip_dataset, one_idxs),\n",
    "                                                batch_size=batch_size, shuffle=False)\n",
    "one_vflip_loader = torch.utils.data.DataLoader(torch.utils.data.Subset(vflip_dataset, one_idxs),\n",
    "                                                batch_size=batch_size, shuffle=False)\n",
    "one_data_loader = MyLoader([one_orig_loader, one_hflip_loader])\n",
    "# Original accuracy\n",
    "# See how regular TTA works with this\n",
    "# See how learning just the weights does\n",
    "orig_model = Original(model, 0)\n",
    "orig_model.cuda('cuda:0')\n",
    "orig_model.eval()\n",
    "test_acc1s = []\n",
    "test_acc5s = []\n",
    "for examples, target in one_data_loader:\n",
    "    examples = examples.cuda('cuda:0', non_blocking=True)\n",
    "    target = target.cuda('cuda:0', non_blocking=True)    \n",
    "    output = orig_model(examples)\n",
    "    acc1, acc5 = accuracy(output, target, topk=(1, 5))\n",
    "    test_acc1s.append(acc1.item())\n",
    "    test_acc5s.append(acc5.item())\n",
    "print(np.mean(test_acc1s), np.mean(test_acc5s))\n",
    "\n",
    "# See if horizontal flips help\n",
    "stta_model = StandardTTA(model)\n",
    "stta_model.cuda('cuda:0')\n",
    "test_acc1s = []\n",
    "test_acc5s = []\n",
    "for examples, target in one_data_loader:\n",
    "    examples = examples.cuda('cuda:0', non_blocking=True)\n",
    "    target = target.cuda('cuda:0', non_blocking=True)    \n",
    "    output = stta_model(examples)\n",
    "    acc1, acc5 = accuracy(output, target, topk=(1, 5))\n",
    "    test_acc1s.append(acc1.item())\n",
    "    test_acc5s.append(acc5.item())\n",
    "print(np.mean(test_acc1s), np.mean(test_acc5s))"
   ]
  },
  {
   "cell_type": "code",
   "execution_count": 62,
   "metadata": {},
   "outputs": [
    {
     "name": "stdout",
     "output_type": "stream",
     "text": [
      "Using GPU:0\n"
     ]
    },
    {
     "data": {
      "text/plain": [
       "<matplotlib.image.AxesImage at 0x7f97cc2e7f90>"
      ]
     },
     "execution_count": 62,
     "metadata": {},
     "output_type": "execute_result"
    },
    {
     "data": {
      "image/png": "[encoded data removed]",
      "text/plain": [
       "<Figure size 432x288 with 1 Axes>"
      ]
     },
     "metadata": {
      "needs_background": "light"
     },
     "output_type": "display_data"
    }
   ],
   "source": [
    "orig = next(iter(one_data_loader))\n",
    "ex = orig[0][0][0]\n",
    "plt.imshow(orig[0][1][0][0])"
   ]
  },
  {
   "cell_type": "code",
   "execution_count": null,
   "metadata": {},
   "outputs": [],
   "source": [
    "ex = orig[0][1].cuda()\n",
    "model(ex)[0]"
   ]
  },
  {
   "cell_type": "markdown",
   "metadata": {},
   "source": [
    "# See if learning a class-conditional model works"
   ]
  },
  {
   "cell_type": "code",
   "execution_count": 137,
   "metadata": {
    "collapsed": true
   },
   "outputs": [
    {
     "data": {
      "text/plain": [
       "array([   2,    5,   14, ..., 9978, 9984, 9994])"
      ]
     },
     "execution_count": 137,
     "metadata": {},
     "output_type": "execute_result"
    }
   ],
   "source": [
    "# Learn weights directly from image, and just learn "
   ]
  },
  {
   "cell_type": "code",
   "execution_count": null,
   "metadata": {},
   "outputs": [],
   "source": []
  }
 ],
 "metadata": {
  "kernelspec": {
   "display_name": "Python 3",
   "language": "python",
   "name": "python3"
  },
  "language_info": {
   "codemirror_mode": {
    "name": "ipython",
    "version": 3
   },
   "file_extension": ".py",
   "mimetype": "text/x-python",
   "name": "python",
   "nbconvert_exporter": "python",
   "pygments_lexer": "ipython3",
   "version": "3.7.9"
  }
 },
 "nbformat": 4,
 "nbformat_minor": 4
}
