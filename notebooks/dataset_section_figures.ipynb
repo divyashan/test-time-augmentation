{
 "cells": [
  {
   "cell_type": "code",
   "execution_count": 6,
   "metadata": {},
   "outputs": [
    {
     "name": "stdout",
     "output_type": "stream",
     "text": [
      "The autoreload extension is already loaded. To reload it, use:\n",
      "  %reload_ext autoreload\n"
     ]
    }
   ],
   "source": [
    "%load_ext autoreload\n",
    "%autoreload 2\n",
    "import pandas as pd\n",
    "import h5py\n",
    "import numpy as np\n",
    "from tqdm.notebook import tqdm\n",
    "from utils import get_outputs_labels, get_correct_idxs, get_incorrect_idxs, propci_wilson_cc\n",
    "# How many corruptions per dataset/model combination\n",
    "datasets = ['imnet', 'flowers102']\n",
    "models = ['inceptionv3', 'resnet18', 'MobileNetV2', 'resnet50',]\n",
    "#orig_idx = 50\n",
    "#tta_policy = 'pil'\n",
    "orig_idx = 12\n",
    "tta_policy = 'five_crop_hflip_scale'"
   ]
  },
  {
   "cell_type": "code",
   "execution_count": 13,
   "metadata": {},
   "outputs": [
    {
     "data": {
      "application/vnd.jupyter.widget-view+json": {
       "model_id": "a7943ca6cb1344b8b6c2b6c07042c8ae",
       "version_major": 2,
       "version_minor": 0
      },
      "text/plain": [
       "HBox(children=(FloatProgress(value=0.0, max=4.0), HTML(value='')))"
      ]
     },
     "metadata": {},
     "output_type": "display_data"
    },
    {
     "name": "stdout",
     "output_type": "stream",
     "text": [
      "\n"
     ]
    },
    {
     "data": {
      "application/vnd.jupyter.widget-view+json": {
       "model_id": "9957084150574d9f97208cf41b64a0f9",
       "version_major": 2,
       "version_minor": 0
      },
      "text/plain": [
       "HBox(children=(FloatProgress(value=0.0, max=4.0), HTML(value='')))"
      ]
     },
     "metadata": {},
     "output_type": "display_data"
    },
    {
     "name": "stdout",
     "output_type": "stream",
     "text": [
      "\n"
     ]
    }
   ],
   "source": [
    "results = []\n",
    "for dataset in datasets:\n",
    "    for model in tqdm(models):\n",
    "        path = '../' + dataset + '/' + tta_policy + '/model_outputs/val/' + model + '.h5'\n",
    "        outputs, labels = get_outputs_labels(path)\n",
    "        stta_preds = np.mean(outputs, axis=0)\n",
    "        orig_preds = outputs[orig_idx,:,:]\n",
    "        stta_correct_idxs = get_correct_idxs(stta_preds, labels)\n",
    "        stta_incorrect_idxs = get_incorrect_idxs(stta_preds, labels)\n",
    "        orig_correct_idxs = get_correct_idxs(orig_preds, labels)\n",
    "        orig_incorrect_idxs = get_incorrect_idxs(orig_preds, labels)\n",
    "        corruptions = set(stta_incorrect_idxs).intersection(orig_correct_idxs)\n",
    "        corrections = set(stta_correct_idxs).intersection(orig_incorrect_idxs)\n",
    "        results.append({'dataset': dataset, 'model': model, \n",
    "                        'n_changed': len(corruptions), 'change_type': 'Corruptions'})\n",
    "        results.append({'dataset': dataset, 'model': model, \n",
    "                        'n_changed': len(corrections), 'change_type': 'Corrections'})\n",
    "results_df = pd.DataFrame(results)\n",
    "results_df.to_csv('../results/expanded_corruptions_corrections')"
   ]
  },
  {
   "cell_type": "code",
   "execution_count": 2,
   "metadata": {},
   "outputs": [],
   "source": [
    "\n",
    "model_name_dict = {'resnet18': 'ResNet-18', 'resnet50': 'ResNet-50', \n",
    "                   'MobileNetV2': 'MobileNetV2', 'inceptionv3': 'InceptionV3',\n",
    "                  }\n",
    "dataset_name_dict = {'imnet': 'ImageNet', 'flowers102': 'Flowers-102', 'birds200': 'Birds200'}"
   ]
  },
  {
   "cell_type": "code",
   "execution_count": 35,
   "metadata": {},
   "outputs": [],
   "source": [
    "def grouped_barplot(df, cat,subcat, val , err, ax):\n",
    "    plt.sca(ax)\n",
    "    u = df[cat].unique()\n",
    "    x = np.arange(len(u))\n",
    "    subx = df[subcat].unique()\n",
    "    offsets = (np.arange(len(subx))-np.arange(len(subx)).mean())/(len(subx)+1.)\n",
    "    width= np.diff(offsets).mean()\n",
    "    print(ax)\n",
    "    for i,gr in enumerate(subx):\n",
    "        dfg = df[df[subcat] == gr]\n",
    "        plt.bar(x+offsets[i], dfg[val].values, width=width,\n",
    "                label=\"{}\".format(gr), yerr=dfg[err].values)\n",
    "    plt.xlabel(cat)\n",
    "    plt.ylabel(val)\n",
    "    plt.xticks(x, u)\n",
    "    #plt.legend()\n",
    "    #plt.show()"
   ]
  },
  {
   "cell_type": "code",
   "execution_count": 39,
   "metadata": {},
   "outputs": [
    {
     "name": "stderr",
     "output_type": "stream",
     "text": [
      "/local/divyas/.conda/envs/testaug/lib/python3.7/site-packages/ipykernel_launcher.py:24: SettingWithCopyWarning: \n",
      "A value is trying to be set on a copy of a slice from a DataFrame.\n",
      "Try using .loc[row_indexer,col_indexer] = value instead\n",
      "\n",
      "See the caveats in the documentation: http://pandas.pydata.org/pandas-docs/stable/user_guide/indexing.html#returning-a-view-versus-a-copy\n",
      "/local/divyas/.conda/envs/testaug/lib/python3.7/site-packages/ipykernel_launcher.py:26: SettingWithCopyWarning: \n",
      "A value is trying to be set on a copy of a slice from a DataFrame.\n",
      "Try using .loc[row_indexer,col_indexer] = value instead\n",
      "\n",
      "See the caveats in the documentation: http://pandas.pydata.org/pandas-docs/stable/user_guide/indexing.html#returning-a-view-versus-a-copy\n",
      "/local/divyas/.conda/envs/testaug/lib/python3.7/site-packages/ipykernel_launcher.py:28: SettingWithCopyWarning: \n",
      "A value is trying to be set on a copy of a slice from a DataFrame.\n",
      "Try using .loc[row_indexer,col_indexer] = value instead\n",
      "\n",
      "See the caveats in the documentation: http://pandas.pydata.org/pandas-docs/stable/user_guide/indexing.html#returning-a-view-versus-a-copy\n",
      "/local/divyas/.conda/envs/testaug/lib/python3.7/site-packages/ipykernel_launcher.py:29: SettingWithCopyWarning: \n",
      "A value is trying to be set on a copy of a slice from a DataFrame.\n",
      "Try using .loc[row_indexer,col_indexer] = value instead\n",
      "\n",
      "See the caveats in the documentation: http://pandas.pydata.org/pandas-docs/stable/user_guide/indexing.html#returning-a-view-versus-a-copy\n"
     ]
    },
    {
     "name": "stdout",
     "output_type": "stream",
     "text": [
      "AxesSubplot(0.125,0.125;0.352273x0.755)\n",
      "AxesSubplot(0.547727,0.125;0.352273x0.755)\n"
     ]
    },
    {
     "data": {
      "image/png": "[encoded data removed]",
      "text/plain": [
       "<Figure size 720x288 with 2 Axes>"
      ]
     },
     "metadata": {},
     "output_type": "display_data"
    }
   ],
   "source": [
    "import matplotlib.pyplot as plt\n",
    "import seaborn as sns\n",
    "sns.set_style('white')\n",
    "datasets = ['imnet', 'flowers102']\n",
    "models = ['inceptionv3', 'resnet18', 'MobileNetV2', 'resnet50',]\n",
    "fig, axs = plt.subplots(1, 2, figsize=(10, 4))\n",
    "for i in range(2):\n",
    "    dataset = 'imnet'\n",
    "    path = '../results/expanded_corruptions_corrections'\n",
    "    ax = axs[i]\n",
    "    if i < 2:\n",
    "        dataset = 'flowers102'\n",
    "    if i % 2 == 0:\n",
    "        path = '../results/corruptions_corrections'\n",
    "    results_df = pd.read_csv(path)\n",
    "    ds_results = results_df[results_df['dataset'] == dataset]\n",
    "    if dataset == 'imnet':\n",
    "        n_samples = 50000\n",
    "    elif dataset == 'flowers102':\n",
    "        ax.set_ylim(0, .0175)\n",
    "        n_samples = 6149\n",
    "        \n",
    "    ax.set_ylim(0, .055)\n",
    "    ds_results['pct_changed'] = ds_results['n_changed']/n_samples\n",
    "    ds_results['ci_l'] = ds_results.apply(lambda row: propci_wilson_cc(row.n_changed, n_samples)[0],\n",
    "                                          axis=1)\n",
    "    ds_results['ci_u'] = ds_results.apply(lambda row: propci_wilson_cc(row.n_changed, n_samples)[1],\n",
    "                                              axis=1)\n",
    "    ds_results['error'] = ds_results['ci_u'] - ds_results['ci_l']    \n",
    "    \n",
    "    cat = 'model'\n",
    "    subcat = 'change_type'\n",
    "    err = 'error'\n",
    "    val = 'pct_changed'\n",
    "    grouped_barplot(ds_results, cat, subcat, val, err, ax)\n",
    "    \n",
    "    \n",
    "    \n",
    "    \n",
    "    ax.set_ylabel(\"% of Predictions Changed\")\n",
    "    if i % 2 == 1:\n",
    "        ax.set_yticklabels([])\n",
    "        ax.set_ylabel(\"\")\n",
    "\n",
    "    ax.set_xlabel(\"Model Architecture\")\n",
    "    ax.set_xticklabels([model_name_dict[i] for i in models])\n",
    "    if i % 2 == 0:\n",
    "        ax.set_title(dataset_name_dict[dataset] + \"\\n Standard Test-Time Augmentation\")\n",
    "    else:\n",
    "        ax.set_title(dataset_name_dict[dataset] + \"\\n Expanded Test-Time Augmentation\")\n",
    "    if i % 2 == 1:\n",
    "        plt.legend()\n",
    "plt.tight_layout()"
   ]
  },
  {
   "cell_type": "code",
   "execution_count": 58,
   "metadata": {},
   "outputs": [
    {
     "name": "stdout",
     "output_type": "stream",
     "text": [
      "AxesSubplot(0.125,0.125;0.775x0.755)\n"
     ]
    },
    {
     "name": "stderr",
     "output_type": "stream",
     "text": [
      "/local/divyas/.conda/envs/testaug/lib/python3.7/site-packages/ipykernel_launcher.py:7: SettingWithCopyWarning: \n",
      "A value is trying to be set on a copy of a slice from a DataFrame.\n",
      "Try using .loc[row_indexer,col_indexer] = value instead\n",
      "\n",
      "See the caveats in the documentation: http://pandas.pydata.org/pandas-docs/stable/user_guide/indexing.html#returning-a-view-versus-a-copy\n",
      "  import sys\n",
      "/local/divyas/.conda/envs/testaug/lib/python3.7/site-packages/ipykernel_launcher.py:9: SettingWithCopyWarning: \n",
      "A value is trying to be set on a copy of a slice from a DataFrame.\n",
      "Try using .loc[row_indexer,col_indexer] = value instead\n",
      "\n",
      "See the caveats in the documentation: http://pandas.pydata.org/pandas-docs/stable/user_guide/indexing.html#returning-a-view-versus-a-copy\n",
      "  if __name__ == '__main__':\n",
      "/local/divyas/.conda/envs/testaug/lib/python3.7/site-packages/ipykernel_launcher.py:11: SettingWithCopyWarning: \n",
      "A value is trying to be set on a copy of a slice from a DataFrame.\n",
      "Try using .loc[row_indexer,col_indexer] = value instead\n",
      "\n",
      "See the caveats in the documentation: http://pandas.pydata.org/pandas-docs/stable/user_guide/indexing.html#returning-a-view-versus-a-copy\n",
      "  # This is added back by InteractiveShellApp.init_path()\n",
      "/local/divyas/.conda/envs/testaug/lib/python3.7/site-packages/ipykernel_launcher.py:12: SettingWithCopyWarning: \n",
      "A value is trying to be set on a copy of a slice from a DataFrame.\n",
      "Try using .loc[row_indexer,col_indexer] = value instead\n",
      "\n",
      "See the caveats in the documentation: http://pandas.pydata.org/pandas-docs/stable/user_guide/indexing.html#returning-a-view-versus-a-copy\n",
      "  if sys.path[0] == '':\n"
     ]
    },
    {
     "data": {
      "text/plain": [
       "<matplotlib.legend.Legend at 0x7fa457f96450>"
      ]
     },
     "execution_count": 58,
     "metadata": {},
     "output_type": "execute_result"
    },
    {
     "data": {
      "image/png": "[encoded data removed]",
      "text/plain": [
       "<Figure size 432x288 with 1 Axes>"
      ]
     },
     "metadata": {},
     "output_type": "display_data"
    }
   ],
   "source": [
    "dataset = 'imnet'\n",
    "path = '../results/corruptions_corrections'\n",
    "results_df = pd.read_csv(path)\n",
    "ds_results = results_df[results_df['dataset'] == dataset]\n",
    "n_samples = 50000\n",
    "fig, ax = plt.subplots(1)\n",
    "ds_results['pct_changed'] = ds_results['n_changed']/n_samples\n",
    "ds_results['ci_l'] = ds_results.apply(lambda row: propci_wilson_cc(row.n_changed, n_samples)[0],\n",
    "                                          axis=1)\n",
    "ds_results['ci_u'] = ds_results.apply(lambda row: propci_wilson_cc(row.n_changed, n_samples)[1],\n",
    "                                          axis=1)\n",
    "ds_results['error'] = ds_results['ci_u'] - ds_results['ci_l']    \n",
    "\n",
    "for model in models:\n",
    "    n_corrupted = ds_results[(ds_results['model'] == model) & \n",
    "                           (ds_results['change_type'] == 'Corruptions')]['n_changed']\n",
    "    n_corrupted = list(n_corrupted)[0]\n",
    "    n_corrected = ds_results[(ds_results['model'] == model) & \n",
    "                           (ds_results['change_type'] == 'Corrections')]['n_changed']\n",
    "    n_corrected = list(n_corrected)[0]\n",
    "    n_changed = n_corrected - n_corrupted\n",
    "    pct_changed = n_changed/50000\n",
    "    ci_l, ci_u = propci_wilson_cc(n_changed, 50000)\n",
    "    \n",
    "    ds_results = ds_results.append({'dataset': 'imnet', 'n_changed': n_changed, \n",
    "                                    'change_type': 'Net Improvement',\n",
    "                            'pct_changed':pct_changed,\n",
    "                            'model': model, 'error': ci_u - ci_l}, ignore_index=True)\n",
    "\n",
    "cat = 'model'\n",
    "subcat = 'change_type'\n",
    "err = 'error'\n",
    "val = 'pct_changed'\n",
    "grouped_barplot(ds_results, cat, subcat, val, err, ax)\n",
    "    \n",
    "    \n",
    "    \n",
    "    \n",
    "ax.set_ylabel(\"% of Predictions Changed\")\n",
    "\n",
    "ax.set_xlabel(\"Model Architecture\")\n",
    "ax.set_xticklabels([model_name_dict[i] for i in models])\n",
    "ax.set_title(dataset_name_dict[dataset] + \"+ Standard Test-Time Augmentation\")\n",
    "plt.legend()"
   ]
  },
  {
   "cell_type": "code",
   "execution_count": 50,
   "metadata": {},
   "outputs": [
    {
     "data": {
      "text/plain": [
       "[1159]"
      ]
     },
     "execution_count": 50,
     "metadata": {},
     "output_type": "execute_result"
    }
   ],
   "source": [
    "list(n_corrupted)[0]"
   ]
  },
  {
   "cell_type": "code",
   "execution_count": 55,
   "metadata": {},
   "outputs": [],
   "source": [
    "for model in models:\n",
    "    n_corrupted = ds_results[(ds_results['model'] == model) & \n",
    "                           (ds_results['change_type'] == 'Corruptions')]['n_changed']\n",
    "    n_corrupted = list(n_corrupted)[0]\n",
    "    n_corrected = ds_results[(ds_results['model'] == model) & \n",
    "                           (ds_results['change_type'] == 'Corrections')]['n_changed']\n",
    "    n_corrected = list(n_corrected)[0]\n",
    "    n_changed = n_corrected - n_corrupted\n",
    "    pct_changed = n_changed/50000\n",
    "    ci_l, ci_u = propci_wilson_cc(n_changed, 50000)\n",
    "    \n",
    "    ds_results = ds_results.append({'dataset': 'imnet', 'n_changed': n_changed, 'change_type': 'Net',\n",
    "                            'pct_changed':pct_changed,\n",
    "                            'model': model, 'error': ci_u - ci_l}, ignore_index=True)"
   ]
  },
  {
   "cell_type": "code",
   "execution_count": 4,
   "metadata": {},
   "outputs": [
    {
     "data": {
      "application/vnd.jupyter.widget-view+json": {
       "model_id": "88068f719e924a3db29eec5c56d0ddef",
       "version_major": 2,
       "version_minor": 0
      },
      "text/plain": [
       "HBox(children=(FloatProgress(value=0.0, max=4.0), HTML(value='')))"
      ]
     },
     "metadata": {},
     "output_type": "display_data"
    },
    {
     "name": "stdout",
     "output_type": "stream",
     "text": [
      "loaded output labels\n"
     ]
    },
    {
     "ename": "KeyboardInterrupt",
     "evalue": "",
     "output_type": "error",
     "traceback": [
      "\u001b[0;31m---------------------------------------------------------------------------\u001b[0m",
      "\u001b[0;31mKeyboardInterrupt\u001b[0m                         Traceback (most recent call last)",
      "\u001b[0;32m<ipython-input-4-ed8de51400b2>\u001b[0m in \u001b[0;36m<module>\u001b[0;34m\u001b[0m\n\u001b[1;32m     13\u001b[0m         \u001b[0moutputs\u001b[0m\u001b[0;34m,\u001b[0m \u001b[0mlabels\u001b[0m \u001b[0;34m=\u001b[0m \u001b[0mget_outputs_labels\u001b[0m\u001b[0;34m(\u001b[0m\u001b[0mpath\u001b[0m\u001b[0;34m)\u001b[0m\u001b[0;34m\u001b[0m\u001b[0;34m\u001b[0m\u001b[0m\n\u001b[1;32m     14\u001b[0m         \u001b[0mprint\u001b[0m\u001b[0;34m(\u001b[0m\u001b[0;34m\"loaded output labels\"\u001b[0m\u001b[0;34m)\u001b[0m\u001b[0;34m\u001b[0m\u001b[0;34m\u001b[0m\u001b[0m\n\u001b[0;32m---> 15\u001b[0;31m         \u001b[0mstta_preds\u001b[0m \u001b[0;34m=\u001b[0m \u001b[0mnp\u001b[0m\u001b[0;34m.\u001b[0m\u001b[0mmean\u001b[0m\u001b[0;34m(\u001b[0m\u001b[0moutputs\u001b[0m\u001b[0;34m,\u001b[0m \u001b[0maxis\u001b[0m\u001b[0;34m=\u001b[0m\u001b[0;36m0\u001b[0m\u001b[0;34m)\u001b[0m\u001b[0;34m\u001b[0m\u001b[0;34m\u001b[0m\u001b[0m\n\u001b[0m\u001b[1;32m     16\u001b[0m         \u001b[0morig_preds\u001b[0m \u001b[0;34m=\u001b[0m \u001b[0moutputs\u001b[0m\u001b[0;34m[\u001b[0m\u001b[0morig_idx\u001b[0m\u001b[0;34m,\u001b[0m\u001b[0;34m:\u001b[0m\u001b[0;34m,\u001b[0m\u001b[0;34m:\u001b[0m\u001b[0;34m]\u001b[0m\u001b[0;34m\u001b[0m\u001b[0;34m\u001b[0m\u001b[0m\n\u001b[1;32m     17\u001b[0m         \u001b[0morig_correct_idxs\u001b[0m \u001b[0;34m=\u001b[0m \u001b[0mget_correct_idxs\u001b[0m\u001b[0;34m(\u001b[0m\u001b[0morig_preds\u001b[0m\u001b[0;34m,\u001b[0m \u001b[0mlabels\u001b[0m\u001b[0;34m)\u001b[0m\u001b[0;34m\u001b[0m\u001b[0;34m\u001b[0m\u001b[0m\n",
      "\u001b[0;32m<__array_function__ internals>\u001b[0m in \u001b[0;36mmean\u001b[0;34m(*args, **kwargs)\u001b[0m\n",
      "\u001b[0;32m~/.conda/envs/testaug/lib/python3.7/site-packages/numpy/core/fromnumeric.py\u001b[0m in \u001b[0;36mmean\u001b[0;34m(a, axis, dtype, out, keepdims)\u001b[0m\n\u001b[1;32m   3371\u001b[0m \u001b[0;34m\u001b[0m\u001b[0m\n\u001b[1;32m   3372\u001b[0m     return _methods._mean(a, axis=axis, dtype=dtype,\n\u001b[0;32m-> 3373\u001b[0;31m                           out=out, **kwargs)\n\u001b[0m\u001b[1;32m   3374\u001b[0m \u001b[0;34m\u001b[0m\u001b[0m\n\u001b[1;32m   3375\u001b[0m \u001b[0;34m\u001b[0m\u001b[0m\n",
      "\u001b[0;32m~/.conda/envs/testaug/lib/python3.7/site-packages/numpy/core/_methods.py\u001b[0m in \u001b[0;36m_mean\u001b[0;34m(a, axis, dtype, out, keepdims)\u001b[0m\n\u001b[1;32m    158\u001b[0m             \u001b[0mis_float16_result\u001b[0m \u001b[0;34m=\u001b[0m \u001b[0;32mTrue\u001b[0m\u001b[0;34m\u001b[0m\u001b[0;34m\u001b[0m\u001b[0m\n\u001b[1;32m    159\u001b[0m \u001b[0;34m\u001b[0m\u001b[0m\n\u001b[0;32m--> 160\u001b[0;31m     \u001b[0mret\u001b[0m \u001b[0;34m=\u001b[0m \u001b[0mumr_sum\u001b[0m\u001b[0;34m(\u001b[0m\u001b[0marr\u001b[0m\u001b[0;34m,\u001b[0m \u001b[0maxis\u001b[0m\u001b[0;34m,\u001b[0m \u001b[0mdtype\u001b[0m\u001b[0;34m,\u001b[0m \u001b[0mout\u001b[0m\u001b[0;34m,\u001b[0m \u001b[0mkeepdims\u001b[0m\u001b[0;34m)\u001b[0m\u001b[0;34m\u001b[0m\u001b[0;34m\u001b[0m\u001b[0m\n\u001b[0m\u001b[1;32m    161\u001b[0m     \u001b[0;32mif\u001b[0m \u001b[0misinstance\u001b[0m\u001b[0;34m(\u001b[0m\u001b[0mret\u001b[0m\u001b[0;34m,\u001b[0m \u001b[0mmu\u001b[0m\u001b[0;34m.\u001b[0m\u001b[0mndarray\u001b[0m\u001b[0;34m)\u001b[0m\u001b[0;34m:\u001b[0m\u001b[0;34m\u001b[0m\u001b[0;34m\u001b[0m\u001b[0m\n\u001b[1;32m    162\u001b[0m         ret = um.true_divide(\n",
      "\u001b[0;31mKeyboardInterrupt\u001b[0m: "
     ]
    }
   ],
   "source": [
    "# Relationship between model size and accuracy\n",
    "# x axis = model size y axis = average agreement of augmentations with one another\n",
    "# do this for standard + flowers, standard + imnet, expanded + flowers, expanded + imnet\n",
    "model_params_map = {'resnet18': 11000000, 'resnet50': 23000000, 'MobileNetV2': 3400000,\n",
    "                   'inceptionv3': 23885392}\n",
    "model_results = []\n",
    "datasets=['flowers102']\n",
    "tta_policy = 'pil'\n",
    "\n",
    "for dataset in datasets:\n",
    "    for model in tqdm(models):\n",
    "        path = '../' + dataset + '/' + tta_policy + '/model_outputs/val/' + model + '.h5'\n",
    "        outputs, labels = get_outputs_labels(path)\n",
    "        print(\"loaded output labels\")\n",
    "        stta_preds = np.mean(outputs, axis=0)\n",
    "        orig_preds = outputs[orig_idx,:,:]\n",
    "        orig_correct_idxs = get_correct_idxs(orig_preds, labels)\n",
    "        orig_acc = len(orig_correct_idxs)/len(labels)\n",
    "        \n",
    "        # iterate over all augmentations\n",
    "        avg_ambiguity = 0\n",
    "        n_augs = len(outputs)\n",
    "        idxs = np.arange(n_augs)\n",
    "        for aug_idx in tqdm(range(n_augs)):\n",
    "            aug_preds = outputs[aug_idx]\n",
    "            other_aug_preds = np.mean(outputs[idxs != aug_idx], axis = 0)\n",
    "            aug_labels = np.argmax(aug_preds, axis=1)\n",
    "            other_aug_labels = np.argmax(other_aug_preds, axis=1)\n",
    "            n_agree = len(np.where(aug_labels == other_aug_labels)[0])\n",
    "            ambiguity = n_agree/len(aug_labels)\n",
    "            avg_ambiguity += (1/n_augs)*ambiguity\n",
    "        \n",
    "        model_results.append({'model': model, 'dataset': dataset, 'orig_acc': orig_acc, \n",
    "                        'ambiguity': avg_ambiguity})\n",
    "models_df = pd.DataFrame(model_results)\n",
    "models_df.to_csv('pil_model_results')"
   ]
  },
  {
   "cell_type": "code",
   "execution_count": 19,
   "metadata": {},
   "outputs": [
    {
     "data": {
      "text/plain": [
       "<AxesSubplot:xlabel='orig_acc', ylabel='ambiguity'>"
      ]
     },
     "execution_count": 19,
     "metadata": {},
     "output_type": "execute_result"
    },
    {
     "data": {
      "image/png": "[encoded data removed]",
      "text/plain": [
       "<Figure size 432x288 with 1 Axes>"
      ]
     },
     "metadata": {},
     "output_type": "display_data"
    }
   ],
   "source": [
    "import seaborn as sns\n",
    "sns.set_style('white')\n",
    "sns.scatterplot(x='orig_acc', y='ambiguity', data=models_df)"
   ]
  },
  {
   "cell_type": "code",
   "execution_count": 17,
   "metadata": {},
   "outputs": [
    {
     "data": {
      "text/plain": [
       "[{'model': 'inceptionv3',\n",
       "  'dataset': 'flowers102',\n",
       "  'orig_acc': 0.8942917547568711,\n",
       "  'ambiguity': 0.9495094053233587},\n",
       " {'model': 'resnet18',\n",
       "  'dataset': 'flowers102',\n",
       "  'orig_acc': 0.8944543828264758,\n",
       "  'ambiguity': 0.9557001138396487},\n",
       " {'model': 'MobileNetV2',\n",
       "  'dataset': 'flowers102',\n",
       "  'orig_acc': 0.9060009757684176,\n",
       "  'ambiguity': 0.9570445058817151},\n",
       " {'model': 'resnet50',\n",
       "  'dataset': 'flowers102',\n",
       "  'orig_acc': 0.9185233371279883,\n",
       "  'ambiguity': 0.9679785330948121}]"
      ]
     },
     "execution_count": 17,
     "metadata": {},
     "output_type": "execute_result"
    }
   ],
   "source": [
    "model_results"
   ]
  },
  {
   "cell_type": "code",
   "execution_count": null,
   "metadata": {},
   "outputs": [],
   "source": []
  }
 ],
 "metadata": {
  "kernelspec": {
   "display_name": "Python 3",
   "language": "python",
   "name": "python3"
  },
  "language_info": {
   "codemirror_mode": {
    "name": "ipython",
    "version": 3
   },
   "file_extension": ".py",
   "mimetype": "text/x-python",
   "name": "python",
   "nbconvert_exporter": "python",
   "pygments_lexer": "ipython3",
   "version": "3.7.9"
  }
 },
 "nbformat": 4,
 "nbformat_minor": 4
}
