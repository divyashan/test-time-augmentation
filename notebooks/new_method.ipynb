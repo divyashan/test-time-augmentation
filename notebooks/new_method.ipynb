{
 "cells": [
  {
   "cell_type": "code",
   "execution_count": 3,
   "metadata": {},
   "outputs": [
    {
     "name": "stdout",
     "output_type": "stream",
     "text": [
      "Using GPU:0\n",
      "Using GPU:1\n"
     ]
    }
   ],
   "source": [
    "%load_ext autoreload\n",
    "%autoreload 2\n",
    "import sys\n",
    "import numpy as np\n",
    "import matplotlib.pyplot as plt\n",
    "from tqdm.notebook import tqdm\n",
    "\n",
    "sys.path.insert(0, '../')\n",
    "\n",
    "import torch\n",
    "from torchvision import datasets, transforms\n",
    "from torch.utils.data.sampler import SubsetRandomSampler\n",
    "\n",
    "from mnist_train import Net\n",
    "from utils.gpu_utils import restrict_GPU_pytorch\n",
    "from utils.imagenet_utils import accuracy\n",
    "from utils.dataloading_utils import MyIter, MyLoader\n",
    "from new_tta_models import ImageW, ImageS, ImageWS, Original, StandardTTA\n",
    "\n",
    "restrict_GPU_pytorch('1')"
   ]
  },
  {
   "cell_type": "code",
   "execution_count": 14,
   "metadata": {},
   "outputs": [],
   "source": [
    "def eval_agg_model(agg_model, dataloader):\n",
    "    agg_model.eval()\n",
    "    agg_model.cuda('cuda:0')\n",
    "    model.cuda('cuda:0')\n",
    "    test_acc1s = []\n",
    "    test_acc5s = []\n",
    "    for examples, target in dataloader:\n",
    "        examples = examples.cuda('cuda:0', non_blocking=True)\n",
    "        target = target.cuda('cuda:0', non_blocking=True)    \n",
    "        output = agg_model(examples)\n",
    "        acc1, acc5 = accuracy(output, target, topk=(1, 5))\n",
    "        test_acc1s.append(acc1.item())\n",
    "        test_acc5s.append(acc5.item())\n",
    "    return np.mean(test_acc1s), np.mean(test_acc5s)\n",
    "\n",
    "\n",
    "def train_agg_model(model, n_augs, agg_model_name):\n",
    "    if agg_model_name == 'image_s':\n",
    "        agg_model = ImageS(model, 0, 1)\n",
    "    elif agg_model_name == 'image_w':\n",
    "        agg_model = ImageW(model,n_augs, 0, 1)\n",
    "    elif agg_model_name == 'image_ws':\n",
    "        agg_model = ImageWS(model,n_augs, 0, 1)\n",
    "\n",
    "    agg_model = ImageS(model, 0, 1)\n",
    "    agg_model.cuda('cuda:0')\n",
    "    criterion = torch.nn.CrossEntropyLoss()\n",
    "    criterion.cuda('cuda:0')\n",
    "    optimizer = torch.optim.SGD(agg_model.parameters(), lr=.01, momentum=.9, weight_decay=1e-4)\n",
    "\n",
    "    losses = []\n",
    "    acc1s = []\n",
    "    acc5s = []\n",
    "    epochs = 10\n",
    "    for epoch in tqdm(range(epochs)):\n",
    "        epoch_loss = []\n",
    "        for examples, target in data_loader:\n",
    "            examples = examples.cuda('cuda:0', non_blocking=True)\n",
    "            target = target.cuda('cuda:0', non_blocking=True)\n",
    "            output = agg_model(examples)\n",
    "            loss = criterion(output, target)\n",
    "            acc1, acc5 = accuracy(output, target, topk=(1, 5))\n",
    "\n",
    "            optimizer.zero_grad()\n",
    "            loss.backward()\n",
    "            optimizer.step()\n",
    "            epoch_loss.append(loss.item())\n",
    "            acc1s.append(acc1.item())\n",
    "            acc5s.append(acc5.item())\n",
    "        losses.append(np.mean(epoch_loss))\n",
    "    return agg_model, losses, acc1s, acc5s"
   ]
  },
  {
   "cell_type": "code",
   "execution_count": 15,
   "metadata": {},
   "outputs": [],
   "source": [
    "dataset = datasets.MNIST('../datasets', train=False, download=True, transform=transforms.Compose([\n",
    "                           transforms.ToTensor(),\n",
    "                           transforms.Normalize((0.1307,), (0.3081,))\n",
    "                       ]))\n",
    "hflip_dataset = datasets.MNIST('../datasets', download=True, train=False, transform=transforms.Compose([\n",
    "                           transforms.RandomHorizontalFlip(p=1),\n",
    "                           transforms.ToTensor(),\n",
    "                           transforms.Normalize((0.1307,), (0.3081,)),\n",
    "                       ]))\n",
    "vflip_dataset = datasets.MNIST('../datasets', download=True, train=False, transform=transforms.Compose([\n",
    "                           transforms.RandomVerticalFlip(p=1),\n",
    "                           transforms.ToTensor(),\n",
    "                           transforms.Normalize((0.1307,), (0.3081,)),\n",
    "                       ]))\n",
    "\n",
    "n_examples = len(dataset)\n",
    "subset_indices = np.arange(n_examples)\n",
    "np.random.shuffle(subset_indices)\n",
    "val_idxs = subset_indices[:int(len(subset_indices)/2)]\n",
    "test_idxs = subset_indices[int(len(subset_indices)/2):]\n",
    "batch_size = 1024\n",
    "n_augs = 2\n",
    "orig_val_loader = torch.utils.data.DataLoader(torch.utils.data.Subset(dataset, val_idxs), \n",
    "        batch_size=batch_size, shuffle=False)\n",
    "hflip_val_loader = torch.utils.data.DataLoader(torch.utils.data.Subset(hflip_dataset, val_idxs),\n",
    "                                                batch_size=batch_size, shuffle=False)\n",
    "vflip_val_loader = torch.utils.data.DataLoader(torch.utils.data.Subset(vflip_dataset, val_idxs),\n",
    "                                                batch_size=batch_size, shuffle=False)\n",
    "data_loader = MyLoader([orig_val_loader, hflip_val_loader])\n",
    "\n",
    "\n",
    "orig_test_loader = torch.utils.data.DataLoader(torch.utils.data.Subset(dataset, test_idxs), \n",
    "        batch_size=batch_size, shuffle=False)\n",
    "hflip_test_loader = torch.utils.data.DataLoader(torch.utils.data.Subset(hflip_dataset, test_idxs),\n",
    "                                                batch_size=batch_size, shuffle=False)\n",
    "vflip_test_loader = torch.utils.data.DataLoader(torch.utils.data.Subset(vflip_dataset, test_idxs),\n",
    "                                                batch_size=batch_size, shuffle=False)\n",
    "test_data_loader = MyLoader([orig_test_loader, hflip_test_loader])"
   ]
  },
  {
   "cell_type": "code",
   "execution_count": 17,
   "metadata": {},
   "outputs": [
    {
     "data": {
      "application/vnd.jupyter.widget-view+json": {
       "model_id": "d19b1365308f40ebb4a3f8569a7f3e40",
       "version_major": 2,
       "version_minor": 0
      },
      "text/plain": [
       "HBox(children=(FloatProgress(value=0.0, max=14.0), HTML(value='')))"
      ]
     },
     "metadata": {},
     "output_type": "display_data"
    },
    {
     "data": {
      "application/vnd.jupyter.widget-view+json": {
       "model_id": "aed13d3115504fb4abb6c270faf554d6",
       "version_major": 2,
       "version_minor": 0
      },
      "text/plain": [
       "HBox(children=(FloatProgress(value=0.0, max=10.0), HTML(value='')))"
      ]
     },
     "metadata": {},
     "output_type": "display_data"
    },
    {
     "name": "stdout",
     "output_type": "stream",
     "text": [
      "\n"
     ]
    },
    {
     "data": {
      "application/vnd.jupyter.widget-view+json": {
       "model_id": "31237cc62d374f5594ccd7251c8a1146",
       "version_major": 2,
       "version_minor": 0
      },
      "text/plain": [
       "HBox(children=(FloatProgress(value=0.0, max=10.0), HTML(value='')))"
      ]
     },
     "metadata": {},
     "output_type": "display_data"
    },
    {
     "name": "stdout",
     "output_type": "stream",
     "text": [
      "\n"
     ]
    },
    {
     "data": {
      "application/vnd.jupyter.widget-view+json": {
       "model_id": "70d9326073fe499fa81dcb7e579e152e",
       "version_major": 2,
       "version_minor": 0
      },
      "text/plain": [
       "HBox(children=(FloatProgress(value=0.0, max=10.0), HTML(value='')))"
      ]
     },
     "metadata": {},
     "output_type": "display_data"
    },
    {
     "name": "stdout",
     "output_type": "stream",
     "text": [
      "\n"
     ]
    },
    {
     "data": {
      "application/vnd.jupyter.widget-view+json": {
       "model_id": "1865cf828738434fb0519630a5ae2f88",
       "version_major": 2,
       "version_minor": 0
      },
      "text/plain": [
       "HBox(children=(FloatProgress(value=0.0, max=10.0), HTML(value='')))"
      ]
     },
     "metadata": {},
     "output_type": "display_data"
    },
    {
     "name": "stdout",
     "output_type": "stream",
     "text": [
      "\n"
     ]
    },
    {
     "data": {
      "application/vnd.jupyter.widget-view+json": {
       "model_id": "85bf991cd3e94245b0d6d1110ecbce2a",
       "version_major": 2,
       "version_minor": 0
      },
      "text/plain": [
       "HBox(children=(FloatProgress(value=0.0, max=10.0), HTML(value='')))"
      ]
     },
     "metadata": {},
     "output_type": "display_data"
    },
    {
     "name": "stdout",
     "output_type": "stream",
     "text": [
      "\n"
     ]
    },
    {
     "data": {
      "application/vnd.jupyter.widget-view+json": {
       "model_id": "3a341335cb834e5c8f7a0ece36592384",
       "version_major": 2,
       "version_minor": 0
      },
      "text/plain": [
       "HBox(children=(FloatProgress(value=0.0, max=10.0), HTML(value='')))"
      ]
     },
     "metadata": {},
     "output_type": "display_data"
    },
    {
     "name": "stdout",
     "output_type": "stream",
     "text": [
      "\n"
     ]
    },
    {
     "data": {
      "application/vnd.jupyter.widget-view+json": {
       "model_id": "414aebce9bd84cfbb39ce5f21f663ace",
       "version_major": 2,
       "version_minor": 0
      },
      "text/plain": [
       "HBox(children=(FloatProgress(value=0.0, max=10.0), HTML(value='')))"
      ]
     },
     "metadata": {},
     "output_type": "display_data"
    },
    {
     "name": "stdout",
     "output_type": "stream",
     "text": [
      "\n"
     ]
    },
    {
     "data": {
      "application/vnd.jupyter.widget-view+json": {
       "model_id": "0627e830dc904aac8ac340a9d2fa6864",
       "version_major": 2,
       "version_minor": 0
      },
      "text/plain": [
       "HBox(children=(FloatProgress(value=0.0, max=10.0), HTML(value='')))"
      ]
     },
     "metadata": {},
     "output_type": "display_data"
    },
    {
     "name": "stdout",
     "output_type": "stream",
     "text": [
      "\n"
     ]
    },
    {
     "data": {
      "application/vnd.jupyter.widget-view+json": {
       "model_id": "3fdb6fe4d5d04230a755a356d405c830",
       "version_major": 2,
       "version_minor": 0
      },
      "text/plain": [
       "HBox(children=(FloatProgress(value=0.0, max=10.0), HTML(value='')))"
      ]
     },
     "metadata": {},
     "output_type": "display_data"
    },
    {
     "name": "stdout",
     "output_type": "stream",
     "text": [
      "\n"
     ]
    },
    {
     "data": {
      "application/vnd.jupyter.widget-view+json": {
       "model_id": "336b653ee3f545d380ac21e68b6b93ba",
       "version_major": 2,
       "version_minor": 0
      },
      "text/plain": [
       "HBox(children=(FloatProgress(value=0.0, max=10.0), HTML(value='')))"
      ]
     },
     "metadata": {},
     "output_type": "display_data"
    },
    {
     "name": "stdout",
     "output_type": "stream",
     "text": [
      "\n"
     ]
    },
    {
     "data": {
      "application/vnd.jupyter.widget-view+json": {
       "model_id": "ed49666a5fe149d08c51f52c91383f0c",
       "version_major": 2,
       "version_minor": 0
      },
      "text/plain": [
       "HBox(children=(FloatProgress(value=0.0, max=10.0), HTML(value='')))"
      ]
     },
     "metadata": {},
     "output_type": "display_data"
    },
    {
     "name": "stdout",
     "output_type": "stream",
     "text": [
      "\n"
     ]
    },
    {
     "data": {
      "application/vnd.jupyter.widget-view+json": {
       "model_id": "95de4537d91b4e37a22dd98818ed31b3",
       "version_major": 2,
       "version_minor": 0
      },
      "text/plain": [
       "HBox(children=(FloatProgress(value=0.0, max=10.0), HTML(value='')))"
      ]
     },
     "metadata": {},
     "output_type": "display_data"
    },
    {
     "name": "stdout",
     "output_type": "stream",
     "text": [
      "\n"
     ]
    },
    {
     "data": {
      "application/vnd.jupyter.widget-view+json": {
       "model_id": "6d5be78dda334d779e68ce92b4534738",
       "version_major": 2,
       "version_minor": 0
      },
      "text/plain": [
       "HBox(children=(FloatProgress(value=0.0, max=10.0), HTML(value='')))"
      ]
     },
     "metadata": {},
     "output_type": "display_data"
    },
    {
     "name": "stdout",
     "output_type": "stream",
     "text": [
      "\n"
     ]
    },
    {
     "data": {
      "application/vnd.jupyter.widget-view+json": {
       "model_id": "4959da3a62f44895ac8cf1d90916d199",
       "version_major": 2,
       "version_minor": 0
      },
      "text/plain": [
       "HBox(children=(FloatProgress(value=0.0, max=10.0), HTML(value='')))"
      ]
     },
     "metadata": {},
     "output_type": "display_data"
    },
    {
     "name": "stdout",
     "output_type": "stream",
     "text": [
      "\n"
     ]
    },
    {
     "data": {
      "application/vnd.jupyter.widget-view+json": {
       "model_id": "db39c0c0bfdd40eb9f9a6595f9063865",
       "version_major": 2,
       "version_minor": 0
      },
      "text/plain": [
       "HBox(children=(FloatProgress(value=0.0, max=10.0), HTML(value='')))"
      ]
     },
     "metadata": {},
     "output_type": "display_data"
    },
    {
     "name": "stdout",
     "output_type": "stream",
     "text": [
      "\n"
     ]
    },
    {
     "data": {
      "application/vnd.jupyter.widget-view+json": {
       "model_id": "d7c628a382ef46fdb672d7830d465e58",
       "version_major": 2,
       "version_minor": 0
      },
      "text/plain": [
       "HBox(children=(FloatProgress(value=0.0, max=10.0), HTML(value='')))"
      ]
     },
     "metadata": {},
     "output_type": "display_data"
    },
    {
     "name": "stdout",
     "output_type": "stream",
     "text": [
      "\n"
     ]
    },
    {
     "data": {
      "application/vnd.jupyter.widget-view+json": {
       "model_id": "fa581bacaedc4e47bf62bfcef270917c",
       "version_major": 2,
       "version_minor": 0
      },
      "text/plain": [
       "HBox(children=(FloatProgress(value=0.0, max=10.0), HTML(value='')))"
      ]
     },
     "metadata": {},
     "output_type": "display_data"
    },
    {
     "name": "stdout",
     "output_type": "stream",
     "text": [
      "\n"
     ]
    },
    {
     "data": {
      "application/vnd.jupyter.widget-view+json": {
       "model_id": "f84772ea7bea4302b4e782fef9d4f908",
       "version_major": 2,
       "version_minor": 0
      },
      "text/plain": [
       "HBox(children=(FloatProgress(value=0.0, max=10.0), HTML(value='')))"
      ]
     },
     "metadata": {},
     "output_type": "display_data"
    },
    {
     "name": "stdout",
     "output_type": "stream",
     "text": [
      "\n"
     ]
    },
    {
     "data": {
      "application/vnd.jupyter.widget-view+json": {
       "model_id": "72a78e09b5544abcba33d95e6ebbc898",
       "version_major": 2,
       "version_minor": 0
      },
      "text/plain": [
       "HBox(children=(FloatProgress(value=0.0, max=10.0), HTML(value='')))"
      ]
     },
     "metadata": {},
     "output_type": "display_data"
    },
    {
     "name": "stdout",
     "output_type": "stream",
     "text": [
      "\n"
     ]
    },
    {
     "data": {
      "application/vnd.jupyter.widget-view+json": {
       "model_id": "fbf6a5d92f6645dda4eb715b75466ad9",
       "version_major": 2,
       "version_minor": 0
      },
      "text/plain": [
       "HBox(children=(FloatProgress(value=0.0, max=10.0), HTML(value='')))"
      ]
     },
     "metadata": {},
     "output_type": "display_data"
    },
    {
     "name": "stdout",
     "output_type": "stream",
     "text": [
      "\n"
     ]
    },
    {
     "data": {
      "application/vnd.jupyter.widget-view+json": {
       "model_id": "14316f308c20434ab86900b87080fde0",
       "version_major": 2,
       "version_minor": 0
      },
      "text/plain": [
       "HBox(children=(FloatProgress(value=0.0, max=10.0), HTML(value='')))"
      ]
     },
     "metadata": {},
     "output_type": "display_data"
    },
    {
     "name": "stdout",
     "output_type": "stream",
     "text": [
      "\n"
     ]
    },
    {
     "data": {
      "application/vnd.jupyter.widget-view+json": {
       "model_id": "cb1a59eb22c148ccbdcc7d7e9ad58a6f",
       "version_major": 2,
       "version_minor": 0
      },
      "text/plain": [
       "HBox(children=(FloatProgress(value=0.0, max=10.0), HTML(value='')))"
      ]
     },
     "metadata": {},
     "output_type": "display_data"
    },
    {
     "name": "stdout",
     "output_type": "stream",
     "text": [
      "\n"
     ]
    },
    {
     "data": {
      "application/vnd.jupyter.widget-view+json": {
       "model_id": "fbbdc0264e1c4886a96fb8d10b3a054c",
       "version_major": 2,
       "version_minor": 0
      },
      "text/plain": [
       "HBox(children=(FloatProgress(value=0.0, max=10.0), HTML(value='')))"
      ]
     },
     "metadata": {},
     "output_type": "display_data"
    },
    {
     "name": "stdout",
     "output_type": "stream",
     "text": [
      "\n"
     ]
    },
    {
     "data": {
      "application/vnd.jupyter.widget-view+json": {
       "model_id": "ea607ebd7c4443078e1f43e2cfd36bab",
       "version_major": 2,
       "version_minor": 0
      },
      "text/plain": [
       "HBox(children=(FloatProgress(value=0.0, max=10.0), HTML(value='')))"
      ]
     },
     "metadata": {},
     "output_type": "display_data"
    },
    {
     "name": "stdout",
     "output_type": "stream",
     "text": [
      "\n"
     ]
    },
    {
     "data": {
      "application/vnd.jupyter.widget-view+json": {
       "model_id": "6c185f7e6a6f4100955c4e0dbb20448e",
       "version_major": 2,
       "version_minor": 0
      },
      "text/plain": [
       "HBox(children=(FloatProgress(value=0.0, max=10.0), HTML(value='')))"
      ]
     },
     "metadata": {},
     "output_type": "display_data"
    },
    {
     "name": "stdout",
     "output_type": "stream",
     "text": [
      "\n"
     ]
    },
    {
     "data": {
      "application/vnd.jupyter.widget-view+json": {
       "model_id": "349b77772165459c81fa63168912a62d",
       "version_major": 2,
       "version_minor": 0
      },
      "text/plain": [
       "HBox(children=(FloatProgress(value=0.0, max=10.0), HTML(value='')))"
      ]
     },
     "metadata": {},
     "output_type": "display_data"
    },
    {
     "name": "stdout",
     "output_type": "stream",
     "text": [
      "\n"
     ]
    },
    {
     "data": {
      "application/vnd.jupyter.widget-view+json": {
       "model_id": "2501ac6932e3492da09b793a9c2b5c4c",
       "version_major": 2,
       "version_minor": 0
      },
      "text/plain": [
       "HBox(children=(FloatProgress(value=0.0, max=10.0), HTML(value='')))"
      ]
     },
     "metadata": {},
     "output_type": "display_data"
    },
    {
     "name": "stdout",
     "output_type": "stream",
     "text": [
      "\n"
     ]
    },
    {
     "data": {
      "application/vnd.jupyter.widget-view+json": {
       "model_id": "d6ea672057304eb2bf17854f2db47255",
       "version_major": 2,
       "version_minor": 0
      },
      "text/plain": [
       "HBox(children=(FloatProgress(value=0.0, max=10.0), HTML(value='')))"
      ]
     },
     "metadata": {},
     "output_type": "display_data"
    },
    {
     "name": "stdout",
     "output_type": "stream",
     "text": [
      "\n"
     ]
    },
    {
     "data": {
      "application/vnd.jupyter.widget-view+json": {
       "model_id": "5d05a42c284940d0821ccda4b9221a86",
       "version_major": 2,
       "version_minor": 0
      },
      "text/plain": [
       "HBox(children=(FloatProgress(value=0.0, max=10.0), HTML(value='')))"
      ]
     },
     "metadata": {},
     "output_type": "display_data"
    },
    {
     "name": "stdout",
     "output_type": "stream",
     "text": [
      "\n"
     ]
    },
    {
     "data": {
      "application/vnd.jupyter.widget-view+json": {
       "model_id": "8f05263ccf5c474788859723fcb3277c",
       "version_major": 2,
       "version_minor": 0
      },
      "text/plain": [
       "HBox(children=(FloatProgress(value=0.0, max=10.0), HTML(value='')))"
      ]
     },
     "metadata": {},
     "output_type": "display_data"
    },
    {
     "name": "stdout",
     "output_type": "stream",
     "text": [
      "\n"
     ]
    },
    {
     "data": {
      "application/vnd.jupyter.widget-view+json": {
       "model_id": "63658a3d46b8436f95ca708b555fee9b",
       "version_major": 2,
       "version_minor": 0
      },
      "text/plain": [
       "HBox(children=(FloatProgress(value=0.0, max=10.0), HTML(value='')))"
      ]
     },
     "metadata": {},
     "output_type": "display_data"
    },
    {
     "name": "stdout",
     "output_type": "stream",
     "text": [
      "\n"
     ]
    },
    {
     "data": {
      "application/vnd.jupyter.widget-view+json": {
       "model_id": "6dd9d17bc25e455d9bfcbfb734808252",
       "version_major": 2,
       "version_minor": 0
      },
      "text/plain": [
       "HBox(children=(FloatProgress(value=0.0, max=10.0), HTML(value='')))"
      ]
     },
     "metadata": {},
     "output_type": "display_data"
    },
    {
     "name": "stdout",
     "output_type": "stream",
     "text": [
      "\n"
     ]
    },
    {
     "data": {
      "application/vnd.jupyter.widget-view+json": {
       "model_id": "03de1d27effc4814b2bc0893528c6ee7",
       "version_major": 2,
       "version_minor": 0
      },
      "text/plain": [
       "HBox(children=(FloatProgress(value=0.0, max=10.0), HTML(value='')))"
      ]
     },
     "metadata": {},
     "output_type": "display_data"
    },
    {
     "name": "stdout",
     "output_type": "stream",
     "text": [
      "\n"
     ]
    },
    {
     "data": {
      "application/vnd.jupyter.widget-view+json": {
       "model_id": "b537f2d8c59b47b9bbe6f7f4092fe50b",
       "version_major": 2,
       "version_minor": 0
      },
      "text/plain": [
       "HBox(children=(FloatProgress(value=0.0, max=10.0), HTML(value='')))"
      ]
     },
     "metadata": {},
     "output_type": "display_data"
    },
    {
     "name": "stdout",
     "output_type": "stream",
     "text": [
      "\n"
     ]
    },
    {
     "data": {
      "application/vnd.jupyter.widget-view+json": {
       "model_id": "f1d6ac1e00fb4837a7f1f28d3cdf9fbb",
       "version_major": 2,
       "version_minor": 0
      },
      "text/plain": [
       "HBox(children=(FloatProgress(value=0.0, max=10.0), HTML(value='')))"
      ]
     },
     "metadata": {},
     "output_type": "display_data"
    },
    {
     "name": "stdout",
     "output_type": "stream",
     "text": [
      "\n"
     ]
    },
    {
     "data": {
      "application/vnd.jupyter.widget-view+json": {
       "model_id": "e0f349158f734d1aa21b848adf3c216d",
       "version_major": 2,
       "version_minor": 0
      },
      "text/plain": [
       "HBox(children=(FloatProgress(value=0.0, max=10.0), HTML(value='')))"
      ]
     },
     "metadata": {},
     "output_type": "display_data"
    },
    {
     "name": "stdout",
     "output_type": "stream",
     "text": [
      "\n"
     ]
    },
    {
     "data": {
      "application/vnd.jupyter.widget-view+json": {
       "model_id": "a5487760fc244418bd4efee24a626a50",
       "version_major": 2,
       "version_minor": 0
      },
      "text/plain": [
       "HBox(children=(FloatProgress(value=0.0, max=10.0), HTML(value='')))"
      ]
     },
     "metadata": {},
     "output_type": "display_data"
    },
    {
     "name": "stdout",
     "output_type": "stream",
     "text": [
      "\n"
     ]
    },
    {
     "data": {
      "application/vnd.jupyter.widget-view+json": {
       "model_id": "9ddc89e83379495eb6691b7872741d1c",
       "version_major": 2,
       "version_minor": 0
      },
      "text/plain": [
       "HBox(children=(FloatProgress(value=0.0, max=10.0), HTML(value='')))"
      ]
     },
     "metadata": {},
     "output_type": "display_data"
    },
    {
     "name": "stdout",
     "output_type": "stream",
     "text": [
      "\n"
     ]
    },
    {
     "data": {
      "application/vnd.jupyter.widget-view+json": {
       "model_id": "b400a7d1648f44e0a581524e3792fb76",
       "version_major": 2,
       "version_minor": 0
      },
      "text/plain": [
       "HBox(children=(FloatProgress(value=0.0, max=10.0), HTML(value='')))"
      ]
     },
     "metadata": {},
     "output_type": "display_data"
    },
    {
     "name": "stdout",
     "output_type": "stream",
     "text": [
      "\n"
     ]
    },
    {
     "data": {
      "application/vnd.jupyter.widget-view+json": {
       "model_id": "0cc359c470d54d588e2f972102ea5759",
       "version_major": 2,
       "version_minor": 0
      },
      "text/plain": [
       "HBox(children=(FloatProgress(value=0.0, max=10.0), HTML(value='')))"
      ]
     },
     "metadata": {},
     "output_type": "display_data"
    },
    {
     "name": "stdout",
     "output_type": "stream",
     "text": [
      "\n"
     ]
    },
    {
     "data": {
      "application/vnd.jupyter.widget-view+json": {
       "model_id": "162999830b624300bec5814d71718ba3",
       "version_major": 2,
       "version_minor": 0
      },
      "text/plain": [
       "HBox(children=(FloatProgress(value=0.0, max=10.0), HTML(value='')))"
      ]
     },
     "metadata": {},
     "output_type": "display_data"
    },
    {
     "name": "stdout",
     "output_type": "stream",
     "text": [
      "\n"
     ]
    },
    {
     "data": {
      "application/vnd.jupyter.widget-view+json": {
       "model_id": "60e05063cdc84483b3c33b0d157977a8",
       "version_major": 2,
       "version_minor": 0
      },
      "text/plain": [
       "HBox(children=(FloatProgress(value=0.0, max=10.0), HTML(value='')))"
      ]
     },
     "metadata": {},
     "output_type": "display_data"
    },
    {
     "name": "stdout",
     "output_type": "stream",
     "text": [
      "\n",
      "\n"
     ]
    }
   ],
   "source": [
    "pcts = [.005, .01, .05, .075,  .1, .2, .3, .4, .5, .6, .7, .8, .9, 1]\n",
    "results = []\n",
    "for pct in tqdm(pcts):\n",
    "    model = Net()\n",
    "    model.load_state_dict(torch.load('../saved_models/mnist/mnist_cnn_' + str(pct) + '.pth'))\n",
    "    model.eval()\n",
    "    \n",
    "    # Original model\n",
    "    orig_model = Original(model, 0)\n",
    "    orig_acc1, orig_acc5 = eval_agg_model(orig_model, test_data_loader)\n",
    "    results.append({'agg_model': 'orig', 'pct': pct, 'acc1': orig_acc1, 'acc5': orig_acc5})\n",
    "    # stta model\n",
    "    stta_model = StandardTTA(model)\n",
    "    stta_acc1, stta_acc5 = eval_agg_model(stta_model, test_data_loader)\n",
    "    results.append({'agg_model': 'stta', 'pct': pct, 'acc1': stta_acc1, 'acc5': stta_acc5})\n",
    "    \n",
    "    # image to s \n",
    "    s_model, losses, acc1s, acc5s = train_agg_model(model, n_augs, 'image_s')\n",
    "    acc1, acc5 = eval_agg_model(s_model, test_data_loader)\n",
    "    results.append({'agg_model': 'image_s', 'pct': pct, 'acc1': acc1, 'acc5': acc5})\n",
    "\n",
    "    # image to w \n",
    "    w_model, losses, acc1s, acc5s = train_agg_model(model, n_augs, 'image_w')\n",
    "    acc1, acc5 = eval_agg_model(w_model, test_data_loader)\n",
    "    results.append({'agg_model': 'image_w', 'pct': pct, 'acc1': acc1, 'acc5': acc5})\n",
    "\n",
    "    # image to s and w \n",
    "    ws_model, losses, acc1s, acc5s = train_agg_model(model, n_augs, 'image_ws')\n",
    "    acc1, acc5 = eval_agg_model(ws_model, test_data_loader)\n",
    "    results.append({'agg_model': 'image_ws', 'pct': pct, 'acc1': acc1, 'acc5': acc5})\n",
    "results_df = pd.DataFrame(results)\n"
   ]
  },
  {
   "cell_type": "code",
   "execution_count": 24,
   "metadata": {},
   "outputs": [
    {
     "data": {
      "text/plain": [
       "<AxesSubplot:xlabel='pct', ylabel='acc1'>"
      ]
     },
     "execution_count": 24,
     "metadata": {},
     "output_type": "execute_result"
    },
    {
     "data": {
      "image/png": "[encoded data removed]",
      "text/plain": [
       "<Figure size 432x288 with 1 Axes>"
      ]
     },
     "metadata": {},
     "output_type": "display_data"
    }
   ],
   "source": [
    "import pandas as pd\n",
    "import seaborn as sns\n",
    "sns.set_style('white')\n",
    "non_stta = results_df[results_df['agg_model'] != 'stta']\n",
    "non_stta = non_stta[non_stta['pct'] > .2]\n",
    "sns.lineplot(x='pct', y='acc1', hue='agg_model', data=non_stta)"
   ]
  },
  {
   "cell_type": "markdown",
   "metadata": {},
   "source": [
    "# Original Model"
   ]
  },
  {
   "cell_type": "code",
   "execution_count": 66,
   "metadata": {},
   "outputs": [
    {
     "name": "stdout",
     "output_type": "stream",
     "text": [
      "91.28595123291015 99.44275512695313\n"
     ]
    }
   ],
   "source": []
  },
  {
   "cell_type": "markdown",
   "metadata": {},
   "source": [
    "# Training Image --> S "
   ]
  },
  {
   "cell_type": "code",
   "execution_count": 67,
   "metadata": {},
   "outputs": [
    {
     "data": {
      "application/vnd.jupyter.widget-view+json": {
       "model_id": "f0759166be714c4cb84cf531067aac8a",
       "version_major": 2,
       "version_minor": 0
      },
      "text/plain": [
       "HBox(children=(FloatProgress(value=0.0, max=10.0), HTML(value='')))"
      ]
     },
     "metadata": {},
     "output_type": "display_data"
    },
    {
     "name": "stdout",
     "output_type": "stream",
     "text": [
      "\n"
     ]
    }
   ],
   "source": []
  },
  {
   "cell_type": "code",
   "execution_count": 68,
   "metadata": {},
   "outputs": [
    {
     "name": "stdout",
     "output_type": "stream",
     "text": [
      "91.24688873291015 99.46228637695313\n"
     ]
    }
   ],
   "source": [
    "def eval_agg_model(agg_model, dataloader):\n",
    "    agg_model.eval()\n",
    "    agg_model.cuda('cuda:0')\n",
    "    model.cuda('cuda:0')\n",
    "    test_acc1s = []\n",
    "    test_acc5s = []\n",
    "    for examples, target in dataloader:\n",
    "        examples = examples.cuda('cuda:0', non_blocking=True)\n",
    "        target = target.cuda('cuda:0', non_blocking=True)    \n",
    "        output = agg_model(examples)\n",
    "        acc1, acc5 = accuracy(output, target, topk=(1, 5))\n",
    "        test_acc1s.append(acc1.item())\n",
    "        test_acc5s.append(acc5.item())\n",
    "    return np.mean(test_acc1s), np.mean(test_acc5s)"
   ]
  },
  {
   "cell_type": "markdown",
   "metadata": {},
   "source": [
    "# Training Image --> W "
   ]
  },
  {
   "cell_type": "code",
   "execution_count": 70,
   "metadata": {},
   "outputs": [
    {
     "data": {
      "application/vnd.jupyter.widget-view+json": {
       "model_id": "567d5bce941946aaaf807c07ddad013f",
       "version_major": 2,
       "version_minor": 0
      },
      "text/plain": [
       "HBox(children=(FloatProgress(value=0.0, max=10.0), HTML(value='')))"
      ]
     },
     "metadata": {},
     "output_type": "display_data"
    },
    {
     "name": "stdout",
     "output_type": "stream",
     "text": [
      "\n"
     ]
    }
   ],
   "source": [
    "def train_image_to_w(model, n_augs):\n",
    "    w_model = ImageW(model,n_augs, 0, 1)\n",
    "    w_model.cuda('cuda:0')\n",
    "    criterion = torch.nn.CrossEntropyLoss()\n",
    "    criterion.cuda('cuda:0')\n",
    "    optimizer = torch.optim.SGD(w_model.parameters(), lr=.01, momentum=.9, weight_decay=1e-4)\n",
    "\n",
    "\n",
    "    losses = []\n",
    "    acc1s = []\n",
    "    acc5s = []\n",
    "    epochs = 10\n",
    "    for epoch in tqdm(range(epochs)):\n",
    "        for examples, target in data_loader:\n",
    "            examples = examples.cuda('cuda:0', non_blocking=True)\n",
    "            target = target.cuda('cuda:0', non_blocking=True)\n",
    "            output = w_model(examples)\n",
    "            loss = criterion(output, target)\n",
    "            acc1, acc5 = accuracy(output, target, topk=(1, 5))\n",
    "\n",
    "            optimizer.zero_grad()\n",
    "            loss.backward()\n",
    "            optimizer.step()\n",
    "            losses.append(loss.item())\n",
    "            acc1s.append(acc1.item())\n",
    "            acc5s.append(acc5.item())\n",
    "    return w_model, losses, acc1s, acc5s"
   ]
  },
  {
   "cell_type": "code",
   "execution_count": 72,
   "metadata": {},
   "outputs": [
    {
     "data": {
      "text/plain": [
       "<matplotlib.legend.Legend at 0x7f14e422e110>"
      ]
     },
     "execution_count": 72,
     "metadata": {},
     "output_type": "execute_result"
    },
    {
     "data": {
      "image/png": "[encoded data removed]",
      "text/plain": [
       "<Figure size 432x288 with 1 Axes>"
      ]
     },
     "metadata": {
      "needs_background": "light"
     },
     "output_type": "display_data"
    }
   ],
   "source": [
    "w_vals = w_model.get_w(examples).detach().cpu().numpy()\n",
    "first_num = 3\n",
    "second_num = 6\n",
    "first_idxs = np.where(target.detach().cpu().numpy()== first_num)[0]\n",
    "second_idxs = np.where(target.detach().cpu().numpy()== second_num)[0]\n",
    "plt.hist(w_vals[:,1][first_idxs], alpha=.5, label=str(first_num))\n",
    "plt.hist(w_vals[:,1][second_idxs], alpha=.5, label=str(second_num))\n",
    "plt.legend()"
   ]
  },
  {
   "cell_type": "code",
   "execution_count": null,
   "metadata": {},
   "outputs": [],
   "source": []
  },
  {
   "cell_type": "code",
   "execution_count": null,
   "metadata": {},
   "outputs": [],
   "source": []
  },
  {
   "cell_type": "code",
   "execution_count": 73,
   "metadata": {},
   "outputs": [
    {
     "data": {
      "text/plain": [
       "[<matplotlib.lines.Line2D at 0x7f14e41b4410>]"
      ]
     },
     "execution_count": 73,
     "metadata": {},
     "output_type": "execute_result"
    },
    {
     "data": {
      "image/png": "[encoded data removed]",
      "text/plain": [
       "<Figure size 432x288 with 1 Axes>"
      ]
     },
     "metadata": {
      "needs_background": "light"
     },
     "output_type": "display_data"
    }
   ],
   "source": [
    "plt.plot(losses)"
   ]
  },
  {
   "cell_type": "markdown",
   "metadata": {},
   "source": [
    "# Training Image --> W, S"
   ]
  },
  {
   "cell_type": "code",
   "execution_count": 74,
   "metadata": {},
   "outputs": [
    {
     "data": {
      "application/vnd.jupyter.widget-view+json": {
       "model_id": "ccf53f098e6f4af5898c08b77d1c26ca",
       "version_major": 2,
       "version_minor": 0
      },
      "text/plain": [
       "HBox(children=(FloatProgress(value=0.0, max=25.0), HTML(value='')))"
      ]
     },
     "metadata": {},
     "output_type": "display_data"
    },
    {
     "name": "stdout",
     "output_type": "stream",
     "text": [
      "\n"
     ]
    }
   ],
   "source": [
    "def train_image_to_ws(model, n_augs):\n",
    "    ws_model = ImageWS(model,n_augs, 0, 1)\n",
    "    ws_model.cuda('cuda:0')\n",
    "    criterion = torch.nn.CrossEntropyLoss()\n",
    "    criterion.cuda('cuda:0')\n",
    "    optimizer = torch.optim.SGD(ws_model.parameters(), lr=.01, momentum=.9, weight_decay=1e-4)\n",
    "\n",
    "\n",
    "    losses = []\n",
    "    acc1s = []\n",
    "    acc5s = []\n",
    "    epochs = 25\n",
    "    for epoch in tqdm(range(epochs)):\n",
    "        for examples, target in data_loader:\n",
    "            examples = examples.cuda('cuda:0', non_blocking=True)\n",
    "            target = target.cuda('cuda:0', non_blocking=True)\n",
    "            output = ws_model(examples)\n",
    "            loss = criterion(output, target)\n",
    "            acc1, acc5 = accuracy(output, target, topk=(1, 5))\n",
    "\n",
    "            optimizer.zero_grad()\n",
    "            loss.backward()\n",
    "            optimizer.step()\n",
    "            losses.append(loss.item())\n",
    "            acc1s.append(acc1.item())\n",
    "            acc5s.append(acc5.item())\n",
    "    return ws_model, losses, acc1s, acc5s"
   ]
  },
  {
   "cell_type": "code",
   "execution_count": 75,
   "metadata": {},
   "outputs": [
    {
     "name": "stdout",
     "output_type": "stream",
     "text": [
      "91.28595123291015 99.44275512695313\n"
     ]
    }
   ],
   "source": [
    "ws_model.eval()\n",
    "ws_model.cuda('cuda:0')\n",
    "test_acc1s = []\n",
    "test_acc5s = []\n",
    "for examples, target in test_data_loader:\n",
    "    examples = examples.cuda('cuda:0', non_blocking=True)\n",
    "    target = target.cuda('cuda:0', non_blocking=True)    \n",
    "    output = ws_model(examples)\n",
    "    acc1, acc5 = accuracy(output, target, topk=(1, 5))\n",
    "    test_acc1s.append(acc1.item())\n",
    "    test_acc5s.append(acc5.item())\n",
    "print(np.mean(test_acc1s), np.mean(test_acc5s))"
   ]
  },
  {
   "cell_type": "code",
   "execution_count": 76,
   "metadata": {},
   "outputs": [
    {
     "data": {
      "text/plain": [
       "(tensor([[0.0020],\n",
       "         [0.0075],\n",
       "         [0.0047],\n",
       "         [0.0202],\n",
       "         [0.0029],\n",
       "         [0.0165],\n",
       "         [0.0037],\n",
       "         [0.0022],\n",
       "         [0.0056],\n",
       "         [0.0032],\n",
       "         [0.0198],\n",
       "         [0.0051],\n",
       "         [0.0158],\n",
       "         [0.0055],\n",
       "         [0.0078],\n",
       "         [0.0247],\n",
       "         [0.0125],\n",
       "         [0.0028],\n",
       "         [0.0362],\n",
       "         [0.0044],\n",
       "         [0.0088],\n",
       "         [0.0128],\n",
       "         [0.0139],\n",
       "         [0.0105],\n",
       "         [0.0154],\n",
       "         [0.0147],\n",
       "         [0.0059],\n",
       "         [0.0027],\n",
       "         [0.0019],\n",
       "         [0.0078],\n",
       "         [0.0077],\n",
       "         [0.0053],\n",
       "         [0.0125],\n",
       "         [0.0040],\n",
       "         [0.0066],\n",
       "         [0.0281],\n",
       "         [0.0064],\n",
       "         [0.0037],\n",
       "         [0.0096],\n",
       "         [0.0157],\n",
       "         [0.0037],\n",
       "         [0.0032],\n",
       "         [0.0013],\n",
       "         [0.0151],\n",
       "         [0.0120],\n",
       "         [0.0061],\n",
       "         [0.0067],\n",
       "         [0.0087],\n",
       "         [0.0102],\n",
       "         [0.0014],\n",
       "         [0.0117],\n",
       "         [0.0019],\n",
       "         [0.0434],\n",
       "         [0.0264],\n",
       "         [0.0082],\n",
       "         [0.0045],\n",
       "         [0.0061],\n",
       "         [0.0064],\n",
       "         [0.0055],\n",
       "         [0.0028],\n",
       "         [0.0128],\n",
       "         [0.0023],\n",
       "         [0.0281],\n",
       "         [0.0059],\n",
       "         [0.0034],\n",
       "         [0.0487],\n",
       "         [0.0023],\n",
       "         [0.0011],\n",
       "         [0.0133],\n",
       "         [0.0129],\n",
       "         [0.0025],\n",
       "         [0.0117],\n",
       "         [0.0230],\n",
       "         [0.0021],\n",
       "         [0.0178],\n",
       "         [0.0037],\n",
       "         [0.0107],\n",
       "         [0.0157],\n",
       "         [0.0109],\n",
       "         [0.0085],\n",
       "         [0.0102],\n",
       "         [0.0047],\n",
       "         [0.0039],\n",
       "         [0.0068],\n",
       "         [0.0046],\n",
       "         [0.0094],\n",
       "         [0.0037],\n",
       "         [0.0059],\n",
       "         [0.0043],\n",
       "         [0.0111],\n",
       "         [0.0015],\n",
       "         [0.0767],\n",
       "         [0.0438],\n",
       "         [0.0119],\n",
       "         [0.0103],\n",
       "         [0.0042],\n",
       "         [0.0095],\n",
       "         [0.0447],\n",
       "         [0.0026],\n",
       "         [0.0159],\n",
       "         [0.0078],\n",
       "         [0.0231],\n",
       "         [0.0120],\n",
       "         [0.0175],\n",
       "         [0.0026],\n",
       "         [0.0305],\n",
       "         [0.0413],\n",
       "         [0.0078],\n",
       "         [0.0060],\n",
       "         [0.0069],\n",
       "         [0.0127],\n",
       "         [0.0124],\n",
       "         [0.0099],\n",
       "         [0.0087],\n",
       "         [0.0085],\n",
       "         [0.0061],\n",
       "         [0.0044],\n",
       "         [0.0202],\n",
       "         [0.0079],\n",
       "         [0.0259],\n",
       "         [0.0120],\n",
       "         [0.0032],\n",
       "         [0.0206],\n",
       "         [0.0090],\n",
       "         [0.0336],\n",
       "         [0.0059],\n",
       "         [0.0012],\n",
       "         [0.0061],\n",
       "         [0.0037],\n",
       "         [0.0108],\n",
       "         [0.0134],\n",
       "         [0.0171],\n",
       "         [0.0039],\n",
       "         [0.0452],\n",
       "         [0.0192],\n",
       "         [0.0086],\n",
       "         [0.0131],\n",
       "         [0.0052],\n",
       "         [0.0063],\n",
       "         [0.0102],\n",
       "         [0.0075],\n",
       "         [0.0436],\n",
       "         [0.0065],\n",
       "         [0.0046],\n",
       "         [0.0034],\n",
       "         [0.0039],\n",
       "         [0.0284],\n",
       "         [0.0110],\n",
       "         [0.0091],\n",
       "         [0.0027],\n",
       "         [0.0140],\n",
       "         [0.0013],\n",
       "         [0.0160],\n",
       "         [0.0072],\n",
       "         [0.0239],\n",
       "         [0.0193],\n",
       "         [0.0457],\n",
       "         [0.0164],\n",
       "         [0.0173],\n",
       "         [0.0063],\n",
       "         [0.0052],\n",
       "         [0.0480],\n",
       "         [0.0006],\n",
       "         [0.0070],\n",
       "         [0.0028],\n",
       "         [0.0019],\n",
       "         [0.0057],\n",
       "         [0.0055],\n",
       "         [0.0096],\n",
       "         [0.0115],\n",
       "         [0.0040],\n",
       "         [0.0298],\n",
       "         [0.0114],\n",
       "         [0.0040],\n",
       "         [0.0608],\n",
       "         [0.0070],\n",
       "         [0.0107],\n",
       "         [0.0044],\n",
       "         [0.0050],\n",
       "         [0.0324],\n",
       "         [0.0134],\n",
       "         [0.0316],\n",
       "         [0.0228],\n",
       "         [0.0062],\n",
       "         [0.0023],\n",
       "         [0.0100],\n",
       "         [0.0221],\n",
       "         [0.0039],\n",
       "         [0.0089],\n",
       "         [0.0029],\n",
       "         [0.0048],\n",
       "         [0.0227],\n",
       "         [0.0428],\n",
       "         [0.0096],\n",
       "         [0.0047],\n",
       "         [0.0231],\n",
       "         [0.0397],\n",
       "         [0.0125],\n",
       "         [0.0140],\n",
       "         [0.0424],\n",
       "         [0.0129],\n",
       "         [0.0058],\n",
       "         [0.0129],\n",
       "         [0.0216],\n",
       "         [0.0022],\n",
       "         [0.0079],\n",
       "         [0.0151],\n",
       "         [0.0166],\n",
       "         [0.0037],\n",
       "         [0.0062],\n",
       "         [0.0160],\n",
       "         [0.0141],\n",
       "         [0.0100],\n",
       "         [0.0151],\n",
       "         [0.0156],\n",
       "         [0.0110],\n",
       "         [0.0107],\n",
       "         [0.0586],\n",
       "         [0.0353],\n",
       "         [0.0141],\n",
       "         [0.0140],\n",
       "         [0.0011],\n",
       "         [0.0185],\n",
       "         [0.0035],\n",
       "         [0.0071],\n",
       "         [0.0093],\n",
       "         [0.0042],\n",
       "         [0.0144],\n",
       "         [0.0047],\n",
       "         [0.0050],\n",
       "         [0.0102],\n",
       "         [0.0062],\n",
       "         [0.0027],\n",
       "         [0.0062],\n",
       "         [0.0103],\n",
       "         [0.0082],\n",
       "         [0.0175],\n",
       "         [0.0148],\n",
       "         [0.0077],\n",
       "         [0.0011],\n",
       "         [0.0047],\n",
       "         [0.0062],\n",
       "         [0.0059],\n",
       "         [0.0082],\n",
       "         [0.0355],\n",
       "         [0.0167],\n",
       "         [0.0039],\n",
       "         [0.0028],\n",
       "         [0.0024],\n",
       "         [0.0139],\n",
       "         [0.0055],\n",
       "         [0.0064],\n",
       "         [0.0015],\n",
       "         [0.0120],\n",
       "         [0.0594],\n",
       "         [0.0127],\n",
       "         [0.0124],\n",
       "         [0.0043],\n",
       "         [0.0150],\n",
       "         [0.0029],\n",
       "         [0.0414],\n",
       "         [0.0374],\n",
       "         [0.0043],\n",
       "         [0.0055],\n",
       "         [0.0068],\n",
       "         [0.0132],\n",
       "         [0.0373],\n",
       "         [0.0215],\n",
       "         [0.0111],\n",
       "         [0.0030],\n",
       "         [0.0034],\n",
       "         [0.0048],\n",
       "         [0.0183],\n",
       "         [0.0143],\n",
       "         [0.0026],\n",
       "         [0.0048],\n",
       "         [0.0107],\n",
       "         [0.0024],\n",
       "         [0.0081],\n",
       "         [0.0033],\n",
       "         [0.0232],\n",
       "         [0.0090],\n",
       "         [0.0082],\n",
       "         [0.0319],\n",
       "         [0.0057],\n",
       "         [0.0071],\n",
       "         [0.0056],\n",
       "         [0.0484],\n",
       "         [0.0215],\n",
       "         [0.0452],\n",
       "         [0.0071],\n",
       "         [0.0280],\n",
       "         [0.0267],\n",
       "         [0.0298],\n",
       "         [0.0189],\n",
       "         [0.0315],\n",
       "         [0.0109],\n",
       "         [0.0088],\n",
       "         [0.0064],\n",
       "         [0.0273],\n",
       "         [0.0065],\n",
       "         [0.0011],\n",
       "         [0.0028],\n",
       "         [0.0049],\n",
       "         [0.0056],\n",
       "         [0.0089],\n",
       "         [0.0032],\n",
       "         [0.0034],\n",
       "         [0.0193],\n",
       "         [0.0176],\n",
       "         [0.0066],\n",
       "         [0.0070],\n",
       "         [0.0116],\n",
       "         [0.0208],\n",
       "         [0.0048],\n",
       "         [0.0184],\n",
       "         [0.0088],\n",
       "         [0.0255],\n",
       "         [0.0028],\n",
       "         [0.0173],\n",
       "         [0.0043],\n",
       "         [0.0126],\n",
       "         [0.0027],\n",
       "         [0.0083],\n",
       "         [0.0014],\n",
       "         [0.0104],\n",
       "         [0.0216],\n",
       "         [0.0479],\n",
       "         [0.0083],\n",
       "         [0.0504],\n",
       "         [0.0171],\n",
       "         [0.0359],\n",
       "         [0.0254],\n",
       "         [0.0095],\n",
       "         [0.0085],\n",
       "         [0.0047],\n",
       "         [0.0072],\n",
       "         [0.0093],\n",
       "         [0.0072],\n",
       "         [0.0070],\n",
       "         [0.0031],\n",
       "         [0.0045],\n",
       "         [0.0078],\n",
       "         [0.0265],\n",
       "         [0.0073],\n",
       "         [0.0163],\n",
       "         [0.0135],\n",
       "         [0.0114],\n",
       "         [0.0054],\n",
       "         [0.0053],\n",
       "         [0.0155],\n",
       "         [0.0139],\n",
       "         [0.0024],\n",
       "         [0.0087],\n",
       "         [0.0431],\n",
       "         [0.0273],\n",
       "         [0.0119],\n",
       "         [0.0057],\n",
       "         [0.0118],\n",
       "         [0.0058],\n",
       "         [0.0108],\n",
       "         [0.0017],\n",
       "         [0.0213],\n",
       "         [0.0019],\n",
       "         [0.0154],\n",
       "         [0.0019],\n",
       "         [0.0155],\n",
       "         [0.0073],\n",
       "         [0.0019],\n",
       "         [0.0226],\n",
       "         [0.0037],\n",
       "         [0.0062],\n",
       "         [0.0022],\n",
       "         [0.0076],\n",
       "         [0.0021],\n",
       "         [0.0100],\n",
       "         [0.0098],\n",
       "         [0.0021],\n",
       "         [0.0042],\n",
       "         [0.0242],\n",
       "         [0.0043],\n",
       "         [0.0134],\n",
       "         [0.0089],\n",
       "         [0.0408],\n",
       "         [0.0027],\n",
       "         [0.0058],\n",
       "         [0.0053],\n",
       "         [0.0118],\n",
       "         [0.0089],\n",
       "         [0.0230],\n",
       "         [0.0243],\n",
       "         [0.0011],\n",
       "         [0.0028],\n",
       "         [0.0106],\n",
       "         [0.0195],\n",
       "         [0.0031],\n",
       "         [0.0051],\n",
       "         [0.0081],\n",
       "         [0.0014],\n",
       "         [0.0122],\n",
       "         [0.0022],\n",
       "         [0.0100],\n",
       "         [0.0311],\n",
       "         [0.0187],\n",
       "         [0.0046],\n",
       "         [0.0081],\n",
       "         [0.0148],\n",
       "         [0.0121],\n",
       "         [0.0071],\n",
       "         [0.0045],\n",
       "         [0.0041],\n",
       "         [0.0052],\n",
       "         [0.0021],\n",
       "         [0.0026],\n",
       "         [0.0270],\n",
       "         [0.0058],\n",
       "         [0.0150],\n",
       "         [0.0058],\n",
       "         [0.0040],\n",
       "         [0.0040],\n",
       "         [0.0154],\n",
       "         [0.0061],\n",
       "         [0.0046],\n",
       "         [0.0043],\n",
       "         [0.0287],\n",
       "         [0.0023],\n",
       "         [0.0021],\n",
       "         [0.0107],\n",
       "         [0.0041],\n",
       "         [0.0117],\n",
       "         [0.0019],\n",
       "         [0.0202],\n",
       "         [0.0050],\n",
       "         [0.0117],\n",
       "         [0.0198],\n",
       "         [0.0041],\n",
       "         [0.0098],\n",
       "         [0.0193],\n",
       "         [0.0066],\n",
       "         [0.0083],\n",
       "         [0.0193],\n",
       "         [0.0038],\n",
       "         [0.0047],\n",
       "         [0.0070],\n",
       "         [0.0091],\n",
       "         [0.0153],\n",
       "         [0.0077],\n",
       "         [0.0074],\n",
       "         [0.0113],\n",
       "         [0.0133],\n",
       "         [0.0311],\n",
       "         [0.0013],\n",
       "         [0.0707],\n",
       "         [0.0182],\n",
       "         [0.0060],\n",
       "         [0.0073],\n",
       "         [0.0266],\n",
       "         [0.0105],\n",
       "         [0.0172],\n",
       "         [0.0143],\n",
       "         [0.0048],\n",
       "         [0.0452],\n",
       "         [0.0163],\n",
       "         [0.0225],\n",
       "         [0.0060],\n",
       "         [0.0055],\n",
       "         [0.0047],\n",
       "         [0.0060],\n",
       "         [0.0059],\n",
       "         [0.0033],\n",
       "         [0.0452],\n",
       "         [0.0219],\n",
       "         [0.0074],\n",
       "         [0.0074],\n",
       "         [0.0182],\n",
       "         [0.0140],\n",
       "         [0.0166],\n",
       "         [0.0111],\n",
       "         [0.0178],\n",
       "         [0.0029],\n",
       "         [0.0548],\n",
       "         [0.0175],\n",
       "         [0.0102],\n",
       "         [0.0181],\n",
       "         [0.0156],\n",
       "         [0.0082],\n",
       "         [0.0170],\n",
       "         [0.0077],\n",
       "         [0.0117],\n",
       "         [0.0091],\n",
       "         [0.0032],\n",
       "         [0.0399],\n",
       "         [0.0049],\n",
       "         [0.0034],\n",
       "         [0.0097],\n",
       "         [0.0064],\n",
       "         [0.0228],\n",
       "         [0.0075],\n",
       "         [0.0108],\n",
       "         [0.0081],\n",
       "         [0.0058],\n",
       "         [0.0054],\n",
       "         [0.0548],\n",
       "         [0.0050],\n",
       "         [0.0125],\n",
       "         [0.0184],\n",
       "         [0.0087],\n",
       "         [0.0082],\n",
       "         [0.0139],\n",
       "         [0.0118],\n",
       "         [0.0086],\n",
       "         [0.0034],\n",
       "         [0.0014],\n",
       "         [0.0047],\n",
       "         [0.0072],\n",
       "         [0.0035],\n",
       "         [0.0231],\n",
       "         [0.0167],\n",
       "         [0.0315],\n",
       "         [0.0015],\n",
       "         [0.0153],\n",
       "         [0.0184],\n",
       "         [0.0150],\n",
       "         [0.0026],\n",
       "         [0.0059],\n",
       "         [0.0376],\n",
       "         [0.0079],\n",
       "         [0.0093],\n",
       "         [0.0067],\n",
       "         [0.0186],\n",
       "         [0.0029],\n",
       "         [0.0096],\n",
       "         [0.0117],\n",
       "         [0.0427],\n",
       "         [0.0093],\n",
       "         [0.0028],\n",
       "         [0.0127],\n",
       "         [0.0070],\n",
       "         [0.0095],\n",
       "         [0.0063],\n",
       "         [0.0128],\n",
       "         [0.0037],\n",
       "         [0.0108],\n",
       "         [0.0190],\n",
       "         [0.0099],\n",
       "         [0.0102],\n",
       "         [0.0136],\n",
       "         [0.0340],\n",
       "         [0.0032],\n",
       "         [0.0060],\n",
       "         [0.0115],\n",
       "         [0.0037],\n",
       "         [0.0084],\n",
       "         [0.0071],\n",
       "         [0.0151],\n",
       "         [0.0078],\n",
       "         [0.0158],\n",
       "         [0.0081],\n",
       "         [0.0041],\n",
       "         [0.0124],\n",
       "         [0.0085],\n",
       "         [0.0033],\n",
       "         [0.0115],\n",
       "         [0.0057],\n",
       "         [0.0038],\n",
       "         [0.0045],\n",
       "         [0.0416],\n",
       "         [0.0363],\n",
       "         [0.0484],\n",
       "         [0.0022],\n",
       "         [0.0140],\n",
       "         [0.0100],\n",
       "         [0.0176],\n",
       "         [0.0076],\n",
       "         [0.0021],\n",
       "         [0.0035],\n",
       "         [0.0103],\n",
       "         [0.0079],\n",
       "         [0.0085],\n",
       "         [0.0796],\n",
       "         [0.0242],\n",
       "         [0.0084],\n",
       "         [0.0103],\n",
       "         [0.0184],\n",
       "         [0.0026],\n",
       "         [0.0129],\n",
       "         [0.0186],\n",
       "         [0.0155],\n",
       "         [0.0077],\n",
       "         [0.0073],\n",
       "         [0.0037],\n",
       "         [0.0343],\n",
       "         [0.0026],\n",
       "         [0.0018],\n",
       "         [0.0120],\n",
       "         [0.0165],\n",
       "         [0.0065],\n",
       "         [0.0046],\n",
       "         [0.0121],\n",
       "         [0.0244],\n",
       "         [0.0113],\n",
       "         [0.0404],\n",
       "         [0.0144],\n",
       "         [0.0120],\n",
       "         [0.0069],\n",
       "         [0.0216],\n",
       "         [0.0019],\n",
       "         [0.0054],\n",
       "         [0.0307],\n",
       "         [0.0050],\n",
       "         [0.0358],\n",
       "         [0.0102],\n",
       "         [0.0109],\n",
       "         [0.0209],\n",
       "         [0.0061],\n",
       "         [0.0348],\n",
       "         [0.0031],\n",
       "         [0.0031],\n",
       "         [0.0108],\n",
       "         [0.0063],\n",
       "         [0.0011],\n",
       "         [0.0050],\n",
       "         [0.0111],\n",
       "         [0.0023],\n",
       "         [0.0007],\n",
       "         [0.0045],\n",
       "         [0.0021],\n",
       "         [0.0026],\n",
       "         [0.0030],\n",
       "         [0.0052],\n",
       "         [0.0095],\n",
       "         [0.0270],\n",
       "         [0.0073],\n",
       "         [0.0139],\n",
       "         [0.0029],\n",
       "         [0.0044],\n",
       "         [0.0065],\n",
       "         [0.0043],\n",
       "         [0.0016],\n",
       "         [0.0078],\n",
       "         [0.0247],\n",
       "         [0.0022],\n",
       "         [0.0131],\n",
       "         [0.0022],\n",
       "         [0.0064],\n",
       "         [0.0056],\n",
       "         [0.0238],\n",
       "         [0.0145],\n",
       "         [0.0083],\n",
       "         [0.0085],\n",
       "         [0.0092],\n",
       "         [0.0520],\n",
       "         [0.0250],\n",
       "         [0.0073],\n",
       "         [0.0199],\n",
       "         [0.0063],\n",
       "         [0.0695],\n",
       "         [0.0032],\n",
       "         [0.0051],\n",
       "         [0.0079],\n",
       "         [0.0069],\n",
       "         [0.0122],\n",
       "         [0.0062],\n",
       "         [0.0049],\n",
       "         [0.0097],\n",
       "         [0.0172],\n",
       "         [0.0108],\n",
       "         [0.0051],\n",
       "         [0.0091],\n",
       "         [0.0039],\n",
       "         [0.0127],\n",
       "         [0.0148],\n",
       "         [0.0313],\n",
       "         [0.0493],\n",
       "         [0.0111],\n",
       "         [0.0031],\n",
       "         [0.0246],\n",
       "         [0.0073],\n",
       "         [0.0156],\n",
       "         [0.0034],\n",
       "         [0.0084],\n",
       "         [0.0060],\n",
       "         [0.0105],\n",
       "         [0.0150],\n",
       "         [0.0079],\n",
       "         [0.0087],\n",
       "         [0.0098],\n",
       "         [0.0319],\n",
       "         [0.0127],\n",
       "         [0.0017],\n",
       "         [0.0056],\n",
       "         [0.0138],\n",
       "         [0.0481],\n",
       "         [0.0245],\n",
       "         [0.0201],\n",
       "         [0.0051],\n",
       "         [0.0047],\n",
       "         [0.0020],\n",
       "         [0.0134],\n",
       "         [0.0034],\n",
       "         [0.0114],\n",
       "         [0.0015],\n",
       "         [0.0077],\n",
       "         [0.0037],\n",
       "         [0.0082],\n",
       "         [0.0157],\n",
       "         [0.0066],\n",
       "         [0.0149],\n",
       "         [0.0008],\n",
       "         [0.0036],\n",
       "         [0.0080],\n",
       "         [0.0049],\n",
       "         [0.0089],\n",
       "         [0.0159],\n",
       "         [0.0102],\n",
       "         [0.0115],\n",
       "         [0.0100],\n",
       "         [0.0109],\n",
       "         [0.0150],\n",
       "         [0.0109],\n",
       "         [0.0045],\n",
       "         [0.0222],\n",
       "         [0.0188],\n",
       "         [0.0051],\n",
       "         [0.0236],\n",
       "         [0.0109],\n",
       "         [0.0153],\n",
       "         [0.0044],\n",
       "         [0.0067],\n",
       "         [0.0032],\n",
       "         [0.0141],\n",
       "         [0.0252],\n",
       "         [0.0025],\n",
       "         [0.0028],\n",
       "         [0.0269],\n",
       "         [0.0016],\n",
       "         [0.0115],\n",
       "         [0.0042],\n",
       "         [0.0031],\n",
       "         [0.0099],\n",
       "         [0.0108],\n",
       "         [0.0030],\n",
       "         [0.0400],\n",
       "         [0.0556],\n",
       "         [0.0166],\n",
       "         [0.0045],\n",
       "         [0.0188],\n",
       "         [0.0074],\n",
       "         [0.0087],\n",
       "         [0.0057],\n",
       "         [0.0029],\n",
       "         [0.0088],\n",
       "         [0.0074],\n",
       "         [0.0014],\n",
       "         [0.0079],\n",
       "         [0.0154],\n",
       "         [0.0394],\n",
       "         [0.0078],\n",
       "         [0.0082],\n",
       "         [0.0083],\n",
       "         [0.0179],\n",
       "         [0.0028],\n",
       "         [0.0099],\n",
       "         [0.0128],\n",
       "         [0.0039],\n",
       "         [0.0069],\n",
       "         [0.0007],\n",
       "         [0.0035],\n",
       "         [0.0025],\n",
       "         [0.0163],\n",
       "         [0.0014],\n",
       "         [0.0041],\n",
       "         [0.0174],\n",
       "         [0.0031],\n",
       "         [0.0018],\n",
       "         [0.0135],\n",
       "         [0.0045],\n",
       "         [0.0042],\n",
       "         [0.0013],\n",
       "         [0.0058],\n",
       "         [0.0144],\n",
       "         [0.0221],\n",
       "         [0.0144],\n",
       "         [0.0104],\n",
       "         [0.0011],\n",
       "         [0.0008],\n",
       "         [0.0106],\n",
       "         [0.0105],\n",
       "         [0.0106],\n",
       "         [0.0068],\n",
       "         [0.0239],\n",
       "         [0.0015],\n",
       "         [0.0153],\n",
       "         [0.0023],\n",
       "         [0.0058],\n",
       "         [0.0123],\n",
       "         [0.0078],\n",
       "         [0.0106],\n",
       "         [0.0296],\n",
       "         [0.0075],\n",
       "         [0.0131],\n",
       "         [0.0090],\n",
       "         [0.0461],\n",
       "         [0.0045],\n",
       "         [0.0121],\n",
       "         [0.0240],\n",
       "         [0.0034],\n",
       "         [0.0071],\n",
       "         [0.0064],\n",
       "         [0.0043],\n",
       "         [0.0010],\n",
       "         [0.0128],\n",
       "         [0.0051],\n",
       "         [0.0069],\n",
       "         [0.0012],\n",
       "         [0.0174],\n",
       "         [0.0172],\n",
       "         [0.0061],\n",
       "         [0.0173],\n",
       "         [0.0077],\n",
       "         [0.0097],\n",
       "         [0.0075],\n",
       "         [0.0033],\n",
       "         [0.0028],\n",
       "         [0.0047],\n",
       "         [0.0035],\n",
       "         [0.0027],\n",
       "         [0.0094],\n",
       "         [0.0089],\n",
       "         [0.0129],\n",
       "         [0.0133],\n",
       "         [0.0068],\n",
       "         [0.0078],\n",
       "         [0.0106],\n",
       "         [0.0086],\n",
       "         [0.0186],\n",
       "         [0.0194],\n",
       "         [0.0123],\n",
       "         [0.0091],\n",
       "         [0.0034],\n",
       "         [0.0489],\n",
       "         [0.0620],\n",
       "         [0.0258],\n",
       "         [0.0241],\n",
       "         [0.0044],\n",
       "         [0.0146],\n",
       "         [0.0154],\n",
       "         [0.0032],\n",
       "         [0.0071],\n",
       "         [0.0183],\n",
       "         [0.0063],\n",
       "         [0.0047],\n",
       "         [0.0034],\n",
       "         [0.0042],\n",
       "         [0.0015],\n",
       "         [0.0057],\n",
       "         [0.0034],\n",
       "         [0.0049],\n",
       "         [0.0090],\n",
       "         [0.0284],\n",
       "         [0.0022],\n",
       "         [0.0144],\n",
       "         [0.0106],\n",
       "         [0.0060],\n",
       "         [0.0104],\n",
       "         [0.0035],\n",
       "         [0.0362],\n",
       "         [0.0049],\n",
       "         [0.0054],\n",
       "         [0.0173],\n",
       "         [0.0195],\n",
       "         [0.0032],\n",
       "         [0.0068],\n",
       "         [0.0085],\n",
       "         [0.0079],\n",
       "         [0.0087],\n",
       "         [0.0110],\n",
       "         [0.0230],\n",
       "         [0.0028],\n",
       "         [0.0075],\n",
       "         [0.0142],\n",
       "         [0.0021],\n",
       "         [0.0066],\n",
       "         [0.0148],\n",
       "         [0.0085],\n",
       "         [0.0015],\n",
       "         [0.0137],\n",
       "         [0.0044],\n",
       "         [0.0028],\n",
       "         [0.0095],\n",
       "         [0.0054],\n",
       "         [0.0043],\n",
       "         [0.0070],\n",
       "         [0.0115],\n",
       "         [0.0136],\n",
       "         [0.0039],\n",
       "         [0.0033],\n",
       "         [0.0145],\n",
       "         [0.0135],\n",
       "         [0.0020],\n",
       "         [0.0357],\n",
       "         [0.0108],\n",
       "         [0.0078],\n",
       "         [0.0103]], device='cuda:0', grad_fn=<SigmoidBackward>),\n",
       " tensor([[0.9734, 0.0266],\n",
       "         [0.9385, 0.0615],\n",
       "         [0.9531, 0.0469],\n",
       "         ...,\n",
       "         [0.9294, 0.0706],\n",
       "         [0.9396, 0.0604],\n",
       "         [0.9365, 0.0635]], device='cuda:0', grad_fn=<SoftmaxBackward>))"
      ]
     },
     "execution_count": 76,
     "metadata": {},
     "output_type": "execute_result"
    }
   ],
   "source": [
    "ws_model.get_sw(examples)"
   ]
  },
  {
   "cell_type": "code",
   "execution_count": 77,
   "metadata": {},
   "outputs": [
    {
     "data": {
      "text/plain": [
       "[<matplotlib.lines.Line2D at 0x7f14e41458d0>]"
      ]
     },
     "execution_count": 77,
     "metadata": {},
     "output_type": "execute_result"
    },
    {
     "data": {
      "image/png": "[encoded data removed]",
      "text/plain": [
       "<Figure size 432x288 with 1 Axes>"
      ]
     },
     "metadata": {
      "needs_background": "light"
     },
     "output_type": "display_data"
    }
   ],
   "source": [
    "plt.plot(losses)"
   ]
  },
  {
   "cell_type": "code",
   "execution_count": null,
   "metadata": {},
   "outputs": [],
   "source": []
  }
 ],
 "metadata": {
  "kernelspec": {
   "display_name": "Python 3",
   "language": "python",
   "name": "python3"
  },
  "language_info": {
   "codemirror_mode": {
    "name": "ipython",
    "version": 3
   },
   "file_extension": ".py",
   "mimetype": "text/x-python",
   "name": "python",
   "nbconvert_exporter": "python",
   "pygments_lexer": "ipython3",
   "version": "3.7.9"
  }
 },
 "nbformat": 4,
 "nbformat_minor": 4
}
