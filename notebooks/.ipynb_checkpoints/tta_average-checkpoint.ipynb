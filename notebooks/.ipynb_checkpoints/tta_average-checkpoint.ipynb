{
 "cells": [
  {
   "cell_type": "code",
   "execution_count": null,
   "metadata": {},
   "outputs": [],
   "source": [
    "# Investigating why TTA average performs poorly\n",
    "import h5py\n",
    "import numpy as np\n",
    "import seaborn as sns\n",
    "import matplotlib.pyplot as plt\n",
    "import sys\n",
    "\n",
    "sys.path.append('/local/divyas/icml_testaug')\n",
    "from augmentations import get_aug_idxs\n",
    "sns.set_style('white')\n",
    "\n",
    "model_name = 'resnet18'\n",
    "aug_name = 'five_crop'\n",
    "agg_output_path = '../outputs/aggregated_outputs/' + model_name + '/' + aug_name + '/mean.h5'\n",
    "orig_output_path = '../outputs/aggregated_outputs/' + model_name + '/orig/mean.h5'\n",
    "\n",
    "agg_hf = h5py.File(agg_output_path, 'r')\n",
    "orig_hf = h5py.File(orig_output_path, 'r')"
   ]
  },
  {
   "cell_type": "code",
   "execution_count": 4,
   "metadata": {},
   "outputs": [
    {
     "ename": "NameError",
     "evalue": "name 'agg_output_path' is not defined",
     "output_type": "error",
     "traceback": [
      "\u001b[0;31m-------------------------\u001b[0m",
      "\u001b[0;31mNameError\u001b[0mTraceback (most recent call last)",
      "\u001b[0;32m<ipython-input-4-1469df956f39>\u001b[0m in \u001b[0;36m<module>\u001b[0;34m\u001b[0m\n\u001b[1;32m      5\u001b[0m \u001b[0morig_output\u001b[0m \u001b[0;34m=\u001b[0m \u001b[0;34m[\u001b[0m\u001b[0;34m]\u001b[0m\u001b[0;34m\u001b[0m\u001b[0;34m\u001b[0m\u001b[0m\n\u001b[1;32m      6\u001b[0m \u001b[0mlabels\u001b[0m \u001b[0;34m=\u001b[0m \u001b[0;34m[\u001b[0m\u001b[0;34m]\u001b[0m\u001b[0;34m\u001b[0m\u001b[0;34m\u001b[0m\u001b[0m\n\u001b[0;32m----> 7\u001b[0;31m \u001b[0;32mwith\u001b[0m \u001b[0mh5py\u001b[0m\u001b[0;34m.\u001b[0m\u001b[0mFile\u001b[0m\u001b[0;34m(\u001b[0m\u001b[0magg_output_path\u001b[0m\u001b[0;34m,\u001b[0m \u001b[0;34m'r'\u001b[0m\u001b[0;34m)\u001b[0m \u001b[0;32mas\u001b[0m \u001b[0magg_hf\u001b[0m\u001b[0;34m:\u001b[0m\u001b[0;34m\u001b[0m\u001b[0;34m\u001b[0m\u001b[0m\n\u001b[0m\u001b[1;32m      8\u001b[0m     \u001b[0;32mwith\u001b[0m \u001b[0mh5py\u001b[0m\u001b[0;34m.\u001b[0m\u001b[0mFile\u001b[0m\u001b[0;34m(\u001b[0m\u001b[0morig_output_path\u001b[0m\u001b[0;34m,\u001b[0m \u001b[0;34m'r'\u001b[0m\u001b[0;34m)\u001b[0m \u001b[0;32mas\u001b[0m \u001b[0morig_hf\u001b[0m\u001b[0;34m:\u001b[0m\u001b[0;34m\u001b[0m\u001b[0;34m\u001b[0m\u001b[0m\n\u001b[1;32m      9\u001b[0m         \u001b[0;32mfor\u001b[0m \u001b[0mkey\u001b[0m \u001b[0;32min\u001b[0m \u001b[0magg_hf\u001b[0m\u001b[0;34m.\u001b[0m\u001b[0mkeys\u001b[0m\u001b[0;34m(\u001b[0m\u001b[0;34m)\u001b[0m\u001b[0;34m:\u001b[0m\u001b[0;34m\u001b[0m\u001b[0;34m\u001b[0m\u001b[0m\n",
      "\u001b[0;31mNameError\u001b[0m: name 'agg_output_path' is not defined"
     ]
    }
   ],
   "source": [
    "# TODO: show how many labels TTA helps, how many labels TTA doesn't\n",
    "# calculate class specific accuracy w/o TTA\n",
    "# calculate class specific accuracy w/ TTA\n",
    "tta_output = []\n",
    "orig_output = []\n",
    "labels = []\n",
    "with h5py.File(agg_output_path, 'r') as agg_hf:\n",
    "    with h5py.File(orig_output_path, 'r') as orig_hf:\n",
    "        for key in agg_hf.keys():\n",
    "            if 'labels' in key:\n",
    "                continue\n",
    "            aug_output = agg_hf[key][:,:,:]\n",
    "            orig_output = orig_hf[key][:,:,:]\n",
    "            target = agg_hf[key[:-7] + '_labels'][:]\n",
    "            \n",
    "            aug_labels = np.argmax(orig_output, axis=1)\n",
    "            orig_labels = np.argmax(orig_output, axis=1)\n",
    "            tta_changed = np.where(aug_labels != orig_labels)[0]\n",
    "            tta_wrong = np.where(aug_labels != target)[0]\n",
    "            tta_changed_wrong = set(tta_changed).intersection(set(tta_wrong))\n",
    "            tta_output.append(aug_output[tta_changed_wrong])\n",
    "            orig_output.append(orig_output[tta_changed_wrong])\n",
    "            labels.append(target[tta_changed_wrong])\n"
   ]
  },
  {
   "cell_type": "code",
   "execution_count": null,
   "metadata": {},
   "outputs": [],
   "source": []
  }
 ],
 "metadata": {
  "kernelspec": {
   "display_name": "Python 3",
   "language": "python",
   "name": "python3"
  },
  "language_info": {
   "codemirror_mode": {
    "name": "ipython",
    "version": 3
   },
   "file_extension": ".py",
   "mimetype": "text/x-python",
   "name": "python",
   "nbconvert_exporter": "python",
   "pygments_lexer": "ipython3",
   "version": "3.7.6"
  }
 },
 "nbformat": 4,
 "nbformat_minor": 2
}
