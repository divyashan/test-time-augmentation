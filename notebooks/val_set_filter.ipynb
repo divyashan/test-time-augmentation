{
 "cells": [
  {
   "cell_type": "code",
   "execution_count": 141,
   "metadata": {},
   "outputs": [
    {
     "name": "stdout",
     "output_type": "stream",
     "text": [
      "Using GPU:0\n"
     ]
    }
   ],
   "source": [
    "# Investigating which classes suffer from test-time augmentation,\n",
    "# and why\n",
    "import sys\n",
    "sys.path.insert(0, '../')\n",
    "from dataloaders import get_imnet_dataloader\n",
    "from utils.gpu_utils import restrict_GPU_pytorch\n",
    "restrict_GPU_pytorch('0')\n",
    "\n",
    "import h5py\n",
    "import numpy as np\n",
    "import matplotlib.pyplot as plt\n",
    "from collections import Counter\n",
    "import seaborn as sns\n",
    "from imagenet_classes import imagenet_classes\n",
    "\n",
    "\n",
    "sns.set_style('white')\n",
    "hf = h5py.File('../imnet/five_crop_hflip_scale/model_outputs/val/resnet50.h5', 'r')\n",
    "outputs = []\n",
    "labels = []\n",
    "for key in hf.keys():\n",
    "    if 'inputs' in key:\n",
    "        batch_key = key\n",
    "        label_key = key[:-7] + \"_labels\"\n",
    "        outputs.append(hf[batch_key][:])\n",
    "        labels.append(hf[label_key][:])\n",
    "outputs = np.concatenate(outputs, axis=1)\n",
    "labels = np.concatenate(labels)"
   ]
  },
  {
   "cell_type": "code",
   "execution_count": 142,
   "metadata": {},
   "outputs": [],
   "source": [
    "from sklearn.model_selection import train_test_split\n",
    "train_idxs, test_idxs = train_test_split(list(range(outputs.shape[1])), train_size=.5, \n",
    "                                        stratify=labels)\n",
    "train_outputs, train_labels = outputs[:,train_idxs,:], labels[train_idxs]\n",
    "test_outputs, test_labels = outputs[:,test_idxs,:], labels[test_idxs]"
   ]
  },
  {
   "cell_type": "code",
   "execution_count": 143,
   "metadata": {},
   "outputs": [],
   "source": [
    "# identify which predicted classes are hurt by standard TTA\n",
    "orig_idx = 12\n",
    "stta_preds = np.mean(train_outputs, axis=0)\n",
    "orig_preds = train_outputs[orig_idx,:,:]\n",
    "\n",
    "stta_correct_idxs = np.where(np.argmax(stta_preds, axis=1) == train_labels)[0]\n",
    "stta_incorrect_idxs = np.where(np.argmax(stta_preds, axis=1) != train_labels)[0]\n",
    "orig_correct_idxs = np.where(np.argmax(orig_preds, axis=1) == train_labels)[0]\n",
    "orig_incorrect_idxs = np.where(np.argmax(orig_preds, axis=1) != train_labels)[0]"
   ]
  },
  {
   "cell_type": "code",
   "execution_count": 144,
   "metadata": {},
   "outputs": [
    {
     "data": {
      "text/plain": [
       "(494, 715)"
      ]
     },
     "execution_count": 144,
     "metadata": {},
     "output_type": "execute_result"
    }
   ],
   "source": [
    "train_corruptions = list(set(stta_incorrect_idxs).intersection(orig_correct_idxs))\n",
    "train_corrections = list(set(stta_correct_idxs).intersection(orig_incorrect_idxs))\n",
    "\n",
    "train_corrupt_predicted_classes = np.argmax(stta_preds[train_corruptions], axis= 1)\n",
    "train_correct_predicted_classes = np.argmax(stta_preds[train_corrections], axis= 1)\n",
    "len(train_corruptions), len(train_corrections)"
   ]
  },
  {
   "cell_type": "code",
   "execution_count": 145,
   "metadata": {},
   "outputs": [],
   "source": [
    "corrupt_map = np.zeros(1000)\n",
    "correct_map = np.zeros(1000)\n",
    "for j in train_corrupt_predicted_classes:\n",
    "    corrupt_map[j] += 1\n",
    "\n",
    "for j in train_correct_predicted_classes:\n",
    "    correct_map[j] += 1"
   ]
  },
  {
   "cell_type": "code",
   "execution_count": 171,
   "metadata": {},
   "outputs": [],
   "source": [
    "diffs = correct_map - corrupt_map\n",
    "classes_to_avoid = np.where(diffs < 0)[0]\n",
    "classes_to_avoid = np.argsort(np.var(cm, axis=1))[-100:]"
   ]
  },
  {
   "cell_type": "code",
   "execution_count": 172,
   "metadata": {},
   "outputs": [
    {
     "data": {
      "text/plain": [
       "(array([  1.,  11.,  49., 150.,   0., 429., 254.,  71.,  30.,   5.]),\n",
       " array([-4. , -3.2, -2.4, -1.6, -0.8,  0. ,  0.8,  1.6,  2.4,  3.2,  4. ]),\n",
       " <BarContainer object of 10 artists>)"
      ]
     },
     "execution_count": 172,
     "metadata": {},
     "output_type": "execute_result"
    },
    {
     "data": {
      "image/png": "[encoded data removed]",
      "text/plain": [
       "<Figure size 432x288 with 1 Axes>"
      ]
     },
     "metadata": {},
     "output_type": "display_data"
    }
   ],
   "source": [
    "plt.hist(correct_map - corrupt_map)"
   ]
  },
  {
   "cell_type": "code",
   "execution_count": 173,
   "metadata": {},
   "outputs": [],
   "source": [
    "stta_test_preds = np.mean(test_outputs, axis=0)\n",
    "orig_test_preds = test_outputs[orig_idx,:,:]\n",
    "combined_test_preds = []\n",
    "for i in range(len(stta_test_preds)):\n",
    "    stta_pred = stta_test_preds[i]\n",
    "    orig_pred = orig_test_preds[i]\n",
    "    if np.argmax(stta_pred) in classes_to_avoid:\n",
    "        combined_test_preds.append(orig_pred)\n",
    "    else:\n",
    "        combined_test_preds.append(stta_pred)\n",
    "combined_test_preds = np.array(combined_test_preds)"
   ]
  },
  {
   "cell_type": "code",
   "execution_count": 174,
   "metadata": {},
   "outputs": [
    {
     "data": {
      "text/plain": [
       "((468, 716), (491, 764))"
      ]
     },
     "execution_count": 174,
     "metadata": {},
     "output_type": "execute_result"
    }
   ],
   "source": [
    "# Evaluate combined test preds against stta and orig\n",
    "stta_correct_idxs = np.where(np.argmax(stta_test_preds, axis=1) == test_labels)[0]\n",
    "stta_incorrect_idxs = np.where(np.argmax(stta_test_preds, axis=1) != test_labels)[0]\n",
    "\n",
    "combined_correct_idxs = np.where(np.argmax(combined_test_preds, axis=1) == test_labels)[0]\n",
    "combined_icorrect_idxs = np.where(np.argmax(combined_test_preds, axis=1) != test_labels)[0]\n",
    "\n",
    "orig_correct_idxs = np.where(np.argmax(orig_test_preds, axis=1) == test_labels)[0]\n",
    "orig_incorrect_idxs = np.where(np.argmax(orig_test_preds, axis=1) != test_labels)[0]\n",
    "\n",
    "combined_corruptions = list(set(combined_icorrect_idxs).intersection(orig_correct_idxs))\n",
    "combined_corrections = list(set(combined_correct_idxs).intersection(orig_incorrect_idxs))\n",
    "test_stta_corruptions = list(set(stta_incorrect_idxs).intersection(orig_correct_idxs))\n",
    "test_stta_corrections = list(set(stta_correct_idxs).intersection(orig_incorrect_idxs))\n",
    "(len(combined_corruptions), len(combined_corrections)), (len(test_stta_corruptions), len(test_stta_corrections))"
   ]
  },
  {
   "cell_type": "code",
   "execution_count": 175,
   "metadata": {},
   "outputs": [
    {
     "name": "stdout",
     "output_type": "stream",
     "text": [
      "0.75592 0.76684 0.76584\n"
     ]
    }
   ],
   "source": [
    "print(len(orig_correct_idxs)/25000, len(stta_correct_idxs)/25000, len(combined_correct_idxs)/25000)"
   ]
  },
  {
   "cell_type": "code",
   "execution_count": 157,
   "metadata": {},
   "outputs": [],
   "source": [
    "# Based on confusion matrix\n",
    "from sklearn.metrics import confusion_matrix\n",
    "cm = confusion_matrix(np.argmax(orig_preds, axis=1), train_labels)"
   ]
  },
  {
   "cell_type": "code",
   "execution_count": 164,
   "metadata": {},
   "outputs": [
    {
     "data": {
      "text/plain": [
       "array([0.528471, 0.529424, 0.365516, 0.497216, 0.485424, 0.332559,\n",
       "       0.301424, 0.401516, 0.6011  , 0.624375, 0.577324, 0.576375,\n",
       "       0.579216, 0.576375, 0.528471, 0.625324, 0.529424, 0.529424,\n",
       "       0.531324, 0.624375, 0.400559, 0.444375, 0.576375, 0.533216,\n",
       "       0.575424, 0.484471, 0.262471, 0.370471, 0.590039, 0.629216,\n",
       "       0.539216, 0.586159, 0.148711, 0.449216, 0.228639, 0.293216,\n",
       "       0.156559, 0.524976, 0.528471, 0.534271, 0.244559, 0.532271,\n",
       "       0.442471, 0.576375, 0.401516, 0.288711, 0.276159, 0.360639,\n",
       "       0.538271, 0.262559, 0.417324, 0.529424, 0.401516, 0.591911,\n",
       "       0.302375, 0.282471, 0.403424, 0.489324, 0.237424, 0.365516,\n",
       "       0.150639, 0.420159, 0.179676, 0.3256  , 0.386375, 0.538159,\n",
       "       0.185676, 0.348039, 0.210471, 0.532271, 0.489324, 0.489216,\n",
       "       0.421216, 0.086831, 0.403775, 0.5371  , 0.532271, 0.4571  ,\n",
       "       0.290639, 0.3616  , 0.577324, 0.441516, 0.492159, 0.528471,\n",
       "       0.529424, 0.538271, 0.402471, 0.575424, 0.531324, 0.580159,\n",
       "       0.625324, 0.441516, 0.626271, 0.529424, 0.626271, 0.529424,\n",
       "       0.530375, 0.441516, 0.483516, 0.447324, 0.529424, 0.3451  ,\n",
       "       0.626271, 0.402471, 0.485424, 0.533324, 0.403424, 0.531324,\n",
       "       0.324639, 0.445424, 0.576375, 0.530375, 0.403424, 0.490271,\n",
       "       0.368375, 0.5351  , 0.529424, 0.440559, 0.496976, 0.392976,\n",
       "       0.327516, 0.486375, 0.445424, 0.449424, 0.208559, 0.540039,\n",
       "       0.367424, 0.530375, 0.443424, 0.626271, 0.624375, 0.580271,\n",
       "       0.577324, 0.483516, 0.400559, 0.626271, 0.624375, 0.531324,\n",
       "       0.440559, 0.585216, 0.400559, 0.528471, 0.531324, 0.486375,\n",
       "       0.531324, 0.528471, 0.533216, 0.487324, 0.626271, 0.532375,\n",
       "       0.324639, 0.452976, 0.3996  , 0.402471, 0.442471, 0.4131  ,\n",
       "       0.489324, 0.578271, 0.195804, 0.402704, 0.576375, 0.307424,\n",
       "       0.5744  , 0.0999  , 0.530375, 0.197744, 0.370271, 0.049936,\n",
       "       0.260639, 0.629216, 0.271424, 0.586844, 0.342375, 0.290639,\n",
       "       0.580271, 0.292639, 0.410375, 0.408471, 0.578271, 0.299424,\n",
       "       0.3411  , 0.577324, 0.445324, 0.533216, 0.424039, 0.293516,\n",
       "       0.420271, 0.277424, 0.400559, 0.407775, 0.324639, 0.401516,\n",
       "       0.502159, 0.180559, 0.580159, 0.633911, 0.284375, 0.404375,\n",
       "       0.338375, 0.415216, 0.370271, 0.335324, 0.261516, 0.5411  ,\n",
       "       0.445424, 0.448271, 0.441516, 0.403424, 0.543911, 0.484471,\n",
       "       0.485424, 0.364471, 0.2916  , 0.400559, 0.442471, 0.591911,\n",
       "       0.484471, 0.582159, 0.404375, 0.337324, 0.324639, 0.445324,\n",
       "       0.365516, 0.445324, 0.5351  , 0.538039, 0.228639, 0.368271,\n",
       "       0.440559, 0.580159, 0.405424, 0.296039, 0.4811  , 0.3616  ,\n",
       "       0.601911, 0.400559, 0.366471, 0.460039, 0.3731  , 0.640159,\n",
       "       0.056775, 0.4451  , 0.327516, 0.463911, 0.485424, 0.486375,\n",
       "       0.169804, 0.485424, 0.227424, 0.506039, 0.333516, 0.6291  ,\n",
       "       0.400559, 0.531324, 0.628159, 0.626271, 0.444375, 0.491216,\n",
       "       0.633216, 0.626271, 0.441516, 0.575424, 0.576375, 0.534976,\n",
       "       0.258639, 0.265324, 0.292271, 0.367324, 0.625324, 0.420159,\n",
       "       0.491216, 0.154711, 0.245516, 0.362559, 0.576375, 0.626271,\n",
       "       0.529424, 0.161676, 0.468976, 0.529424, 0.341216, 0.351911,\n",
       "       0.0339  , 0.534271, 0.536159, 0.157516, 0.485424, 0.295424,\n",
       "       0.489324, 0.533324, 0.410375, 0.628159, 0.554159, 0.578271,\n",
       "       0.629216, 0.450375, 0.577324, 0.360639, 0.366471, 0.364471,\n",
       "       0.660976, 0.456375, 0.169804, 0.366471, 0.307324, 0.492271,\n",
       "       0.530375, 0.576375, 0.485424, 0.442471, 0.492159, 0.329216,\n",
       "       0.214559, 0.295516, 0.443424, 0.335424, 0.531324, 0.580159,\n",
       "       0.529424, 0.364559, 0.554159, 0.625324, 0.625324, 0.483516,\n",
       "       0.626271, 0.575424, 0.575424, 0.488271, 0.362559, 0.329424,\n",
       "       0.364471, 0.554159, 0.485424, 0.6311  , 0.531324, 0.487324,\n",
       "       0.534271, 0.403424, 0.442471, 0.625324, 0.529424, 0.169804,\n",
       "       0.534039, 0.626271, 0.578271, 0.202639, 0.444471, 0.484471,\n",
       "       0.4651  , 0.2936  , 0.576375, 0.528471, 0.492039, 0.267516,\n",
       "       0.578271, 0.489216, 0.105804, 0.542039, 0.271216, 0.294375,\n",
       "       0.4971  , 0.578271, 0.531324, 0.485424, 0.628271, 0.485424,\n",
       "       0.400559, 0.536159, 0.259676, 0.366471, 0.490271, 0.259676,\n",
       "       0.576375, 0.368375, 0.295516, 0.484471, 0.625324, 0.197744,\n",
       "       0.376159, 0.369324, 0.307324, 0.176559, 0.498704, 0.257676,\n",
       "       0.5651  , 0.2136  , 0.337424, 0.530375, 0.576375, 0.363516,\n",
       "       0.288711, 0.492159, 0.575424, 0.591216, 0.443424, 0.371424,\n",
       "       0.625324, 0.402471, 0.3616  , 0.334471, 0.085856, 0.4911  ,\n",
       "       0.276375, 0.488271, 0.569911, 0.326559, 0.315775, 0.491216,\n",
       "       0.292559, 0.378976, 0.542159, 0.416844, 0.212271, 0.1656  ,\n",
       "       0.1136  , 0.112271, 0.405424, 0.626271, 0.198711, 0.458844,\n",
       "       0.628159, 0.300159, 0.273516, 0.371216, 0.333319, 0.533216,\n",
       "       0.528471, 0.294471, 0.295424, 0.403424, 0.484471, 0.430976,\n",
       "       0.495216, 0.456039, 0.200711, 0.285911, 0.485775, 0.229676,\n",
       "       0.169804, 0.362559, 0.3471  , 0.406375, 0.294471, 0.332375,\n",
       "       0.492159, 0.112639, 0.2916  , 0.265324, 0.328471, 0.404375,\n",
       "       0.530375, 0.578271, 0.332375, 0.202559, 0.310039, 0.375911,\n",
       "       0.225744, 0.407324, 0.580271, 0.344375, 0.248844, 0.128639,\n",
       "       0.404375, 0.205424, 0.1516  , 0.196775, 0.576375, 0.406271,\n",
       "       0.297424, 0.1756  , 0.201676, 0.533324, 0.501216, 0.369216,\n",
       "       0.292844, 0.581216, 0.579216, 0.207424, 0.278375, 0.149676,\n",
       "       0.488271, 0.289676, 0.111676, 0.382159, 0.416375, 0.371775,\n",
       "       0.492375, 0.365424, 0.157911, 0.374976, 0.294471, 0.633775,\n",
       "       0.234375, 0.037936, 0.338375, 0.4951  , 0.587775, 0.472064,\n",
       "       0.293516, 0.068831, 0.582159, 0.087804, 0.363516, 0.293516,\n",
       "       0.277324, 0.316159, 0.299324, 0.3256  , 0.432844, 0.131676,\n",
       "       0.402471, 0.373324, 0.582159, 0.197424, 0.328471, 0.360039,\n",
       "       0.176639, 0.367424, 0.579216, 0.236375, 0.2596  , 0.448271,\n",
       "       0.404375, 0.159324, 0.276471, 0.292559, 0.240844, 0.325319,\n",
       "       0.578271, 0.232559, 0.242375, 0.162639, 0.370271, 0.577324,\n",
       "       0.233516, 0.581216, 0.272039, 0.535216, 0.301324, 0.334159,\n",
       "       0.532271, 0.211216, 0.175676, 0.363216, 0.307216, 0.403424,\n",
       "       0.299424, 0.583216, 0.4971  , 0.147424, 0.326559, 0.453216,\n",
       "       0.365424, 0.371216, 0.575424, 0.363516, 0.2596  , 0.447324,\n",
       "       0.190471, 0.331324, 0.536159, 0.5811  , 0.450039, 0.464844,\n",
       "       0.402471, 0.625324, 0.366375, 0.149744, 0.484471, 0.533216,\n",
       "       0.560704, 0.443424, 0.293516, 0.486375, 0.529424, 0.327516,\n",
       "       0.627216, 0.215516, 0.238375, 0.348976, 0.329424, 0.5351  ,\n",
       "       0.270375, 0.408159, 0.2016  , 0.170775, 0.413324, 0.266559,\n",
       "       0.333516, 0.2916  , 0.173744, 0.331324, 0.448159, 0.447216,\n",
       "       0.575424, 0.416375, 0.172711, 0.300375, 0.211424, 0.332375,\n",
       "       0.055804, 0.267324, 0.330271, 0.536159, 0.626271, 0.4551  ,\n",
       "       0.367324, 0.577324, 0.2016  , 0.402471, 0.490159, 0.628159,\n",
       "       0.534159, 0.489216, 0.444375, 0.441516, 0.405324, 0.369216,\n",
       "       0.070775, 0.236375, 0.135324, 0.414039, 0.265324, 0.129676,\n",
       "       0.266375, 0.576375, 0.409216, 0.292559, 0.583911, 0.364471,\n",
       "       0.533216, 0.294976, 0.270375, 0.146775, 0.2596  , 0.204559,\n",
       "       0.264471, 0.407324, 0.036831, 0.461775, 0.582039, 0.444375,\n",
       "       0.446375, 0.124775, 0.403424, 0.584844, 0.404375, 0.169804,\n",
       "       0.298271, 0.445324, 0.177516, 0.201676, 0.354844, 0.327516,\n",
       "       0.298471, 0.342844, 0.136639, 0.170639, 0.365424, 0.556556,\n",
       "       0.121856, 0.634844, 0.292559, 0.173676, 0.134471, 0.210471,\n",
       "       0.328471, 0.531775, 0.401516, 0.488271, 0.409424, 0.453216,\n",
       "       0.5351  , 0.150639, 0.363516, 0.049936, 0.323676, 0.2596  ,\n",
       "       0.289676, 0.564975, 0.401516, 0.316039, 0.402471, 0.2936  ,\n",
       "       0.442471, 0.626271, 0.196775, 0.529424, 0.536271, 0.010975,\n",
       "       0.509216, 0.2296  , 0.095516, 0.416159, 0.575424, 0.411324,\n",
       "       0.368271, 0.228639, 0.3431  , 0.3616  , 0.270375, 0.530375,\n",
       "       0.1796  , 0.367324, 0.534159, 0.226711, 0.231516, 0.3256  ,\n",
       "       0.3256  , 0.305775, 0.369324, 0.385631, 0.288711, 0.566039,\n",
       "       0.261516, 0.363516, 0.408159, 0.328559, 0.257216, 0.578271,\n",
       "       0.328471, 0.553479, 0.539911, 0.529424, 0.452271, 0.172375,\n",
       "       0.443424, 0.488271, 0.147744, 0.195804, 0.409216, 0.196775,\n",
       "       0.408159, 0.107676, 0.4491  , 0.340039, 0.443424, 0.350844,\n",
       "       0.410976, 0.6291  , 0.227676, 0.330375, 0.176639, 0.370159,\n",
       "       0.1856  , 0.299216, 0.577324, 0.363516, 0.105216, 0.490159,\n",
       "       0.367324, 0.392159, 0.448271, 0.406375, 0.271324, 0.532375,\n",
       "       0.376159, 0.496039, 0.295424, 0.525631, 0.330375, 0.260559,\n",
       "       0.306039, 0.534271, 0.194271, 0.338159, 0.530375, 0.187324,\n",
       "       0.532271, 0.336375, 0.446375, 0.448271, 0.263516, 0.335324,\n",
       "       0.337216, 0.329424, 0.403424, 0.303216, 0.375216, 0.578271,\n",
       "       0.242559, 0.442471, 0.020919, 0.6311  , 0.184271, 0.488271,\n",
       "       0.324639, 0.341216, 0.538844, 0.486375, 0.148639, 0.490271,\n",
       "       0.264375, 0.401516, 0.294471, 0.4511  , 0.365516, 0.268271,\n",
       "       0.224775, 0.099424, 0.631911, 0.405324, 0.535216, 0.533324,\n",
       "       0.230559, 0.487324, 0.293516, 0.366375, 0.294471, 0.239216,\n",
       "       0.048951, 0.123804, 0.529424, 0.139516, 0.5831  , 0.370271,\n",
       "       0.6291  , 0.270271, 0.062639, 0.384704, 0.576375, 0.5371  ,\n",
       "       0.401516, 0.372976, 0.232559, 0.402471, 0.272039, 0.2016  ,\n",
       "       0.316844, 0.484471, 0.3351  , 0.406375, 0.443424, 0.3616  ,\n",
       "       0.2691  , 0.294471, 0.083744, 0.137676, 0.190159, 0.331324,\n",
       "       0.498039, 0.125744, 0.332375, 0.410039, 0.2016  , 0.300159,\n",
       "       0.155676, 0.419216, 0.173324, 0.540976, 0.368271, 0.346159,\n",
       "       0.328471, 0.487424, 0.416159, 0.366471, 0.196775, 0.307424,\n",
       "       0.4971  , 0.403424, 0.129676, 0.228711, 0.362559, 0.582159,\n",
       "       0.155516, 0.244271, 0.455216, 0.372271, 0.202559, 0.2356  ,\n",
       "       0.419911, 0.403424, 0.333324, 0.530375, 0.626271, 0.431775,\n",
       "       0.149676, 0.403424, 0.644704, 0.306976, 0.492039, 0.379324,\n",
       "       0.366375, 0.174639, 0.328471, 0.026951, 0.442471, 0.296375,\n",
       "       0.401516, 0.332375, 0.535216, 0.294471, 0.311216, 0.230159,\n",
       "       0.377911, 0.380159, 0.507775, 0.403424, 0.156559, 0.064711,\n",
       "       0.577324, 0.172711, 0.329424, 0.445324, 0.308976, 0.284159,\n",
       "       0.069856, 0.288159, 0.235516, 0.158559, 0.286844, 0.173744,\n",
       "       0.578271, 0.407216, 0.338375, 0.531324, 0.630976, 0.396704,\n",
       "       0.400559, 0.328471, 0.453911, 0.174639, 0.532271, 0.161516,\n",
       "       0.445324, 0.271324, 0.585631, 0.487324, 0.219324, 0.445324,\n",
       "       0.233516, 0.293516, 0.3256  , 0.533324, 0.543631, 0.295516,\n",
       "       0.529424, 0.443424, 0.542976, 0.454271, 0.326559, 0.409216,\n",
       "       0.405424, 0.452271, 0.533324, 0.441516, 0.442471, 0.063804,\n",
       "       0.625324, 0.331324, 0.341424, 0.405324, 0.579216, 0.530375,\n",
       "       0.576375, 0.626271, 0.626271, 0.401516, 0.444375, 0.446375,\n",
       "       0.139676, 0.104775, 0.414159, 0.365424, 0.227676, 0.445324,\n",
       "       0.182559, 0.366375, 0.066639, 0.1516  , 0.174639, 0.406271,\n",
       "       0.241424, 0.207424, 0.530375, 0.086775, 0.212471, 0.254271,\n",
       "       0.078775, 0.352375, 0.445324, 0.404471, 0.416039, 0.580159,\n",
       "       0.625324, 0.483516, 0.625324, 0.322039, 0.578271, 0.579216,\n",
       "       0.580271, 0.577324, 0.480159, 0.624375, 0.579324, 0.625324,\n",
       "       0.489324, 0.351324, 0.170639, 0.202559])"
      ]
     },
     "execution_count": 164,
     "metadata": {},
     "output_type": "execute_result"
    }
   ],
   "source": []
  },
  {
   "cell_type": "code",
   "execution_count": null,
   "metadata": {},
   "outputs": [],
   "source": []
  }
 ],
 "metadata": {
  "kernelspec": {
   "display_name": "Python 3",
   "language": "python",
   "name": "python3"
  },
  "language_info": {
   "codemirror_mode": {
    "name": "ipython",
    "version": 3
   },
   "file_extension": ".py",
   "mimetype": "text/x-python",
   "name": "python",
   "nbconvert_exporter": "python",
   "pygments_lexer": "ipython3",
   "version": "3.7.9"
  }
 },
 "nbformat": 4,
 "nbformat_minor": 4
}
