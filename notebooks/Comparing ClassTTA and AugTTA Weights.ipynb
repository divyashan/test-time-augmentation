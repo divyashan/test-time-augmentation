{
 "cells": [
  {
   "cell_type": "code",
   "execution_count": 8,
   "metadata": {},
   "outputs": [
    {
     "name": "stdout",
     "output_type": "stream",
     "text": [
      "Using GPU:0\n"
     ]
    }
   ],
   "source": [
    "import torch\n",
    "from torch import nn, optim\n",
    "import sys\n",
    "import matplotlib.pyplot as plt\n",
    "import pandas as pd\n",
    "import seaborn as sns\n",
    "sns.set_style('white')\n",
    "sys.path.insert(0, '../')\n",
    "#from tta_agg_models import TTARegression, TTAPartialRegression, GPS\n",
    "from utils.gpu_utils import restrict_GPU_pytorch\n",
    "import numpy as np\n",
    "from utils.aug_utils import invert_aug_list\n",
    "SMALL_SIZE = 14\n",
    "MEDIUM_SIZE = 18\n",
    "BIGGER_SIZE = 20\n",
    "\n",
    "plt.rc('font', size=SMALL_SIZE)          # controls default text sizes\n",
    "plt.rc('axes', titlesize=BIGGER_SIZE)     # fontsize of the axes title\n",
    "plt.rc('axes', labelsize=MEDIUM_SIZE)    # fontsize of the x and y labels\n",
    "plt.rc('xtick', labelsize=SMALL_SIZE)    # fontsize of the tick labels\n",
    "plt.rc('ytick', labelsize=SMALL_SIZE)    # fontsize of the tick labels\n",
    "plt.rc('legend', fontsize=SMALL_SIZE)    # legend fontsize\n",
    "plt.rc('figure', titlesize=BIGGER_SIZE)  # fontsize of the figure title\n",
    "restrict_GPU_pytorch('0')\n",
    "class TTAPartialRegression(nn.Module):\n",
    "    def __init__(self, n_augs, n_classes, temp_scale=1, initialization='even',coeffs=[]):\n",
    "        super().__init__()\n",
    "        # To make \"a\" and \"b\" real parameters of the model, we need to wrap them with nn.Parameter\n",
    "        self.coeffs = nn.Parameter(torch.randn((n_augs,1 ), requires_grad=True, dtype=torch.float))\n",
    "        self.temperature = temp_scale\n",
    "        if len(coeffs):\n",
    "            self.coeffs = nn.Parameter(torch.Tensor(coeffs), requires_grad=True)\n",
    "        else:\n",
    "            if initialization == 'even':\n",
    "                self.coeffs.data.fill_(1.0/n_augs)\n",
    "            elif initialization== 'original':\n",
    "                self.coeffs.data[0,:].fill_(1)\n",
    "                self.coeffs.data[1,:].fill_(0)\n",
    "\n",
    "    def forward(self, x):\n",
    "        # Computes the outputs / predictions\n",
    "        x = x/self.temperature\n",
    "        mult = torch.matmul(x.transpose(1, 2), self.coeffs / torch.sum(self.coeffs, axis=0))\n",
    "        return mult.squeeze()\n",
    "\n",
    "class TTARegression(nn.Module):\n",
    "    def __init__(self, n_augs, n_classes, temp_scale=1, initialization='even'):\n",
    "        super().__init__()\n",
    "        \n",
    "        if initialization == 'even':\n",
    "            self.coeffs = nn.Parameter(torch.randn((n_augs, n_classes), requires_grad=True, dtype=torch.float))\n",
    "            self.coeffs.data.fill_(1.0/n_augs) \n",
    "        else:\n",
    "            coeffs = torch.cat([torch.Tensor(initialization) for i in range(n_classes)], axis=1)\n",
    "            self.coeffs = nn.Parameter(coeffs, requires_grad = True)\n",
    "\n",
    "        self.temperature = temp_scale\n",
    "    \n",
    "    def forward(self, x):\n",
    "        # Computes the outputs / predictions\n",
    "        x = x/self.temperature\n",
    "        mult = self.coeffs * x\n",
    "        return mult.sum(axis=1)\n",
    "cifar100_class_names = ['apple','aquarium_fish','baby','bear','beaver','bed','bee','beetle','bicycle','bottle','bowl','boy','bridge','bus','butterfly','camel','can','castle','caterpillar','cattle','chair','chimpanzee','clock','cloud','cockroach','couch','crab','crocodile','cup','dinosaur','dolphin','elephant','flatfish','forest','fox','girl','hamster','house','kangaroo','computer_keyboard','lamp','lawn_mower','leopard','lion','lizard','lobster','man','maple_tree','motorcycle','mountain','mouse','mushroom','oak_tree','orange','orchid','otter','palm_tree','pear','pickup_truck','pine_tree','plain','plate','poppy','porcupine','possum','rabbit','raccoon','ray','road','rocket','rose','sea','seal','shark','shrew','skunk','skyscraper','snail','snake','spider','squirrel','streetcar','sunflower','sweet_pepper','table','tank','telephone','television','tiger','tractor','train','trout','tulip','turtle','wardrobe','whale','willow_tree','wolf','woman','worm']\n",
    "stl10_class_names = ['airplane', 'bird', 'car', 'cat', 'deer', 'dog', 'horse', 'monkey', \n",
    "                      'ship', 'truck']\n",
    "flowers102_class_names = ['x' for i in range(102)]\n",
    "imnet_class_names = ['x' for i in range(1000)]\n",
    "#dataset, n_classes, model_name, class_names = 'stl10', 10, 'stl10_cnn', stl10_class_names\n",
    "#dataset, n_classes, model_name, class_names = 'cifar100', 100, 'cifar100_cnn', cifar100_class_names\n",
    "#dataset, n_classes, model_name, class_names = 'flowers102', 102, 'resnet50', flowers102_class_names\n",
    "dataset, n_classes, model_name, class_names = 'imnet', 1000, 'resnet50', imnet_class_names\n",
    "# policy = 'five_crop_hflip_scale'\n",
    "# n_augs = 30\n",
    "policy = 'pil'\n",
    "n_augs = 200\n",
    "agg_models_dir = '../' + dataset + '/' + policy + '/agg_models'\n",
    "\n",
    "aug_name = 'combo'\n",
    "aug_model_path = agg_models_dir + '/'+model_name+'/'+aug_name + '/partial_lr.pth'\n",
    "aug_model = TTAPartialRegression(n_augs,n_classes,1,'even')\n",
    "aug_model.load_state_dict(torch.load(aug_model_path))\n",
    "aug_model.eval()\n",
    "aug_coeffs = aug_model.coeffs.detach().cpu().numpy()\n",
    "\n",
    "class_model_path = agg_models_dir + '/'+model_name+'/'+aug_name + '/full_lr.pth'\n",
    "class_model = TTARegression(n_augs,n_classes,1,'even')\n",
    "class_model.load_state_dict(torch.load(class_model_path))\n",
    "class_model.eval()\n",
    "class_coeffs = class_model.coeffs.detach().cpu().numpy()\n",
    "\n",
    "aug_list = np.load('../' + dataset + '/' + policy + '/aug_list.npy')\n",
    "aug_order = np.load('../' + dataset  + '/' + policy + '/aug_order.npy')\n",
    "if policy == 'pil':\n",
    "    aug_names = ['(<FlipLR(1.0,0)>,)', '(<FlipLR(1.0,1)>,)', '(<FlipLR(1.0,2)>,)', '(<FlipLR(1.0,3)>,)', '(<FlipLR(1.0,4)>,)', '(<FlipLR(1.0,5)>,)', '(<FlipLR(1.0,6)>,)', '(<FlipLR(1.0,7)>,)', '(<FlipLR(1.0,8)>,)', '(<FlipLR(1.0,9)>,)', '(<FlipUD(1.0,0)>,)', '(<FlipUD(1.0,1)>,)', '(<FlipUD(1.0,2)>,)', '(<FlipUD(1.0,3)>,)', '(<FlipUD(1.0,4)>,)', '(<FlipUD(1.0,5)>,)', '(<FlipUD(1.0,6)>,)', '(<FlipUD(1.0,7)>,)', '(<FlipUD(1.0,8)>,)', '(<FlipUD(1.0,9)>,)', '(<AutoContrast(1.0,0)>,)', '(<AutoContrast(1.0,1)>,)', '(<AutoContrast(1.0,2)>,)', '(<AutoContrast(1.0,3)>,)', '(<AutoContrast(1.0,4)>,)', '(<AutoContrast(1.0,5)>,)', '(<AutoContrast(1.0,6)>,)', '(<AutoContrast(1.0,7)>,)', '(<AutoContrast(1.0,8)>,)', '(<AutoContrast(1.0,9)>,)', '(<Equalize(1.0,0)>,)', '(<Equalize(1.0,1)>,)', '(<Equalize(1.0,2)>,)', '(<Equalize(1.0,3)>,)', '(<Equalize(1.0,4)>,)', '(<Equalize(1.0,5)>,)', '(<Equalize(1.0,6)>,)', '(<Equalize(1.0,7)>,)', '(<Equalize(1.0,8)>,)', '(<Equalize(1.0,9)>,)', '(<Invert(1.0,0)>,)', '(<Invert(1.0,1)>,)', '(<Invert(1.0,2)>,)', '(<Invert(1.0,3)>,)', '(<Invert(1.0,4)>,)', '(<Invert(1.0,5)>,)', '(<Invert(1.0,6)>,)', '(<Invert(1.0,7)>,)', '(<Invert(1.0,8)>,)', '(<Invert(1.0,9)>,)', '(<Rotate(1.0,0)>,)', '(<Rotate(1.0,1)>,)', '(<Rotate(1.0,2)>,)', '(<Rotate(1.0,3)>,)', '(<Rotate(1.0,4)>,)', '(<Rotate(1.0,5)>,)', '(<Rotate(1.0,6)>,)', '(<Rotate(1.0,7)>,)', '(<Rotate(1.0,8)>,)', '(<Rotate(1.0,9)>,)', '(<Posterize(1.0,0)>,)', '(<Posterize(1.0,1)>,)', '(<Posterize(1.0,2)>,)', '(<Posterize(1.0,3)>,)', '(<Posterize(1.0,4)>,)', '(<Posterize(1.0,5)>,)', '(<Posterize(1.0,6)>,)', '(<Posterize(1.0,7)>,)', '(<Posterize(1.0,8)>,)', '(<Posterize(1.0,9)>,)', '(<CropBilinear(1.0,0)>,)', '(<CropBilinear(1.0,1)>,)', '(<CropBilinear(1.0,2)>,)', '(<CropBilinear(1.0,3)>,)', '(<CropBilinear(1.0,4)>,)', '(<CropBilinear(1.0,5)>,)', '(<CropBilinear(1.0,6)>,)', '(<CropBilinear(1.0,7)>,)', '(<CropBilinear(1.0,8)>,)', '(<CropBilinear(1.0,9)>,)', '(<Solarize(1.0,0)>,)', '(<Solarize(1.0,1)>,)', '(<Solarize(1.0,2)>,)', '(<Solarize(1.0,3)>,)', '(<Solarize(1.0,4)>,)', '(<Solarize(1.0,5)>,)', '(<Solarize(1.0,6)>,)', '(<Solarize(1.0,7)>,)', '(<Solarize(1.0,8)>,)', '(<Solarize(1.0,9)>,)', '(<Color(1.0,0)>,)', '(<Color(1.0,1)>,)', '(<Color(1.0,2)>,)', '(<Color(1.0,3)>,)', '(<Color(1.0,4)>,)', '(<Color(1.0,5)>,)', '(<Color(1.0,6)>,)', '(<Color(1.0,7)>,)', '(<Color(1.0,8)>,)', '(<Color(1.0,9)>,)', '(<Contrast(1.0,0)>,)', '(<Contrast(1.0,1)>,)', '(<Contrast(1.0,2)>,)', '(<Contrast(1.0,3)>,)', '(<Contrast(1.0,4)>,)', '(<Contrast(1.0,5)>,)', '(<Contrast(1.0,6)>,)', '(<Contrast(1.0,7)>,)', '(<Contrast(1.0,8)>,)', '(<Contrast(1.0,9)>,)', '(<Brightness(1.0,0)>,)', '(<Brightness(1.0,1)>,)', '(<Brightness(1.0,2)>,)', '(<Brightness(1.0,3)>,)', '(<Brightness(1.0,4)>,)', '(<Brightness(1.0,5)>,)', '(<Brightness(1.0,6)>,)', '(<Brightness(1.0,7)>,)', '(<Brightness(1.0,8)>,)', '(<Brightness(1.0,9)>,)', '(<Sharpness(1.0,0)>,)', '(<Sharpness(1.0,1)>,)', '(<Sharpness(1.0,2)>,)', '(<Sharpness(1.0,3)>,)', '(<Sharpness(1.0,4)>,)', '(<Sharpness(1.0,5)>,)', '(<Sharpness(1.0,6)>,)', '(<Sharpness(1.0,7)>,)', '(<Sharpness(1.0,8)>,)', '(<Sharpness(1.0,9)>,)', '(<ShearX(1.0,0)>,)', '(<ShearX(1.0,1)>,)', '(<ShearX(1.0,2)>,)', '(<ShearX(1.0,3)>,)', '(<ShearX(1.0,4)>,)', '(<ShearX(1.0,5)>,)', '(<ShearX(1.0,6)>,)', '(<ShearX(1.0,7)>,)', '(<ShearX(1.0,8)>,)', '(<ShearX(1.0,9)>,)', '(<ShearY(1.0,0)>,)', '(<ShearY(1.0,1)>,)', '(<ShearY(1.0,2)>,)', '(<ShearY(1.0,3)>,)', '(<ShearY(1.0,4)>,)', '(<ShearY(1.0,5)>,)', '(<ShearY(1.0,6)>,)', '(<ShearY(1.0,7)>,)', '(<ShearY(1.0,8)>,)', '(<ShearY(1.0,9)>,)', '(<TranslateX(1.0,0)>,)', '(<TranslateX(1.0,1)>,)', '(<TranslateX(1.0,2)>,)', '(<TranslateX(1.0,3)>,)', '(<TranslateX(1.0,4)>,)', '(<TranslateX(1.0,5)>,)', '(<TranslateX(1.0,6)>,)', '(<TranslateX(1.0,7)>,)', '(<TranslateX(1.0,8)>,)', '(<TranslateX(1.0,9)>,)', '(<TranslateY(1.0,0)>,)', '(<TranslateY(1.0,1)>,)', '(<TranslateY(1.0,2)>,)', '(<TranslateY(1.0,3)>,)', '(<TranslateY(1.0,4)>,)', '(<TranslateY(1.0,5)>,)', '(<TranslateY(1.0,6)>,)', '(<TranslateY(1.0,7)>,)', '(<TranslateY(1.0,8)>,)', '(<TranslateY(1.0,9)>,)', '(<Cutout(1.0,0)>,)', '(<Cutout(1.0,1)>,)', '(<Cutout(1.0,2)>,)', '(<Cutout(1.0,3)>,)', '(<Cutout(1.0,4)>,)', '(<Cutout(1.0,5)>,)', '(<Cutout(1.0,6)>,)', '(<Cutout(1.0,7)>,)', '(<Cutout(1.0,8)>,)', '(<Cutout(1.0,9)>,)', '(<Blur(1.0,0)>,)', '(<Blur(1.0,1)>,)', '(<Blur(1.0,2)>,)', '(<Blur(1.0,3)>,)', '(<Blur(1.0,4)>,)', '(<Blur(1.0,5)>,)', '(<Blur(1.0,6)>,)', '(<Blur(1.0,7)>,)', '(<Blur(1.0,8)>,)', '(<Blur(1.0,9)>,)', '(<Smooth(1.0,0)>,)', '(<Smooth(1.0,1)>,)', '(<Smooth(1.0,2)>,)', '(<Smooth(1.0,3)>,)', '(<Smooth(1.0,4)>,)', '(<Smooth(1.0,5)>,)', '(<Smooth(1.0,6)>,)', '(<Smooth(1.0,7)>,)', '(<Smooth(1.0,8)>,)', '(<Smooth(1.0,9)>,)']\n",
    "else:\n",
    "    aug_names = invert_aug_list(aug_list, aug_order)\n",
    "    \n"
   ]
  },
  {
   "cell_type": "code",
   "execution_count": 9,
   "metadata": {},
   "outputs": [
    {
     "data": {
      "text/plain": [
       "[<matplotlib.lines.Line2D at 0x7f9864c2a350>]"
      ]
     },
     "execution_count": 9,
     "metadata": {},
     "output_type": "execute_result"
    },
    {
     "data": {
      "image/png": "[encoded data removed]",
      "text/plain": [
       "<Figure size 432x288 with 1 Axes>"
      ]
     },
     "metadata": {},
     "output_type": "display_data"
    }
   ],
   "source": [
    "plt.plot(np.sum(class_coeffs, axis=1))\n",
    "plt.plot(aug_coeffs)"
   ]
  },
  {
   "cell_type": "code",
   "execution_count": 10,
   "metadata": {},
   "outputs": [
    {
     "data": {
      "text/plain": [
       "<matplotlib.legend.Legend at 0x7f9864b9c890>"
      ]
     },
     "execution_count": 10,
     "metadata": {},
     "output_type": "execute_result"
    },
    {
     "data": {
      "image/png": "[encoded data removed]",
      "text/plain": [
       "<Figure size 432x288 with 1 Axes>"
      ]
     },
     "metadata": {},
     "output_type": "display_data"
    }
   ],
   "source": [
    "normalized_aug_coeffs = aug_coeffs/np.sum(aug_coeffs)\n",
    "normalized_class_coeffs = np.sum(class_coeffs, axis=1)/np.sum(class_coeffs)\n",
    "plt.plot(normalized_aug_coeffs, label='aug coeffs')\n",
    "plt.plot(normalized_class_coeffs, label='class coeffs')\n",
    "plt.legend()"
   ]
  },
  {
   "cell_type": "code",
   "execution_count": 11,
   "metadata": {},
   "outputs": [],
   "source": [
    "# class_ind = 2\n",
    "# [(c, aug_names[i], class_names[class_ind]) for i,c in enumerate(class_coeffs[:,class_ind]) if c > 0.01]"
   ]
  },
  {
   "cell_type": "code",
   "execution_count": 12,
   "metadata": {},
   "outputs": [
    {
     "data": {
      "text/plain": [
       "[('(<Color(1.0,9)>,)', 0.0),\n",
       " ('(<Color(1.0,8)>,)', 0.0),\n",
       " ('(<Color(1.0,7)>,)', 0.0),\n",
       " ('(<Color(1.0,6)>,)', 0.0),\n",
       " ('(<Color(1.0,5)>,)', 0.0),\n",
       " ('(<Color(1.0,4)>,)', 0.0),\n",
       " ('(<Color(1.0,3)>,)', 0.0),\n",
       " ('(<ShearY(1.0,2)>,)', 0.0),\n",
       " ('(<ShearY(1.0,3)>,)', 0.0),\n",
       " ('(<Solarize(1.0,9)>,)', 0.0),\n",
       " ('(<Solarize(1.0,8)>,)', 0.0),\n",
       " ('(<Solarize(1.0,7)>,)', 0.0),\n",
       " ('(<Solarize(1.0,6)>,)', 0.0),\n",
       " ('(<ShearY(1.0,4)>,)', 0.0),\n",
       " ('(<ShearY(1.0,5)>,)', 0.0),\n",
       " ('(<Solarize(1.0,3)>,)', 0.0),\n",
       " ('(<Solarize(1.0,2)>,)', 0.0),\n",
       " ('(<Solarize(1.0,1)>,)', 0.0),\n",
       " ('(<Solarize(1.0,0)>,)', 0.0),\n",
       " ('(<ShearY(1.0,6)>,)', 0.0),\n",
       " ('(<ShearY(1.0,7)>,)', 0.0),\n",
       " ('(<ShearY(1.0,8)>,)', 0.0),\n",
       " ('(<ShearY(1.0,9)>,)', 0.0),\n",
       " ('(<TranslateX(1.0,0)>,)', 0.0),\n",
       " ('(<TranslateX(1.0,1)>,)', 0.0),\n",
       " ('(<TranslateX(1.0,2)>,)', 0.0),\n",
       " ('(<CropBilinear(1.0,1)>,)', 0.0),\n",
       " ('(<CropBilinear(1.0,0)>,)', 0.0),\n",
       " ('(<Posterize(1.0,9)>,)', 0.0),\n",
       " ('(<Posterize(1.0,8)>,)', 0.0),\n",
       " ('(<ShearY(1.0,1)>,)', 0.0),\n",
       " ('(<ShearX(1.0,4)>,)', 0.0),\n",
       " ('(<ShearY(1.0,0)>,)', 0.0),\n",
       " ('(<Contrast(1.0,4)>,)', 0.0),\n",
       " ('(<ShearX(1.0,3)>,)', 0.0),\n",
       " ('(<ShearX(1.0,2)>,)', 0.0),\n",
       " ('(<ShearX(1.0,1)>,)', 0.0),\n",
       " ('(<ShearX(1.0,0)>,)', 0.0),\n",
       " ('(<Sharpness(1.0,9)>,)', 0.0),\n",
       " ('(<Sharpness(1.0,8)>,)', 0.0),\n",
       " ('(<Sharpness(1.0,7)>,)', 0.0),\n",
       " ('(<Sharpness(1.0,6)>,)', 0.0),\n",
       " ('(<Sharpness(1.0,5)>,)', 0.0),\n",
       " ('(<Sharpness(1.0,4)>,)', 0.0),\n",
       " ('(<ShearX(1.0,6)>,)', 0.0),\n",
       " ('(<ShearX(1.0,7)>,)', 0.0),\n",
       " ('(<ShearX(1.0,8)>,)', 0.0),\n",
       " ('(<Sharpness(1.0,0)>,)', 0.0),\n",
       " ('(<Brightness(1.0,9)>,)', 0.0),\n",
       " ('(<Brightness(1.0,8)>,)', 0.0),\n",
       " ('(<Brightness(1.0,7)>,)', 0.0),\n",
       " ('(<Brightness(1.0,6)>,)', 0.0),\n",
       " ('(<Brightness(1.0,5)>,)', 0.0),\n",
       " ('(<Brightness(1.0,4)>,)', 0.0),\n",
       " ('(<Brightness(1.0,3)>,)', 0.0),\n",
       " ('(<Brightness(1.0,2)>,)', 0.0),\n",
       " ('(<Brightness(1.0,1)>,)', 0.0),\n",
       " ('(<Brightness(1.0,0)>,)', 0.0),\n",
       " ('(<Contrast(1.0,9)>,)', 0.0),\n",
       " ('(<Contrast(1.0,8)>,)', 0.0),\n",
       " ('(<Contrast(1.0,7)>,)', 0.0),\n",
       " ('(<Contrast(1.0,6)>,)', 0.0),\n",
       " ('(<Contrast(1.0,5)>,)', 0.0),\n",
       " ('(<ShearX(1.0,9)>,)', 0.0),\n",
       " ('(<Posterize(1.0,6)>,)', 0.0),\n",
       " ('(<Posterize(1.0,7)>,)', 0.0),\n",
       " ('(<Posterize(1.0,4)>,)', 0.0),\n",
       " ('(<TranslateX(1.0,8)>,)', 0.0),\n",
       " ('(<TranslateX(1.0,9)>,)', 0.0),\n",
       " ('(<TranslateY(1.0,0)>,)', 0.0),\n",
       " ('(<TranslateY(1.0,1)>,)', 0.0),\n",
       " ('(<TranslateY(1.0,2)>,)', 0.0),\n",
       " ('(<TranslateY(1.0,3)>,)', 0.0),\n",
       " ('(<TranslateY(1.0,4)>,)', 0.0),\n",
       " ('(<Cutout(1.0,0)>,)', 0.0),\n",
       " ('(<Cutout(1.0,1)>,)', 0.0),\n",
       " ('(<Cutout(1.0,2)>,)', 0.0),\n",
       " ('(<Cutout(1.0,3)>,)', 0.0),\n",
       " ('(<Cutout(1.0,4)>,)', 0.0),\n",
       " ('(<Cutout(1.0,5)>,)', 0.0),\n",
       " ('(<Cutout(1.0,6)>,)', 0.0),\n",
       " ('(<Cutout(1.0,7)>,)', 0.0),\n",
       " ('(<Cutout(1.0,8)>,)', 0.0),\n",
       " ('(<Cutout(1.0,9)>,)', 0.0),\n",
       " ('(<TranslateX(1.0,3)>,)', 0.0),\n",
       " ('(<Posterize(1.0,5)>,)', 0.0),\n",
       " ('(<ShearX(1.0,5)>,)', 0.0),\n",
       " ('(<Rotate(1.0,0)>,)', 0.0),\n",
       " ('(<Posterize(1.0,3)>,)', 0.0),\n",
       " ('(<Posterize(1.0,2)>,)', 0.0),\n",
       " ('(<Posterize(1.0,1)>,)', 0.0),\n",
       " ('(<Posterize(1.0,0)>,)', 0.0),\n",
       " ('(<Rotate(1.0,9)>,)', 0.0),\n",
       " ('(<Rotate(1.0,8)>,)', 0.0),\n",
       " ('(<Rotate(1.0,7)>,)', 0.0),\n",
       " ('(<Rotate(1.0,1)>,)', 0.0),\n",
       " ('(<Rotate(1.0,6)>,)', 0.0),\n",
       " ('(<Rotate(1.0,5)>,)', 0.0),\n",
       " ('(<Rotate(1.0,4)>,)', 0.0),\n",
       " ('(<Rotate(1.0,3)>,)', 0.0),\n",
       " ('(<Rotate(1.0,2)>,)', 0.0),\n",
       " ('(<Color(1.0,2)>,)', 3.1776435e-05),\n",
       " ('(<TranslateX(1.0,4)>,)', 5.361564e-05),\n",
       " ('(<TranslateX(1.0,6)>,)', 5.902053e-05),\n",
       " ('(<Contrast(1.0,1)>,)', 0.00023681253),\n",
       " ('(<Contrast(1.0,2)>,)', 0.0013584559),\n",
       " ('(<CropBilinear(1.0,4)>,)', 0.001649885),\n",
       " ('(<Equalize(1.0,2)>,)', 0.0017757289),\n",
       " ('(<Equalize(1.0,9)>,)', 0.0017757289),\n",
       " ('(<Equalize(1.0,8)>,)', 0.0017757289),\n",
       " ('(<Equalize(1.0,7)>,)', 0.0017757289),\n",
       " ('(<Equalize(1.0,6)>,)', 0.0017757289),\n",
       " ('(<Equalize(1.0,0)>,)', 0.0017757289),\n",
       " ('(<Equalize(1.0,1)>,)', 0.0017757289),\n",
       " ('(<Equalize(1.0,5)>,)', 0.0017757289),\n",
       " ('(<Equalize(1.0,3)>,)', 0.0017757289),\n",
       " ('(<Equalize(1.0,4)>,)', 0.0017757289),\n",
       " ('(<TranslateX(1.0,7)>,)', 0.0019858857),\n",
       " ('(<Invert(1.0,5)>,)', 0.0020746586),\n",
       " ('(<Invert(1.0,6)>,)', 0.0020746586),\n",
       " ('(<Invert(1.0,3)>,)', 0.0020746586),\n",
       " ('(<Invert(1.0,2)>,)', 0.0020746586),\n",
       " ('(<Invert(1.0,1)>,)', 0.0020746586),\n",
       " ('(<Invert(1.0,4)>,)', 0.0020746586),\n",
       " ('(<Invert(1.0,7)>,)', 0.0020746586),\n",
       " ('(<Invert(1.0,8)>,)', 0.0020746586),\n",
       " ('(<Invert(1.0,9)>,)', 0.0020746586),\n",
       " ('(<Invert(1.0,0)>,)', 0.0020746586),\n",
       " ('(<Smooth(1.0,1)>,)', 0.0022094944),\n",
       " ('(<Smooth(1.0,2)>,)', 0.0022094944),\n",
       " ('(<Smooth(1.0,3)>,)', 0.0022094944),\n",
       " ('(<Smooth(1.0,4)>,)', 0.0022094944),\n",
       " ('(<Smooth(1.0,5)>,)', 0.0022094944),\n",
       " ('(<Smooth(1.0,6)>,)', 0.0022094944),\n",
       " ('(<Smooth(1.0,7)>,)', 0.0022094944),\n",
       " ('(<Smooth(1.0,0)>,)', 0.0022094944),\n",
       " ('(<Smooth(1.0,9)>,)', 0.0022094944),\n",
       " ('(<Smooth(1.0,8)>,)', 0.0022094944),\n",
       " ('(<Solarize(1.0,4)>,)', 0.003237549),\n",
       " ('(<CropBilinear(1.0,6)>,)', 0.0033140336),\n",
       " ('(<CropBilinear(1.0,3)>,)', 0.004176933),\n",
       " ('(<Blur(1.0,2)>,)', 0.0042170007),\n",
       " ('(<Blur(1.0,5)>,)', 0.0042170007),\n",
       " ('(<Blur(1.0,4)>,)', 0.0042170007),\n",
       " ('(<Blur(1.0,7)>,)', 0.0042170007),\n",
       " ('(<Blur(1.0,6)>,)', 0.0042170007),\n",
       " ('(<Blur(1.0,8)>,)', 0.0042170007),\n",
       " ('(<Blur(1.0,1)>,)', 0.0042170007),\n",
       " ('(<Blur(1.0,3)>,)', 0.0042170007),\n",
       " ('(<Blur(1.0,0)>,)', 0.0042170007),\n",
       " ('(<Blur(1.0,9)>,)', 0.0042170007),\n",
       " ('(<FlipUD(1.0,3)>,)', 0.004305238),\n",
       " ('(<FlipUD(1.0,2)>,)', 0.004305238),\n",
       " ('(<FlipUD(1.0,5)>,)', 0.004305238),\n",
       " ('(<FlipUD(1.0,1)>,)', 0.004305238),\n",
       " ('(<FlipUD(1.0,6)>,)', 0.004305238),\n",
       " ('(<FlipUD(1.0,7)>,)', 0.004305238),\n",
       " ('(<FlipUD(1.0,8)>,)', 0.004305238),\n",
       " ('(<FlipUD(1.0,0)>,)', 0.004305238),\n",
       " ('(<FlipUD(1.0,4)>,)', 0.004305238),\n",
       " ('(<FlipUD(1.0,9)>,)', 0.004305238),\n",
       " ('(<Color(1.0,1)>,)', 0.004720627),\n",
       " ('(<CropBilinear(1.0,2)>,)', 0.00534476),\n",
       " ('(<CropBilinear(1.0,5)>,)', 0.0069072307),\n",
       " ('(<AutoContrast(1.0,2)>,)', 0.0071123987),\n",
       " ('(<AutoContrast(1.0,3)>,)', 0.0071123987),\n",
       " ('(<AutoContrast(1.0,8)>,)', 0.0071123987),\n",
       " ('(<AutoContrast(1.0,7)>,)', 0.0071123987),\n",
       " ('(<AutoContrast(1.0,9)>,)', 0.0071123987),\n",
       " ('(<AutoContrast(1.0,6)>,)', 0.0071123987),\n",
       " ('(<AutoContrast(1.0,5)>,)', 0.0071123987),\n",
       " ('(<AutoContrast(1.0,0)>,)', 0.0071123987),\n",
       " ('(<AutoContrast(1.0,1)>,)', 0.0071123987),\n",
       " ('(<AutoContrast(1.0,4)>,)', 0.0071123987),\n",
       " ('(<Contrast(1.0,3)>,)', 0.008586912),\n",
       " ('(<Solarize(1.0,5)>,)', 0.014061517),\n",
       " ('(<TranslateY(1.0,7)>,)', 0.017847698),\n",
       " ('(<Sharpness(1.0,3)>,)', 0.018666808),\n",
       " ('(<Color(1.0,0)>,)', 0.018767001),\n",
       " ('(<CropBilinear(1.0,7)>,)', 0.019315775),\n",
       " ('(<TranslateY(1.0,5)>,)', 0.01939616),\n",
       " ('(<Contrast(1.0,0)>,)', 0.022694785),\n",
       " ('(<FlipLR(1.0,8)>,)', 0.029902201),\n",
       " ('(<FlipLR(1.0,0)>,)', 0.029902201),\n",
       " ('(<FlipLR(1.0,5)>,)', 0.029902201),\n",
       " ('(<FlipLR(1.0,7)>,)', 0.029902201),\n",
       " ('(<FlipLR(1.0,4)>,)', 0.029902201),\n",
       " ('(<FlipLR(1.0,3)>,)', 0.029902201),\n",
       " ('(<FlipLR(1.0,2)>,)', 0.029902201),\n",
       " ('(<FlipLR(1.0,1)>,)', 0.029902201),\n",
       " ('(<FlipLR(1.0,9)>,)', 0.029902201),\n",
       " ('(<FlipLR(1.0,6)>,)', 0.029902201),\n",
       " ('(<TranslateY(1.0,6)>,)', 0.03240663),\n",
       " ('(<TranslateY(1.0,8)>,)', 0.033818174),\n",
       " ('(<TranslateY(1.0,9)>,)', 0.03398951),\n",
       " ('(<Sharpness(1.0,1)>,)', 0.034612365),\n",
       " ('(<CropBilinear(1.0,8)>,)', 0.03725188),\n",
       " ('(<Sharpness(1.0,2)>,)', 0.042345926),\n",
       " ('(<CropBilinear(1.0,9)>,)', 0.04490205),\n",
       " ('(<TranslateX(1.0,5)>,)', 0.052293107)]"
      ]
     },
     "execution_count": 12,
     "metadata": {},
     "output_type": "execute_result"
    }
   ],
   "source": [
    "[(aug_names[i], normalized_aug_coeffs[i,0]) for i in np.argsort(normalized_aug_coeffs[:,0])]"
   ]
  },
  {
   "cell_type": "code",
   "execution_count": 61,
   "metadata": {},
   "outputs": [
    {
     "data": {
      "text/plain": [
       "(array([ 5.,  5.,  0.,  0., 10.,  0.,  0.,  0.,  5.,  5.]),\n",
       " array([0.00590461, 0.01326315, 0.02062169, 0.02798023, 0.03533877,\n",
       "        0.0426973 , 0.05005584, 0.05741438, 0.06477292, 0.07213145,\n",
       "        0.07948999], dtype=float32),\n",
       " <BarContainer object of 10 artists>)"
      ]
     },
     "execution_count": 61,
     "metadata": {},
     "output_type": "execute_result"
    },
    {
     "data": {
      "image/png": "[encoded data removed]",
      "text/plain": [
       "<Figure size 432x288 with 1 Axes>"
      ]
     },
     "metadata": {},
     "output_type": "display_data"
    }
   ],
   "source": [
    "plt.hist(aug_coeffs[:,0])"
   ]
  },
  {
   "cell_type": "code",
   "execution_count": 67,
   "metadata": {},
   "outputs": [
    {
     "data": {
      "text/plain": [
       "(array([ 5.,  0., 10.,  5.,  0.,  0.,  5.,  0.,  0.,  5.]),\n",
       " array([0.        , 0.00351292, 0.00702583, 0.01053875, 0.01405166,\n",
       "        0.01756458, 0.02107749, 0.02459041, 0.02810332, 0.03161624,\n",
       "        0.03512915], dtype=float32),\n",
       " <BarContainer object of 10 artists>)"
      ]
     },
     "execution_count": 67,
     "metadata": {},
     "output_type": "execute_result"
    },
    {
     "data": {
      "image/png": "[encoded data removed]",
      "text/plain": [
       "<Figure size 432x288 with 1 Axes>"
      ]
     },
     "metadata": {},
     "output_type": "display_data"
    }
   ],
   "source": [
    "plt.hist(class_coeffs[:,3])"
   ]
  },
  {
   "cell_type": "code",
   "execution_count": null,
   "metadata": {},
   "outputs": [],
   "source": [
    "# class-specific weights reveal differnetly weighted scales, depending on class, with STL-10\n",
    "\n",
    "# STL-10\n",
    "# Same performance as Mean and GPS because while our method learns to ignore augmentations \n",
    "# that provide no additional information, the weighting for the remaining augmentations is even \n",
    "# on STL-10. This helps identify which augmentations need not be included, therby saving computation \n",
    "# time, but does not improve. \n",
    "# CIFAR-100\n",
    "# Why does our method outperform GPS on CIFAR-100 + standard? \n",
    "    # GPS chooses [15, 0, 18] --> all 0% zoomed in\n",
    "    # our method downweights higher scales, but still gives them non-0 weights\n",
    "    # Performance on CIFAR-100 and the standard policy sheds light on an important difference \n",
    "    # between our method and GPS. While GPS learns a similar policy - ignoring augmentations \n",
    "    # that scale images up - it is limited to a pre-specified number of augmentations (in this case, 3).\n",
    "    # In this instance, including more \n",
    "    # augmentations, as our method does, provides a greater increase in performance.\n",
    "# And why does our method underperform GPS on CIFAR-100 + PIL?\n",
    "    # Overfitting to the validation set with the number of parameters (200)\n",
    "    # GPS chooses [0, 50, 1] for PIL'\n",
    "# aug-specific weights: scales are downweighted\n",
    "# \n",
    "# why is it that "
   ]
  },
  {
   "cell_type": "code",
   "execution_count": null,
   "metadata": {},
   "outputs": [],
   "source": [
    "# for standard\n",
    "# CIFAR uses partial_lr --> more classes, goes ot partial_lr\n",
    "# STL-10 users full_lr  --> fewer classes, uses full_lr \n",
    "# for PIL\n",
    "# CIFAR is inbetween --> partial\n",
    "# STL is still full "
   ]
  },
  {
   "cell_type": "code",
   "execution_count": 11,
   "metadata": {},
   "outputs": [
    {
     "data": {
      "text/plain": [
       "'hflip,lower left crop,0.0% zoomed in'"
      ]
     },
     "execution_count": 11,
     "metadata": {},
     "output_type": "execute_result"
    }
   ],
   "source": [
    "aug_names[18]"
   ]
  },
  {
   "cell_type": "code",
   "execution_count": null,
   "metadata": {},
   "outputs": [],
   "source": []
  }
 ],
 "metadata": {
  "kernelspec": {
   "display_name": "Python 3",
   "language": "python",
   "name": "python3"
  },
  "language_info": {
   "codemirror_mode": {
    "name": "ipython",
    "version": 3
   },
   "file_extension": ".py",
   "mimetype": "text/x-python",
   "name": "python",
   "nbconvert_exporter": "python",
   "pygments_lexer": "ipython3",
   "version": "3.7.9"
  }
 },
 "nbformat": 4,
 "nbformat_minor": 4
}
