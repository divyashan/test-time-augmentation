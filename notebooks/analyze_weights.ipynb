{
 "cells": [
  {
   "cell_type": "code",
   "execution_count": 20,
   "metadata": {},
   "outputs": [
    {
     "name": "stdout",
     "output_type": "stream",
     "text": [
      "Using GPU:0\n"
     ]
    }
   ],
   "source": [
    "import torch\n",
    "from torch import nn, optim\n",
    "import sys\n",
    "import matplotlib.pyplot as plt\n",
    "import pandas as pd\n",
    "import seaborn as sns\n",
    "sns.set_style('white')\n",
    "sys.path.insert(0, '../')\n",
    "#from tta_agg_models import TTARegression, TTAPartialRegression, GPS\n",
    "from utils.gpu_utils import restrict_GPU_pytorch\n",
    "import numpy as np\n",
    "from utils.aug_utils import invert_aug_list\n",
    "SMALL_SIZE = 14\n",
    "MEDIUM_SIZE = 18\n",
    "BIGGER_SIZE = 20\n",
    "\n",
    "plt.rc('font', size=SMALL_SIZE)          # controls default text sizes\n",
    "plt.rc('axes', titlesize=BIGGER_SIZE)     # fontsize of the axes title\n",
    "plt.rc('axes', labelsize=MEDIUM_SIZE)    # fontsize of the x and y labels\n",
    "plt.rc('xtick', labelsize=SMALL_SIZE)    # fontsize of the tick labels\n",
    "plt.rc('ytick', labelsize=SMALL_SIZE)    # fontsize of the tick labels\n",
    "plt.rc('legend', fontsize=SMALL_SIZE)    # legend fontsize\n",
    "plt.rc('figure', titlesize=BIGGER_SIZE)  # fontsize of the figure title\n",
    "restrict_GPU_pytorch('0')\n",
    "class TTAPartialRegression(nn.Module):\n",
    "    def __init__(self, n_augs, n_classes, temp_scale=1, initialization='even',coeffs=[]):\n",
    "        super().__init__()\n",
    "        # To make \"a\" and \"b\" real parameters of the model, we need to wrap them with nn.Parameter\n",
    "        self.coeffs = nn.Parameter(torch.randn((n_augs,1 ), requires_grad=True, dtype=torch.float))\n",
    "        self.temperature = temp_scale\n",
    "        if len(coeffs):\n",
    "            self.coeffs = nn.Parameter(torch.Tensor(coeffs), requires_grad=True)\n",
    "        else:\n",
    "            if initialization == 'even':\n",
    "                self.coeffs.data.fill_(1.0/n_augs)\n",
    "            elif initialization== 'original':\n",
    "                self.coeffs.data[0,:].fill_(1)\n",
    "                self.coeffs.data[1,:].fill_(0)\n",
    "\n",
    "    def forward(self, x):\n",
    "        # Computes the outputs / predictions\n",
    "        x = x/self.temperature\n",
    "        mult = torch.matmul(x.transpose(1, 2), self.coeffs / torch.sum(self.coeffs, axis=0))\n",
    "        return mult.squeeze()\n",
    "\n",
    "class TTARegression(nn.Module):\n",
    "    def __init__(self, n_augs, n_classes, temp_scale=1, initialization='even'):\n",
    "        super().__init__()\n",
    "        \n",
    "        if initialization == 'even':\n",
    "            self.coeffs = nn.Parameter(torch.randn((n_augs, n_classes), requires_grad=True, dtype=torch.float))\n",
    "            self.coeffs.data.fill_(1.0/n_augs) \n",
    "        else:\n",
    "            coeffs = torch.cat([torch.Tensor(initialization) for i in range(n_classes)], axis=1)\n",
    "            self.coeffs = nn.Parameter(coeffs, requires_grad = True)\n",
    "\n",
    "        self.temperature = temp_scale\n",
    "    \n",
    "    def forward(self, x):\n",
    "        # Computes the outputs / predictions\n",
    "        x = x/self.temperature\n",
    "        mult = self.coeffs * x\n",
    "        return mult.sum(axis=1)\n",
    "\n",
    "dataset_name_dict = {'flowers102':'Flowers102', 'imnet':'ImageNet',\n",
    "                 'cifar100': 'CIFAR100'}\n",
    "\n",
    "# Uncomment line for plots specific to each dataset\n",
    "# dataset, n_classes = 'imnet', 1000\n",
    "dataset, n_classes = 'flowers102', 102\n",
    "\n",
    "policy = 'five_crop_hflip_scale'\n",
    "n_augs = 30\n",
    "agg_models_dir = '../' + dataset + '/' + policy + '/agg_models'\n",
    "model_name = 'resnet50'\n",
    "\n",
    "\n",
    "aug_list = np.load('../' + dataset + '/' + policy + '/aug_list.npy')\n",
    "aug_order = np.load('../' + dataset + '/' + policy + '/aug_order.npy')\n",
    "\n",
    "aug_name = 'combo'\n",
    "aug_model_path = agg_models_dir + '/'+model_name+'/'+aug_name + '/partial_lr.pth'\n",
    "aug_model = TTAPartialRegression(n_augs,n_classes,1,'even')\n",
    "aug_model.load_state_dict(torch.load(aug_model_path))\n",
    "aug_model.eval()\n",
    "aug_coeffs = aug_model.coeffs.detach().cpu().numpy()\n",
    "coeffs = aug_coeffs\n"
   ]
  },
  {
   "cell_type": "code",
   "execution_count": 21,
   "metadata": {},
   "outputs": [
    {
     "name": "stdout",
     "output_type": "stream",
     "text": [
      "List of augmentations with non-zero weights, along with learned weight\n"
     ]
    },
    {
     "data": {
      "text/plain": [
       "[('no hflip,upper left crop,0.0% zoomed in', 0.028611243),\n",
       " ('no hflip,upper left crop,4.0% zoomed in', 0.021924611),\n",
       " ('no hflip,lower left crop,0.0% zoomed in', 0.04023848),\n",
       " ('no hflip,lower left crop,4.0% zoomed in', 0.006447591),\n",
       " ('no hflip,lower right,0.0% zoomed in', 0.032283567),\n",
       " ('no hflip,lower right,4.0% zoomed in', 0.040941644),\n",
       " ('no hflip,upper right crop,0.0% zoomed in', 0.021264138),\n",
       " ('no hflip,upper right crop,4.0% zoomed in', 0.03497406),\n",
       " ('no hflip,center crop,0.0% zoomed in', 0.07165731),\n",
       " ('no hflip,center crop,4.0% zoomed in', 0.058629572),\n",
       " ('hflip,upper left crop,0.0% zoomed in', 0.060986813),\n",
       " ('hflip,upper left crop,4.0% zoomed in', 0.04808944),\n",
       " ('hflip,lower left crop,0.0% zoomed in', 0.06783164),\n",
       " ('hflip,lower left crop,4.0% zoomed in', 0.026838988),\n",
       " ('hflip,lower left crop,10.% zoomed in', 0.014454059),\n",
       " ('hflip,lower right,0.0% zoomed in', 0.046559468),\n",
       " ('hflip,lower right,4.0% zoomed in', 0.017741028),\n",
       " ('hflip,upper right crop,0.0% zoomed in', 0.033021133),\n",
       " ('hflip,upper right crop,4.0% zoomed in', 0.015437293),\n",
       " ('hflip,center crop,0.0% zoomed in', 0.08332999),\n",
       " ('hflip,center crop,4.0% zoomed in', 0.06649631),\n",
       " ('hflip,center crop,10.% zoomed in', 0.009022781)]"
      ]
     },
     "execution_count": 21,
     "metadata": {},
     "output_type": "execute_result"
    }
   ],
   "source": [
    "aug_list = np.load('../' + dataset + '/' + policy + '/aug_list.npy')\n",
    "aug_order = np.load('../' + dataset  + '/' + policy + '/aug_order.npy')\n",
    "aug_names = invert_aug_list(aug_list, aug_order)\n",
    "print(\"List of augmentations with non-zero weights, along with learned weight\")\n",
    "[(aug_names[i], coeffs[i][0]) for i in np.where(coeffs > 0)[0]]"
   ]
  },
  {
   "cell_type": "code",
   "execution_count": 22,
   "metadata": {},
   "outputs": [],
   "source": [
    "results = []\n",
    "for i in range(len(aug_list)):\n",
    "    aug_params = aug_list[i]\n",
    "    coeff = coeffs[i]\n",
    "    results.append({'coeff': coeff, 'hflip': aug_params[0], 'five_crop': aug_params[1],\n",
    "                    'scale': aug_params[2]})\n",
    "results_df = pd.DataFrame(results)"
   ]
  },
  {
   "cell_type": "code",
   "execution_count": 23,
   "metadata": {},
   "outputs": [
    {
     "data": {
      "text/plain": [
       "(-0.01, 0.11)"
      ]
     },
     "execution_count": 23,
     "metadata": {},
     "output_type": "execute_result"
    },
    {
     "data": {
      "image/png": "[encoded data removed]",
      "text/plain": [
       "<Figure size 360x360 with 1 Axes>"
      ]
     },
     "metadata": {},
     "output_type": "display_data"
    }
   ],
   "source": [
    "from matplotlib.ticker import FormatStrFormatter\n",
    "\n",
    "plt.figure(figsize=(5, 5))\n",
    "results_df['scale'] = results_df['scale'].round(2)\n",
    "ax = sns.stripplot(x='scale', y='coeff', data=results_df, size=10)\n",
    "plt.title(\"Augmentation Weights:\\n\" + dataset_name_dict[dataset] )\n",
    "plt.ylabel(\"Augmentation Weight\")\n",
    "plt.xlabel(\"Scale Parameter (% Scale Up)\")\n",
    "#ax.set_xticklabels(['0.0', '4.0', '10.0'])\n",
    "plt.ylim(-.01, .11)\n",
    "#ax.set_yticklabels([])\n",
    "#ax.set_ylabel(\"\")\n",
    "#plt.tight_layout()"
   ]
  }
 ],
 "metadata": {
  "kernelspec": {
   "display_name": "Python 3",
   "language": "python",
   "name": "python3"
  },
  "language_info": {
   "codemirror_mode": {
    "name": "ipython",
    "version": 3
   },
   "file_extension": ".py",
   "mimetype": "text/x-python",
   "name": "python",
   "nbconvert_exporter": "python",
   "pygments_lexer": "ipython3",
   "version": "3.7.9"
  }
 },
 "nbformat": 4,
 "nbformat_minor": 4
}
