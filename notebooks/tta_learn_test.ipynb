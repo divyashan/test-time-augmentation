{
 "cells": [
  {
   "cell_type": "code",
   "execution_count": 13,
   "metadata": {},
   "outputs": [
    {
     "name": "stderr",
     "output_type": "stream",
     "text": [
      "\r",
      "  0%|          | 0/82 [00:00<?, ?it/s]"
     ]
    },
    {
     "name": "stdout",
     "output_type": "stream",
     "text": [
      "The autoreload extension is already loaded. To reload it, use:\n",
      "  %reload_ext autoreload\n"
     ]
    },
    {
     "name": "stderr",
     "output_type": "stream",
     "text": [
      "100%|██████████| 82/82 [00:56<00:00,  1.44it/s]\n",
      "  0%|          | 0/82 [00:00<?, ?it/s]"
     ]
    },
    {
     "name": "stdout",
     "output_type": "stream",
     "text": [
      "Epoch: [0][ 0/82]\tTime  0.000 ( 0.000)\tData  0.000 ( 0.000)\tLoss 8.8881e-01 (8.4273e-01)\tAcc@1  73.50 ( 77.38)\tAcc@5  95.50 ( 94.34)\n",
      "Done with one epoch!\n"
     ]
    },
    {
     "name": "stderr",
     "output_type": "stream",
     "text": [
      "100%|██████████| 82/82 [00:56<00:00,  1.46it/s]\n",
      "  0%|          | 0/82 [00:00<?, ?it/s]"
     ]
    },
    {
     "name": "stdout",
     "output_type": "stream",
     "text": [
      "Epoch: [1][ 1/82]\tTime  0.000 ( 0.000)\tData  0.000 ( 0.000)\tLoss 7.1649e-01 (8.5677e-01)\tAcc@1  81.08 ( 76.99)\tAcc@5  96.50 ( 94.34)\n",
      "Done with one epoch!\n"
     ]
    },
    {
     "name": "stderr",
     "output_type": "stream",
     "text": [
      "100%|██████████| 82/82 [00:56<00:00,  1.46it/s]\n",
      "  0%|          | 0/82 [00:00<?, ?it/s]"
     ]
    },
    {
     "name": "stdout",
     "output_type": "stream",
     "text": [
      "Epoch: [2][ 2/82]\tTime  0.000 ( 0.000)\tData  0.000 ( 0.000)\tLoss 8.3376e-01 (8.5593e-01)\tAcc@1  75.83 ( 76.89)\tAcc@5  96.08 ( 94.35)\n",
      "Done with one epoch!\n"
     ]
    },
    {
     "name": "stderr",
     "output_type": "stream",
     "text": [
      "100%|██████████| 82/82 [00:55<00:00,  1.47it/s]\n",
      "  0%|          | 0/82 [00:00<?, ?it/s]"
     ]
    },
    {
     "name": "stdout",
     "output_type": "stream",
     "text": [
      "Epoch: [3][ 3/82]\tTime  0.000 ( 0.000)\tData  0.000 ( 0.000)\tLoss 7.2137e-01 (8.7016e-01)\tAcc@1  80.50 ( 76.65)\tAcc@5  96.33 ( 94.32)\n",
      "Done with one epoch!\n"
     ]
    },
    {
     "name": "stderr",
     "output_type": "stream",
     "text": [
      "100%|██████████| 82/82 [00:55<00:00,  1.47it/s]\n",
      "  0%|          | 0/82 [00:00<?, ?it/s]"
     ]
    },
    {
     "name": "stdout",
     "output_type": "stream",
     "text": [
      "Epoch: [4][ 4/82]\tTime  0.000 ( 0.000)\tData  0.000 ( 0.000)\tLoss 9.6693e-01 (8.8177e-01)\tAcc@1  73.08 ( 76.50)\tAcc@5  95.17 ( 94.26)\n",
      "Done with one epoch!\n"
     ]
    },
    {
     "name": "stderr",
     "output_type": "stream",
     "text": [
      "100%|██████████| 82/82 [00:55<00:00,  1.47it/s]\n",
      "  0%|          | 0/82 [00:00<?, ?it/s]"
     ]
    },
    {
     "name": "stdout",
     "output_type": "stream",
     "text": [
      "Epoch: [5][ 5/82]\tTime  0.000 ( 0.000)\tData  0.000 ( 0.000)\tLoss 7.6311e-01 (8.9044e-01)\tAcc@1  79.08 ( 76.38)\tAcc@5  96.17 ( 94.23)\n",
      "Done with one epoch!\n"
     ]
    },
    {
     "name": "stderr",
     "output_type": "stream",
     "text": [
      "100%|██████████| 82/82 [00:55<00:00,  1.47it/s]\n",
      "  0%|          | 0/82 [00:00<?, ?it/s]"
     ]
    },
    {
     "name": "stdout",
     "output_type": "stream",
     "text": [
      "Epoch: [6][ 6/82]\tTime  0.000 ( 0.000)\tData  0.000 ( 0.000)\tLoss 1.1104e+00 (8.9324e-01)\tAcc@1  70.17 ( 76.30)\tAcc@5  93.83 ( 94.21)\n",
      "Done with one epoch!\n"
     ]
    },
    {
     "name": "stderr",
     "output_type": "stream",
     "text": [
      "100%|██████████| 82/82 [00:55<00:00,  1.47it/s]\n",
      "  0%|          | 0/82 [00:00<?, ?it/s]"
     ]
    },
    {
     "name": "stdout",
     "output_type": "stream",
     "text": [
      "Epoch: [7][ 7/82]\tTime  0.000 ( 0.000)\tData  0.000 ( 0.000)\tLoss 8.9395e-01 (8.9912e-01)\tAcc@1  78.83 ( 76.19)\tAcc@5  95.25 ( 94.20)\n",
      "Done with one epoch!\n"
     ]
    },
    {
     "name": "stderr",
     "output_type": "stream",
     "text": [
      "100%|██████████| 82/82 [00:56<00:00,  1.45it/s]\n",
      "  0%|          | 0/82 [00:00<?, ?it/s]"
     ]
    },
    {
     "name": "stdout",
     "output_type": "stream",
     "text": [
      "Epoch: [8][ 8/82]\tTime  0.000 ( 0.000)\tData  0.000 ( 0.000)\tLoss 1.1307e+00 (9.0349e-01)\tAcc@1  68.25 ( 76.12)\tAcc@5  94.25 ( 94.18)\n",
      "Done with one epoch!\n"
     ]
    },
    {
     "name": "stderr",
     "output_type": "stream",
     "text": [
      "100%|██████████| 82/82 [00:55<00:00,  1.46it/s]\n",
      "  0%|          | 0/82 [00:00<?, ?it/s]"
     ]
    },
    {
     "name": "stdout",
     "output_type": "stream",
     "text": [
      "Epoch: [9][ 9/82]\tTime  0.000 ( 0.000)\tData  0.000 ( 0.000)\tLoss 8.3374e-01 (9.0757e-01)\tAcc@1  78.25 ( 76.06)\tAcc@5  95.83 ( 94.16)\n",
      "Done with one epoch!\n"
     ]
    },
    {
     "name": "stderr",
     "output_type": "stream",
     "text": [
      "100%|██████████| 82/82 [00:56<00:00,  1.46it/s]\n",
      "  0%|          | 0/82 [00:00<?, ?it/s]"
     ]
    },
    {
     "name": "stdout",
     "output_type": "stream",
     "text": [
      "Epoch: [10][10/82]\tTime  0.000 ( 0.000)\tData  0.000 ( 0.000)\tLoss 1.1887e+00 (9.0783e-01)\tAcc@1  68.00 ( 76.03)\tAcc@5  93.83 ( 94.16)\n",
      "Done with one epoch!\n"
     ]
    },
    {
     "name": "stderr",
     "output_type": "stream",
     "text": [
      "100%|██████████| 82/82 [00:55<00:00,  1.47it/s]\n",
      "  0%|          | 0/82 [00:00<?, ?it/s]"
     ]
    },
    {
     "name": "stdout",
     "output_type": "stream",
     "text": [
      "Epoch: [11][11/82]\tTime  0.000 ( 0.000)\tData  0.000 ( 0.000)\tLoss 8.5954e-01 (9.1068e-01)\tAcc@1  78.58 ( 75.99)\tAcc@5  95.75 ( 94.16)\n",
      "Done with one epoch!\n"
     ]
    },
    {
     "name": "stderr",
     "output_type": "stream",
     "text": [
      "100%|██████████| 82/82 [00:56<00:00,  1.46it/s]\n",
      "  0%|          | 0/82 [00:00<?, ?it/s]"
     ]
    },
    {
     "name": "stdout",
     "output_type": "stream",
     "text": [
      "Epoch: [12][12/82]\tTime  0.000 ( 0.000)\tData  0.000 ( 0.000)\tLoss 1.1651e+00 (9.1180e-01)\tAcc@1  66.58 ( 75.95)\tAcc@5  94.67 ( 94.17)\n",
      "Done with one epoch!\n"
     ]
    },
    {
     "name": "stderr",
     "output_type": "stream",
     "text": [
      "100%|██████████| 82/82 [00:55<00:00,  1.48it/s]\n",
      "  0%|          | 0/82 [00:00<?, ?it/s]"
     ]
    },
    {
     "name": "stdout",
     "output_type": "stream",
     "text": [
      "Epoch: [13][13/82]\tTime  0.000 ( 0.000)\tData  0.000 ( 0.000)\tLoss 8.3065e-01 (9.1438e-01)\tAcc@1  78.33 ( 75.91)\tAcc@5  96.00 ( 94.16)\n",
      "Done with one epoch!\n"
     ]
    },
    {
     "name": "stderr",
     "output_type": "stream",
     "text": [
      "100%|██████████| 82/82 [00:55<00:00,  1.47it/s]\n",
      "  0%|          | 0/82 [00:00<?, ?it/s]"
     ]
    },
    {
     "name": "stdout",
     "output_type": "stream",
     "text": [
      "Epoch: [14][14/82]\tTime  0.000 ( 0.000)\tData  0.000 ( 0.000)\tLoss 1.1840e+00 (9.1529e-01)\tAcc@1  67.25 ( 75.89)\tAcc@5  94.00 ( 94.16)\n",
      "Done with one epoch!\n"
     ]
    },
    {
     "name": "stderr",
     "output_type": "stream",
     "text": [
      "100%|██████████| 82/82 [00:55<00:00,  1.48it/s]\n",
      "  0%|          | 0/82 [00:00<?, ?it/s]"
     ]
    },
    {
     "name": "stdout",
     "output_type": "stream",
     "text": [
      "Epoch: [15][15/82]\tTime  0.000 ( 0.000)\tData  0.000 ( 0.000)\tLoss 8.4598e-01 (9.1688e-01)\tAcc@1  78.58 ( 75.87)\tAcc@5  95.75 ( 94.16)\n",
      "Done with one epoch!\n"
     ]
    },
    {
     "name": "stderr",
     "output_type": "stream",
     "text": [
      "100%|██████████| 82/82 [00:56<00:00,  1.46it/s]\n",
      "  0%|          | 0/82 [00:00<?, ?it/s]"
     ]
    },
    {
     "name": "stdout",
     "output_type": "stream",
     "text": [
      "Epoch: [16][16/82]\tTime  0.000 ( 0.000)\tData  0.000 ( 0.000)\tLoss 1.1702e+00 (9.1665e-01)\tAcc@1  66.75 ( 75.86)\tAcc@5  94.33 ( 94.16)\n",
      "Done with one epoch!\n"
     ]
    },
    {
     "name": "stderr",
     "output_type": "stream",
     "text": [
      "100%|██████████| 82/82 [00:59<00:00,  1.38it/s]\n",
      "  0%|          | 0/82 [00:00<?, ?it/s]"
     ]
    },
    {
     "name": "stdout",
     "output_type": "stream",
     "text": [
      "Epoch: [17][17/82]\tTime  0.000 ( 0.000)\tData  0.000 ( 0.000)\tLoss 8.3284e-01 (9.1853e-01)\tAcc@1  78.58 ( 75.83)\tAcc@5  95.75 ( 94.15)\n",
      "Done with one epoch!\n"
     ]
    },
    {
     "name": "stderr",
     "output_type": "stream",
     "text": [
      "100%|██████████| 82/82 [01:02<00:00,  1.32it/s]\n",
      "  0%|          | 0/82 [00:00<?, ?it/s]"
     ]
    },
    {
     "name": "stdout",
     "output_type": "stream",
     "text": [
      "Epoch: [18][18/82]\tTime  0.000 ( 0.000)\tData  0.000 ( 0.000)\tLoss 1.1631e+00 (9.1901e-01)\tAcc@1  67.67 ( 75.83)\tAcc@5  94.08 ( 94.15)\n",
      "Done with one epoch!\n"
     ]
    },
    {
     "name": "stderr",
     "output_type": "stream",
     "text": [
      "100%|██████████| 82/82 [01:02<00:00,  1.30it/s]"
     ]
    },
    {
     "name": "stdout",
     "output_type": "stream",
     "text": [
      "Epoch: [19][19/82]\tTime  0.000 ( 0.000)\tData  0.000 ( 0.000)\tLoss 8.4130e-01 (9.1976e-01)\tAcc@1  78.50 ( 75.83)\tAcc@5  95.83 ( 94.15)\n",
      "Done with one epoch!\n"
     ]
    },
    {
     "name": "stderr",
     "output_type": "stream",
     "text": [
      "\n"
     ]
    },
    {
     "data": {
      "text/plain": [
       "TTARegression()"
      ]
     },
     "execution_count": 13,
     "metadata": {},
     "output_type": "execute_result"
    }
   ],
   "source": [
    "%load_ext autoreload\n",
    "%autoreload 2\n",
    "from tta_train import train_tta_lr\n",
    "\n",
    "model_name = 'resnet18'\n",
    "aug_name = 'five_crop'\n",
    "\n",
    "train_tta_lr(model_name, aug_name, 20, 'full')\n",
    "train_tta_lr(model_name, aug_name, 20, 'partial')\n"
   ]
  },
  {
   "cell_type": "code",
   "execution_count": null,
   "metadata": {},
   "outputs": [],
   "source": []
  }
 ],
 "metadata": {
  "kernelspec": {
   "display_name": "Python 3",
   "language": "python",
   "name": "python3"
  },
  "language_info": {
   "codemirror_mode": {
    "name": "ipython",
    "version": 3
   },
   "file_extension": ".py",
   "mimetype": "text/x-python",
   "name": "python",
   "nbconvert_exporter": "python",
   "pygments_lexer": "ipython3",
   "version": "3.7.6"
  }
 },
 "nbformat": 4,
 "nbformat_minor": 2
}
