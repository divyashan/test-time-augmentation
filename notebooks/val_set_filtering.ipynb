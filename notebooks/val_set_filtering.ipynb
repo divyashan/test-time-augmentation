{
 "cells": [
  {
   "cell_type": "code",
   "execution_count": 1,
   "metadata": {},
   "outputs": [
    {
     "name": "stdout",
     "output_type": "stream",
     "text": [
      "Using GPU:0\n"
     ]
    }
   ],
   "source": [
    "# Investigating which classes suffer from test-time augmentation,\n",
    "# and why\n",
    "import sys\n",
    "sys.path.insert(0, '../')\n",
    "from dataloaders import get_imnet_dataloader\n",
    "from utils.gpu_utils import restrict_GPU_pytorch\n",
    "restrict_GPU_pytorch('0')\n",
    "\n",
    "import h5py\n",
    "import numpy as np\n",
    "import matplotlib.pyplot as plt\n",
    "from collections import Counter\n",
    "import seaborn as sns\n",
    "from imagenet_classes import imagenet_classes\n",
    "\n",
    "\n",
    "sns.set_style('white')\n",
    "hf = h5py.File('../imnet/five_crop_hflip_scale/model_outputs/val/resnet50.h5', 'r')\n",
    "outputs = []\n",
    "labels = []\n",
    "for key in hf.keys():\n",
    "    if 'inputs' in key:\n",
    "        batch_key = key\n",
    "        label_key = key[:-7] + \"_labels\"\n",
    "        outputs.append(hf[batch_key][:])\n",
    "        labels.append(hf[label_key][:])\n",
    "outputs = np.concatenate(outputs, axis=1)\n",
    "labels = np.concatenate(labels)"
   ]
  },
  {
   "cell_type": "code",
   "execution_count": 6,
   "metadata": {},
   "outputs": [],
   "source": [
    "from sklearn.model_selection import train_test_split\n",
    "train_idxs, test_idxs = train_test_split(list(range(outputs.shape[1])), train_size=.5)\n",
    "train_outputs, train_labels = outputs[:,train_idxs,:], labels[train_idxs]\n",
    "test_outputs, test_labels = outputs[:,test_idxs,:], labels[train_idxs]"
   ]
  },
  {
   "cell_type": "code",
   "execution_count": 20,
   "metadata": {},
   "outputs": [],
   "source": [
    "# identify which predicted classes are hurt by standard TTA\n",
    "orig_idx = 12\n",
    "stta_preds = np.mean(train_outputs, axis=0)\n",
    "orig_preds = train_outputs[orig_idx,:,:]\n",
    "\n",
    "stta_correct_idxs = np.where(np.argmax(stta_preds, axis=1) == train_labels)[0]\n",
    "stta_incorrect_idxs = np.where(np.argmax(stta_preds, axis=1) != train_labels)[0]\n",
    "orig_correct_idxs = np.where(np.argmax(orig_preds, axis=1) == train_labels)[0]\n",
    "orig_incorrect_idxs = np.where(np.argmax(orig_preds, axis=1) != train_labels)[0]\n",
    "\n",
    "corruptions = list(set(stta_incorrect_idxs).intersection(orig_correct_idxs))\n",
    "corrections = list(set(stta_correct_idxs).intersection(orig_incorrect_idxs))"
   ]
  },
  {
   "cell_type": "code",
   "execution_count": 22,
   "metadata": {},
   "outputs": [],
   "source": [
    "corrupt_predicted_classes = np.argmax(stta_preds[corruptions], axis= 1)\n",
    "correct_predicted_classes = np.argmax(stta_preds[corrections], axis= 1)"
   ]
  },
  {
   "cell_type": "code",
   "execution_count": 27,
   "metadata": {},
   "outputs": [],
   "source": [
    "corrupt_map = np.zeros(1000)\n",
    "correct_map = np.zeros(1000)\n",
    "for j in corrupt_predicted_classes:\n",
    "    corrupt_map[j] += 1\n",
    "\n",
    "for j in correct_predicted_classes:\n",
    "    correct_map[j] += 1"
   ]
  },
  {
   "cell_type": "code",
   "execution_count": 30,
   "metadata": {},
   "outputs": [],
   "source": [
    "diffs = correct_map - corrupt_map\n",
    "classes_to_avoid = np.where(diffs < 0)[0]"
   ]
  },
  {
   "cell_type": "code",
   "execution_count": 31,
   "metadata": {},
   "outputs": [
    {
     "data": {
      "text/plain": [
       "195"
      ]
     },
     "execution_count": 31,
     "metadata": {},
     "output_type": "execute_result"
    }
   ],
   "source": [
    "combined_preds = []\n",
    "for i in range(len(stta_preds)):\n",
    "    stta_pred = stta_preds[i]\n",
    "    orig_pred = orig_preds[i]\n",
    "    if np.argmax(stta_pred) in classes_to_avoid:\n",
    "        combined_preds.append()\n",
    "# iterate through predictions from stta and predictions from orig\n",
    "# if np.argmax(stta_pred).in(classes_to_avoid)\n",
    "# add orig_pred\n",
    "# if not, add stta_pred"
   ]
  },
  {
   "cell_type": "code",
   "execution_count": 32,
   "metadata": {},
   "outputs": [
    {
     "data": {
      "text/plain": [
       "(24999, 1000)"
      ]
     },
     "execution_count": 32,
     "metadata": {},
     "output_type": "execute_result"
    }
   ],
   "source": [
    "stta_preds.shape"
   ]
  },
  {
   "cell_type": "code",
   "execution_count": null,
   "metadata": {},
   "outputs": [],
   "source": []
  }
 ],
 "metadata": {
  "kernelspec": {
   "display_name": "Python 3",
   "language": "python",
   "name": "python3"
  },
  "language_info": {
   "codemirror_mode": {
    "name": "ipython",
    "version": 3
   },
   "file_extension": ".py",
   "mimetype": "text/x-python",
   "name": "python",
   "nbconvert_exporter": "python",
   "pygments_lexer": "ipython3",
   "version": "3.7.9"
  }
 },
 "nbformat": 4,
 "nbformat_minor": 4
}
