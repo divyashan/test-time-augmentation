{
 "cells": [
  {
   "cell_type": "code",
   "execution_count": 303,
   "metadata": {},
   "outputs": [
    {
     "name": "stdout",
     "output_type": "stream",
     "text": [
      "The autoreload extension is already loaded. To reload it, use:\n",
      "  %reload_ext autoreload\n"
     ]
    }
   ],
   "source": [
    "%load_ext autoreload\n",
    "%autoreload 2\n",
    "# Investigating why TTA average performs poorly\n",
    "import h5py\n",
    "import numpy as np\n",
    "import seaborn as sns\n",
    "import matplotlib.pyplot as plt\n",
    "import sys\n",
    "from augmentations import get_aug_idxs\n",
    "from scipy.special import softmax\n",
    "\n",
    "#sys.path.insert(0, '/local/divyas/icml_testaug')\n",
    "sns.set_style('white')\n",
    "\n",
    "model_name = 'MobileNetV2'\n",
    "aug_name = 'five_crop'\n",
    "agg_output_path = './outputs/aggregated_outputs/' + model_name + '/' + aug_name + '/mean.h5'\n",
    "orig_output_path = './outputs/aggregated_outputs/' + model_name + '/orig/mean.h5'\n",
    "\n",
    "agg_hf = h5py.File(agg_output_path, 'r')\n",
    "orig_hf = h5py.File(orig_output_path, 'r')"
   ]
  },
  {
   "cell_type": "code",
   "execution_count": 304,
   "metadata": {},
   "outputs": [
    {
     "name": "stderr",
     "output_type": "stream",
     "text": [
      "/local/divyas/.conda/envs/testaug/lib/python3.7/site-packages/ipykernel_launcher.py:26: H5pyDeprecationWarning: dataset.value has been deprecated. Use dataset[()] instead.\n",
      "/local/divyas/.conda/envs/testaug/lib/python3.7/site-packages/ipykernel_launcher.py:27: H5pyDeprecationWarning: dataset.value has been deprecated. Use dataset[()] instead.\n",
      "/local/divyas/.conda/envs/testaug/lib/python3.7/site-packages/ipykernel_launcher.py:28: H5pyDeprecationWarning: dataset.value has been deprecated. Use dataset[()] instead.\n"
     ]
    },
    {
     "name": "stdout",
     "output_type": "stream",
     "text": [
      "1240 855 1998\n"
     ]
    }
   ],
   "source": [
    "# TODO: show how many labels TTA helps, how many labels TTA doesn't\n",
    "# calculate class specific accuracy w/o TTA\n",
    "# calculate class specific accuracy w/ TTA\n",
    "tta_output = []\n",
    "raw_output = []\n",
    "labels = []\n",
    "n_changed_right = 0\n",
    "n_changed_wrong = 0\n",
    "n_changed_neutral = 0\n",
    "batch_accs = []\n",
    "orig_batch_accs = []\n",
    "\n",
    "wrong_aug_output = []\n",
    "wrong_raw_output = []\n",
    "wrong_labels = []\n",
    "\n",
    "right_aug_output = []\n",
    "right_raw_output = []\n",
    "right_labels = []\n",
    "\n",
    "with h5py.File(agg_output_path, 'r') as agg_hf:\n",
    "    with h5py.File(orig_output_path, 'r') as orig_hf:\n",
    "        for key in agg_hf.keys():\n",
    "            if 'labels' in key:\n",
    "                continue\n",
    "            aug_output = agg_hf[key].value\n",
    "            orig_output = orig_hf[key].value\n",
    "            target = agg_hf[key[:-7] + 'labels'].value\n",
    "            \n",
    "            aug_labels = np.argmax(aug_output, axis=1)\n",
    "            orig_labels = np.argmax(orig_output, axis=1)\n",
    "            #print(aug_labels.shape)\n",
    "            #print(orig_labels.shape)\n",
    "            \n",
    "            orig_true = orig_labels == target\n",
    "            aug_true = aug_labels == target\n",
    "            \n",
    "            tta_changed = np.where(aug_labels != orig_labels)[0]\n",
    "            tta_changed_wrong = set(np.where(orig_true == True)[0]).intersection(np.where(aug_true == False)[0])\n",
    "            tta_changed_right = set(np.where(orig_true == False)[0]).intersection(np.where(aug_true == True)[0])\n",
    "            tta_changed_neutral = set(tta_changed).difference(tta_changed_wrong).difference(tta_changed_right)\n",
    "            \n",
    "            tta_changed_right_idxs = np.array(list(tta_changed_right)).astype(int)\n",
    "            tta_changed_wrong_idxs = np.array(list(tta_changed_wrong)).astype(int)\n",
    "\n",
    "            n_changed_right += len(tta_changed_right)\n",
    "            n_changed_wrong += len(tta_changed_wrong)\n",
    "            n_changed_neutral += len(tta_changed_neutral)\n",
    "            if len(tta_changed_wrong) > 0:\n",
    "                wrong_aug_output.append(aug_output[tta_changed_wrong_idxs])\n",
    "                wrong_raw_output.append(orig_output[tta_changed_wrong_idxs])\n",
    "                wrong_labels.append(target[tta_changed_wrong_idxs])\n",
    "\n",
    "                right_aug_output.append(aug_output[tta_changed_right_idxs])\n",
    "                right_raw_output.append(orig_output[tta_changed_right_idxs])\n",
    "                right_labels.append(target[tta_changed_right_idxs])\n",
    "wrong_aug_outputs = np.concatenate(wrong_aug_output, axis=0)\n",
    "wrong_raw_outputs = np.concatenate(wrong_raw_output, axis=0)\n",
    "wrong_aug_softmax = softmax(wrong_aug_outputs, axis=1)\n",
    "wrong_raw_softmax = softmax(wrong_raw_outputs, axis=1)\n",
    "wrong_labels = np.concatenate(wrong_labels).astype(int)\n",
    "wrong_aug_preds = np.argmax(wrong_aug_outputs, axis=1)\n",
    "wrong_raw_preds = np.argmax(wrong_raw_outputs, axis=1)\n",
    "\n",
    "right_aug_outputs = np.concatenate(right_aug_output, axis=0)\n",
    "right_raw_outputs = np.concatenate(right_raw_output, axis=0)\n",
    "right_aug_softmax = softmax(right_aug_outputs, axis=1)\n",
    "right_raw_softmax = softmax(right_raw_outputs, axis=1)\n",
    "right_labels = np.concatenate(right_labels).astype(int)\n",
    "right_aug_preds = np.argmax(right_aug_outputs, axis=1)\n",
    "right_raw_preds = np.argmax(right_raw_outputs, axis=1)\n",
    "\n",
    "print(n_changed_right, n_changed_wrong, n_changed_neutral)"
   ]
  },
  {
   "cell_type": "code",
   "execution_count": 305,
   "metadata": {},
   "outputs": [
    {
     "name": "stdout",
     "output_type": "stream",
     "text": [
      "0.40352947\n"
     ]
    },
    {
     "data": {
      "image/png": "[encoded data removed]",
      "text/plain": [
       "<Figure size 432x288 with 1 Axes>"
      ]
     },
     "metadata": {},
     "output_type": "display_data"
    }
   ],
   "source": [
    "# Graph of how TTA improves predictions\n",
    "n_right = len(right_labels)\n",
    "aug_correct_label_probs = right_aug_softmax[np.arange(n_right),right_labels]\n",
    "orig_correct_label_probs = right_raw_softmax[np.arange(n_right), right_labels]\n",
    "aug_pred_label_probs = right_aug_softmax[np.arange(n_right),right_aug_preds]\n",
    "orig_pred_label_probs = right_raw_softmax[np.arange(n_right), right_raw_preds]\n",
    "\n",
    "correct_diffs = aug_correct_label_probs - orig_correct_label_probs\n",
    "pred_diffs = aug_pred_label_probs - orig_pred_label_probs\n",
    "#plt.plot(correct_diffs[np.argsort(correct_diffs)])\n",
    "#plt.plot(pred_diffs[np.argsort(pred_diffs)])\n",
    "#np.mean(aug_pred_label_probs)\n",
    "plt.hist(aug_pred_label_probs)\n",
    "right_aug_pred_label_probs = aug_pred_label_probs\n",
    "right_pred_diffs = pred_diffs\n",
    "right_aug_prod_probs = np.var(right_aug_softmax, axis=1)\n",
    "\n",
    "print(np.mean(aug_pred_label_probs))"
   ]
  },
  {
   "cell_type": "code",
   "execution_count": 306,
   "metadata": {},
   "outputs": [
    {
     "name": "stdout",
     "output_type": "stream",
     "text": [
      "0.3890235\n"
     ]
    },
    {
     "data": {
      "text/plain": [
       "(array([ 20.,  87., 141., 184., 208., 161.,  39.,  11.,   4.,   0.]),\n",
       " array([0. , 0.1, 0.2, 0.3, 0.4, 0.5, 0.6, 0.7, 0.8, 0.9, 1. ],\n",
       "       dtype=float32),\n",
       " <a list of 10 Patch objects>)"
      ]
     },
     "execution_count": 306,
     "metadata": {},
     "output_type": "execute_result"
    },
    {
     "data": {
      "image/png": "[encoded data removed]",
      "text/plain": [
       "<Figure size 432x288 with 1 Axes>"
      ]
     },
     "metadata": {},
     "output_type": "display_data"
    }
   ],
   "source": [
    "# Graph of how TTA reduces prediction accuracy\n",
    "n_wrong = len(wrong_labels)\n",
    "aug_correct_label_probs = wrong_aug_softmax[np.arange(n_wrong),wrong_labels]\n",
    "orig_correct_label_probs = wrong_raw_softmax[np.arange(n_wrong), wrong_labels]\n",
    "aug_pred_label_probs = wrong_aug_softmax[np.arange(n_wrong),wrong_aug_preds]\n",
    "orig_pred_label_probs = wrong_raw_softmax[np.arange(n_wrong), wrong_raw_preds]\n",
    "\n",
    "correct_diffs = aug_correct_label_probs - orig_correct_label_probs\n",
    "pred_diffs = aug_pred_label_probs - orig_pred_label_probs\n",
    "#plt.plot(correct_diffs[np.argsort(correct_diffs)])\n",
    "#plt.plot(pred_diffs[np.argsort(pred_diffs)])\n",
    "\n",
    "# all this shows is that the predicted probability for the correct class \n",
    "# decreases with test-time augmentation - by a lot \n",
    "wrong_aug_pred_label_probs = aug_pred_label_probs\n",
    "wrong_pred_diffs = pred_diffs\n",
    "wrong_aug_prod_probs = np.var(wrong_aug_softmax, axis=1)\n",
    "print(np.mean(aug_pred_label_probs))\n",
    "plt.hist(right_aug_pred_label_probs, bins=10, range=(0,1))\n",
    "plt.hist(wrong_aug_pred_label_probs, bins=10, range=(0,1))\n"
   ]
  },
  {
   "cell_type": "code",
   "execution_count": 307,
   "metadata": {},
   "outputs": [
    {
     "data": {
      "text/plain": [
       "(array([  0.,   8.,  35.,  93., 322., 289.,  87.,  15.,   5.,   0.]),\n",
       " array([-0.5, -0.4, -0.3, -0.2, -0.1,  0. ,  0.1,  0.2,  0.3,  0.4,  0.5],\n",
       "       dtype=float32),\n",
       " <a list of 10 Patch objects>)"
      ]
     },
     "execution_count": 307,
     "metadata": {},
     "output_type": "execute_result"
    },
    {
     "data": {
      "image/png": "[encoded data removed]",
      "text/plain": [
       "<Figure size 432x288 with 1 Axes>"
      ]
     },
     "metadata": {},
     "output_type": "display_data"
    }
   ],
   "source": [
    "plt.hist(right_pred_diffs, bins=10, range=(-.5,.5))\n",
    "plt.hist(wrong_pred_diffs, bins=10, range=(-.5,.5))"
   ]
  },
  {
   "cell_type": "code",
   "execution_count": 308,
   "metadata": {},
   "outputs": [
    {
     "data": {
      "text/plain": [
       "[<matplotlib.lines.Line2D at 0x7fe5bef8ee50>]"
      ]
     },
     "execution_count": 308,
     "metadata": {},
     "output_type": "execute_result"
    },
    {
     "data": {
      "image/png": "[encoded data removed]",
      "text/plain": [
       "<Figure size 432x288 with 1 Axes>"
      ]
     },
     "metadata": {},
     "output_type": "display_data"
    }
   ],
   "source": [
    "nets = []\n",
    "thresh_opts = [-.4, -.3, -.2, -.1, 0, .1, .2, .3, .4]\n",
    "for i in thresh_opts:\n",
    "    net = len(np.where(right_pred_diffs > i)[0]) - len(np.where(wrong_pred_diffs > i)[0])\n",
    "    nets.append(net)\n",
    "plt.plot(thresh_opts, nets)"
   ]
  },
  {
   "cell_type": "code",
   "execution_count": 309,
   "metadata": {},
   "outputs": [
    {
     "data": {
      "text/plain": [
       "[<matplotlib.lines.Line2D at 0x7fe5bef02310>]"
      ]
     },
     "execution_count": 309,
     "metadata": {},
     "output_type": "execute_result"
    },
    {
     "data": {
      "image/png": "[encoded data removed]",
      "text/plain": [
       "<Figure size 432x288 with 1 Axes>"
      ]
     },
     "metadata": {},
     "output_type": "display_data"
    }
   ],
   "source": [
    "nets = []\n",
    "thresh_opts = np.arange(0, 1, .1)\n",
    "for i in thresh_opts:\n",
    "    n_right = len(np.where(right_aug_pred_label_probs > i)[0]) \n",
    "    n_wrong = len(np.where(wrong_aug_pred_label_probs > i)[0])\n",
    "    net = n_right - n_wrong\n",
    "    nets.append(net)\n",
    "plt.plot(thresh_opts, nets)"
   ]
  },
  {
   "cell_type": "code",
   "execution_count": 310,
   "metadata": {},
   "outputs": [
    {
     "data": {
      "text/plain": [
       "(array([127., 165., 188., 153., 165.,  51.,   3.,   3.,   0.,   0.]),\n",
       " array([0.e+00, 1.e-04, 2.e-04, 3.e-04, 4.e-04, 5.e-04, 6.e-04, 7.e-04,\n",
       "        8.e-04, 9.e-04, 1.e-03], dtype=float32),\n",
       " <a list of 10 Patch objects>)"
      ]
     },
     "execution_count": 310,
     "metadata": {},
     "output_type": "execute_result"
    },
    {
     "data": {
      "image/png": "[encoded data removed]",
      "text/plain": [
       "<Figure size 432x288 with 1 Axes>"
      ]
     },
     "metadata": {},
     "output_type": "display_data"
    }
   ],
   "source": [
    "plt.hist(right_aug_prod_probs, bins=10, range=(0, .001))\n",
    "plt.hist(wrong_aug_prod_probs, bins=10, range=(0, .001))\n"
   ]
  },
  {
   "cell_type": "code",
   "execution_count": 311,
   "metadata": {},
   "outputs": [
    {
     "data": {
      "text/plain": [
       "(array([  8.,  22.,  73., 131., 180., 189., 116.,  88.,  39.,   9.]),\n",
       " array([5.12084953e-05, 6.14776582e-05, 7.17468283e-05, 8.20159912e-05,\n",
       "        9.22851614e-05, 1.02554324e-04, 1.12823487e-04, 1.23092657e-04,\n",
       "        1.33361827e-04, 1.43630983e-04, 1.53900153e-04], dtype=float32),\n",
       " <a list of 10 Patch objects>)"
      ]
     },
     "execution_count": 311,
     "metadata": {},
     "output_type": "execute_result"
    },
    {
     "data": {
      "image/png": "[encoded data removed]",
      "text/plain": [
       "<Figure size 432x288 with 1 Axes>"
      ]
     },
     "metadata": {},
     "output_type": "display_data"
    }
   ],
   "source": [
    "plt.hist(np.mean(right_aug_outputs, axis=1), bins=10)\n",
    "plt.hist(np.mean(wrong_aug_outputs, axis=1), bins=10)"
   ]
  },
  {
   "cell_type": "code",
   "execution_count": 312,
   "metadata": {},
   "outputs": [
    {
     "data": {
      "text/plain": [
       "(array([  0.,   3.,  17.,  45., 119., 287., 342.,  41.]),\n",
       " array([-0.7, -0.6, -0.5, -0.4, -0.3, -0.2, -0.1,  0. ,  0.1],\n",
       "       dtype=float32),\n",
       " <a list of 8 Patch objects>)"
      ]
     },
     "execution_count": 312,
     "metadata": {},
     "output_type": "execute_result"
    },
    {
     "data": {
      "image/png": "[encoded data removed]",
      "text/plain": [
       "<Figure size 432x288 with 1 Axes>"
      ]
     },
     "metadata": {},
     "output_type": "display_data"
    }
   ],
   "source": [
    "n_wrong = len(wrong_raw_preds)\n",
    "n_right = len(right_raw_preds)\n",
    "wrong_aug_pred_label_probs = wrong_aug_softmax[np.arange(n_wrong),wrong_raw_preds]\n",
    "wrong_orig_aug_pred_label_probs = wrong_raw_softmax[np.arange(n_wrong), wrong_raw_preds]\n",
    "\n",
    "\n",
    "right_aug_pred_label_probs = right_aug_softmax[np.arange(n_right),right_raw_preds]\n",
    "right_orig_aug_pred_label_probs = right_raw_softmax[np.arange(n_right), right_raw_preds]\n",
    "right_diff = right_aug_pred_label_probs - right_orig_aug_pred_label_probs\n",
    "wrong_diff = wrong_aug_pred_label_probs - wrong_orig_aug_pred_label_probs\n",
    "plt.hist(right_diff, bins=8, range=(-.7, .1))\n",
    "plt.hist(wrong_diff, bins=8, range=(-.7, .1))\n",
    "\n",
    "# how does the predicted probability for the originally predicted class change with TTA?\n"
   ]
  },
  {
   "cell_type": "code",
   "execution_count": 313,
   "metadata": {},
   "outputs": [
    {
     "data": {
      "text/plain": [
       "[<matplotlib.lines.Line2D at 0x7fe5bed20850>]"
      ]
     },
     "execution_count": 313,
     "metadata": {},
     "output_type": "execute_result"
    },
    {
     "data": {
      "image/png": "[encoded data removed]",
      "text/plain": [
       "<Figure size 432x288 with 1 Axes>"
      ]
     },
     "metadata": {},
     "output_type": "display_data"
    }
   ],
   "source": [
    "nets = []\n",
    "thresh_opts = np.arange(-.6, .2, .1)\n",
    "for i in thresh_opts:\n",
    "    n_right = len(np.where(right_diff < i)[0]) \n",
    "    n_wrong = len(np.where(wrong_diff < i)[0])\n",
    "    net = n_right - n_wrong\n",
    "    nets.append(net)\n",
    "plt.plot(thresh_opts, nets)"
   ]
  },
  {
   "cell_type": "code",
   "execution_count": null,
   "metadata": {},
   "outputs": [],
   "source": [
    "# Class-specific accuracies\n",
    "# Five-crop specifically; how many misclassified examples across all architectures?\n",
    "# how many correctly classified examples?\n",
    "# How are these inaccuracies distributed over class?"
   ]
  },
  {
   "cell_type": "code",
   "execution_count": null,
   "metadata": {},
   "outputs": [],
   "source": []
  }
 ],
 "metadata": {
  "kernelspec": {
   "display_name": "Python 3",
   "language": "python",
   "name": "python3"
  },
  "language_info": {
   "codemirror_mode": {
    "name": "ipython",
    "version": 3
   },
   "file_extension": ".py",
   "mimetype": "text/x-python",
   "name": "python",
   "nbconvert_exporter": "python",
   "pygments_lexer": "ipython3",
   "version": "3.7.6"
  }
 },
 "nbformat": 4,
 "nbformat_minor": 2
}
